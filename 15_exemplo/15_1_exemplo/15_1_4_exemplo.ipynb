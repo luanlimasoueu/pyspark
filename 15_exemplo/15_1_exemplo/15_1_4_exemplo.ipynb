{
 "cells": [
  {
   "cell_type": "code",
   "execution_count": 2,
   "metadata": {},
   "outputs": [],
   "source": [
    "from pyspark import SparkConf, SparkContext\n",
    "from pyspark.sql import SparkSession\n"
   ]
  },
  {
   "cell_type": "code",
   "execution_count": null,
   "metadata": {},
   "outputs": [],
   "source": [
    "#spark.stop()\n",
    "#sc.stop()"
   ]
  },
  {
   "cell_type": "code",
   "execution_count": 3,
   "metadata": {},
   "outputs": [
    {
     "name": "stdout",
     "output_type": "stream",
     "text": [
      "RDD column:\n",
      "DataFrame column:\n",
      "+----+\n",
      "|Name|\n",
      "+----+\n",
      "|John|\n",
      "|Jane|\n",
      "| Bob|\n",
      "+----+\n",
      "\n"
     ]
    }
   ],
   "source": [
    "# Set Spark configuration\n",
    "conf = SparkConf().setAppName(\"ColumnAccessExample\")\n",
    "sc = SparkContext(conf=conf)\n",
    "spark = SparkSession(sc)\n",
    "\n",
    "\n",
    "\n",
    "# Create an RDD\n",
    "myRDD = sc.parallelize([(1, \"John\", 25), (2, \"Jane\", 30), (3, \"Bob\", 35)])\n",
    "\n",
    "# Access columns in RDD\n",
    "rddColumn = myRDD.map(lambda x: x[1])  # Accessing the second column\n",
    "\n",
    "# Convert RDD to DataFrame\n",
    "myDF = spark.createDataFrame(myRDD, [\"ID\", \"Name\", \"Age\"])\n",
    "\n",
    "# Access columns in DataFrame\n",
    "dfColumn = myDF.select(\"Name\")  # Accessing the \"Name\" column\n",
    "\n",
    "# Show results\n",
    "print(\"RDD column:\")\n",
    "rddColumn.foreach(print)\n",
    "\n",
    "print(\"DataFrame column:\")\n",
    "dfColumn.show()"
   ]
  }
 ],
 "metadata": {
  "kernelspec": {
   "display_name": "Python 3",
   "language": "python",
   "name": "python3"
  },
  "language_info": {
   "codemirror_mode": {
    "name": "ipython",
    "version": 3
   },
   "file_extension": ".py",
   "mimetype": "text/x-python",
   "name": "python",
   "nbconvert_exporter": "python",
   "pygments_lexer": "ipython3",
   "version": "3.10.7"
  }
 },
 "nbformat": 4,
 "nbformat_minor": 2
}
