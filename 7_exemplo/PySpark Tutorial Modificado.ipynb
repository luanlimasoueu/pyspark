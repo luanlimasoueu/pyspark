{
 "cells": [
  {
   "cell_type": "markdown",
   "metadata": {},
   "source": [
    "# What is PySpark?\n",
    "pyspark is a python api for working with apache spark. I will first explain what do I mean by a \"python api\" for something and then explain what, specifically, is 'apache spark'.\n",
    "\n",
    "what I mean by **'python api'** is that you can use the syntex and agility of python to interact with and send commands to a system that is not based, at its core, on python. \n",
    "\n",
    "with pyspark, you intercat with apache spark - a system designed for working, analyzing and modeling with immense amounts of data in many computers at the same time. putting it in a different way, apache spark allows you to run computations in parallel, instead of sequentially. it allows you to divide one incredibly large task into many smaller tasks, and run each such task on a different machine.this allowes you to accomplish your analysis goals in reasonable time that would not be possible on a single machine.\n",
    "\n",
    "usually, we would define the amount of data that suits PySpark as what would not fit into a single machine storage (let alone RAM).\n",
    "\n",
    "**important related concepts:** \n",
    "1. distributed computing - when you distribute a task into several smaller task that run at the same time. this is what pyspark allows you to do with many machines, but it can also be done on a single machine with several threads, for example.\n",
    "2. cluster - a network of machines that can take on tasks from a user, interact with one another and return results. these provide the computing resources that pyspark will use to make the computations.\n",
    "3. Resilient Distributed Dataset (RDD) - an immutable distributed collection of data. it is not tabular, like DataFrames which we will work with later, and has no data schema. therefore, for tabular data wrangling, DataFrames allowes for more API options and uner-then-hood optimizations. still, you might encounter RDDs as you learn more about Spark, and should be aware of their existence.\n",
    "\n",
    "**Part of PySpark we will cover:**\n",
    "1. PySpark SQL - contains commands for data processing and manipulation.\n",
    "2. PySpark MLlib - includes a variety of models, model training and related commands.\n",
    "\n",
    "**Spark Architecture:**\n",
    "to send commands and receive results from a cluster, you will need to initiate a spark session. this object is your tool for interacting with Spark. each user of the cluster will have its own Spark Session, that will allow him to use the cluster in isolation from other users. all of the sessions are communicating with a spark context, which is the master node in the cluster - that is, it assigns each of computers in the cluster tasks and coordinates them. each of the computers in the cluster that perform tasks for a master node is called a worker node. to connect to a worker node, the master node needs to get that node's comput power allocated to it, by a cluster manager, that is responsable for distributing the cluster resources. inside each worker node, there are execute programs that run the tasks - they can run multiple tasks simultaneously, and has their own cashe for storing results. so, each master node can have multiple worker nodes, that can have multiple tasks running.  "
   ]
  },
  {
   "cell_type": "code",
   "execution_count": 1,
   "metadata": {},
   "outputs": [],
   "source": [
    "# a SparkSession object can perform the most common data processing tasks\n",
    "from pyspark.sql import SparkSession\n",
    "spark = SparkSession.builder.appName('test').getOrCreate() # will return existing session if one was\n",
    "                                                           # created before and was not closed"
   ]
  },
  {
   "cell_type": "code",
   "execution_count": 2,
   "metadata": {},
   "outputs": [
    {
     "data": {
      "text/html": [
       "\n",
       "            <div>\n",
       "                <p><b>SparkSession - in-memory</b></p>\n",
       "                \n",
       "        <div>\n",
       "            <p><b>SparkContext</b></p>\n",
       "\n",
       "            <p><a href=\"http://host.docker.internal:4049\">Spark UI</a></p>\n",
       "\n",
       "            <dl>\n",
       "              <dt>Version</dt>\n",
       "                <dd><code>v3.5.0</code></dd>\n",
       "              <dt>Master</dt>\n",
       "                <dd><code>local[*]</code></dd>\n",
       "              <dt>AppName</dt>\n",
       "                <dd><code>test</code></dd>\n",
       "            </dl>\n",
       "        </div>\n",
       "        \n",
       "            </div>\n",
       "        "
      ],
      "text/plain": [
       "<pyspark.sql.session.SparkSession at 0x1feeac4e710>"
      ]
     },
     "execution_count": 2,
     "metadata": {},
     "output_type": "execute_result"
    }
   ],
   "source": [
    "spark"
   ]
  },
  {
   "cell_type": "markdown",
   "metadata": {},
   "source": [
    "**dataset:**\n",
    "https://www.kaggle.com/fedesoriano/heart-failure-prediction"
   ]
  },
  {
   "cell_type": "code",
   "execution_count": 3,
   "metadata": {},
   "outputs": [],
   "source": [
    "# read csv, all columns will be of type string\n",
    "df = spark.read.option('header','true').csv('heart.csv')"
   ]
  },
  {
   "cell_type": "code",
   "execution_count": 4,
   "metadata": {},
   "outputs": [
    {
     "name": "stdout",
     "output_type": "stream",
     "text": [
      "+---+---+-------------+---------+-----------+---------+----------+-----+--------------+-------+--------+------------+\n",
      "|Age|Sex|ChestPainType|RestingBP|Cholesterol|FastingBS|RestingECG|MaxHR|ExerciseAngina|Oldpeak|ST_Slope|HeartDisease|\n",
      "+---+---+-------------+---------+-----------+---------+----------+-----+--------------+-------+--------+------------+\n",
      "| 40|  M|          ATA|      140|        289|        0|    Normal|  172|             N|      0|      Up|           0|\n",
      "| 49|  F|          NAP|      160|        180|        0|    Normal|  156|             N|      1|    Flat|           1|\n",
      "| 37|  M|          ATA|      130|        283|        0|        ST|   98|             N|      0|      Up|           0|\n",
      "| 48|  F|          ASY|      138|        214|        0|    Normal|  108|             Y|    1.5|    Flat|           1|\n",
      "| 54|  M|          NAP|      150|        195|        0|    Normal|  122|             N|      0|      Up|           0|\n",
      "| 39|  M|          NAP|      120|        339|        0|    Normal|  170|             N|      0|      Up|           0|\n",
      "| 45|  F|          ATA|      130|        237|        0|    Normal|  170|             N|      0|      Up|           0|\n",
      "| 54|  M|          ATA|      110|        208|        0|    Normal|  142|             N|      0|      Up|           0|\n",
      "| 37|  M|          ASY|      140|        207|        0|    Normal|  130|             Y|    1.5|    Flat|           1|\n",
      "| 48|  F|          ATA|      120|        284|        0|    Normal|  120|             N|      0|      Up|           0|\n",
      "| 37|  F|          NAP|      130|        211|        0|    Normal|  142|             N|      0|      Up|           0|\n",
      "| 58|  M|          ATA|      136|        164|        0|        ST|   99|             Y|      2|    Flat|           1|\n",
      "| 39|  M|          ATA|      120|        204|        0|    Normal|  145|             N|      0|      Up|           0|\n",
      "| 49|  M|          ASY|      140|        234|        0|    Normal|  140|             Y|      1|    Flat|           1|\n",
      "| 42|  F|          NAP|      115|        211|        0|        ST|  137|             N|      0|      Up|           0|\n",
      "| 54|  F|          ATA|      120|        273|        0|    Normal|  150|             N|    1.5|    Flat|           0|\n",
      "| 38|  M|          ASY|      110|        196|        0|    Normal|  166|             N|      0|    Flat|           1|\n",
      "| 43|  F|          ATA|      120|        201|        0|    Normal|  165|             N|      0|      Up|           0|\n",
      "| 60|  M|          ASY|      100|        248|        0|    Normal|  125|             N|      1|    Flat|           1|\n",
      "| 36|  M|          ATA|      120|        267|        0|    Normal|  160|             N|      3|    Flat|           1|\n",
      "+---+---+-------------+---------+-----------+---------+----------+-----+--------------+-------+--------+------------+\n",
      "only showing top 20 rows\n",
      "\n"
     ]
    }
   ],
   "source": [
    "df.show()"
   ]
  },
  {
   "cell_type": "code",
   "execution_count": 6,
   "metadata": {},
   "outputs": [
    {
     "name": "stdout",
     "output_type": "stream",
     "text": [
      "+---+---+-------------+---------+-----------+---------+----------+-----+--------------+-------+--------+------------+\n",
      "|Age|Sex|ChestPainType|RestingBP|Cholesterol|FastingBS|RestingECG|MaxHR|ExerciseAngina|Oldpeak|ST_Slope|HeartDisease|\n",
      "+---+---+-------------+---------+-----------+---------+----------+-----+--------------+-------+--------+------------+\n",
      "| 40|  M|          ATA|      140|        289|        0|    Normal|  172|             N|      0|      Up|           0|\n",
      "| 49|  F|          NAP|      160|        180|        0|    Normal|  156|             N|      1|    Flat|           1|\n",
      "| 37|  M|          ATA|      130|        283|        0|        ST|   98|             N|      0|      Up|           0|\n",
      "+---+---+-------------+---------+-----------+---------+----------+-----+--------------+-------+--------+------------+\n",
      "only showing top 3 rows\n",
      "\n"
     ]
    }
   ],
   "source": [
    "# show head of table\n",
    "df.show(3)"
   ]
  },
  {
   "cell_type": "code",
   "execution_count": 7,
   "metadata": {},
   "outputs": [
    {
     "data": {
      "text/plain": [
       "918"
      ]
     },
     "execution_count": 7,
     "metadata": {},
     "output_type": "execute_result"
    }
   ],
   "source": [
    "# count number of rows\n",
    "df.count()"
   ]
  },
  {
   "cell_type": "code",
   "execution_count": 8,
   "metadata": {},
   "outputs": [
    {
     "name": "stdout",
     "output_type": "stream",
     "text": [
      "+---+\n",
      "|Age|\n",
      "+---+\n",
      "| 40|\n",
      "| 49|\n",
      "| 37|\n",
      "+---+\n",
      "only showing top 3 rows\n",
      "\n",
      "+---+---+\n",
      "|Age|Sex|\n",
      "+---+---+\n",
      "| 40|  M|\n",
      "| 49|  F|\n",
      "| 37|  M|\n",
      "+---+---+\n",
      "only showing top 3 rows\n",
      "\n"
     ]
    }
   ],
   "source": [
    "# show parts of the table\n",
    "df.select('Age').show(3)\n",
    "df.select(['Age','Sex']).show(3)"
   ]
  },
  {
   "cell_type": "markdown",
   "metadata": {},
   "source": [
    "## Pandas DataFrame VS PySpark DataFrame\n",
    "\n",
    "both represents a table of data with rows and columns. however, under the hood they are different, as PySpark dataframe needs to support distributed computations. as we move forward, we will see more and more features of it that are not present in Pandas DataFrame. that being said - if you know how to use Pandas, than moving to PySpark will feel like a natural transition.\n",
    "\n",
    "## DAG\n",
    "directed acyclic graph is the way Spark runs computations. when you give it a series of transformation to apply to the dataset, it build a graph out of those transformations, so it knows what to do - but it does not execute those commands immediately, if it does not have to. rather, it is lazy - it will go through the DAG and apply the transformations only when it must, to provide a needed result. this allows better performance, since spark knows what's ahead of a certain computation and get optimize the process accordingly.\n",
    "\n",
    "## transformations VS actions\n",
    "in PySpark, there are two types of command: transformations and actions. transformation commands are added to the DAG, but does not get it to actually be executed. they transform one DataFrame into another, not changing the input DataFrame. on the other hand, actions make PySpark execute the DAG but does not create a new DataFrame - instead, they output the result of the DAG.\n",
    "\n",
    "## Caching\n",
    "every time you run a DAG, it will be re-computed from the beginning. that is, the results are not saved in memory. \n",
    "so, if we want to save a result so it won't have to be recomputed, we can use the cache command. note, that this will occupy space in the working node's memory - so be careful with the sizes of datasets you are caching! by default, the cached DF is stored to RAM, and is unserialized (not converted into a stream of bytes). you can change both of these - store data to hard disk, serialized it, or both!\n",
    "\n",
    "## Collecting\n",
    "even after caching a DataFrame, it still sits in the worker nodes memory. if you want to collect is pieces, assemble them and save them on the master node so you won't have to pull it every time, use the command for collecting. again, be very careful with this, since the collected file will have to fit in the master node memory!"
   ]
  },
  {
   "cell_type": "code",
   "execution_count": 9,
   "metadata": {},
   "outputs": [
    {
     "data": {
      "text/plain": [
       "[Row(Age='40', Sex='M', ChestPainType='ATA', RestingBP='140', Cholesterol='289', FastingBS='0', RestingECG='Normal', MaxHR='172', ExerciseAngina='N', Oldpeak='0', ST_Slope='Up', HeartDisease='0'),\n",
       " Row(Age='49', Sex='F', ChestPainType='NAP', RestingBP='160', Cholesterol='180', FastingBS='0', RestingECG='Normal', MaxHR='156', ExerciseAngina='N', Oldpeak='1', ST_Slope='Flat', HeartDisease='1'),\n",
       " Row(Age='37', Sex='M', ChestPainType='ATA', RestingBP='130', Cholesterol='283', FastingBS='0', RestingECG='ST', MaxHR='98', ExerciseAngina='N', Oldpeak='0', ST_Slope='Up', HeartDisease='0'),\n",
       " Row(Age='48', Sex='F', ChestPainType='ASY', RestingBP='138', Cholesterol='214', FastingBS='0', RestingECG='Normal', MaxHR='108', ExerciseAngina='Y', Oldpeak='1.5', ST_Slope='Flat', HeartDisease='1'),\n",
       " Row(Age='54', Sex='M', ChestPainType='NAP', RestingBP='150', Cholesterol='195', FastingBS='0', RestingECG='Normal', MaxHR='122', ExerciseAngina='N', Oldpeak='0', ST_Slope='Up', HeartDisease='0'),\n",
       " Row(Age='39', Sex='M', ChestPainType='NAP', RestingBP='120', Cholesterol='339', FastingBS='0', RestingECG='Normal', MaxHR='170', ExerciseAngina='N', Oldpeak='0', ST_Slope='Up', HeartDisease='0'),\n",
       " Row(Age='45', Sex='F', ChestPainType='ATA', RestingBP='130', Cholesterol='237', FastingBS='0', RestingECG='Normal', MaxHR='170', ExerciseAngina='N', Oldpeak='0', ST_Slope='Up', HeartDisease='0'),\n",
       " Row(Age='54', Sex='M', ChestPainType='ATA', RestingBP='110', Cholesterol='208', FastingBS='0', RestingECG='Normal', MaxHR='142', ExerciseAngina='N', Oldpeak='0', ST_Slope='Up', HeartDisease='0'),\n",
       " Row(Age='37', Sex='M', ChestPainType='ASY', RestingBP='140', Cholesterol='207', FastingBS='0', RestingECG='Normal', MaxHR='130', ExerciseAngina='Y', Oldpeak='1.5', ST_Slope='Flat', HeartDisease='1'),\n",
       " Row(Age='48', Sex='F', ChestPainType='ATA', RestingBP='120', Cholesterol='284', FastingBS='0', RestingECG='Normal', MaxHR='120', ExerciseAngina='N', Oldpeak='0', ST_Slope='Up', HeartDisease='0'),\n",
       " Row(Age='37', Sex='F', ChestPainType='NAP', RestingBP='130', Cholesterol='211', FastingBS='0', RestingECG='Normal', MaxHR='142', ExerciseAngina='N', Oldpeak='0', ST_Slope='Up', HeartDisease='0'),\n",
       " Row(Age='58', Sex='M', ChestPainType='ATA', RestingBP='136', Cholesterol='164', FastingBS='0', RestingECG='ST', MaxHR='99', ExerciseAngina='Y', Oldpeak='2', ST_Slope='Flat', HeartDisease='1'),\n",
       " Row(Age='39', Sex='M', ChestPainType='ATA', RestingBP='120', Cholesterol='204', FastingBS='0', RestingECG='Normal', MaxHR='145', ExerciseAngina='N', Oldpeak='0', ST_Slope='Up', HeartDisease='0'),\n",
       " Row(Age='49', Sex='M', ChestPainType='ASY', RestingBP='140', Cholesterol='234', FastingBS='0', RestingECG='Normal', MaxHR='140', ExerciseAngina='Y', Oldpeak='1', ST_Slope='Flat', HeartDisease='1'),\n",
       " Row(Age='42', Sex='F', ChestPainType='NAP', RestingBP='115', Cholesterol='211', FastingBS='0', RestingECG='ST', MaxHR='137', ExerciseAngina='N', Oldpeak='0', ST_Slope='Up', HeartDisease='0'),\n",
       " Row(Age='54', Sex='F', ChestPainType='ATA', RestingBP='120', Cholesterol='273', FastingBS='0', RestingECG='Normal', MaxHR='150', ExerciseAngina='N', Oldpeak='1.5', ST_Slope='Flat', HeartDisease='0'),\n",
       " Row(Age='38', Sex='M', ChestPainType='ASY', RestingBP='110', Cholesterol='196', FastingBS='0', RestingECG='Normal', MaxHR='166', ExerciseAngina='N', Oldpeak='0', ST_Slope='Flat', HeartDisease='1'),\n",
       " Row(Age='43', Sex='F', ChestPainType='ATA', RestingBP='120', Cholesterol='201', FastingBS='0', RestingECG='Normal', MaxHR='165', ExerciseAngina='N', Oldpeak='0', ST_Slope='Up', HeartDisease='0'),\n",
       " Row(Age='60', Sex='M', ChestPainType='ASY', RestingBP='100', Cholesterol='248', FastingBS='0', RestingECG='Normal', MaxHR='125', ExerciseAngina='N', Oldpeak='1', ST_Slope='Flat', HeartDisease='1'),\n",
       " Row(Age='36', Sex='M', ChestPainType='ATA', RestingBP='120', Cholesterol='267', FastingBS='0', RestingECG='Normal', MaxHR='160', ExerciseAngina='N', Oldpeak='3', ST_Slope='Flat', HeartDisease='1'),\n",
       " Row(Age='43', Sex='F', ChestPainType='TA', RestingBP='100', Cholesterol='223', FastingBS='0', RestingECG='Normal', MaxHR='142', ExerciseAngina='N', Oldpeak='0', ST_Slope='Up', HeartDisease='0'),\n",
       " Row(Age='44', Sex='M', ChestPainType='ATA', RestingBP='120', Cholesterol='184', FastingBS='0', RestingECG='Normal', MaxHR='142', ExerciseAngina='N', Oldpeak='1', ST_Slope='Flat', HeartDisease='0'),\n",
       " Row(Age='49', Sex='F', ChestPainType='ATA', RestingBP='124', Cholesterol='201', FastingBS='0', RestingECG='Normal', MaxHR='164', ExerciseAngina='N', Oldpeak='0', ST_Slope='Up', HeartDisease='0'),\n",
       " Row(Age='44', Sex='M', ChestPainType='ATA', RestingBP='150', Cholesterol='288', FastingBS='0', RestingECG='Normal', MaxHR='150', ExerciseAngina='Y', Oldpeak='3', ST_Slope='Flat', HeartDisease='1'),\n",
       " Row(Age='40', Sex='M', ChestPainType='NAP', RestingBP='130', Cholesterol='215', FastingBS='0', RestingECG='Normal', MaxHR='138', ExerciseAngina='N', Oldpeak='0', ST_Slope='Up', HeartDisease='0'),\n",
       " Row(Age='36', Sex='M', ChestPainType='NAP', RestingBP='130', Cholesterol='209', FastingBS='0', RestingECG='Normal', MaxHR='178', ExerciseAngina='N', Oldpeak='0', ST_Slope='Up', HeartDisease='0'),\n",
       " Row(Age='53', Sex='M', ChestPainType='ASY', RestingBP='124', Cholesterol='260', FastingBS='0', RestingECG='ST', MaxHR='112', ExerciseAngina='Y', Oldpeak='3', ST_Slope='Flat', HeartDisease='0'),\n",
       " Row(Age='52', Sex='M', ChestPainType='ATA', RestingBP='120', Cholesterol='284', FastingBS='0', RestingECG='Normal', MaxHR='118', ExerciseAngina='N', Oldpeak='0', ST_Slope='Up', HeartDisease='0'),\n",
       " Row(Age='53', Sex='F', ChestPainType='ATA', RestingBP='113', Cholesterol='468', FastingBS='0', RestingECG='Normal', MaxHR='127', ExerciseAngina='N', Oldpeak='0', ST_Slope='Up', HeartDisease='0'),\n",
       " Row(Age='51', Sex='M', ChestPainType='ATA', RestingBP='125', Cholesterol='188', FastingBS='0', RestingECG='Normal', MaxHR='145', ExerciseAngina='N', Oldpeak='0', ST_Slope='Up', HeartDisease='0'),\n",
       " Row(Age='53', Sex='M', ChestPainType='NAP', RestingBP='145', Cholesterol='518', FastingBS='0', RestingECG='Normal', MaxHR='130', ExerciseAngina='N', Oldpeak='0', ST_Slope='Flat', HeartDisease='1'),\n",
       " Row(Age='56', Sex='M', ChestPainType='NAP', RestingBP='130', Cholesterol='167', FastingBS='0', RestingECG='Normal', MaxHR='114', ExerciseAngina='N', Oldpeak='0', ST_Slope='Up', HeartDisease='0'),\n",
       " Row(Age='54', Sex='M', ChestPainType='ASY', RestingBP='125', Cholesterol='224', FastingBS='0', RestingECG='Normal', MaxHR='122', ExerciseAngina='N', Oldpeak='2', ST_Slope='Flat', HeartDisease='1'),\n",
       " Row(Age='41', Sex='M', ChestPainType='ASY', RestingBP='130', Cholesterol='172', FastingBS='0', RestingECG='ST', MaxHR='130', ExerciseAngina='N', Oldpeak='2', ST_Slope='Flat', HeartDisease='1'),\n",
       " Row(Age='43', Sex='F', ChestPainType='ATA', RestingBP='150', Cholesterol='186', FastingBS='0', RestingECG='Normal', MaxHR='154', ExerciseAngina='N', Oldpeak='0', ST_Slope='Up', HeartDisease='0'),\n",
       " Row(Age='32', Sex='M', ChestPainType='ATA', RestingBP='125', Cholesterol='254', FastingBS='0', RestingECG='Normal', MaxHR='155', ExerciseAngina='N', Oldpeak='0', ST_Slope='Up', HeartDisease='0'),\n",
       " Row(Age='65', Sex='M', ChestPainType='ASY', RestingBP='140', Cholesterol='306', FastingBS='1', RestingECG='Normal', MaxHR='87', ExerciseAngina='Y', Oldpeak='1.5', ST_Slope='Flat', HeartDisease='1'),\n",
       " Row(Age='41', Sex='F', ChestPainType='ATA', RestingBP='110', Cholesterol='250', FastingBS='0', RestingECG='ST', MaxHR='142', ExerciseAngina='N', Oldpeak='0', ST_Slope='Up', HeartDisease='0'),\n",
       " Row(Age='48', Sex='F', ChestPainType='ATA', RestingBP='120', Cholesterol='177', FastingBS='1', RestingECG='ST', MaxHR='148', ExerciseAngina='N', Oldpeak='0', ST_Slope='Up', HeartDisease='0'),\n",
       " Row(Age='48', Sex='F', ChestPainType='ASY', RestingBP='150', Cholesterol='227', FastingBS='0', RestingECG='Normal', MaxHR='130', ExerciseAngina='Y', Oldpeak='1', ST_Slope='Flat', HeartDisease='0'),\n",
       " Row(Age='54', Sex='F', ChestPainType='ATA', RestingBP='150', Cholesterol='230', FastingBS='0', RestingECG='Normal', MaxHR='130', ExerciseAngina='N', Oldpeak='0', ST_Slope='Up', HeartDisease='0'),\n",
       " Row(Age='54', Sex='F', ChestPainType='NAP', RestingBP='130', Cholesterol='294', FastingBS='0', RestingECG='ST', MaxHR='100', ExerciseAngina='Y', Oldpeak='0', ST_Slope='Flat', HeartDisease='1'),\n",
       " Row(Age='35', Sex='M', ChestPainType='ATA', RestingBP='150', Cholesterol='264', FastingBS='0', RestingECG='Normal', MaxHR='168', ExerciseAngina='N', Oldpeak='0', ST_Slope='Up', HeartDisease='0'),\n",
       " Row(Age='52', Sex='M', ChestPainType='NAP', RestingBP='140', Cholesterol='259', FastingBS='0', RestingECG='ST', MaxHR='170', ExerciseAngina='N', Oldpeak='0', ST_Slope='Up', HeartDisease='0'),\n",
       " Row(Age='43', Sex='M', ChestPainType='ASY', RestingBP='120', Cholesterol='175', FastingBS='0', RestingECG='Normal', MaxHR='120', ExerciseAngina='Y', Oldpeak='1', ST_Slope='Flat', HeartDisease='1'),\n",
       " Row(Age='59', Sex='M', ChestPainType='NAP', RestingBP='130', Cholesterol='318', FastingBS='0', RestingECG='Normal', MaxHR='120', ExerciseAngina='Y', Oldpeak='1', ST_Slope='Flat', HeartDisease='0'),\n",
       " Row(Age='37', Sex='M', ChestPainType='ASY', RestingBP='120', Cholesterol='223', FastingBS='0', RestingECG='Normal', MaxHR='168', ExerciseAngina='N', Oldpeak='0', ST_Slope='Up', HeartDisease='0'),\n",
       " Row(Age='50', Sex='M', ChestPainType='ATA', RestingBP='140', Cholesterol='216', FastingBS='0', RestingECG='Normal', MaxHR='170', ExerciseAngina='N', Oldpeak='0', ST_Slope='Up', HeartDisease='0'),\n",
       " Row(Age='36', Sex='M', ChestPainType='NAP', RestingBP='112', Cholesterol='340', FastingBS='0', RestingECG='Normal', MaxHR='184', ExerciseAngina='N', Oldpeak='1', ST_Slope='Flat', HeartDisease='0'),\n",
       " Row(Age='41', Sex='M', ChestPainType='ASY', RestingBP='110', Cholesterol='289', FastingBS='0', RestingECG='Normal', MaxHR='170', ExerciseAngina='N', Oldpeak='0', ST_Slope='Flat', HeartDisease='1'),\n",
       " Row(Age='50', Sex='M', ChestPainType='ASY', RestingBP='130', Cholesterol='233', FastingBS='0', RestingECG='Normal', MaxHR='121', ExerciseAngina='Y', Oldpeak='2', ST_Slope='Flat', HeartDisease='1'),\n",
       " Row(Age='47', Sex='F', ChestPainType='ASY', RestingBP='120', Cholesterol='205', FastingBS='0', RestingECG='Normal', MaxHR='98', ExerciseAngina='Y', Oldpeak='2', ST_Slope='Flat', HeartDisease='1'),\n",
       " Row(Age='45', Sex='M', ChestPainType='ATA', RestingBP='140', Cholesterol='224', FastingBS='1', RestingECG='Normal', MaxHR='122', ExerciseAngina='N', Oldpeak='0', ST_Slope='Up', HeartDisease='0'),\n",
       " Row(Age='41', Sex='F', ChestPainType='ATA', RestingBP='130', Cholesterol='245', FastingBS='0', RestingECG='Normal', MaxHR='150', ExerciseAngina='N', Oldpeak='0', ST_Slope='Up', HeartDisease='0'),\n",
       " Row(Age='52', Sex='F', ChestPainType='ASY', RestingBP='130', Cholesterol='180', FastingBS='0', RestingECG='Normal', MaxHR='140', ExerciseAngina='Y', Oldpeak='1.5', ST_Slope='Flat', HeartDisease='0'),\n",
       " Row(Age='51', Sex='F', ChestPainType='ATA', RestingBP='160', Cholesterol='194', FastingBS='0', RestingECG='Normal', MaxHR='170', ExerciseAngina='N', Oldpeak='0', ST_Slope='Up', HeartDisease='0'),\n",
       " Row(Age='31', Sex='M', ChestPainType='ASY', RestingBP='120', Cholesterol='270', FastingBS='0', RestingECG='Normal', MaxHR='153', ExerciseAngina='Y', Oldpeak='1.5', ST_Slope='Flat', HeartDisease='1'),\n",
       " Row(Age='58', Sex='M', ChestPainType='NAP', RestingBP='130', Cholesterol='213', FastingBS='0', RestingECG='ST', MaxHR='140', ExerciseAngina='N', Oldpeak='0', ST_Slope='Flat', HeartDisease='1'),\n",
       " Row(Age='54', Sex='M', ChestPainType='ASY', RestingBP='150', Cholesterol='365', FastingBS='0', RestingECG='ST', MaxHR='134', ExerciseAngina='N', Oldpeak='1', ST_Slope='Up', HeartDisease='0'),\n",
       " Row(Age='52', Sex='M', ChestPainType='ASY', RestingBP='112', Cholesterol='342', FastingBS='0', RestingECG='ST', MaxHR='96', ExerciseAngina='Y', Oldpeak='1', ST_Slope='Flat', HeartDisease='1'),\n",
       " Row(Age='49', Sex='M', ChestPainType='ATA', RestingBP='100', Cholesterol='253', FastingBS='0', RestingECG='Normal', MaxHR='174', ExerciseAngina='N', Oldpeak='0', ST_Slope='Up', HeartDisease='0'),\n",
       " Row(Age='43', Sex='F', ChestPainType='NAP', RestingBP='150', Cholesterol='254', FastingBS='0', RestingECG='Normal', MaxHR='175', ExerciseAngina='N', Oldpeak='0', ST_Slope='Up', HeartDisease='0'),\n",
       " Row(Age='45', Sex='M', ChestPainType='ASY', RestingBP='140', Cholesterol='224', FastingBS='0', RestingECG='Normal', MaxHR='144', ExerciseAngina='N', Oldpeak='0', ST_Slope='Up', HeartDisease='0'),\n",
       " Row(Age='46', Sex='M', ChestPainType='ASY', RestingBP='120', Cholesterol='277', FastingBS='0', RestingECG='Normal', MaxHR='125', ExerciseAngina='Y', Oldpeak='1', ST_Slope='Flat', HeartDisease='1'),\n",
       " Row(Age='50', Sex='F', ChestPainType='ATA', RestingBP='110', Cholesterol='202', FastingBS='0', RestingECG='Normal', MaxHR='145', ExerciseAngina='N', Oldpeak='0', ST_Slope='Up', HeartDisease='0'),\n",
       " Row(Age='37', Sex='F', ChestPainType='ATA', RestingBP='120', Cholesterol='260', FastingBS='0', RestingECG='Normal', MaxHR='130', ExerciseAngina='N', Oldpeak='0', ST_Slope='Up', HeartDisease='0'),\n",
       " Row(Age='45', Sex='F', ChestPainType='ASY', RestingBP='132', Cholesterol='297', FastingBS='0', RestingECG='Normal', MaxHR='144', ExerciseAngina='N', Oldpeak='0', ST_Slope='Up', HeartDisease='0'),\n",
       " Row(Age='32', Sex='M', ChestPainType='ATA', RestingBP='110', Cholesterol='225', FastingBS='0', RestingECG='Normal', MaxHR='184', ExerciseAngina='N', Oldpeak='0', ST_Slope='Up', HeartDisease='0'),\n",
       " Row(Age='52', Sex='M', ChestPainType='ASY', RestingBP='160', Cholesterol='246', FastingBS='0', RestingECG='ST', MaxHR='82', ExerciseAngina='Y', Oldpeak='4', ST_Slope='Flat', HeartDisease='1'),\n",
       " Row(Age='44', Sex='M', ChestPainType='ASY', RestingBP='150', Cholesterol='412', FastingBS='0', RestingECG='Normal', MaxHR='170', ExerciseAngina='N', Oldpeak='0', ST_Slope='Up', HeartDisease='0'),\n",
       " Row(Age='57', Sex='M', ChestPainType='ATA', RestingBP='140', Cholesterol='265', FastingBS='0', RestingECG='ST', MaxHR='145', ExerciseAngina='Y', Oldpeak='1', ST_Slope='Flat', HeartDisease='1'),\n",
       " Row(Age='44', Sex='M', ChestPainType='ATA', RestingBP='130', Cholesterol='215', FastingBS='0', RestingECG='Normal', MaxHR='135', ExerciseAngina='N', Oldpeak='0', ST_Slope='Up', HeartDisease='0'),\n",
       " Row(Age='52', Sex='M', ChestPainType='ASY', RestingBP='120', Cholesterol='182', FastingBS='0', RestingECG='Normal', MaxHR='150', ExerciseAngina='N', Oldpeak='0', ST_Slope='Flat', HeartDisease='1'),\n",
       " Row(Age='44', Sex='F', ChestPainType='ASY', RestingBP='120', Cholesterol='218', FastingBS='0', RestingECG='ST', MaxHR='115', ExerciseAngina='N', Oldpeak='0', ST_Slope='Up', HeartDisease='0'),\n",
       " Row(Age='55', Sex='M', ChestPainType='ASY', RestingBP='140', Cholesterol='268', FastingBS='0', RestingECG='Normal', MaxHR='128', ExerciseAngina='Y', Oldpeak='1.5', ST_Slope='Flat', HeartDisease='1'),\n",
       " Row(Age='46', Sex='M', ChestPainType='NAP', RestingBP='150', Cholesterol='163', FastingBS='0', RestingECG='Normal', MaxHR='116', ExerciseAngina='N', Oldpeak='0', ST_Slope='Up', HeartDisease='0'),\n",
       " Row(Age='32', Sex='M', ChestPainType='ASY', RestingBP='118', Cholesterol='529', FastingBS='0', RestingECG='Normal', MaxHR='130', ExerciseAngina='N', Oldpeak='0', ST_Slope='Flat', HeartDisease='1'),\n",
       " Row(Age='35', Sex='F', ChestPainType='ASY', RestingBP='140', Cholesterol='167', FastingBS='0', RestingECG='Normal', MaxHR='150', ExerciseAngina='N', Oldpeak='0', ST_Slope='Up', HeartDisease='0'),\n",
       " Row(Age='52', Sex='M', ChestPainType='ATA', RestingBP='140', Cholesterol='100', FastingBS='0', RestingECG='Normal', MaxHR='138', ExerciseAngina='Y', Oldpeak='0', ST_Slope='Up', HeartDisease='0'),\n",
       " Row(Age='49', Sex='M', ChestPainType='ASY', RestingBP='130', Cholesterol='206', FastingBS='0', RestingECG='Normal', MaxHR='170', ExerciseAngina='N', Oldpeak='0', ST_Slope='Flat', HeartDisease='1'),\n",
       " Row(Age='55', Sex='M', ChestPainType='NAP', RestingBP='110', Cholesterol='277', FastingBS='0', RestingECG='Normal', MaxHR='160', ExerciseAngina='N', Oldpeak='0', ST_Slope='Up', HeartDisease='0'),\n",
       " Row(Age='54', Sex='M', ChestPainType='ATA', RestingBP='120', Cholesterol='238', FastingBS='0', RestingECG='Normal', MaxHR='154', ExerciseAngina='N', Oldpeak='0', ST_Slope='Up', HeartDisease='0'),\n",
       " Row(Age='63', Sex='M', ChestPainType='ASY', RestingBP='150', Cholesterol='223', FastingBS='0', RestingECG='Normal', MaxHR='115', ExerciseAngina='N', Oldpeak='0', ST_Slope='Flat', HeartDisease='1'),\n",
       " Row(Age='52', Sex='M', ChestPainType='ATA', RestingBP='160', Cholesterol='196', FastingBS='0', RestingECG='Normal', MaxHR='165', ExerciseAngina='N', Oldpeak='0', ST_Slope='Up', HeartDisease='0'),\n",
       " Row(Age='56', Sex='M', ChestPainType='ASY', RestingBP='150', Cholesterol='213', FastingBS='1', RestingECG='Normal', MaxHR='125', ExerciseAngina='Y', Oldpeak='1', ST_Slope='Flat', HeartDisease='1'),\n",
       " Row(Age='66', Sex='M', ChestPainType='ASY', RestingBP='140', Cholesterol='139', FastingBS='0', RestingECG='Normal', MaxHR='94', ExerciseAngina='Y', Oldpeak='1', ST_Slope='Flat', HeartDisease='1'),\n",
       " Row(Age='65', Sex='M', ChestPainType='ASY', RestingBP='170', Cholesterol='263', FastingBS='1', RestingECG='Normal', MaxHR='112', ExerciseAngina='Y', Oldpeak='2', ST_Slope='Flat', HeartDisease='1'),\n",
       " Row(Age='53', Sex='F', ChestPainType='ATA', RestingBP='140', Cholesterol='216', FastingBS='0', RestingECG='Normal', MaxHR='142', ExerciseAngina='Y', Oldpeak='2', ST_Slope='Flat', HeartDisease='0'),\n",
       " Row(Age='43', Sex='M', ChestPainType='TA', RestingBP='120', Cholesterol='291', FastingBS='0', RestingECG='ST', MaxHR='155', ExerciseAngina='N', Oldpeak='0', ST_Slope='Flat', HeartDisease='1'),\n",
       " Row(Age='55', Sex='M', ChestPainType='ASY', RestingBP='140', Cholesterol='229', FastingBS='0', RestingECG='Normal', MaxHR='110', ExerciseAngina='Y', Oldpeak='0.5', ST_Slope='Flat', HeartDisease='0'),\n",
       " Row(Age='49', Sex='F', ChestPainType='ATA', RestingBP='110', Cholesterol='208', FastingBS='0', RestingECG='Normal', MaxHR='160', ExerciseAngina='N', Oldpeak='0', ST_Slope='Up', HeartDisease='0'),\n",
       " Row(Age='39', Sex='M', ChestPainType='ASY', RestingBP='130', Cholesterol='307', FastingBS='0', RestingECG='Normal', MaxHR='140', ExerciseAngina='N', Oldpeak='0', ST_Slope='Up', HeartDisease='0'),\n",
       " Row(Age='52', Sex='F', ChestPainType='ATA', RestingBP='120', Cholesterol='210', FastingBS='0', RestingECG='Normal', MaxHR='148', ExerciseAngina='N', Oldpeak='0', ST_Slope='Up', HeartDisease='0'),\n",
       " Row(Age='48', Sex='M', ChestPainType='ASY', RestingBP='160', Cholesterol='329', FastingBS='0', RestingECG='Normal', MaxHR='92', ExerciseAngina='Y', Oldpeak='1.5', ST_Slope='Flat', HeartDisease='1'),\n",
       " Row(Age='39', Sex='F', ChestPainType='NAP', RestingBP='110', Cholesterol='182', FastingBS='0', RestingECG='ST', MaxHR='180', ExerciseAngina='N', Oldpeak='0', ST_Slope='Up', HeartDisease='0'),\n",
       " Row(Age='58', Sex='M', ChestPainType='ASY', RestingBP='130', Cholesterol='263', FastingBS='0', RestingECG='Normal', MaxHR='140', ExerciseAngina='Y', Oldpeak='2', ST_Slope='Flat', HeartDisease='1'),\n",
       " Row(Age='43', Sex='M', ChestPainType='ATA', RestingBP='142', Cholesterol='207', FastingBS='0', RestingECG='Normal', MaxHR='138', ExerciseAngina='N', Oldpeak='0', ST_Slope='Up', HeartDisease='0'),\n",
       " Row(Age='39', Sex='M', ChestPainType='NAP', RestingBP='160', Cholesterol='147', FastingBS='1', RestingECG='Normal', MaxHR='160', ExerciseAngina='N', Oldpeak='0', ST_Slope='Up', HeartDisease='0'),\n",
       " Row(Age='56', Sex='M', ChestPainType='ASY', RestingBP='120', Cholesterol='85', FastingBS='0', RestingECG='Normal', MaxHR='140', ExerciseAngina='N', Oldpeak='0', ST_Slope='Up', HeartDisease='0'),\n",
       " Row(Age='41', Sex='M', ChestPainType='ATA', RestingBP='125', Cholesterol='269', FastingBS='0', RestingECG='Normal', MaxHR='144', ExerciseAngina='N', Oldpeak='0', ST_Slope='Up', HeartDisease='0'),\n",
       " Row(Age='65', Sex='M', ChestPainType='ASY', RestingBP='130', Cholesterol='275', FastingBS='0', RestingECG='ST', MaxHR='115', ExerciseAngina='Y', Oldpeak='1', ST_Slope='Flat', HeartDisease='1'),\n",
       " Row(Age='51', Sex='M', ChestPainType='ASY', RestingBP='130', Cholesterol='179', FastingBS='0', RestingECG='Normal', MaxHR='100', ExerciseAngina='N', Oldpeak='0', ST_Slope='Up', HeartDisease='0'),\n",
       " Row(Age='40', Sex='F', ChestPainType='ASY', RestingBP='150', Cholesterol='392', FastingBS='0', RestingECG='Normal', MaxHR='130', ExerciseAngina='N', Oldpeak='2', ST_Slope='Flat', HeartDisease='1'),\n",
       " Row(Age='40', Sex='M', ChestPainType='ASY', RestingBP='120', Cholesterol='466', FastingBS='1', RestingECG='Normal', MaxHR='152', ExerciseAngina='Y', Oldpeak='1', ST_Slope='Flat', HeartDisease='1'),\n",
       " Row(Age='46', Sex='M', ChestPainType='ASY', RestingBP='118', Cholesterol='186', FastingBS='0', RestingECG='Normal', MaxHR='124', ExerciseAngina='N', Oldpeak='0', ST_Slope='Flat', HeartDisease='1'),\n",
       " Row(Age='57', Sex='M', ChestPainType='ATA', RestingBP='140', Cholesterol='260', FastingBS='1', RestingECG='Normal', MaxHR='140', ExerciseAngina='N', Oldpeak='0', ST_Slope='Up', HeartDisease='0'),\n",
       " Row(Age='48', Sex='F', ChestPainType='ASY', RestingBP='120', Cholesterol='254', FastingBS='0', RestingECG='ST', MaxHR='110', ExerciseAngina='N', Oldpeak='0', ST_Slope='Up', HeartDisease='0'),\n",
       " Row(Age='34', Sex='M', ChestPainType='ATA', RestingBP='150', Cholesterol='214', FastingBS='0', RestingECG='ST', MaxHR='168', ExerciseAngina='N', Oldpeak='0', ST_Slope='Up', HeartDisease='0'),\n",
       " Row(Age='50', Sex='M', ChestPainType='ASY', RestingBP='140', Cholesterol='129', FastingBS='0', RestingECG='Normal', MaxHR='135', ExerciseAngina='N', Oldpeak='0', ST_Slope='Up', HeartDisease='0'),\n",
       " Row(Age='39', Sex='M', ChestPainType='ATA', RestingBP='190', Cholesterol='241', FastingBS='0', RestingECG='Normal', MaxHR='106', ExerciseAngina='N', Oldpeak='0', ST_Slope='Up', HeartDisease='0'),\n",
       " Row(Age='59', Sex='F', ChestPainType='ATA', RestingBP='130', Cholesterol='188', FastingBS='0', RestingECG='Normal', MaxHR='124', ExerciseAngina='N', Oldpeak='1', ST_Slope='Flat', HeartDisease='0'),\n",
       " Row(Age='57', Sex='M', ChestPainType='ASY', RestingBP='150', Cholesterol='255', FastingBS='0', RestingECG='Normal', MaxHR='92', ExerciseAngina='Y', Oldpeak='3', ST_Slope='Flat', HeartDisease='1'),\n",
       " Row(Age='47', Sex='M', ChestPainType='ASY', RestingBP='140', Cholesterol='276', FastingBS='1', RestingECG='Normal', MaxHR='125', ExerciseAngina='Y', Oldpeak='0', ST_Slope='Up', HeartDisease='0'),\n",
       " Row(Age='38', Sex='M', ChestPainType='ATA', RestingBP='140', Cholesterol='297', FastingBS='0', RestingECG='Normal', MaxHR='150', ExerciseAngina='N', Oldpeak='0', ST_Slope='Up', HeartDisease='0'),\n",
       " Row(Age='49', Sex='F', ChestPainType='NAP', RestingBP='130', Cholesterol='207', FastingBS='0', RestingECG='ST', MaxHR='135', ExerciseAngina='N', Oldpeak='0', ST_Slope='Up', HeartDisease='0'),\n",
       " Row(Age='33', Sex='F', ChestPainType='ASY', RestingBP='100', Cholesterol='246', FastingBS='0', RestingECG='Normal', MaxHR='150', ExerciseAngina='Y', Oldpeak='1', ST_Slope='Flat', HeartDisease='1'),\n",
       " Row(Age='38', Sex='M', ChestPainType='ASY', RestingBP='120', Cholesterol='282', FastingBS='0', RestingECG='Normal', MaxHR='170', ExerciseAngina='N', Oldpeak='0', ST_Slope='Flat', HeartDisease='1'),\n",
       " Row(Age='59', Sex='F', ChestPainType='ASY', RestingBP='130', Cholesterol='338', FastingBS='1', RestingECG='ST', MaxHR='130', ExerciseAngina='Y', Oldpeak='1.5', ST_Slope='Flat', HeartDisease='1'),\n",
       " Row(Age='35', Sex='F', ChestPainType='TA', RestingBP='120', Cholesterol='160', FastingBS='0', RestingECG='ST', MaxHR='185', ExerciseAngina='N', Oldpeak='0', ST_Slope='Up', HeartDisease='0'),\n",
       " Row(Age='34', Sex='M', ChestPainType='TA', RestingBP='140', Cholesterol='156', FastingBS='0', RestingECG='Normal', MaxHR='180', ExerciseAngina='N', Oldpeak='0', ST_Slope='Flat', HeartDisease='1'),\n",
       " Row(Age='47', Sex='F', ChestPainType='NAP', RestingBP='135', Cholesterol='248', FastingBS='1', RestingECG='Normal', MaxHR='170', ExerciseAngina='N', Oldpeak='0', ST_Slope='Flat', HeartDisease='1'),\n",
       " Row(Age='52', Sex='F', ChestPainType='NAP', RestingBP='125', Cholesterol='272', FastingBS='0', RestingECG='Normal', MaxHR='139', ExerciseAngina='N', Oldpeak='0', ST_Slope='Up', HeartDisease='0'),\n",
       " Row(Age='46', Sex='M', ChestPainType='ASY', RestingBP='110', Cholesterol='240', FastingBS='0', RestingECG='ST', MaxHR='140', ExerciseAngina='N', Oldpeak='0', ST_Slope='Up', HeartDisease='0'),\n",
       " Row(Age='58', Sex='F', ChestPainType='ATA', RestingBP='180', Cholesterol='393', FastingBS='0', RestingECG='Normal', MaxHR='110', ExerciseAngina='Y', Oldpeak='1', ST_Slope='Flat', HeartDisease='1'),\n",
       " Row(Age='58', Sex='M', ChestPainType='ATA', RestingBP='130', Cholesterol='230', FastingBS='0', RestingECG='Normal', MaxHR='150', ExerciseAngina='N', Oldpeak='0', ST_Slope='Up', HeartDisease='0'),\n",
       " Row(Age='54', Sex='M', ChestPainType='ATA', RestingBP='120', Cholesterol='246', FastingBS='0', RestingECG='Normal', MaxHR='110', ExerciseAngina='N', Oldpeak='0', ST_Slope='Up', HeartDisease='0'),\n",
       " Row(Age='34', Sex='F', ChestPainType='ATA', RestingBP='130', Cholesterol='161', FastingBS='0', RestingECG='Normal', MaxHR='190', ExerciseAngina='N', Oldpeak='0', ST_Slope='Up', HeartDisease='0'),\n",
       " Row(Age='48', Sex='F', ChestPainType='ASY', RestingBP='108', Cholesterol='163', FastingBS='0', RestingECG='Normal', MaxHR='175', ExerciseAngina='N', Oldpeak='2', ST_Slope='Up', HeartDisease='0'),\n",
       " Row(Age='54', Sex='F', ChestPainType='ATA', RestingBP='120', Cholesterol='230', FastingBS='1', RestingECG='Normal', MaxHR='140', ExerciseAngina='N', Oldpeak='0', ST_Slope='Up', HeartDisease='0'),\n",
       " Row(Age='42', Sex='M', ChestPainType='NAP', RestingBP='120', Cholesterol='228', FastingBS='0', RestingECG='Normal', MaxHR='152', ExerciseAngina='Y', Oldpeak='1.5', ST_Slope='Flat', HeartDisease='0'),\n",
       " Row(Age='38', Sex='M', ChestPainType='NAP', RestingBP='145', Cholesterol='292', FastingBS='0', RestingECG='Normal', MaxHR='130', ExerciseAngina='N', Oldpeak='0', ST_Slope='Up', HeartDisease='0'),\n",
       " Row(Age='46', Sex='M', ChestPainType='ASY', RestingBP='110', Cholesterol='202', FastingBS='0', RestingECG='Normal', MaxHR='150', ExerciseAngina='Y', Oldpeak='0', ST_Slope='Flat', HeartDisease='1'),\n",
       " Row(Age='56', Sex='M', ChestPainType='ASY', RestingBP='170', Cholesterol='388', FastingBS='0', RestingECG='ST', MaxHR='122', ExerciseAngina='Y', Oldpeak='2', ST_Slope='Flat', HeartDisease='1'),\n",
       " Row(Age='56', Sex='M', ChestPainType='ASY', RestingBP='150', Cholesterol='230', FastingBS='0', RestingECG='ST', MaxHR='124', ExerciseAngina='Y', Oldpeak='1.5', ST_Slope='Flat', HeartDisease='1'),\n",
       " Row(Age='61', Sex='F', ChestPainType='ASY', RestingBP='130', Cholesterol='294', FastingBS='0', RestingECG='ST', MaxHR='120', ExerciseAngina='Y', Oldpeak='1', ST_Slope='Flat', HeartDisease='0'),\n",
       " Row(Age='49', Sex='M', ChestPainType='NAP', RestingBP='115', Cholesterol='265', FastingBS='0', RestingECG='Normal', MaxHR='175', ExerciseAngina='N', Oldpeak='0', ST_Slope='Flat', HeartDisease='1'),\n",
       " Row(Age='43', Sex='F', ChestPainType='ATA', RestingBP='120', Cholesterol='215', FastingBS='0', RestingECG='ST', MaxHR='175', ExerciseAngina='N', Oldpeak='0', ST_Slope='Up', HeartDisease='0'),\n",
       " Row(Age='39', Sex='M', ChestPainType='ATA', RestingBP='120', Cholesterol='241', FastingBS='0', RestingECG='ST', MaxHR='146', ExerciseAngina='N', Oldpeak='2', ST_Slope='Up', HeartDisease='0'),\n",
       " Row(Age='54', Sex='M', ChestPainType='ASY', RestingBP='140', Cholesterol='166', FastingBS='0', RestingECG='Normal', MaxHR='118', ExerciseAngina='Y', Oldpeak='0', ST_Slope='Flat', HeartDisease='1'),\n",
       " Row(Age='43', Sex='M', ChestPainType='ASY', RestingBP='150', Cholesterol='247', FastingBS='0', RestingECG='Normal', MaxHR='130', ExerciseAngina='Y', Oldpeak='2', ST_Slope='Flat', HeartDisease='1'),\n",
       " Row(Age='52', Sex='M', ChestPainType='ASY', RestingBP='160', Cholesterol='331', FastingBS='0', RestingECG='Normal', MaxHR='94', ExerciseAngina='Y', Oldpeak='2.5', ST_Slope='Flat', HeartDisease='1'),\n",
       " Row(Age='50', Sex='M', ChestPainType='ASY', RestingBP='140', Cholesterol='341', FastingBS='0', RestingECG='ST', MaxHR='125', ExerciseAngina='Y', Oldpeak='2.5', ST_Slope='Flat', HeartDisease='1'),\n",
       " Row(Age='47', Sex='M', ChestPainType='ASY', RestingBP='160', Cholesterol='291', FastingBS='0', RestingECG='ST', MaxHR='158', ExerciseAngina='Y', Oldpeak='3', ST_Slope='Flat', HeartDisease='1'),\n",
       " Row(Age='53', Sex='M', ChestPainType='ASY', RestingBP='140', Cholesterol='243', FastingBS='0', RestingECG='Normal', MaxHR='155', ExerciseAngina='N', Oldpeak='0', ST_Slope='Up', HeartDisease='0'),\n",
       " Row(Age='56', Sex='F', ChestPainType='ATA', RestingBP='120', Cholesterol='279', FastingBS='0', RestingECG='Normal', MaxHR='150', ExerciseAngina='N', Oldpeak='1', ST_Slope='Flat', HeartDisease='1'),\n",
       " Row(Age='39', Sex='M', ChestPainType='ASY', RestingBP='110', Cholesterol='273', FastingBS='0', RestingECG='Normal', MaxHR='132', ExerciseAngina='N', Oldpeak='0', ST_Slope='Up', HeartDisease='0'),\n",
       " Row(Age='42', Sex='M', ChestPainType='ATA', RestingBP='120', Cholesterol='198', FastingBS='0', RestingECG='Normal', MaxHR='155', ExerciseAngina='N', Oldpeak='0', ST_Slope='Up', HeartDisease='0'),\n",
       " Row(Age='43', Sex='F', ChestPainType='ATA', RestingBP='120', Cholesterol='249', FastingBS='0', RestingECG='ST', MaxHR='176', ExerciseAngina='N', Oldpeak='0', ST_Slope='Up', HeartDisease='0'),\n",
       " Row(Age='50', Sex='M', ChestPainType='ATA', RestingBP='120', Cholesterol='168', FastingBS='0', RestingECG='Normal', MaxHR='160', ExerciseAngina='N', Oldpeak='0', ST_Slope='Up', HeartDisease='0'),\n",
       " Row(Age='54', Sex='M', ChestPainType='ASY', RestingBP='130', Cholesterol='603', FastingBS='1', RestingECG='Normal', MaxHR='125', ExerciseAngina='Y', Oldpeak='1', ST_Slope='Flat', HeartDisease='1'),\n",
       " Row(Age='39', Sex='M', ChestPainType='ATA', RestingBP='130', Cholesterol='215', FastingBS='0', RestingECG='Normal', MaxHR='120', ExerciseAngina='N', Oldpeak='0', ST_Slope='Up', HeartDisease='0'),\n",
       " Row(Age='48', Sex='M', ChestPainType='ATA', RestingBP='100', Cholesterol='159', FastingBS='0', RestingECG='Normal', MaxHR='100', ExerciseAngina='N', Oldpeak='0', ST_Slope='Up', HeartDisease='0'),\n",
       " Row(Age='40', Sex='M', ChestPainType='ATA', RestingBP='130', Cholesterol='275', FastingBS='0', RestingECG='Normal', MaxHR='150', ExerciseAngina='N', Oldpeak='0', ST_Slope='Up', HeartDisease='0'),\n",
       " Row(Age='55', Sex='M', ChestPainType='ASY', RestingBP='120', Cholesterol='270', FastingBS='0', RestingECG='Normal', MaxHR='140', ExerciseAngina='N', Oldpeak='0', ST_Slope='Up', HeartDisease='0'),\n",
       " Row(Age='41', Sex='M', ChestPainType='ATA', RestingBP='120', Cholesterol='291', FastingBS='0', RestingECG='ST', MaxHR='160', ExerciseAngina='N', Oldpeak='0', ST_Slope='Up', HeartDisease='0'),\n",
       " Row(Age='56', Sex='M', ChestPainType='ASY', RestingBP='155', Cholesterol='342', FastingBS='1', RestingECG='Normal', MaxHR='150', ExerciseAngina='Y', Oldpeak='3', ST_Slope='Flat', HeartDisease='1'),\n",
       " Row(Age='38', Sex='M', ChestPainType='ASY', RestingBP='110', Cholesterol='190', FastingBS='0', RestingECG='Normal', MaxHR='150', ExerciseAngina='Y', Oldpeak='1', ST_Slope='Flat', HeartDisease='1'),\n",
       " Row(Age='49', Sex='M', ChestPainType='ASY', RestingBP='140', Cholesterol='185', FastingBS='0', RestingECG='Normal', MaxHR='130', ExerciseAngina='N', Oldpeak='0', ST_Slope='Up', HeartDisease='0'),\n",
       " Row(Age='44', Sex='M', ChestPainType='ASY', RestingBP='130', Cholesterol='290', FastingBS='0', RestingECG='Normal', MaxHR='100', ExerciseAngina='Y', Oldpeak='2', ST_Slope='Flat', HeartDisease='1'),\n",
       " Row(Age='54', Sex='M', ChestPainType='ATA', RestingBP='160', Cholesterol='195', FastingBS='0', RestingECG='ST', MaxHR='130', ExerciseAngina='N', Oldpeak='1', ST_Slope='Up', HeartDisease='0'),\n",
       " Row(Age='59', Sex='M', ChestPainType='ASY', RestingBP='140', Cholesterol='264', FastingBS='1', RestingECG='LVH', MaxHR='119', ExerciseAngina='Y', Oldpeak='0', ST_Slope='Flat', HeartDisease='1'),\n",
       " Row(Age='49', Sex='M', ChestPainType='ASY', RestingBP='128', Cholesterol='212', FastingBS='0', RestingECG='Normal', MaxHR='96', ExerciseAngina='Y', Oldpeak='0', ST_Slope='Flat', HeartDisease='1'),\n",
       " Row(Age='47', Sex='M', ChestPainType='ATA', RestingBP='160', Cholesterol='263', FastingBS='0', RestingECG='Normal', MaxHR='174', ExerciseAngina='N', Oldpeak='0', ST_Slope='Up', HeartDisease='0'),\n",
       " Row(Age='42', Sex='M', ChestPainType='ATA', RestingBP='120', Cholesterol='196', FastingBS='0', RestingECG='Normal', MaxHR='150', ExerciseAngina='N', Oldpeak='0', ST_Slope='Up', HeartDisease='0'),\n",
       " Row(Age='52', Sex='F', ChestPainType='ATA', RestingBP='140', Cholesterol='225', FastingBS='0', RestingECG='Normal', MaxHR='140', ExerciseAngina='N', Oldpeak='0', ST_Slope='Up', HeartDisease='0'),\n",
       " Row(Age='46', Sex='M', ChestPainType='TA', RestingBP='140', Cholesterol='272', FastingBS='1', RestingECG='Normal', MaxHR='175', ExerciseAngina='N', Oldpeak='2', ST_Slope='Flat', HeartDisease='1'),\n",
       " Row(Age='50', Sex='M', ChestPainType='ASY', RestingBP='140', Cholesterol='231', FastingBS='0', RestingECG='ST', MaxHR='140', ExerciseAngina='Y', Oldpeak='5', ST_Slope='Flat', HeartDisease='1'),\n",
       " Row(Age='48', Sex='M', ChestPainType='ATA', RestingBP='140', Cholesterol='238', FastingBS='0', RestingECG='Normal', MaxHR='118', ExerciseAngina='N', Oldpeak='0', ST_Slope='Up', HeartDisease='0'),\n",
       " Row(Age='58', Sex='M', ChestPainType='ASY', RestingBP='135', Cholesterol='222', FastingBS='0', RestingECG='Normal', MaxHR='100', ExerciseAngina='N', Oldpeak='0', ST_Slope='Up', HeartDisease='0'),\n",
       " Row(Age='58', Sex='M', ChestPainType='NAP', RestingBP='140', Cholesterol='179', FastingBS='0', RestingECG='Normal', MaxHR='160', ExerciseAngina='N', Oldpeak='0', ST_Slope='Up', HeartDisease='0'),\n",
       " Row(Age='29', Sex='M', ChestPainType='ATA', RestingBP='120', Cholesterol='243', FastingBS='0', RestingECG='Normal', MaxHR='160', ExerciseAngina='N', Oldpeak='0', ST_Slope='Up', HeartDisease='0'),\n",
       " Row(Age='40', Sex='M', ChestPainType='NAP', RestingBP='140', Cholesterol='235', FastingBS='0', RestingECG='Normal', MaxHR='188', ExerciseAngina='N', Oldpeak='0', ST_Slope='Up', HeartDisease='0'),\n",
       " Row(Age='53', Sex='M', ChestPainType='ATA', RestingBP='140', Cholesterol='320', FastingBS='0', RestingECG='Normal', MaxHR='162', ExerciseAngina='N', Oldpeak='0', ST_Slope='Up', HeartDisease='0'),\n",
       " Row(Age='49', Sex='M', ChestPainType='NAP', RestingBP='140', Cholesterol='187', FastingBS='0', RestingECG='Normal', MaxHR='172', ExerciseAngina='N', Oldpeak='0', ST_Slope='Up', HeartDisease='0'),\n",
       " Row(Age='52', Sex='M', ChestPainType='ASY', RestingBP='140', Cholesterol='266', FastingBS='0', RestingECG='Normal', MaxHR='134', ExerciseAngina='Y', Oldpeak='2', ST_Slope='Flat', HeartDisease='1'),\n",
       " Row(Age='43', Sex='M', ChestPainType='ASY', RestingBP='140', Cholesterol='288', FastingBS='0', RestingECG='Normal', MaxHR='135', ExerciseAngina='Y', Oldpeak='2', ST_Slope='Flat', HeartDisease='1'),\n",
       " Row(Age='54', Sex='M', ChestPainType='ASY', RestingBP='140', Cholesterol='216', FastingBS='0', RestingECG='Normal', MaxHR='105', ExerciseAngina='N', Oldpeak='1.5', ST_Slope='Flat', HeartDisease='1'),\n",
       " Row(Age='59', Sex='M', ChestPainType='ATA', RestingBP='140', Cholesterol='287', FastingBS='0', RestingECG='Normal', MaxHR='150', ExerciseAngina='N', Oldpeak='0', ST_Slope='Up', HeartDisease='0'),\n",
       " Row(Age='37', Sex='M', ChestPainType='NAP', RestingBP='130', Cholesterol='194', FastingBS='0', RestingECG='Normal', MaxHR='150', ExerciseAngina='N', Oldpeak='0', ST_Slope='Up', HeartDisease='0'),\n",
       " Row(Age='46', Sex='F', ChestPainType='ASY', RestingBP='130', Cholesterol='238', FastingBS='0', RestingECG='Normal', MaxHR='90', ExerciseAngina='N', Oldpeak='0', ST_Slope='Up', HeartDisease='0'),\n",
       " Row(Age='52', Sex='M', ChestPainType='ASY', RestingBP='130', Cholesterol='225', FastingBS='0', RestingECG='Normal', MaxHR='120', ExerciseAngina='Y', Oldpeak='2', ST_Slope='Flat', HeartDisease='1'),\n",
       " Row(Age='51', Sex='M', ChestPainType='ATA', RestingBP='130', Cholesterol='224', FastingBS='0', RestingECG='Normal', MaxHR='150', ExerciseAngina='N', Oldpeak='0', ST_Slope='Up', HeartDisease='0'),\n",
       " Row(Age='52', Sex='M', ChestPainType='ASY', RestingBP='140', Cholesterol='404', FastingBS='0', RestingECG='Normal', MaxHR='124', ExerciseAngina='Y', Oldpeak='2', ST_Slope='Flat', HeartDisease='1'),\n",
       " Row(Age='46', Sex='M', ChestPainType='ASY', RestingBP='110', Cholesterol='238', FastingBS='0', RestingECG='ST', MaxHR='140', ExerciseAngina='Y', Oldpeak='1', ST_Slope='Flat', HeartDisease='0'),\n",
       " Row(Age='54', Sex='F', ChestPainType='ATA', RestingBP='160', Cholesterol='312', FastingBS='0', RestingECG='Normal', MaxHR='130', ExerciseAngina='N', Oldpeak='0', ST_Slope='Up', HeartDisease='0'),\n",
       " Row(Age='58', Sex='M', ChestPainType='NAP', RestingBP='160', Cholesterol='211', FastingBS='1', RestingECG='ST', MaxHR='92', ExerciseAngina='N', Oldpeak='0', ST_Slope='Flat', HeartDisease='1'),\n",
       " Row(Age='58', Sex='M', ChestPainType='ATA', RestingBP='130', Cholesterol='251', FastingBS='0', RestingECG='Normal', MaxHR='110', ExerciseAngina='N', Oldpeak='0', ST_Slope='Up', HeartDisease='0'),\n",
       " Row(Age='41', Sex='M', ChestPainType='ASY', RestingBP='120', Cholesterol='237', FastingBS='1', RestingECG='Normal', MaxHR='138', ExerciseAngina='Y', Oldpeak='1', ST_Slope='Flat', HeartDisease='1'),\n",
       " Row(Age='50', Sex='F', ChestPainType='ASY', RestingBP='120', Cholesterol='328', FastingBS='0', RestingECG='Normal', MaxHR='110', ExerciseAngina='Y', Oldpeak='1', ST_Slope='Flat', HeartDisease='0'),\n",
       " Row(Age='53', Sex='M', ChestPainType='ASY', RestingBP='180', Cholesterol='285', FastingBS='0', RestingECG='ST', MaxHR='120', ExerciseAngina='Y', Oldpeak='1.5', ST_Slope='Flat', HeartDisease='1'),\n",
       " Row(Age='46', Sex='M', ChestPainType='ASY', RestingBP='180', Cholesterol='280', FastingBS='0', RestingECG='ST', MaxHR='120', ExerciseAngina='N', Oldpeak='0', ST_Slope='Up', HeartDisease='0'),\n",
       " Row(Age='50', Sex='M', ChestPainType='ATA', RestingBP='170', Cholesterol='209', FastingBS='0', RestingECG='ST', MaxHR='116', ExerciseAngina='N', Oldpeak='0', ST_Slope='Up', HeartDisease='0'),\n",
       " Row(Age='48', Sex='M', ChestPainType='ATA', RestingBP='130', Cholesterol='245', FastingBS='0', RestingECG='Normal', MaxHR='160', ExerciseAngina='N', Oldpeak='0', ST_Slope='Up', HeartDisease='0'),\n",
       " Row(Age='45', Sex='M', ChestPainType='NAP', RestingBP='135', Cholesterol='192', FastingBS='0', RestingECG='Normal', MaxHR='110', ExerciseAngina='N', Oldpeak='0', ST_Slope='Up', HeartDisease='0'),\n",
       " Row(Age='41', Sex='F', ChestPainType='ATA', RestingBP='125', Cholesterol='184', FastingBS='0', RestingECG='Normal', MaxHR='180', ExerciseAngina='N', Oldpeak='0', ST_Slope='Up', HeartDisease='0'),\n",
       " Row(Age='62', Sex='F', ChestPainType='TA', RestingBP='160', Cholesterol='193', FastingBS='0', RestingECG='Normal', MaxHR='116', ExerciseAngina='N', Oldpeak='0', ST_Slope='Up', HeartDisease='0'),\n",
       " Row(Age='49', Sex='M', ChestPainType='ASY', RestingBP='120', Cholesterol='297', FastingBS='0', RestingECG='Normal', MaxHR='132', ExerciseAngina='N', Oldpeak='1', ST_Slope='Flat', HeartDisease='0'),\n",
       " Row(Age='42', Sex='M', ChestPainType='ATA', RestingBP='150', Cholesterol='268', FastingBS='0', RestingECG='Normal', MaxHR='136', ExerciseAngina='N', Oldpeak='0', ST_Slope='Up', HeartDisease='0'),\n",
       " Row(Age='53', Sex='M', ChestPainType='ASY', RestingBP='120', Cholesterol='246', FastingBS='0', RestingECG='Normal', MaxHR='116', ExerciseAngina='Y', Oldpeak='0', ST_Slope='Flat', HeartDisease='1'),\n",
       " Row(Age='57', Sex='F', ChestPainType='TA', RestingBP='130', Cholesterol='308', FastingBS='0', RestingECG='Normal', MaxHR='98', ExerciseAngina='N', Oldpeak='1', ST_Slope='Flat', HeartDisease='0'),\n",
       " Row(Age='47', Sex='M', ChestPainType='TA', RestingBP='110', Cholesterol='249', FastingBS='0', RestingECG='Normal', MaxHR='150', ExerciseAngina='N', Oldpeak='0', ST_Slope='Up', HeartDisease='0'),\n",
       " Row(Age='46', Sex='M', ChestPainType='NAP', RestingBP='120', Cholesterol='230', FastingBS='0', RestingECG='Normal', MaxHR='150', ExerciseAngina='N', Oldpeak='0', ST_Slope='Up', HeartDisease='0'),\n",
       " Row(Age='42', Sex='M', ChestPainType='NAP', RestingBP='160', Cholesterol='147', FastingBS='0', RestingECG='Normal', MaxHR='146', ExerciseAngina='N', Oldpeak='0', ST_Slope='Up', HeartDisease='0'),\n",
       " Row(Age='31', Sex='F', ChestPainType='ATA', RestingBP='100', Cholesterol='219', FastingBS='0', RestingECG='ST', MaxHR='150', ExerciseAngina='N', Oldpeak='0', ST_Slope='Up', HeartDisease='0'),\n",
       " Row(Age='56', Sex='M', ChestPainType='ATA', RestingBP='130', Cholesterol='184', FastingBS='0', RestingECG='Normal', MaxHR='100', ExerciseAngina='N', Oldpeak='0', ST_Slope='Up', HeartDisease='0'),\n",
       " Row(Age='50', Sex='M', ChestPainType='ASY', RestingBP='150', Cholesterol='215', FastingBS='0', RestingECG='Normal', MaxHR='140', ExerciseAngina='Y', Oldpeak='0', ST_Slope='Up', HeartDisease='0'),\n",
       " Row(Age='35', Sex='M', ChestPainType='ATA', RestingBP='120', Cholesterol='308', FastingBS='0', RestingECG='LVH', MaxHR='180', ExerciseAngina='N', Oldpeak='0', ST_Slope='Up', HeartDisease='0'),\n",
       " Row(Age='35', Sex='M', ChestPainType='ATA', RestingBP='110', Cholesterol='257', FastingBS='0', RestingECG='Normal', MaxHR='140', ExerciseAngina='N', Oldpeak='0', ST_Slope='Flat', HeartDisease='1'),\n",
       " Row(Age='28', Sex='M', ChestPainType='ATA', RestingBP='130', Cholesterol='132', FastingBS='0', RestingECG='LVH', MaxHR='185', ExerciseAngina='N', Oldpeak='0', ST_Slope='Up', HeartDisease='0'),\n",
       " Row(Age='54', Sex='M', ChestPainType='ASY', RestingBP='125', Cholesterol='216', FastingBS='0', RestingECG='Normal', MaxHR='140', ExerciseAngina='N', Oldpeak='0', ST_Slope='Flat', HeartDisease='1'),\n",
       " Row(Age='48', Sex='M', ChestPainType='ASY', RestingBP='106', Cholesterol='263', FastingBS='1', RestingECG='Normal', MaxHR='110', ExerciseAngina='N', Oldpeak='0', ST_Slope='Flat', HeartDisease='1'),\n",
       " Row(Age='50', Sex='F', ChestPainType='NAP', RestingBP='140', Cholesterol='288', FastingBS='0', RestingECG='Normal', MaxHR='140', ExerciseAngina='Y', Oldpeak='0', ST_Slope='Flat', HeartDisease='1'),\n",
       " Row(Age='56', Sex='M', ChestPainType='NAP', RestingBP='130', Cholesterol='276', FastingBS='0', RestingECG='Normal', MaxHR='128', ExerciseAngina='Y', Oldpeak='1', ST_Slope='Up', HeartDisease='0'),\n",
       " Row(Age='56', Sex='F', ChestPainType='NAP', RestingBP='130', Cholesterol='219', FastingBS='0', RestingECG='ST', MaxHR='164', ExerciseAngina='N', Oldpeak='0', ST_Slope='Up', HeartDisease='0'),\n",
       " Row(Age='47', Sex='M', ChestPainType='ASY', RestingBP='150', Cholesterol='226', FastingBS='0', RestingECG='Normal', MaxHR='98', ExerciseAngina='Y', Oldpeak='1.5', ST_Slope='Flat', HeartDisease='1'),\n",
       " Row(Age='30', Sex='F', ChestPainType='TA', RestingBP='170', Cholesterol='237', FastingBS='0', RestingECG='ST', MaxHR='170', ExerciseAngina='N', Oldpeak='0', ST_Slope='Up', HeartDisease='0'),\n",
       " Row(Age='39', Sex='M', ChestPainType='ASY', RestingBP='110', Cholesterol='280', FastingBS='0', RestingECG='Normal', MaxHR='150', ExerciseAngina='N', Oldpeak='0', ST_Slope='Flat', HeartDisease='1'),\n",
       " Row(Age='54', Sex='M', ChestPainType='NAP', RestingBP='120', Cholesterol='217', FastingBS='0', RestingECG='Normal', MaxHR='137', ExerciseAngina='N', Oldpeak='0', ST_Slope='Up', HeartDisease='0'),\n",
       " Row(Age='55', Sex='M', ChestPainType='ATA', RestingBP='140', Cholesterol='196', FastingBS='0', RestingECG='Normal', MaxHR='150', ExerciseAngina='N', Oldpeak='0', ST_Slope='Up', HeartDisease='0'),\n",
       " Row(Age='29', Sex='M', ChestPainType='ATA', RestingBP='140', Cholesterol='263', FastingBS='0', RestingECG='Normal', MaxHR='170', ExerciseAngina='N', Oldpeak='0', ST_Slope='Up', HeartDisease='0'),\n",
       " Row(Age='46', Sex='M', ChestPainType='ASY', RestingBP='130', Cholesterol='222', FastingBS='0', RestingECG='Normal', MaxHR='112', ExerciseAngina='N', Oldpeak='0', ST_Slope='Flat', HeartDisease='1'),\n",
       " Row(Age='51', Sex='F', ChestPainType='ASY', RestingBP='160', Cholesterol='303', FastingBS='0', RestingECG='Normal', MaxHR='150', ExerciseAngina='Y', Oldpeak='1', ST_Slope='Flat', HeartDisease='1'),\n",
       " Row(Age='48', Sex='F', ChestPainType='NAP', RestingBP='120', Cholesterol='195', FastingBS='0', RestingECG='Normal', MaxHR='125', ExerciseAngina='N', Oldpeak='0', ST_Slope='Up', HeartDisease='0'),\n",
       " Row(Age='33', Sex='M', ChestPainType='NAP', RestingBP='120', Cholesterol='298', FastingBS='0', RestingECG='Normal', MaxHR='185', ExerciseAngina='N', Oldpeak='0', ST_Slope='Up', HeartDisease='0'),\n",
       " Row(Age='55', Sex='M', ChestPainType='ATA', RestingBP='120', Cholesterol='256', FastingBS='1', RestingECG='Normal', MaxHR='137', ExerciseAngina='N', Oldpeak='0', ST_Slope='Up', HeartDisease='0'),\n",
       " Row(Age='50', Sex='M', ChestPainType='ASY', RestingBP='145', Cholesterol='264', FastingBS='0', RestingECG='Normal', MaxHR='150', ExerciseAngina='N', Oldpeak='0', ST_Slope='Flat', HeartDisease='1'),\n",
       " Row(Age='53', Sex='M', ChestPainType='NAP', RestingBP='120', Cholesterol='195', FastingBS='0', RestingECG='Normal', MaxHR='140', ExerciseAngina='N', Oldpeak='0', ST_Slope='Up', HeartDisease='0'),\n",
       " Row(Age='38', Sex='M', ChestPainType='ASY', RestingBP='92', Cholesterol='117', FastingBS='0', RestingECG='Normal', MaxHR='134', ExerciseAngina='Y', Oldpeak='2.5', ST_Slope='Flat', HeartDisease='1'),\n",
       " Row(Age='41', Sex='M', ChestPainType='ATA', RestingBP='120', Cholesterol='295', FastingBS='0', RestingECG='Normal', MaxHR='170', ExerciseAngina='N', Oldpeak='0', ST_Slope='Up', HeartDisease='0'),\n",
       " Row(Age='37', Sex='F', ChestPainType='ASY', RestingBP='130', Cholesterol='173', FastingBS='0', RestingECG='ST', MaxHR='184', ExerciseAngina='N', Oldpeak='0', ST_Slope='Up', HeartDisease='0'),\n",
       " Row(Age='37', Sex='M', ChestPainType='ASY', RestingBP='130', Cholesterol='315', FastingBS='0', RestingECG='Normal', MaxHR='158', ExerciseAngina='N', Oldpeak='0', ST_Slope='Up', HeartDisease='0'),\n",
       " Row(Age='40', Sex='M', ChestPainType='NAP', RestingBP='130', Cholesterol='281', FastingBS='0', RestingECG='Normal', MaxHR='167', ExerciseAngina='N', Oldpeak='0', ST_Slope='Up', HeartDisease='0'),\n",
       " Row(Age='38', Sex='F', ChestPainType='ATA', RestingBP='120', Cholesterol='275', FastingBS='0', RestingECG='Normal', MaxHR='129', ExerciseAngina='N', Oldpeak='0', ST_Slope='Up', HeartDisease='0'),\n",
       " Row(Age='41', Sex='M', ChestPainType='ASY', RestingBP='112', Cholesterol='250', FastingBS='0', RestingECG='Normal', MaxHR='142', ExerciseAngina='N', Oldpeak='0', ST_Slope='Up', HeartDisease='0'),\n",
       " Row(Age='54', Sex='F', ChestPainType='ATA', RestingBP='140', Cholesterol='309', FastingBS='0', RestingECG='ST', MaxHR='140', ExerciseAngina='N', Oldpeak='0', ST_Slope='Up', HeartDisease='0'),\n",
       " Row(Age='39', Sex='M', ChestPainType='ATA', RestingBP='120', Cholesterol='200', FastingBS='0', RestingECG='Normal', MaxHR='160', ExerciseAngina='Y', Oldpeak='1', ST_Slope='Flat', HeartDisease='0'),\n",
       " Row(Age='41', Sex='M', ChestPainType='ASY', RestingBP='120', Cholesterol='336', FastingBS='0', RestingECG='Normal', MaxHR='118', ExerciseAngina='Y', Oldpeak='3', ST_Slope='Flat', HeartDisease='1'),\n",
       " Row(Age='55', Sex='M', ChestPainType='TA', RestingBP='140', Cholesterol='295', FastingBS='0', RestingECG='Normal', MaxHR='136', ExerciseAngina='N', Oldpeak='0', ST_Slope='Flat', HeartDisease='1'),\n",
       " Row(Age='48', Sex='M', ChestPainType='ASY', RestingBP='160', Cholesterol='355', FastingBS='0', RestingECG='Normal', MaxHR='99', ExerciseAngina='Y', Oldpeak='2', ST_Slope='Flat', HeartDisease='1'),\n",
       " Row(Age='48', Sex='M', ChestPainType='ASY', RestingBP='160', Cholesterol='193', FastingBS='0', RestingECG='Normal', MaxHR='102', ExerciseAngina='Y', Oldpeak='3', ST_Slope='Flat', HeartDisease='1'),\n",
       " Row(Age='55', Sex='M', ChestPainType='ATA', RestingBP='145', Cholesterol='326', FastingBS='0', RestingECG='Normal', MaxHR='155', ExerciseAngina='N', Oldpeak='0', ST_Slope='Up', HeartDisease='0'),\n",
       " Row(Age='54', Sex='M', ChestPainType='ASY', RestingBP='200', Cholesterol='198', FastingBS='0', RestingECG='Normal', MaxHR='142', ExerciseAngina='Y', Oldpeak='2', ST_Slope='Flat', HeartDisease='1'),\n",
       " Row(Age='55', Sex='M', ChestPainType='ATA', RestingBP='160', Cholesterol='292', FastingBS='1', RestingECG='Normal', MaxHR='143', ExerciseAngina='Y', Oldpeak='2', ST_Slope='Flat', HeartDisease='1'),\n",
       " Row(Age='43', Sex='F', ChestPainType='ATA', RestingBP='120', Cholesterol='266', FastingBS='0', RestingECG='Normal', MaxHR='118', ExerciseAngina='N', Oldpeak='0', ST_Slope='Up', HeartDisease='0'),\n",
       " Row(Age='48', Sex='M', ChestPainType='ASY', RestingBP='160', Cholesterol='268', FastingBS='0', RestingECG='Normal', MaxHR='103', ExerciseAngina='Y', Oldpeak='1', ST_Slope='Flat', HeartDisease='1'),\n",
       " Row(Age='54', Sex='M', ChestPainType='TA', RestingBP='120', Cholesterol='171', FastingBS='0', RestingECG='Normal', MaxHR='137', ExerciseAngina='N', Oldpeak='2', ST_Slope='Up', HeartDisease='0'),\n",
       " Row(Age='54', Sex='M', ChestPainType='NAP', RestingBP='120', Cholesterol='237', FastingBS='0', RestingECG='Normal', MaxHR='150', ExerciseAngina='Y', Oldpeak='1.5', ST_Slope='Flat', HeartDisease='1'),\n",
       " Row(Age='48', Sex='M', ChestPainType='ASY', RestingBP='122', Cholesterol='275', FastingBS='1', RestingECG='ST', MaxHR='150', ExerciseAngina='Y', Oldpeak='2', ST_Slope='Down', HeartDisease='1'),\n",
       " Row(Age='45', Sex='M', ChestPainType='ASY', RestingBP='130', Cholesterol='219', FastingBS='0', RestingECG='ST', MaxHR='130', ExerciseAngina='Y', Oldpeak='1', ST_Slope='Flat', HeartDisease='1'),\n",
       " Row(Age='49', Sex='M', ChestPainType='ASY', RestingBP='130', Cholesterol='341', FastingBS='0', RestingECG='Normal', MaxHR='120', ExerciseAngina='Y', Oldpeak='1', ST_Slope='Flat', HeartDisease='1'),\n",
       " Row(Age='44', Sex='M', ChestPainType='ASY', RestingBP='135', Cholesterol='491', FastingBS='0', RestingECG='Normal', MaxHR='135', ExerciseAngina='N', Oldpeak='0', ST_Slope='Flat', HeartDisease='1'),\n",
       " Row(Age='48', Sex='M', ChestPainType='ASY', RestingBP='120', Cholesterol='260', FastingBS='0', RestingECG='Normal', MaxHR='115', ExerciseAngina='N', Oldpeak='2', ST_Slope='Flat', HeartDisease='1'),\n",
       " Row(Age='61', Sex='M', ChestPainType='ASY', RestingBP='125', Cholesterol='292', FastingBS='0', RestingECG='ST', MaxHR='115', ExerciseAngina='Y', Oldpeak='0', ST_Slope='Up', HeartDisease='0'),\n",
       " Row(Age='62', Sex='M', ChestPainType='ATA', RestingBP='140', Cholesterol='271', FastingBS='0', RestingECG='Normal', MaxHR='152', ExerciseAngina='N', Oldpeak='1', ST_Slope='Up', HeartDisease='0'),\n",
       " Row(Age='55', Sex='M', ChestPainType='ASY', RestingBP='145', Cholesterol='248', FastingBS='0', RestingECG='Normal', MaxHR='96', ExerciseAngina='Y', Oldpeak='2', ST_Slope='Flat', HeartDisease='1'),\n",
       " Row(Age='53', Sex='F', ChestPainType='NAP', RestingBP='120', Cholesterol='274', FastingBS='0', RestingECG='Normal', MaxHR='130', ExerciseAngina='N', Oldpeak='0', ST_Slope='Up', HeartDisease='0'),\n",
       " Row(Age='55', Sex='F', ChestPainType='ATA', RestingBP='130', Cholesterol='394', FastingBS='0', RestingECG='LVH', MaxHR='150', ExerciseAngina='N', Oldpeak='0', ST_Slope='Up', HeartDisease='0'),\n",
       " Row(Age='36', Sex='M', ChestPainType='NAP', RestingBP='150', Cholesterol='160', FastingBS='0', RestingECG='Normal', MaxHR='172', ExerciseAngina='N', Oldpeak='0', ST_Slope='Up', HeartDisease='0'),\n",
       " Row(Age='51', Sex='F', ChestPainType='NAP', RestingBP='150', Cholesterol='200', FastingBS='0', RestingECG='Normal', MaxHR='120', ExerciseAngina='N', Oldpeak='0.5', ST_Slope='Up', HeartDisease='0'),\n",
       " Row(Age='55', Sex='F', ChestPainType='ATA', RestingBP='122', Cholesterol='320', FastingBS='0', RestingECG='Normal', MaxHR='155', ExerciseAngina='N', Oldpeak='0', ST_Slope='Up', HeartDisease='0'),\n",
       " Row(Age='46', Sex='M', ChestPainType='ATA', RestingBP='140', Cholesterol='275', FastingBS='0', RestingECG='Normal', MaxHR='165', ExerciseAngina='Y', Oldpeak='0', ST_Slope='Up', HeartDisease='0'),\n",
       " Row(Age='54', Sex='F', ChestPainType='ATA', RestingBP='120', Cholesterol='221', FastingBS='0', RestingECG='Normal', MaxHR='138', ExerciseAngina='N', Oldpeak='1', ST_Slope='Up', HeartDisease='0'),\n",
       " Row(Age='46', Sex='M', ChestPainType='ASY', RestingBP='120', Cholesterol='231', FastingBS='0', RestingECG='Normal', MaxHR='115', ExerciseAngina='Y', Oldpeak='0', ST_Slope='Flat', HeartDisease='1'),\n",
       " Row(Age='59', Sex='M', ChestPainType='ASY', RestingBP='130', Cholesterol='126', FastingBS='0', RestingECG='Normal', MaxHR='125', ExerciseAngina='N', Oldpeak='0', ST_Slope='Flat', HeartDisease='1'),\n",
       " Row(Age='47', Sex='M', ChestPainType='NAP', RestingBP='140', Cholesterol='193', FastingBS='0', RestingECG='Normal', MaxHR='145', ExerciseAngina='Y', Oldpeak='1', ST_Slope='Flat', HeartDisease='1'),\n",
       " Row(Age='54', Sex='M', ChestPainType='ATA', RestingBP='160', Cholesterol='305', FastingBS='0', RestingECG='Normal', MaxHR='175', ExerciseAngina='N', Oldpeak='0', ST_Slope='Up', HeartDisease='0'),\n",
       " Row(Age='52', Sex='M', ChestPainType='ASY', RestingBP='130', Cholesterol='298', FastingBS='0', RestingECG='Normal', MaxHR='110', ExerciseAngina='Y', Oldpeak='1', ST_Slope='Flat', HeartDisease='1'),\n",
       " Row(Age='34', Sex='M', ChestPainType='ATA', RestingBP='98', Cholesterol='220', FastingBS='0', RestingECG='Normal', MaxHR='150', ExerciseAngina='N', Oldpeak='0', ST_Slope='Up', HeartDisease='0'),\n",
       " Row(Age='54', Sex='M', ChestPainType='ASY', RestingBP='130', Cholesterol='242', FastingBS='0', RestingECG='Normal', MaxHR='91', ExerciseAngina='Y', Oldpeak='1', ST_Slope='Flat', HeartDisease='1'),\n",
       " Row(Age='47', Sex='F', ChestPainType='NAP', RestingBP='130', Cholesterol='235', FastingBS='0', RestingECG='Normal', MaxHR='145', ExerciseAngina='N', Oldpeak='2', ST_Slope='Flat', HeartDisease='0'),\n",
       " Row(Age='45', Sex='M', ChestPainType='ASY', RestingBP='120', Cholesterol='225', FastingBS='0', RestingECG='Normal', MaxHR='140', ExerciseAngina='N', Oldpeak='0', ST_Slope='Up', HeartDisease='0'),\n",
       " Row(Age='32', Sex='F', ChestPainType='ATA', RestingBP='105', Cholesterol='198', FastingBS='0', RestingECG='Normal', MaxHR='165', ExerciseAngina='N', Oldpeak='0', ST_Slope='Up', HeartDisease='0'),\n",
       " Row(Age='55', Sex='M', ChestPainType='ASY', RestingBP='140', Cholesterol='201', FastingBS='0', RestingECG='Normal', MaxHR='130', ExerciseAngina='Y', Oldpeak='3', ST_Slope='Flat', HeartDisease='1'),\n",
       " Row(Age='55', Sex='M', ChestPainType='NAP', RestingBP='120', Cholesterol='220', FastingBS='0', RestingECG='LVH', MaxHR='134', ExerciseAngina='N', Oldpeak='0', ST_Slope='Up', HeartDisease='0'),\n",
       " Row(Age='45', Sex='F', ChestPainType='ATA', RestingBP='180', Cholesterol='295', FastingBS='0', RestingECG='Normal', MaxHR='180', ExerciseAngina='N', Oldpeak='0', ST_Slope='Up', HeartDisease='0'),\n",
       " Row(Age='59', Sex='M', ChestPainType='NAP', RestingBP='180', Cholesterol='213', FastingBS='0', RestingECG='Normal', MaxHR='100', ExerciseAngina='N', Oldpeak='0', ST_Slope='Up', HeartDisease='0'),\n",
       " Row(Age='51', Sex='M', ChestPainType='NAP', RestingBP='135', Cholesterol='160', FastingBS='0', RestingECG='Normal', MaxHR='150', ExerciseAngina='N', Oldpeak='2', ST_Slope='Flat', HeartDisease='1'),\n",
       " Row(Age='52', Sex='M', ChestPainType='ASY', RestingBP='170', Cholesterol='223', FastingBS='0', RestingECG='Normal', MaxHR='126', ExerciseAngina='Y', Oldpeak='1.5', ST_Slope='Flat', HeartDisease='1'),\n",
       " Row(Age='57', Sex='F', ChestPainType='ASY', RestingBP='180', Cholesterol='347', FastingBS='0', RestingECG='ST', MaxHR='126', ExerciseAngina='Y', Oldpeak='0.8', ST_Slope='Flat', HeartDisease='0'),\n",
       " Row(Age='54', Sex='F', ChestPainType='ATA', RestingBP='130', Cholesterol='253', FastingBS='0', RestingECG='ST', MaxHR='155', ExerciseAngina='N', Oldpeak='0', ST_Slope='Up', HeartDisease='0'),\n",
       " Row(Age='60', Sex='M', ChestPainType='NAP', RestingBP='120', Cholesterol='246', FastingBS='0', RestingECG='LVH', MaxHR='135', ExerciseAngina='N', Oldpeak='0', ST_Slope='Up', HeartDisease='0'),\n",
       " Row(Age='49', Sex='M', ChestPainType='ASY', RestingBP='150', Cholesterol='222', FastingBS='0', RestingECG='Normal', MaxHR='122', ExerciseAngina='N', Oldpeak='2', ST_Slope='Flat', HeartDisease='1'),\n",
       " Row(Age='51', Sex='F', ChestPainType='NAP', RestingBP='130', Cholesterol='220', FastingBS='0', RestingECG='Normal', MaxHR='160', ExerciseAngina='Y', Oldpeak='2', ST_Slope='Up', HeartDisease='0'),\n",
       " Row(Age='55', Sex='F', ChestPainType='ATA', RestingBP='110', Cholesterol='344', FastingBS='0', RestingECG='ST', MaxHR='160', ExerciseAngina='N', Oldpeak='0', ST_Slope='Up', HeartDisease='0'),\n",
       " Row(Age='42', Sex='M', ChestPainType='ASY', RestingBP='140', Cholesterol='358', FastingBS='0', RestingECG='Normal', MaxHR='170', ExerciseAngina='N', Oldpeak='0', ST_Slope='Up', HeartDisease='0'),\n",
       " Row(Age='51', Sex='F', ChestPainType='NAP', RestingBP='110', Cholesterol='190', FastingBS='0', RestingECG='Normal', MaxHR='120', ExerciseAngina='N', Oldpeak='0', ST_Slope='Up', HeartDisease='0'),\n",
       " Row(Age='59', Sex='M', ChestPainType='ASY', RestingBP='140', Cholesterol='169', FastingBS='0', RestingECG='Normal', MaxHR='140', ExerciseAngina='N', Oldpeak='0', ST_Slope='Up', HeartDisease='0'),\n",
       " Row(Age='53', Sex='M', ChestPainType='ATA', RestingBP='120', Cholesterol='181', FastingBS='0', RestingECG='Normal', MaxHR='132', ExerciseAngina='N', Oldpeak='0', ST_Slope='Up', HeartDisease='0'),\n",
       " Row(Age='48', Sex='F', ChestPainType='ATA', RestingBP='133', Cholesterol='308', FastingBS='0', RestingECG='ST', MaxHR='156', ExerciseAngina='N', Oldpeak='2', ST_Slope='Up', HeartDisease='0'),\n",
       " Row(Age='36', Sex='M', ChestPainType='ATA', RestingBP='120', Cholesterol='166', FastingBS='0', RestingECG='Normal', MaxHR='180', ExerciseAngina='N', Oldpeak='0', ST_Slope='Up', HeartDisease='0'),\n",
       " Row(Age='48', Sex='M', ChestPainType='NAP', RestingBP='110', Cholesterol='211', FastingBS='0', RestingECG='Normal', MaxHR='138', ExerciseAngina='N', Oldpeak='0', ST_Slope='Up', HeartDisease='0'),\n",
       " Row(Age='47', Sex='F', ChestPainType='ATA', RestingBP='140', Cholesterol='257', FastingBS='0', RestingECG='Normal', MaxHR='135', ExerciseAngina='N', Oldpeak='1', ST_Slope='Up', HeartDisease='0'),\n",
       " Row(Age='53', Sex='M', ChestPainType='ASY', RestingBP='130', Cholesterol='182', FastingBS='0', RestingECG='Normal', MaxHR='148', ExerciseAngina='N', Oldpeak='0', ST_Slope='Up', HeartDisease='0'),\n",
       " Row(Age='65', Sex='M', ChestPainType='ASY', RestingBP='115', Cholesterol='0', FastingBS='0', RestingECG='Normal', MaxHR='93', ExerciseAngina='Y', Oldpeak='0', ST_Slope='Flat', HeartDisease='1'),\n",
       " Row(Age='32', Sex='M', ChestPainType='TA', RestingBP='95', Cholesterol='0', FastingBS='1', RestingECG='Normal', MaxHR='127', ExerciseAngina='N', Oldpeak='0.7', ST_Slope='Up', HeartDisease='1'),\n",
       " Row(Age='61', Sex='M', ChestPainType='ASY', RestingBP='105', Cholesterol='0', FastingBS='1', RestingECG='Normal', MaxHR='110', ExerciseAngina='Y', Oldpeak='1.5', ST_Slope='Up', HeartDisease='1'),\n",
       " Row(Age='50', Sex='M', ChestPainType='ASY', RestingBP='145', Cholesterol='0', FastingBS='1', RestingECG='Normal', MaxHR='139', ExerciseAngina='Y', Oldpeak='0.7', ST_Slope='Flat', HeartDisease='1'),\n",
       " Row(Age='57', Sex='M', ChestPainType='ASY', RestingBP='110', Cholesterol='0', FastingBS='1', RestingECG='ST', MaxHR='131', ExerciseAngina='Y', Oldpeak='1.4', ST_Slope='Up', HeartDisease='1'),\n",
       " Row(Age='51', Sex='M', ChestPainType='ASY', RestingBP='110', Cholesterol='0', FastingBS='1', RestingECG='Normal', MaxHR='92', ExerciseAngina='N', Oldpeak='0', ST_Slope='Flat', HeartDisease='1'),\n",
       " Row(Age='47', Sex='M', ChestPainType='ASY', RestingBP='110', Cholesterol='0', FastingBS='1', RestingECG='ST', MaxHR='149', ExerciseAngina='N', Oldpeak='2.1', ST_Slope='Up', HeartDisease='1'),\n",
       " Row(Age='60', Sex='M', ChestPainType='ASY', RestingBP='160', Cholesterol='0', FastingBS='1', RestingECG='Normal', MaxHR='149', ExerciseAngina='N', Oldpeak='0.4', ST_Slope='Flat', HeartDisease='1'),\n",
       " Row(Age='55', Sex='M', ChestPainType='ATA', RestingBP='140', Cholesterol='0', FastingBS='0', RestingECG='ST', MaxHR='150', ExerciseAngina='N', Oldpeak='0.2', ST_Slope='Up', HeartDisease='0'),\n",
       " Row(Age='53', Sex='M', ChestPainType='ASY', RestingBP='125', Cholesterol='0', FastingBS='1', RestingECG='Normal', MaxHR='120', ExerciseAngina='N', Oldpeak='1.5', ST_Slope='Up', HeartDisease='1'),\n",
       " Row(Age='62', Sex='F', ChestPainType='ASY', RestingBP='120', Cholesterol='0', FastingBS='1', RestingECG='ST', MaxHR='123', ExerciseAngina='Y', Oldpeak='1.7', ST_Slope='Down', HeartDisease='1'),\n",
       " Row(Age='51', Sex='M', ChestPainType='ASY', RestingBP='95', Cholesterol='0', FastingBS='1', RestingECG='Normal', MaxHR='126', ExerciseAngina='N', Oldpeak='2.2', ST_Slope='Flat', HeartDisease='1'),\n",
       " Row(Age='51', Sex='F', ChestPainType='ASY', RestingBP='120', Cholesterol='0', FastingBS='1', RestingECG='Normal', MaxHR='127', ExerciseAngina='Y', Oldpeak='1.5', ST_Slope='Up', HeartDisease='1'),\n",
       " Row(Age='55', Sex='M', ChestPainType='ASY', RestingBP='115', Cholesterol='0', FastingBS='1', RestingECG='Normal', MaxHR='155', ExerciseAngina='N', Oldpeak='0.1', ST_Slope='Flat', HeartDisease='1'),\n",
       " Row(Age='53', Sex='M', ChestPainType='ATA', RestingBP='130', Cholesterol='0', FastingBS='0', RestingECG='ST', MaxHR='120', ExerciseAngina='N', Oldpeak='0.7', ST_Slope='Down', HeartDisease='0'),\n",
       " Row(Age='58', Sex='M', ChestPainType='ASY', RestingBP='115', Cholesterol='0', FastingBS='1', RestingECG='Normal', MaxHR='138', ExerciseAngina='N', Oldpeak='0.5', ST_Slope='Up', HeartDisease='1'),\n",
       " Row(Age='57', Sex='M', ChestPainType='ASY', RestingBP='95', Cholesterol='0', FastingBS='1', RestingECG='Normal', MaxHR='182', ExerciseAngina='N', Oldpeak='0.7', ST_Slope='Down', HeartDisease='1'),\n",
       " Row(Age='65', Sex='M', ChestPainType='ASY', RestingBP='155', Cholesterol='0', FastingBS='0', RestingECG='Normal', MaxHR='154', ExerciseAngina='N', Oldpeak='1', ST_Slope='Up', HeartDisease='0'),\n",
       " Row(Age='60', Sex='M', ChestPainType='ASY', RestingBP='125', Cholesterol='0', FastingBS='1', RestingECG='Normal', MaxHR='110', ExerciseAngina='N', Oldpeak='0.1', ST_Slope='Up', HeartDisease='1'),\n",
       " Row(Age='41', Sex='M', ChestPainType='ASY', RestingBP='125', Cholesterol='0', FastingBS='1', RestingECG='Normal', MaxHR='176', ExerciseAngina='N', Oldpeak='1.6', ST_Slope='Up', HeartDisease='1'),\n",
       " Row(Age='34', Sex='M', ChestPainType='ASY', RestingBP='115', Cholesterol='0', FastingBS='1', RestingECG='Normal', MaxHR='154', ExerciseAngina='N', Oldpeak='0.2', ST_Slope='Up', HeartDisease='1'),\n",
       " Row(Age='53', Sex='M', ChestPainType='ASY', RestingBP='80', Cholesterol='0', FastingBS='0', RestingECG='Normal', MaxHR='141', ExerciseAngina='Y', Oldpeak='2', ST_Slope='Down', HeartDisease='0'),\n",
       " Row(Age='74', Sex='M', ChestPainType='ATA', RestingBP='145', Cholesterol='0', FastingBS='1', RestingECG='ST', MaxHR='123', ExerciseAngina='N', Oldpeak='1.3', ST_Slope='Up', HeartDisease='1'),\n",
       " Row(Age='57', Sex='M', ChestPainType='NAP', RestingBP='105', Cholesterol='0', FastingBS='1', RestingECG='Normal', MaxHR='148', ExerciseAngina='N', Oldpeak='0.3', ST_Slope='Flat', HeartDisease='1'),\n",
       " Row(Age='56', Sex='M', ChestPainType='ASY', RestingBP='140', Cholesterol='0', FastingBS='1', RestingECG='Normal', MaxHR='121', ExerciseAngina='Y', Oldpeak='1.8', ST_Slope='Up', HeartDisease='1'),\n",
       " Row(Age='61', Sex='M', ChestPainType='ASY', RestingBP='130', Cholesterol='0', FastingBS='1', RestingECG='Normal', MaxHR='77', ExerciseAngina='N', Oldpeak='2.5', ST_Slope='Flat', HeartDisease='1'),\n",
       " Row(Age='68', Sex='M', ChestPainType='ASY', RestingBP='145', Cholesterol='0', FastingBS='1', RestingECG='Normal', MaxHR='136', ExerciseAngina='N', Oldpeak='1.8', ST_Slope='Up', HeartDisease='1'),\n",
       " Row(Age='59', Sex='M', ChestPainType='NAP', RestingBP='125', Cholesterol='0', FastingBS='1', RestingECG='Normal', MaxHR='175', ExerciseAngina='N', Oldpeak='2.6', ST_Slope='Flat', HeartDisease='1'),\n",
       " Row(Age='63', Sex='M', ChestPainType='ASY', RestingBP='100', Cholesterol='0', FastingBS='1', RestingECG='Normal', MaxHR='109', ExerciseAngina='N', Oldpeak='-0.9', ST_Slope='Flat', HeartDisease='1'),\n",
       " Row(Age='38', Sex='F', ChestPainType='ASY', RestingBP='105', Cholesterol='0', FastingBS='1', RestingECG='Normal', MaxHR='166', ExerciseAngina='N', Oldpeak='2.8', ST_Slope='Up', HeartDisease='1'),\n",
       " Row(Age='62', Sex='M', ChestPainType='ASY', RestingBP='115', Cholesterol='0', FastingBS='1', RestingECG='Normal', MaxHR='128', ExerciseAngina='Y', Oldpeak='2.5', ST_Slope='Down', HeartDisease='1'),\n",
       " Row(Age='46', Sex='M', ChestPainType='ASY', RestingBP='100', Cholesterol='0', FastingBS='1', RestingECG='ST', MaxHR='133', ExerciseAngina='N', Oldpeak='-2.6', ST_Slope='Flat', HeartDisease='1'),\n",
       " Row(Age='42', Sex='M', ChestPainType='ASY', RestingBP='105', Cholesterol='0', FastingBS='1', RestingECG='Normal', MaxHR='128', ExerciseAngina='Y', Oldpeak='-1.5', ST_Slope='Down', HeartDisease='1'),\n",
       " Row(Age='45', Sex='M', ChestPainType='NAP', RestingBP='110', Cholesterol='0', FastingBS='0', RestingECG='Normal', MaxHR='138', ExerciseAngina='N', Oldpeak='-0.1', ST_Slope='Up', HeartDisease='0'),\n",
       " Row(Age='59', Sex='M', ChestPainType='ASY', RestingBP='125', Cholesterol='0', FastingBS='1', RestingECG='Normal', MaxHR='119', ExerciseAngina='Y', Oldpeak='0.9', ST_Slope='Up', HeartDisease='1'),\n",
       " Row(Age='52', Sex='M', ChestPainType='ASY', RestingBP='95', Cholesterol='0', FastingBS='1', RestingECG='Normal', MaxHR='82', ExerciseAngina='Y', Oldpeak='0.8', ST_Slope='Flat', HeartDisease='1'),\n",
       " Row(Age='60', Sex='M', ChestPainType='ASY', RestingBP='130', Cholesterol='0', FastingBS='1', RestingECG='ST', MaxHR='130', ExerciseAngina='Y', Oldpeak='1.1', ST_Slope='Down', HeartDisease='1'),\n",
       " Row(Age='60', Sex='M', ChestPainType='NAP', RestingBP='115', Cholesterol='0', FastingBS='1', RestingECG='Normal', MaxHR='143', ExerciseAngina='N', Oldpeak='2.4', ST_Slope='Up', HeartDisease='1'),\n",
       " Row(Age='56', Sex='M', ChestPainType='ASY', RestingBP='115', Cholesterol='0', FastingBS='1', RestingECG='ST', MaxHR='82', ExerciseAngina='N', Oldpeak='-1', ST_Slope='Up', HeartDisease='1'),\n",
       " Row(Age='38', Sex='M', ChestPainType='NAP', RestingBP='100', Cholesterol='0', FastingBS='0', RestingECG='Normal', MaxHR='179', ExerciseAngina='N', Oldpeak='-1.1', ST_Slope='Up', HeartDisease='0'),\n",
       " Row(Age='40', Sex='M', ChestPainType='ASY', RestingBP='95', Cholesterol='0', FastingBS='1', RestingECG='ST', MaxHR='144', ExerciseAngina='N', Oldpeak='0', ST_Slope='Up', HeartDisease='1'),\n",
       " Row(Age='51', Sex='M', ChestPainType='ASY', RestingBP='130', Cholesterol='0', FastingBS='1', RestingECG='Normal', MaxHR='170', ExerciseAngina='N', Oldpeak='-0.7', ST_Slope='Up', HeartDisease='1'),\n",
       " Row(Age='62', Sex='M', ChestPainType='TA', RestingBP='120', Cholesterol='0', FastingBS='1', RestingECG='LVH', MaxHR='134', ExerciseAngina='N', Oldpeak='-0.8', ST_Slope='Flat', HeartDisease='1'),\n",
       " Row(Age='72', Sex='M', ChestPainType='NAP', RestingBP='160', Cholesterol='0', FastingBS='0', RestingECG='LVH', MaxHR='114', ExerciseAngina='N', Oldpeak='1.6', ST_Slope='Flat', HeartDisease='0'),\n",
       " Row(Age='63', Sex='M', ChestPainType='ASY', RestingBP='150', Cholesterol='0', FastingBS='1', RestingECG='ST', MaxHR='154', ExerciseAngina='N', Oldpeak='3.7', ST_Slope='Up', HeartDisease='1'),\n",
       " Row(Age='63', Sex='M', ChestPainType='ASY', RestingBP='140', Cholesterol='0', FastingBS='1', RestingECG='LVH', MaxHR='149', ExerciseAngina='N', Oldpeak='2', ST_Slope='Up', HeartDisease='1'),\n",
       " Row(Age='64', Sex='F', ChestPainType='ASY', RestingBP='95', Cholesterol='0', FastingBS='1', RestingECG='Normal', MaxHR='145', ExerciseAngina='N', Oldpeak='1.1', ST_Slope='Down', HeartDisease='1'),\n",
       " Row(Age='43', Sex='M', ChestPainType='ASY', RestingBP='100', Cholesterol='0', FastingBS='1', RestingECG='Normal', MaxHR='122', ExerciseAngina='N', Oldpeak='1.5', ST_Slope='Down', HeartDisease='1'),\n",
       " Row(Age='64', Sex='M', ChestPainType='ASY', RestingBP='110', Cholesterol='0', FastingBS='1', RestingECG='Normal', MaxHR='114', ExerciseAngina='Y', Oldpeak='1.3', ST_Slope='Down', HeartDisease='1'),\n",
       " Row(Age='61', Sex='M', ChestPainType='ASY', RestingBP='110', Cholesterol='0', FastingBS='1', RestingECG='Normal', MaxHR='113', ExerciseAngina='N', Oldpeak='1.4', ST_Slope='Flat', HeartDisease='1'),\n",
       " Row(Age='52', Sex='M', ChestPainType='ASY', RestingBP='130', Cholesterol='0', FastingBS='1', RestingECG='Normal', MaxHR='120', ExerciseAngina='N', Oldpeak='0', ST_Slope='Flat', HeartDisease='1'),\n",
       " Row(Age='51', Sex='M', ChestPainType='ASY', RestingBP='120', Cholesterol='0', FastingBS='1', RestingECG='Normal', MaxHR='104', ExerciseAngina='N', Oldpeak='0', ST_Slope='Flat', HeartDisease='1'),\n",
       " Row(Age='69', Sex='M', ChestPainType='ASY', RestingBP='135', Cholesterol='0', FastingBS='0', RestingECG='Normal', MaxHR='130', ExerciseAngina='N', Oldpeak='0', ST_Slope='Flat', HeartDisease='1'),\n",
       " Row(Age='59', Sex='M', ChestPainType='ASY', RestingBP='120', Cholesterol='0', FastingBS='0', RestingECG='Normal', MaxHR='115', ExerciseAngina='N', Oldpeak='0', ST_Slope='Flat', HeartDisease='1'),\n",
       " Row(Age='48', Sex='M', ChestPainType='ASY', RestingBP='115', Cholesterol='0', FastingBS='1', RestingECG='Normal', MaxHR='128', ExerciseAngina='N', Oldpeak='0', ST_Slope='Flat', HeartDisease='1'),\n",
       " Row(Age='69', Sex='M', ChestPainType='ASY', RestingBP='137', Cholesterol='0', FastingBS='0', RestingECG='ST', MaxHR='104', ExerciseAngina='Y', Oldpeak='1.6', ST_Slope='Flat', HeartDisease='1'),\n",
       " Row(Age='36', Sex='M', ChestPainType='ASY', RestingBP='110', Cholesterol='0', FastingBS='1', RestingECG='Normal', MaxHR='125', ExerciseAngina='Y', Oldpeak='1', ST_Slope='Flat', HeartDisease='1'),\n",
       " Row(Age='53', Sex='M', ChestPainType='ASY', RestingBP='120', Cholesterol='0', FastingBS='1', RestingECG='Normal', MaxHR='120', ExerciseAngina='N', Oldpeak='0', ST_Slope='Flat', HeartDisease='1'),\n",
       " Row(Age='43', Sex='M', ChestPainType='ASY', RestingBP='140', Cholesterol='0', FastingBS='0', RestingECG='ST', MaxHR='140', ExerciseAngina='Y', Oldpeak='0.5', ST_Slope='Up', HeartDisease='1'),\n",
       " Row(Age='56', Sex='M', ChestPainType='ASY', RestingBP='120', Cholesterol='0', FastingBS='0', RestingECG='ST', MaxHR='100', ExerciseAngina='Y', Oldpeak='-1', ST_Slope='Down', HeartDisease='1'),\n",
       " Row(Age='58', Sex='M', ChestPainType='ASY', RestingBP='130', Cholesterol='0', FastingBS='0', RestingECG='ST', MaxHR='100', ExerciseAngina='Y', Oldpeak='1', ST_Slope='Flat', HeartDisease='1'),\n",
       " Row(Age='55', Sex='M', ChestPainType='ASY', RestingBP='120', Cholesterol='0', FastingBS='0', RestingECG='ST', MaxHR='92', ExerciseAngina='N', Oldpeak='0.3', ST_Slope='Up', HeartDisease='1'),\n",
       " Row(Age='67', Sex='M', ChestPainType='TA', RestingBP='145', Cholesterol='0', FastingBS='0', RestingECG='LVH', MaxHR='125', ExerciseAngina='N', Oldpeak='0', ST_Slope='Flat', HeartDisease='1'),\n",
       " Row(Age='46', Sex='M', ChestPainType='ASY', RestingBP='115', Cholesterol='0', FastingBS='0', RestingECG='Normal', MaxHR='113', ExerciseAngina='Y', Oldpeak='1.5', ST_Slope='Flat', HeartDisease='1'),\n",
       " Row(Age='53', Sex='M', ChestPainType='ATA', RestingBP='120', Cholesterol='0', FastingBS='0', RestingECG='Normal', MaxHR='95', ExerciseAngina='N', Oldpeak='0', ST_Slope='Flat', HeartDisease='1'),\n",
       " Row(Age='38', Sex='M', ChestPainType='NAP', RestingBP='115', Cholesterol='0', FastingBS='0', RestingECG='Normal', MaxHR='128', ExerciseAngina='Y', Oldpeak='0', ST_Slope='Flat', HeartDisease='1'),\n",
       " Row(Age='53', Sex='M', ChestPainType='NAP', RestingBP='105', Cholesterol='0', FastingBS='0', RestingECG='Normal', MaxHR='115', ExerciseAngina='N', Oldpeak='0', ST_Slope='Flat', HeartDisease='1'),\n",
       " Row(Age='62', Sex='M', ChestPainType='NAP', RestingBP='160', Cholesterol='0', FastingBS='0', RestingECG='Normal', MaxHR='72', ExerciseAngina='Y', Oldpeak='0', ST_Slope='Flat', HeartDisease='1'),\n",
       " Row(Age='47', Sex='M', ChestPainType='ASY', RestingBP='160', Cholesterol='0', FastingBS='0', RestingECG='Normal', MaxHR='124', ExerciseAngina='Y', Oldpeak='0', ST_Slope='Flat', HeartDisease='1'),\n",
       " Row(Age='56', Sex='M', ChestPainType='NAP', RestingBP='155', Cholesterol='0', FastingBS='0', RestingECG='ST', MaxHR='99', ExerciseAngina='N', Oldpeak='0', ST_Slope='Flat', HeartDisease='1'),\n",
       " Row(Age='56', Sex='M', ChestPainType='ASY', RestingBP='120', Cholesterol='0', FastingBS='0', RestingECG='ST', MaxHR='148', ExerciseAngina='N', Oldpeak='0', ST_Slope='Flat', HeartDisease='1'),\n",
       " Row(Age='56', Sex='M', ChestPainType='NAP', RestingBP='120', Cholesterol='0', FastingBS='0', RestingECG='Normal', MaxHR='97', ExerciseAngina='N', Oldpeak='0', ST_Slope='Flat', HeartDisease='0'),\n",
       " Row(Age='64', Sex='F', ChestPainType='ASY', RestingBP='200', Cholesterol='0', FastingBS='0', RestingECG='Normal', MaxHR='140', ExerciseAngina='Y', Oldpeak='1', ST_Slope='Flat', HeartDisease='1'),\n",
       " Row(Age='61', Sex='M', ChestPainType='ASY', RestingBP='150', Cholesterol='0', FastingBS='0', RestingECG='Normal', MaxHR='117', ExerciseAngina='Y', Oldpeak='2', ST_Slope='Flat', HeartDisease='1'),\n",
       " Row(Age='68', Sex='M', ChestPainType='ASY', RestingBP='135', Cholesterol='0', FastingBS='0', RestingECG='ST', MaxHR='120', ExerciseAngina='Y', Oldpeak='0', ST_Slope='Up', HeartDisease='1'),\n",
       " Row(Age='57', Sex='M', ChestPainType='ASY', RestingBP='140', Cholesterol='0', FastingBS='0', RestingECG='Normal', MaxHR='120', ExerciseAngina='Y', Oldpeak='2', ST_Slope='Flat', HeartDisease='1'),\n",
       " Row(Age='63', Sex='M', ChestPainType='ASY', RestingBP='150', Cholesterol='0', FastingBS='0', RestingECG='Normal', MaxHR='86', ExerciseAngina='Y', Oldpeak='2', ST_Slope='Flat', HeartDisease='1'),\n",
       " Row(Age='60', Sex='M', ChestPainType='ASY', RestingBP='135', Cholesterol='0', FastingBS='0', RestingECG='Normal', MaxHR='63', ExerciseAngina='Y', Oldpeak='0.5', ST_Slope='Up', HeartDisease='1'),\n",
       " Row(Age='66', Sex='M', ChestPainType='ASY', RestingBP='150', Cholesterol='0', FastingBS='0', RestingECG='Normal', MaxHR='108', ExerciseAngina='Y', Oldpeak='2', ST_Slope='Flat', HeartDisease='1'),\n",
       " Row(Age='63', Sex='M', ChestPainType='ASY', RestingBP='185', Cholesterol='0', FastingBS='0', RestingECG='Normal', MaxHR='98', ExerciseAngina='Y', Oldpeak='0', ST_Slope='Up', HeartDisease='1'),\n",
       " Row(Age='59', Sex='M', ChestPainType='ASY', RestingBP='135', Cholesterol='0', FastingBS='0', RestingECG='Normal', MaxHR='115', ExerciseAngina='Y', Oldpeak='1', ST_Slope='Flat', HeartDisease='1'),\n",
       " Row(Age='61', Sex='M', ChestPainType='ASY', RestingBP='125', Cholesterol='0', FastingBS='0', RestingECG='Normal', MaxHR='105', ExerciseAngina='Y', Oldpeak='0', ST_Slope='Down', HeartDisease='1'),\n",
       " Row(Age='73', Sex='F', ChestPainType='NAP', RestingBP='160', Cholesterol='0', FastingBS='0', RestingECG='ST', MaxHR='121', ExerciseAngina='N', Oldpeak='0', ST_Slope='Up', HeartDisease='1'),\n",
       " Row(Age='47', Sex='M', ChestPainType='NAP', RestingBP='155', Cholesterol='0', FastingBS='0', RestingECG='Normal', MaxHR='118', ExerciseAngina='Y', Oldpeak='1', ST_Slope='Flat', HeartDisease='1'),\n",
       " Row(Age='65', Sex='M', ChestPainType='ASY', RestingBP='160', Cholesterol='0', FastingBS='1', RestingECG='ST', MaxHR='122', ExerciseAngina='N', Oldpeak='1.2', ST_Slope='Flat', HeartDisease='1'),\n",
       " Row(Age='70', Sex='M', ChestPainType='ASY', RestingBP='140', Cholesterol='0', FastingBS='1', RestingECG='Normal', MaxHR='157', ExerciseAngina='Y', Oldpeak='2', ST_Slope='Flat', HeartDisease='1'),\n",
       " Row(Age='50', Sex='M', ChestPainType='ASY', RestingBP='120', Cholesterol='0', FastingBS='0', RestingECG='ST', MaxHR='156', ExerciseAngina='Y', Oldpeak='0', ST_Slope='Up', HeartDisease='1'),\n",
       " Row(Age='60', Sex='M', ChestPainType='ASY', RestingBP='160', Cholesterol='0', FastingBS='0', RestingECG='ST', MaxHR='99', ExerciseAngina='Y', Oldpeak='0.5', ST_Slope='Flat', HeartDisease='1'),\n",
       " Row(Age='50', Sex='M', ChestPainType='ASY', RestingBP='115', Cholesterol='0', FastingBS='0', RestingECG='Normal', MaxHR='120', ExerciseAngina='Y', Oldpeak='0.5', ST_Slope='Flat', HeartDisease='1'),\n",
       " Row(Age='43', Sex='M', ChestPainType='ASY', RestingBP='115', Cholesterol='0', FastingBS='0', RestingECG='Normal', MaxHR='145', ExerciseAngina='Y', Oldpeak='2', ST_Slope='Flat', HeartDisease='1'),\n",
       " Row(Age='38', Sex='F', ChestPainType='ASY', RestingBP='110', Cholesterol='0', FastingBS='0', RestingECG='Normal', MaxHR='156', ExerciseAngina='N', Oldpeak='0', ST_Slope='Flat', HeartDisease='1'),\n",
       " Row(Age='54', Sex='M', ChestPainType='ASY', RestingBP='120', Cholesterol='0', FastingBS='0', RestingECG='Normal', MaxHR='155', ExerciseAngina='N', Oldpeak='0', ST_Slope='Flat', HeartDisease='1'),\n",
       " Row(Age='61', Sex='M', ChestPainType='ASY', RestingBP='150', Cholesterol='0', FastingBS='0', RestingECG='Normal', MaxHR='105', ExerciseAngina='Y', Oldpeak='0', ST_Slope='Flat', HeartDisease='1'),\n",
       " Row(Age='42', Sex='M', ChestPainType='ASY', RestingBP='145', Cholesterol='0', FastingBS='0', RestingECG='Normal', MaxHR='99', ExerciseAngina='Y', Oldpeak='0', ST_Slope='Flat', HeartDisease='1'),\n",
       " Row(Age='53', Sex='M', ChestPainType='ASY', RestingBP='130', Cholesterol='0', FastingBS='0', RestingECG='LVH', MaxHR='135', ExerciseAngina='Y', Oldpeak='1', ST_Slope='Flat', HeartDisease='1'),\n",
       " Row(Age='55', Sex='M', ChestPainType='ASY', RestingBP='140', Cholesterol='0', FastingBS='0', RestingECG='Normal', MaxHR='83', ExerciseAngina='N', Oldpeak='0', ST_Slope='Flat', HeartDisease='1'),\n",
       " Row(Age='61', Sex='M', ChestPainType='ASY', RestingBP='160', Cholesterol='0', FastingBS='1', RestingECG='ST', MaxHR='145', ExerciseAngina='N', Oldpeak='1', ST_Slope='Flat', HeartDisease='1'),\n",
       " Row(Age='51', Sex='M', ChestPainType='ASY', RestingBP='140', Cholesterol='0', FastingBS='0', RestingECG='Normal', MaxHR='60', ExerciseAngina='N', Oldpeak='0', ST_Slope='Flat', HeartDisease='1'),\n",
       " Row(Age='70', Sex='M', ChestPainType='ASY', RestingBP='115', Cholesterol='0', FastingBS='0', RestingECG='ST', MaxHR='92', ExerciseAngina='Y', Oldpeak='0', ST_Slope='Flat', HeartDisease='1'),\n",
       " Row(Age='61', Sex='M', ChestPainType='ASY', RestingBP='130', Cholesterol='0', FastingBS='0', RestingECG='LVH', MaxHR='115', ExerciseAngina='N', Oldpeak='0', ST_Slope='Flat', HeartDisease='1'),\n",
       " Row(Age='38', Sex='M', ChestPainType='ASY', RestingBP='150', Cholesterol='0', FastingBS='1', RestingECG='Normal', MaxHR='120', ExerciseAngina='Y', Oldpeak='0.7', ST_Slope='Flat', HeartDisease='1'),\n",
       " Row(Age='57', Sex='M', ChestPainType='ASY', RestingBP='160', Cholesterol='0', FastingBS='1', RestingECG='Normal', MaxHR='98', ExerciseAngina='Y', Oldpeak='2', ST_Slope='Flat', HeartDisease='1'),\n",
       " Row(Age='38', Sex='M', ChestPainType='ASY', RestingBP='135', Cholesterol='0', FastingBS='1', RestingECG='Normal', MaxHR='150', ExerciseAngina='N', Oldpeak='0', ST_Slope='Flat', HeartDisease='1'),\n",
       " Row(Age='62', Sex='F', ChestPainType='TA', RestingBP='140', Cholesterol='0', FastingBS='1', RestingECG='Normal', MaxHR='143', ExerciseAngina='N', Oldpeak='0', ST_Slope='Flat', HeartDisease='1'),\n",
       " Row(Age='58', Sex='M', ChestPainType='ASY', RestingBP='170', Cholesterol='0', FastingBS='1', RestingECG='ST', MaxHR='105', ExerciseAngina='Y', Oldpeak='0', ST_Slope='Flat', HeartDisease='1'),\n",
       " Row(Age='52', Sex='M', ChestPainType='ASY', RestingBP='165', Cholesterol='0', FastingBS='1', RestingECG='Normal', MaxHR='122', ExerciseAngina='Y', Oldpeak='1', ST_Slope='Up', HeartDisease='1'),\n",
       " Row(Age='61', Sex='M', ChestPainType='NAP', RestingBP='200', Cholesterol='0', FastingBS='1', RestingECG='ST', MaxHR='70', ExerciseAngina='N', Oldpeak='0', ST_Slope='Flat', HeartDisease='1'),\n",
       " Row(Age='50', Sex='F', ChestPainType='ASY', RestingBP='160', Cholesterol='0', FastingBS='1', RestingECG='Normal', MaxHR='110', ExerciseAngina='N', Oldpeak='0', ST_Slope='Flat', HeartDisease='1'),\n",
       " Row(Age='51', Sex='M', ChestPainType='ASY', RestingBP='130', Cholesterol='0', FastingBS='1', RestingECG='ST', MaxHR='163', ExerciseAngina='N', Oldpeak='0', ST_Slope='Flat', HeartDisease='1'),\n",
       " Row(Age='65', Sex='M', ChestPainType='ASY', RestingBP='145', Cholesterol='0', FastingBS='1', RestingECG='ST', MaxHR='67', ExerciseAngina='N', Oldpeak='0.7', ST_Slope='Flat', HeartDisease='1'),\n",
       " Row(Age='52', Sex='M', ChestPainType='ASY', RestingBP='135', Cholesterol='0', FastingBS='1', RestingECG='Normal', MaxHR='128', ExerciseAngina='Y', Oldpeak='2', ST_Slope='Flat', HeartDisease='1'),\n",
       " Row(Age='47', Sex='M', ChestPainType='NAP', RestingBP='110', Cholesterol='0', FastingBS='1', RestingECG='Normal', MaxHR='120', ExerciseAngina='Y', Oldpeak='0', ST_Slope='Flat', HeartDisease='1'),\n",
       " Row(Age='35', Sex='M', ChestPainType='ASY', RestingBP='120', Cholesterol='0', FastingBS='1', RestingECG='Normal', MaxHR='130', ExerciseAngina='Y', Oldpeak='1.2', ST_Slope='Flat', HeartDisease='1'),\n",
       " Row(Age='57', Sex='M', ChestPainType='ASY', RestingBP='140', Cholesterol='0', FastingBS='1', RestingECG='Normal', MaxHR='100', ExerciseAngina='Y', Oldpeak='0', ST_Slope='Flat', HeartDisease='1'),\n",
       " Row(Age='62', Sex='M', ChestPainType='ASY', RestingBP='115', Cholesterol='0', FastingBS='1', RestingECG='Normal', MaxHR='72', ExerciseAngina='Y', Oldpeak='-0.5', ST_Slope='Flat', HeartDisease='1'),\n",
       " Row(Age='59', Sex='M', ChestPainType='ASY', RestingBP='110', Cholesterol='0', FastingBS='1', RestingECG='Normal', MaxHR='94', ExerciseAngina='N', Oldpeak='0', ST_Slope='Flat', HeartDisease='1'),\n",
       " Row(Age='53', Sex='M', ChestPainType='NAP', RestingBP='160', Cholesterol='0', FastingBS='1', RestingECG='LVH', MaxHR='122', ExerciseAngina='Y', Oldpeak='0', ST_Slope='Flat', HeartDisease='1'),\n",
       " Row(Age='62', Sex='M', ChestPainType='ASY', RestingBP='150', Cholesterol='0', FastingBS='1', RestingECG='ST', MaxHR='78', ExerciseAngina='N', Oldpeak='2', ST_Slope='Flat', HeartDisease='1'),\n",
       " Row(Age='54', Sex='M', ChestPainType='ASY', RestingBP='180', Cholesterol='0', FastingBS='1', RestingECG='Normal', MaxHR='150', ExerciseAngina='N', Oldpeak='1.5', ST_Slope='Flat', HeartDisease='1'),\n",
       " Row(Age='56', Sex='M', ChestPainType='ASY', RestingBP='125', Cholesterol='0', FastingBS='1', RestingECG='Normal', MaxHR='103', ExerciseAngina='Y', Oldpeak='1', ST_Slope='Flat', HeartDisease='1'),\n",
       " Row(Age='56', Sex='M', ChestPainType='NAP', RestingBP='125', Cholesterol='0', FastingBS='1', RestingECG='Normal', MaxHR='98', ExerciseAngina='N', Oldpeak='-2', ST_Slope='Flat', HeartDisease='1'),\n",
       " Row(Age='54', Sex='M', ChestPainType='ASY', RestingBP='130', Cholesterol='0', FastingBS='1', RestingECG='Normal', MaxHR='110', ExerciseAngina='Y', Oldpeak='3', ST_Slope='Flat', HeartDisease='1'),\n",
       " Row(Age='66', Sex='F', ChestPainType='ASY', RestingBP='155', Cholesterol='0', FastingBS='1', RestingECG='Normal', MaxHR='90', ExerciseAngina='N', Oldpeak='0', ST_Slope='Flat', HeartDisease='1'),\n",
       " Row(Age='63', Sex='M', ChestPainType='ASY', RestingBP='140', Cholesterol='260', FastingBS='0', RestingECG='ST', MaxHR='112', ExerciseAngina='Y', Oldpeak='3', ST_Slope='Flat', HeartDisease='1'),\n",
       " Row(Age='44', Sex='M', ChestPainType='ASY', RestingBP='130', Cholesterol='209', FastingBS='0', RestingECG='ST', MaxHR='127', ExerciseAngina='N', Oldpeak='0', ST_Slope='Up', HeartDisease='0'),\n",
       " Row(Age='60', Sex='M', ChestPainType='ASY', RestingBP='132', Cholesterol='218', FastingBS='0', RestingECG='ST', MaxHR='140', ExerciseAngina='Y', Oldpeak='1.5', ST_Slope='Down', HeartDisease='1'),\n",
       " Row(Age='55', Sex='M', ChestPainType='ASY', RestingBP='142', Cholesterol='228', FastingBS='0', RestingECG='ST', MaxHR='149', ExerciseAngina='Y', Oldpeak='2.5', ST_Slope='Up', HeartDisease='1'),\n",
       " Row(Age='66', Sex='M', ChestPainType='NAP', RestingBP='110', Cholesterol='213', FastingBS='1', RestingECG='LVH', MaxHR='99', ExerciseAngina='Y', Oldpeak='1.3', ST_Slope='Flat', HeartDisease='0'),\n",
       " Row(Age='66', Sex='M', ChestPainType='NAP', RestingBP='120', Cholesterol='0', FastingBS='0', RestingECG='ST', MaxHR='120', ExerciseAngina='N', Oldpeak='-0.5', ST_Slope='Up', HeartDisease='0'),\n",
       " Row(Age='65', Sex='M', ChestPainType='ASY', RestingBP='150', Cholesterol='236', FastingBS='1', RestingECG='ST', MaxHR='105', ExerciseAngina='Y', Oldpeak='0', ST_Slope='Flat', HeartDisease='1'),\n",
       " Row(Age='60', Sex='M', ChestPainType='NAP', RestingBP='180', Cholesterol='0', FastingBS='0', RestingECG='ST', MaxHR='140', ExerciseAngina='Y', Oldpeak='1.5', ST_Slope='Flat', HeartDisease='0'),\n",
       " Row(Age='60', Sex='M', ChestPainType='NAP', RestingBP='120', Cholesterol='0', FastingBS='1', RestingECG='Normal', MaxHR='141', ExerciseAngina='Y', Oldpeak='2', ST_Slope='Up', HeartDisease='1'),\n",
       " Row(Age='60', Sex='M', ChestPainType='ATA', RestingBP='160', Cholesterol='267', FastingBS='1', RestingECG='ST', MaxHR='157', ExerciseAngina='N', Oldpeak='0.5', ST_Slope='Flat', HeartDisease='1'),\n",
       " Row(Age='56', Sex='M', ChestPainType='ATA', RestingBP='126', Cholesterol='166', FastingBS='0', RestingECG='ST', MaxHR='140', ExerciseAngina='N', Oldpeak='0', ST_Slope='Up', HeartDisease='0'),\n",
       " Row(Age='59', Sex='M', ChestPainType='ASY', RestingBP='140', Cholesterol='0', FastingBS='0', RestingECG='ST', MaxHR='117', ExerciseAngina='Y', Oldpeak='1', ST_Slope='Flat', HeartDisease='1'),\n",
       " Row(Age='62', Sex='M', ChestPainType='ASY', RestingBP='110', Cholesterol='0', FastingBS='0', RestingECG='Normal', MaxHR='120', ExerciseAngina='Y', Oldpeak='0.5', ST_Slope='Flat', HeartDisease='1'),\n",
       " Row(Age='63', Sex='M', ChestPainType='NAP', RestingBP='133', Cholesterol='0', FastingBS='0', RestingECG='LVH', MaxHR='120', ExerciseAngina='Y', Oldpeak='1', ST_Slope='Flat', HeartDisease='1'),\n",
       " Row(Age='57', Sex='M', ChestPainType='ASY', RestingBP='128', Cholesterol='0', FastingBS='1', RestingECG='ST', MaxHR='148', ExerciseAngina='Y', Oldpeak='1', ST_Slope='Flat', HeartDisease='1'),\n",
       " Row(Age='62', Sex='M', ChestPainType='ASY', RestingBP='120', Cholesterol='220', FastingBS='0', RestingECG='ST', MaxHR='86', ExerciseAngina='N', Oldpeak='0', ST_Slope='Up', HeartDisease='0'),\n",
       " Row(Age='63', Sex='M', ChestPainType='ASY', RestingBP='170', Cholesterol='177', FastingBS='0', RestingECG='Normal', MaxHR='84', ExerciseAngina='Y', Oldpeak='2.5', ST_Slope='Down', HeartDisease='1'),\n",
       " Row(Age='46', Sex='M', ChestPainType='ASY', RestingBP='110', Cholesterol='236', FastingBS='0', RestingECG='Normal', MaxHR='125', ExerciseAngina='Y', Oldpeak='2', ST_Slope='Flat', HeartDisease='1'),\n",
       " Row(Age='63', Sex='M', ChestPainType='ASY', RestingBP='126', Cholesterol='0', FastingBS='0', RestingECG='ST', MaxHR='120', ExerciseAngina='N', Oldpeak='1.5', ST_Slope='Down', HeartDisease='0'),\n",
       " Row(Age='60', Sex='M', ChestPainType='ASY', RestingBP='152', Cholesterol='0', FastingBS='0', RestingECG='ST', MaxHR='118', ExerciseAngina='Y', Oldpeak='0', ST_Slope='Up', HeartDisease='0'),\n",
       " Row(Age='58', Sex='M', ChestPainType='ASY', RestingBP='116', Cholesterol='0', FastingBS='0', RestingECG='Normal', MaxHR='124', ExerciseAngina='N', Oldpeak='1', ST_Slope='Up', HeartDisease='1'),\n",
       " Row(Age='64', Sex='M', ChestPainType='ASY', RestingBP='120', Cholesterol='0', FastingBS='1', RestingECG='ST', MaxHR='106', ExerciseAngina='N', Oldpeak='2', ST_Slope='Flat', HeartDisease='1'),\n",
       " Row(Age='63', Sex='M', ChestPainType='NAP', RestingBP='130', Cholesterol='0', FastingBS='0', RestingECG='ST', MaxHR='111', ExerciseAngina='Y', Oldpeak='0', ST_Slope='Flat', HeartDisease='1'),\n",
       " Row(Age='74', Sex='M', ChestPainType='NAP', RestingBP='138', Cholesterol='0', FastingBS='0', RestingECG='Normal', MaxHR='116', ExerciseAngina='N', Oldpeak='0.2', ST_Slope='Up', HeartDisease='0'),\n",
       " Row(Age='52', Sex='M', ChestPainType='NAP', RestingBP='128', Cholesterol='0', FastingBS='0', RestingECG='ST', MaxHR='180', ExerciseAngina='N', Oldpeak='3', ST_Slope='Up', HeartDisease='1'),\n",
       " Row(Age='69', Sex='M', ChestPainType='ASY', RestingBP='130', Cholesterol='0', FastingBS='1', RestingECG='ST', MaxHR='129', ExerciseAngina='N', Oldpeak='1', ST_Slope='Flat', HeartDisease='1'),\n",
       " Row(Age='51', Sex='M', ChestPainType='ASY', RestingBP='128', Cholesterol='0', FastingBS='1', RestingECG='ST', MaxHR='125', ExerciseAngina='Y', Oldpeak='1.2', ST_Slope='Flat', HeartDisease='1'),\n",
       " Row(Age='60', Sex='M', ChestPainType='ASY', RestingBP='130', Cholesterol='186', FastingBS='1', RestingECG='ST', MaxHR='140', ExerciseAngina='Y', Oldpeak='0.5', ST_Slope='Flat', HeartDisease='1'),\n",
       " Row(Age='56', Sex='M', ChestPainType='ASY', RestingBP='120', Cholesterol='100', FastingBS='0', RestingECG='Normal', MaxHR='120', ExerciseAngina='Y', Oldpeak='1.5', ST_Slope='Flat', HeartDisease='1'),\n",
       " Row(Age='55', Sex='M', ChestPainType='NAP', RestingBP='136', Cholesterol='228', FastingBS='0', RestingECG='ST', MaxHR='124', ExerciseAngina='Y', Oldpeak='1.6', ST_Slope='Flat', HeartDisease='1'),\n",
       " Row(Age='54', Sex='M', ChestPainType='ASY', RestingBP='130', Cholesterol='0', FastingBS='0', RestingECG='ST', MaxHR='117', ExerciseAngina='Y', Oldpeak='1.4', ST_Slope='Flat', HeartDisease='1'),\n",
       " Row(Age='77', Sex='M', ChestPainType='ASY', RestingBP='124', Cholesterol='171', FastingBS='0', RestingECG='ST', MaxHR='110', ExerciseAngina='Y', Oldpeak='2', ST_Slope='Up', HeartDisease='1'),\n",
       " Row(Age='63', Sex='M', ChestPainType='ASY', RestingBP='160', Cholesterol='230', FastingBS='1', RestingECG='Normal', MaxHR='105', ExerciseAngina='Y', Oldpeak='1', ST_Slope='Flat', HeartDisease='1'),\n",
       " Row(Age='55', Sex='M', ChestPainType='NAP', RestingBP='0', Cholesterol='0', FastingBS='0', RestingECG='Normal', MaxHR='155', ExerciseAngina='N', Oldpeak='1.5', ST_Slope='Flat', HeartDisease='1'),\n",
       " Row(Age='52', Sex='M', ChestPainType='NAP', RestingBP='122', Cholesterol='0', FastingBS='0', RestingECG='Normal', MaxHR='110', ExerciseAngina='Y', Oldpeak='2', ST_Slope='Down', HeartDisease='1'),\n",
       " Row(Age='64', Sex='M', ChestPainType='ASY', RestingBP='144', Cholesterol='0', FastingBS='0', RestingECG='ST', MaxHR='122', ExerciseAngina='Y', Oldpeak='1', ST_Slope='Flat', HeartDisease='1'),\n",
       " Row(Age='60', Sex='M', ChestPainType='ASY', RestingBP='140', Cholesterol='281', FastingBS='0', RestingECG='ST', MaxHR='118', ExerciseAngina='Y', Oldpeak='1.5', ST_Slope='Flat', HeartDisease='1'),\n",
       " Row(Age='60', Sex='M', ChestPainType='ASY', RestingBP='120', Cholesterol='0', FastingBS='0', RestingECG='Normal', MaxHR='133', ExerciseAngina='Y', Oldpeak='2', ST_Slope='Up', HeartDisease='0'),\n",
       " Row(Age='58', Sex='M', ChestPainType='ASY', RestingBP='136', Cholesterol='203', FastingBS='1', RestingECG='Normal', MaxHR='123', ExerciseAngina='Y', Oldpeak='1.2', ST_Slope='Flat', HeartDisease='1'),\n",
       " Row(Age='59', Sex='M', ChestPainType='ASY', RestingBP='154', Cholesterol='0', FastingBS='0', RestingECG='ST', MaxHR='131', ExerciseAngina='Y', Oldpeak='1.5', ST_Slope='Up', HeartDisease='0'),\n",
       " Row(Age='61', Sex='M', ChestPainType='NAP', RestingBP='120', Cholesterol='0', FastingBS='0', RestingECG='Normal', MaxHR='80', ExerciseAngina='Y', Oldpeak='0', ST_Slope='Flat', HeartDisease='1'),\n",
       " Row(Age='40', Sex='M', ChestPainType='ASY', RestingBP='125', Cholesterol='0', FastingBS='1', RestingECG='Normal', MaxHR='165', ExerciseAngina='N', Oldpeak='0', ST_Slope='Flat', HeartDisease='1'),\n",
       " Row(Age='61', Sex='M', ChestPainType='ASY', RestingBP='134', Cholesterol='0', FastingBS='1', RestingECG='ST', MaxHR='86', ExerciseAngina='N', Oldpeak='1.5', ST_Slope='Flat', HeartDisease='1'),\n",
       " Row(Age='41', Sex='M', ChestPainType='ASY', RestingBP='104', Cholesterol='0', FastingBS='0', RestingECG='ST', MaxHR='111', ExerciseAngina='N', Oldpeak='0', ST_Slope='Up', HeartDisease='0'),\n",
       " Row(Age='57', Sex='M', ChestPainType='ASY', RestingBP='139', Cholesterol='277', FastingBS='1', RestingECG='ST', MaxHR='118', ExerciseAngina='Y', Oldpeak='1.9', ST_Slope='Flat', HeartDisease='1'),\n",
       " Row(Age='63', Sex='M', ChestPainType='ASY', RestingBP='136', Cholesterol='0', FastingBS='0', RestingECG='Normal', MaxHR='84', ExerciseAngina='Y', Oldpeak='0', ST_Slope='Flat', HeartDisease='1'),\n",
       " Row(Age='59', Sex='M', ChestPainType='ASY', RestingBP='122', Cholesterol='233', FastingBS='0', RestingECG='Normal', MaxHR='117', ExerciseAngina='Y', Oldpeak='1.3', ST_Slope='Down', HeartDisease='1'),\n",
       " Row(Age='51', Sex='M', ChestPainType='ASY', RestingBP='128', Cholesterol='0', FastingBS='0', RestingECG='Normal', MaxHR='107', ExerciseAngina='N', Oldpeak='0', ST_Slope='Up', HeartDisease='0'),\n",
       " Row(Age='59', Sex='M', ChestPainType='NAP', RestingBP='131', Cholesterol='0', FastingBS='0', RestingECG='Normal', MaxHR='128', ExerciseAngina='Y', Oldpeak='2', ST_Slope='Down', HeartDisease='1'),\n",
       " Row(Age='42', Sex='M', ChestPainType='NAP', RestingBP='134', Cholesterol='240', FastingBS='0', RestingECG='Normal', MaxHR='160', ExerciseAngina='N', Oldpeak='0', ST_Slope='Up', HeartDisease='0'),\n",
       " Row(Age='55', Sex='M', ChestPainType='NAP', RestingBP='120', Cholesterol='0', FastingBS='0', RestingECG='ST', MaxHR='125', ExerciseAngina='Y', Oldpeak='2.5', ST_Slope='Flat', HeartDisease='1'),\n",
       " Row(Age='63', Sex='F', ChestPainType='ATA', RestingBP='132', Cholesterol='0', FastingBS='0', RestingECG='Normal', MaxHR='130', ExerciseAngina='N', Oldpeak='0.1', ST_Slope='Up', HeartDisease='0'),\n",
       " Row(Age='62', Sex='M', ChestPainType='ASY', RestingBP='152', Cholesterol='153', FastingBS='0', RestingECG='ST', MaxHR='97', ExerciseAngina='Y', Oldpeak='1.6', ST_Slope='Up', HeartDisease='1'),\n",
       " Row(Age='56', Sex='M', ChestPainType='ATA', RestingBP='124', Cholesterol='224', FastingBS='1', RestingECG='Normal', MaxHR='161', ExerciseAngina='N', Oldpeak='2', ST_Slope='Flat', HeartDisease='0'),\n",
       " Row(Age='53', Sex='M', ChestPainType='ASY', RestingBP='126', Cholesterol='0', FastingBS='0', RestingECG='Normal', MaxHR='106', ExerciseAngina='N', Oldpeak='0', ST_Slope='Flat', HeartDisease='1'),\n",
       " Row(Age='68', Sex='M', ChestPainType='ASY', RestingBP='138', Cholesterol='0', FastingBS='0', RestingECG='Normal', MaxHR='130', ExerciseAngina='Y', Oldpeak='3', ST_Slope='Flat', HeartDisease='1'),\n",
       " Row(Age='53', Sex='M', ChestPainType='ASY', RestingBP='154', Cholesterol='0', FastingBS='1', RestingECG='ST', MaxHR='140', ExerciseAngina='Y', Oldpeak='1.5', ST_Slope='Flat', HeartDisease='1'),\n",
       " Row(Age='60', Sex='M', ChestPainType='NAP', RestingBP='141', Cholesterol='316', FastingBS='1', RestingECG='ST', MaxHR='122', ExerciseAngina='Y', Oldpeak='1.7', ST_Slope='Flat', HeartDisease='1'),\n",
       " Row(Age='62', Sex='M', ChestPainType='ATA', RestingBP='131', Cholesterol='0', FastingBS='0', RestingECG='Normal', MaxHR='130', ExerciseAngina='N', Oldpeak='0.1', ST_Slope='Up', HeartDisease='0'),\n",
       " Row(Age='59', Sex='M', ChestPainType='ASY', RestingBP='178', Cholesterol='0', FastingBS='1', RestingECG='LVH', MaxHR='120', ExerciseAngina='Y', Oldpeak='0', ST_Slope='Flat', HeartDisease='1'),\n",
       " Row(Age='51', Sex='M', ChestPainType='ASY', RestingBP='132', Cholesterol='218', FastingBS='1', RestingECG='LVH', MaxHR='139', ExerciseAngina='N', Oldpeak='0.1', ST_Slope='Up', HeartDisease='0'),\n",
       " Row(Age='61', Sex='M', ChestPainType='ASY', RestingBP='110', Cholesterol='0', FastingBS='1', RestingECG='Normal', MaxHR='108', ExerciseAngina='Y', Oldpeak='2', ST_Slope='Down', HeartDisease='1'),\n",
       " Row(Age='57', Sex='M', ChestPainType='ASY', RestingBP='130', Cholesterol='311', FastingBS='1', RestingECG='ST', MaxHR='148', ExerciseAngina='Y', Oldpeak='2', ST_Slope='Flat', HeartDisease='1'),\n",
       " Row(Age='56', Sex='M', ChestPainType='NAP', RestingBP='170', Cholesterol='0', FastingBS='0', RestingECG='LVH', MaxHR='123', ExerciseAngina='Y', Oldpeak='2.5', ST_Slope='Flat', HeartDisease='1'),\n",
       " Row(Age='58', Sex='M', ChestPainType='ATA', RestingBP='126', Cholesterol='0', FastingBS='1', RestingECG='Normal', MaxHR='110', ExerciseAngina='Y', Oldpeak='2', ST_Slope='Flat', HeartDisease='1'),\n",
       " Row(Age='69', Sex='M', ChestPainType='NAP', RestingBP='140', Cholesterol='0', FastingBS='1', RestingECG='ST', MaxHR='118', ExerciseAngina='N', Oldpeak='2.5', ST_Slope='Down', HeartDisease='1'),\n",
       " Row(Age='67', Sex='M', ChestPainType='TA', RestingBP='142', Cholesterol='270', FastingBS='1', RestingECG='Normal', MaxHR='125', ExerciseAngina='N', Oldpeak='2.5', ST_Slope='Up', HeartDisease='1'),\n",
       " Row(Age='58', Sex='M', ChestPainType='ASY', RestingBP='120', Cholesterol='0', FastingBS='0', RestingECG='LVH', MaxHR='106', ExerciseAngina='Y', Oldpeak='1.5', ST_Slope='Down', HeartDisease='1'),\n",
       " Row(Age='65', Sex='M', ChestPainType='ASY', RestingBP='134', Cholesterol='0', FastingBS='0', RestingECG='Normal', MaxHR='112', ExerciseAngina='Y', Oldpeak='1.1', ST_Slope='Flat', HeartDisease='1'),\n",
       " Row(Age='63', Sex='M', ChestPainType='ATA', RestingBP='139', Cholesterol='217', FastingBS='1', RestingECG='ST', MaxHR='128', ExerciseAngina='Y', Oldpeak='1.2', ST_Slope='Flat', HeartDisease='1'),\n",
       " Row(Age='55', Sex='M', ChestPainType='ATA', RestingBP='110', Cholesterol='214', FastingBS='1', RestingECG='ST', MaxHR='180', ExerciseAngina='N', Oldpeak='0.4', ST_Slope='Up', HeartDisease='0'),\n",
       " Row(Age='57', Sex='M', ChestPainType='ASY', RestingBP='140', Cholesterol='214', FastingBS='0', RestingECG='ST', MaxHR='144', ExerciseAngina='Y', Oldpeak='2', ST_Slope='Flat', HeartDisease='1'),\n",
       " Row(Age='65', Sex='M', ChestPainType='TA', RestingBP='140', Cholesterol='252', FastingBS='0', RestingECG='Normal', MaxHR='135', ExerciseAngina='N', Oldpeak='0.3', ST_Slope='Up', HeartDisease='0'),\n",
       " Row(Age='54', Sex='M', ChestPainType='ASY', RestingBP='136', Cholesterol='220', FastingBS='0', RestingECG='Normal', MaxHR='140', ExerciseAngina='Y', Oldpeak='3', ST_Slope='Flat', HeartDisease='1'),\n",
       " Row(Age='72', Sex='M', ChestPainType='NAP', RestingBP='120', Cholesterol='214', FastingBS='0', RestingECG='Normal', MaxHR='102', ExerciseAngina='Y', Oldpeak='1', ST_Slope='Flat', HeartDisease='1'),\n",
       " Row(Age='75', Sex='M', ChestPainType='ASY', RestingBP='170', Cholesterol='203', FastingBS='1', RestingECG='ST', MaxHR='108', ExerciseAngina='N', Oldpeak='0', ST_Slope='Flat', HeartDisease='1'),\n",
       " Row(Age='49', Sex='M', ChestPainType='TA', RestingBP='130', Cholesterol='0', FastingBS='0', RestingECG='ST', MaxHR='145', ExerciseAngina='N', Oldpeak='3', ST_Slope='Flat', HeartDisease='1'),\n",
       " Row(Age='51', Sex='M', ChestPainType='NAP', RestingBP='137', Cholesterol='339', FastingBS='0', RestingECG='Normal', MaxHR='127', ExerciseAngina='Y', Oldpeak='1.7', ST_Slope='Flat', HeartDisease='1'),\n",
       " Row(Age='60', Sex='M', ChestPainType='ASY', RestingBP='142', Cholesterol='216', FastingBS='0', RestingECG='Normal', MaxHR='110', ExerciseAngina='Y', Oldpeak='2.5', ST_Slope='Flat', HeartDisease='1'),\n",
       " Row(Age='64', Sex='F', ChestPainType='ASY', RestingBP='142', Cholesterol='276', FastingBS='0', RestingECG='Normal', MaxHR='140', ExerciseAngina='Y', Oldpeak='1', ST_Slope='Flat', HeartDisease='1'),\n",
       " Row(Age='58', Sex='M', ChestPainType='ASY', RestingBP='132', Cholesterol='458', FastingBS='1', RestingECG='Normal', MaxHR='69', ExerciseAngina='N', Oldpeak='1', ST_Slope='Down', HeartDisease='0'),\n",
       " Row(Age='61', Sex='M', ChestPainType='ASY', RestingBP='146', Cholesterol='241', FastingBS='0', RestingECG='Normal', MaxHR='148', ExerciseAngina='Y', Oldpeak='3', ST_Slope='Down', HeartDisease='1'),\n",
       " Row(Age='67', Sex='M', ChestPainType='ASY', RestingBP='160', Cholesterol='384', FastingBS='1', RestingECG='ST', MaxHR='130', ExerciseAngina='Y', Oldpeak='0', ST_Slope='Flat', HeartDisease='1'),\n",
       " Row(Age='62', Sex='M', ChestPainType='ASY', RestingBP='135', Cholesterol='297', FastingBS='0', RestingECG='Normal', MaxHR='130', ExerciseAngina='Y', Oldpeak='1', ST_Slope='Flat', HeartDisease='1'),\n",
       " Row(Age='65', Sex='M', ChestPainType='ASY', RestingBP='136', Cholesterol='248', FastingBS='0', RestingECG='Normal', MaxHR='140', ExerciseAngina='Y', Oldpeak='4', ST_Slope='Down', HeartDisease='1'),\n",
       " Row(Age='63', Sex='M', ChestPainType='ASY', RestingBP='130', Cholesterol='308', FastingBS='0', RestingECG='Normal', MaxHR='138', ExerciseAngina='Y', Oldpeak='2', ST_Slope='Flat', HeartDisease='1'),\n",
       " Row(Age='69', Sex='M', ChestPainType='ASY', RestingBP='140', Cholesterol='208', FastingBS='0', RestingECG='ST', MaxHR='140', ExerciseAngina='Y', Oldpeak='2', ST_Slope='Flat', HeartDisease='1'),\n",
       " Row(Age='51', Sex='M', ChestPainType='ASY', RestingBP='132', Cholesterol='227', FastingBS='1', RestingECG='ST', MaxHR='138', ExerciseAngina='N', Oldpeak='0.2', ST_Slope='Up', HeartDisease='0'),\n",
       " Row(Age='62', Sex='M', ChestPainType='ASY', RestingBP='158', Cholesterol='210', FastingBS='1', RestingECG='Normal', MaxHR='112', ExerciseAngina='Y', Oldpeak='3', ST_Slope='Down', HeartDisease='1'),\n",
       " Row(Age='55', Sex='M', ChestPainType='NAP', RestingBP='136', Cholesterol='245', FastingBS='1', RestingECG='ST', MaxHR='131', ExerciseAngina='Y', Oldpeak='1.2', ST_Slope='Flat', HeartDisease='1'),\n",
       " Row(Age='75', Sex='M', ChestPainType='ASY', RestingBP='136', Cholesterol='225', FastingBS='0', RestingECG='Normal', MaxHR='112', ExerciseAngina='Y', Oldpeak='3', ST_Slope='Flat', HeartDisease='1'),\n",
       " Row(Age='40', Sex='M', ChestPainType='NAP', RestingBP='106', Cholesterol='240', FastingBS='0', RestingECG='Normal', MaxHR='80', ExerciseAngina='Y', Oldpeak='0', ST_Slope='Up', HeartDisease='0'),\n",
       " Row(Age='67', Sex='M', ChestPainType='ASY', RestingBP='120', Cholesterol='0', FastingBS='1', RestingECG='Normal', MaxHR='150', ExerciseAngina='N', Oldpeak='1.5', ST_Slope='Down', HeartDisease='1'),\n",
       " Row(Age='58', Sex='M', ChestPainType='ASY', RestingBP='110', Cholesterol='198', FastingBS='0', RestingECG='Normal', MaxHR='110', ExerciseAngina='N', Oldpeak='0', ST_Slope='Flat', HeartDisease='1'),\n",
       " Row(Age='60', Sex='M', ChestPainType='ASY', RestingBP='136', Cholesterol='195', FastingBS='0', RestingECG='Normal', MaxHR='126', ExerciseAngina='N', Oldpeak='0.3', ST_Slope='Up', HeartDisease='0'),\n",
       " Row(Age='63', Sex='M', ChestPainType='ASY', RestingBP='160', Cholesterol='267', FastingBS='1', RestingECG='ST', MaxHR='88', ExerciseAngina='Y', Oldpeak='2', ST_Slope='Flat', HeartDisease='1'),\n",
       " Row(Age='35', Sex='M', ChestPainType='NAP', RestingBP='123', Cholesterol='161', FastingBS='0', RestingECG='ST', MaxHR='153', ExerciseAngina='N', Oldpeak='-0.1', ST_Slope='Up', HeartDisease='0'),\n",
       " Row(Age='62', Sex='M', ChestPainType='TA', RestingBP='112', Cholesterol='258', FastingBS='0', RestingECG='ST', MaxHR='150', ExerciseAngina='Y', Oldpeak='1.3', ST_Slope='Flat', HeartDisease='1'),\n",
       " Row(Age='43', Sex='M', ChestPainType='ASY', RestingBP='122', Cholesterol='0', FastingBS='0', RestingECG='Normal', MaxHR='120', ExerciseAngina='N', Oldpeak='0.5', ST_Slope='Up', HeartDisease='1'),\n",
       " Row(Age='63', Sex='M', ChestPainType='NAP', RestingBP='130', Cholesterol='0', FastingBS='1', RestingECG='ST', MaxHR='160', ExerciseAngina='N', Oldpeak='3', ST_Slope='Flat', HeartDisease='0'),\n",
       " Row(Age='68', Sex='M', ChestPainType='NAP', RestingBP='150', Cholesterol='195', FastingBS='1', RestingECG='Normal', MaxHR='132', ExerciseAngina='N', Oldpeak='0', ST_Slope='Flat', HeartDisease='1'),\n",
       " Row(Age='65', Sex='M', ChestPainType='ASY', RestingBP='150', Cholesterol='235', FastingBS='0', RestingECG='Normal', MaxHR='120', ExerciseAngina='Y', Oldpeak='1.5', ST_Slope='Flat', HeartDisease='1'),\n",
       " Row(Age='48', Sex='M', ChestPainType='NAP', RestingBP='102', Cholesterol='0', FastingBS='1', RestingECG='ST', MaxHR='110', ExerciseAngina='Y', Oldpeak='1', ST_Slope='Down', HeartDisease='1'),\n",
       " Row(Age='63', Sex='M', ChestPainType='ASY', RestingBP='96', Cholesterol='305', FastingBS='0', RestingECG='ST', MaxHR='121', ExerciseAngina='Y', Oldpeak='1', ST_Slope='Up', HeartDisease='1'),\n",
       " Row(Age='64', Sex='M', ChestPainType='ASY', RestingBP='130', Cholesterol='223', FastingBS='0', RestingECG='ST', MaxHR='128', ExerciseAngina='N', Oldpeak='0.5', ST_Slope='Flat', HeartDisease='0'),\n",
       " Row(Age='61', Sex='M', ChestPainType='ASY', RestingBP='120', Cholesterol='282', FastingBS='0', RestingECG='ST', MaxHR='135', ExerciseAngina='Y', Oldpeak='4', ST_Slope='Down', HeartDisease='1'),\n",
       " Row(Age='50', Sex='M', ChestPainType='ASY', RestingBP='144', Cholesterol='349', FastingBS='0', RestingECG='LVH', MaxHR='120', ExerciseAngina='Y', Oldpeak='1', ST_Slope='Up', HeartDisease='1'),\n",
       " Row(Age='59', Sex='M', ChestPainType='ASY', RestingBP='124', Cholesterol='160', FastingBS='0', RestingECG='Normal', MaxHR='117', ExerciseAngina='Y', Oldpeak='1', ST_Slope='Flat', HeartDisease='1'),\n",
       " Row(Age='55', Sex='M', ChestPainType='ASY', RestingBP='150', Cholesterol='160', FastingBS='0', RestingECG='ST', MaxHR='150', ExerciseAngina='N', Oldpeak='0', ST_Slope='Up', HeartDisease='0'),\n",
       " Row(Age='45', Sex='M', ChestPainType='NAP', RestingBP='130', Cholesterol='236', FastingBS='0', RestingECG='Normal', MaxHR='144', ExerciseAngina='N', Oldpeak='0.1', ST_Slope='Up', HeartDisease='0'),\n",
       " Row(Age='65', Sex='M', ChestPainType='ASY', RestingBP='144', Cholesterol='312', FastingBS='0', RestingECG='LVH', MaxHR='113', ExerciseAngina='Y', Oldpeak='1.7', ST_Slope='Flat', HeartDisease='1'),\n",
       " Row(Age='61', Sex='M', ChestPainType='ATA', RestingBP='139', Cholesterol='283', FastingBS='0', RestingECG='Normal', MaxHR='135', ExerciseAngina='N', Oldpeak='0.3', ST_Slope='Up', HeartDisease='0'),\n",
       " Row(Age='49', Sex='M', ChestPainType='NAP', RestingBP='131', Cholesterol='142', FastingBS='0', RestingECG='Normal', MaxHR='127', ExerciseAngina='Y', Oldpeak='1.5', ST_Slope='Flat', HeartDisease='1'),\n",
       " Row(Age='72', Sex='M', ChestPainType='ASY', RestingBP='143', Cholesterol='211', FastingBS='0', RestingECG='Normal', MaxHR='109', ExerciseAngina='Y', Oldpeak='1.4', ST_Slope='Flat', HeartDisease='1'),\n",
       " Row(Age='50', Sex='M', ChestPainType='ASY', RestingBP='133', Cholesterol='218', FastingBS='0', RestingECG='Normal', MaxHR='128', ExerciseAngina='Y', Oldpeak='1.1', ST_Slope='Flat', HeartDisease='1'),\n",
       " Row(Age='64', Sex='M', ChestPainType='ASY', RestingBP='143', Cholesterol='306', FastingBS='1', RestingECG='ST', MaxHR='115', ExerciseAngina='Y', Oldpeak='1.8', ST_Slope='Flat', HeartDisease='1'),\n",
       " Row(Age='55', Sex='M', ChestPainType='ASY', RestingBP='116', Cholesterol='186', FastingBS='1', RestingECG='ST', MaxHR='102', ExerciseAngina='N', Oldpeak='0', ST_Slope='Flat', HeartDisease='1'),\n",
       " Row(Age='63', Sex='M', ChestPainType='ASY', RestingBP='110', Cholesterol='252', FastingBS='0', RestingECG='ST', MaxHR='140', ExerciseAngina='Y', Oldpeak='2', ST_Slope='Flat', HeartDisease='1'),\n",
       " Row(Age='59', Sex='M', ChestPainType='ASY', RestingBP='125', Cholesterol='222', FastingBS='0', RestingECG='Normal', MaxHR='135', ExerciseAngina='Y', Oldpeak='2.5', ST_Slope='Down', HeartDisease='1'),\n",
       " Row(Age='56', Sex='M', ChestPainType='ASY', RestingBP='130', Cholesterol='0', FastingBS='0', RestingECG='LVH', MaxHR='122', ExerciseAngina='Y', Oldpeak='1', ST_Slope='Flat', HeartDisease='1'),\n",
       " Row(Age='62', Sex='M', ChestPainType='NAP', RestingBP='133', Cholesterol='0', FastingBS='1', RestingECG='ST', MaxHR='119', ExerciseAngina='Y', Oldpeak='1.2', ST_Slope='Flat', HeartDisease='1'),\n",
       " Row(Age='74', Sex='M', ChestPainType='ASY', RestingBP='150', Cholesterol='258', FastingBS='1', RestingECG='ST', MaxHR='130', ExerciseAngina='Y', Oldpeak='4', ST_Slope='Down', HeartDisease='1'),\n",
       " Row(Age='54', Sex='M', ChestPainType='ASY', RestingBP='130', Cholesterol='202', FastingBS='1', RestingECG='Normal', MaxHR='112', ExerciseAngina='Y', Oldpeak='2', ST_Slope='Flat', HeartDisease='1'),\n",
       " Row(Age='57', Sex='M', ChestPainType='ASY', RestingBP='110', Cholesterol='197', FastingBS='0', RestingECG='LVH', MaxHR='100', ExerciseAngina='N', Oldpeak='0', ST_Slope='Up', HeartDisease='0'),\n",
       " Row(Age='62', Sex='M', ChestPainType='NAP', RestingBP='138', Cholesterol='204', FastingBS='0', RestingECG='ST', MaxHR='122', ExerciseAngina='Y', Oldpeak='1.2', ST_Slope='Flat', HeartDisease='1'),\n",
       " Row(Age='76', Sex='M', ChestPainType='NAP', RestingBP='104', Cholesterol='113', FastingBS='0', RestingECG='LVH', MaxHR='120', ExerciseAngina='N', Oldpeak='3.5', ST_Slope='Down', HeartDisease='1'),\n",
       " Row(Age='54', Sex='F', ChestPainType='ASY', RestingBP='138', Cholesterol='274', FastingBS='0', RestingECG='Normal', MaxHR='105', ExerciseAngina='Y', Oldpeak='1.5', ST_Slope='Flat', HeartDisease='1'),\n",
       " Row(Age='70', Sex='M', ChestPainType='ASY', RestingBP='170', Cholesterol='192', FastingBS='0', RestingECG='ST', MaxHR='129', ExerciseAngina='Y', Oldpeak='3', ST_Slope='Down', HeartDisease='1'),\n",
       " Row(Age='61', Sex='F', ChestPainType='ATA', RestingBP='140', Cholesterol='298', FastingBS='1', RestingECG='Normal', MaxHR='120', ExerciseAngina='Y', Oldpeak='0', ST_Slope='Up', HeartDisease='0'),\n",
       " Row(Age='48', Sex='M', ChestPainType='ASY', RestingBP='132', Cholesterol='272', FastingBS='0', RestingECG='ST', MaxHR='139', ExerciseAngina='N', Oldpeak='0.2', ST_Slope='Up', HeartDisease='0'),\n",
       " Row(Age='48', Sex='M', ChestPainType='NAP', RestingBP='132', Cholesterol='220', FastingBS='1', RestingECG='ST', MaxHR='162', ExerciseAngina='N', Oldpeak='0', ST_Slope='Flat', HeartDisease='1'),\n",
       " Row(Age='61', Sex='M', ChestPainType='TA', RestingBP='142', Cholesterol='200', FastingBS='1', RestingECG='ST', MaxHR='100', ExerciseAngina='N', Oldpeak='1.5', ST_Slope='Down', HeartDisease='1'),\n",
       " Row(Age='66', Sex='M', ChestPainType='ASY', RestingBP='112', Cholesterol='261', FastingBS='0', RestingECG='Normal', MaxHR='140', ExerciseAngina='N', Oldpeak='1.5', ST_Slope='Up', HeartDisease='1'),\n",
       " Row(Age='68', Sex='M', ChestPainType='TA', RestingBP='139', Cholesterol='181', FastingBS='1', RestingECG='ST', MaxHR='135', ExerciseAngina='N', Oldpeak='0.2', ST_Slope='Up', HeartDisease='0'),\n",
       " Row(Age='55', Sex='M', ChestPainType='ASY', RestingBP='172', Cholesterol='260', FastingBS='0', RestingECG='Normal', MaxHR='73', ExerciseAngina='N', Oldpeak='2', ST_Slope='Flat', HeartDisease='1'),\n",
       " Row(Age='62', Sex='M', ChestPainType='NAP', RestingBP='120', Cholesterol='220', FastingBS='0', RestingECG='LVH', MaxHR='86', ExerciseAngina='N', Oldpeak='0', ST_Slope='Up', HeartDisease='0'),\n",
       " Row(Age='71', Sex='M', ChestPainType='NAP', RestingBP='144', Cholesterol='221', FastingBS='0', RestingECG='Normal', MaxHR='108', ExerciseAngina='Y', Oldpeak='1.8', ST_Slope='Flat', HeartDisease='1'),\n",
       " Row(Age='74', Sex='M', ChestPainType='TA', RestingBP='145', Cholesterol='216', FastingBS='1', RestingECG='Normal', MaxHR='116', ExerciseAngina='Y', Oldpeak='1.8', ST_Slope='Flat', HeartDisease='1'),\n",
       " Row(Age='53', Sex='M', ChestPainType='NAP', RestingBP='155', Cholesterol='175', FastingBS='1', RestingECG='ST', MaxHR='160', ExerciseAngina='N', Oldpeak='0.3', ST_Slope='Up', HeartDisease='0'),\n",
       " Row(Age='58', Sex='M', ChestPainType='NAP', RestingBP='150', Cholesterol='219', FastingBS='0', RestingECG='ST', MaxHR='118', ExerciseAngina='Y', Oldpeak='0', ST_Slope='Flat', HeartDisease='1'),\n",
       " Row(Age='75', Sex='M', ChestPainType='ASY', RestingBP='160', Cholesterol='310', FastingBS='1', RestingECG='Normal', MaxHR='112', ExerciseAngina='Y', Oldpeak='2', ST_Slope='Down', HeartDisease='0'),\n",
       " Row(Age='56', Sex='M', ChestPainType='NAP', RestingBP='137', Cholesterol='208', FastingBS='1', RestingECG='ST', MaxHR='122', ExerciseAngina='Y', Oldpeak='1.8', ST_Slope='Flat', HeartDisease='1'),\n",
       " Row(Age='58', Sex='M', ChestPainType='NAP', RestingBP='137', Cholesterol='232', FastingBS='0', RestingECG='ST', MaxHR='124', ExerciseAngina='Y', Oldpeak='1.4', ST_Slope='Flat', HeartDisease='1'),\n",
       " Row(Age='64', Sex='M', ChestPainType='ASY', RestingBP='134', Cholesterol='273', FastingBS='0', RestingECG='Normal', MaxHR='102', ExerciseAngina='Y', Oldpeak='4', ST_Slope='Down', HeartDisease='1'),\n",
       " Row(Age='54', Sex='M', ChestPainType='NAP', RestingBP='133', Cholesterol='203', FastingBS='0', RestingECG='ST', MaxHR='137', ExerciseAngina='N', Oldpeak='0.2', ST_Slope='Up', HeartDisease='0'),\n",
       " Row(Age='54', Sex='M', ChestPainType='ATA', RestingBP='132', Cholesterol='182', FastingBS='0', RestingECG='ST', MaxHR='141', ExerciseAngina='N', Oldpeak='0.1', ST_Slope='Up', HeartDisease='0'),\n",
       " Row(Age='59', Sex='M', ChestPainType='ASY', RestingBP='140', Cholesterol='274', FastingBS='0', RestingECG='Normal', MaxHR='154', ExerciseAngina='Y', Oldpeak='2', ST_Slope='Flat', HeartDisease='0'),\n",
       " Row(Age='55', Sex='M', ChestPainType='ASY', RestingBP='135', Cholesterol='204', FastingBS='1', RestingECG='ST', MaxHR='126', ExerciseAngina='Y', Oldpeak='1.1', ST_Slope='Flat', HeartDisease='1'),\n",
       " Row(Age='57', Sex='M', ChestPainType='ASY', RestingBP='144', Cholesterol='270', FastingBS='1', RestingECG='ST', MaxHR='160', ExerciseAngina='Y', Oldpeak='2', ST_Slope='Flat', HeartDisease='1'),\n",
       " Row(Age='61', Sex='M', ChestPainType='ASY', RestingBP='141', Cholesterol='292', FastingBS='0', RestingECG='ST', MaxHR='115', ExerciseAngina='Y', Oldpeak='1.7', ST_Slope='Flat', HeartDisease='1'),\n",
       " Row(Age='41', Sex='M', ChestPainType='ASY', RestingBP='150', Cholesterol='171', FastingBS='0', RestingECG='Normal', MaxHR='128', ExerciseAngina='Y', Oldpeak='1.5', ST_Slope='Flat', HeartDisease='0'),\n",
       " Row(Age='71', Sex='M', ChestPainType='ASY', RestingBP='130', Cholesterol='221', FastingBS='0', RestingECG='ST', MaxHR='115', ExerciseAngina='Y', Oldpeak='0', ST_Slope='Flat', HeartDisease='1'),\n",
       " Row(Age='38', Sex='M', ChestPainType='ASY', RestingBP='110', Cholesterol='289', FastingBS='0', RestingECG='Normal', MaxHR='105', ExerciseAngina='Y', Oldpeak='1.5', ST_Slope='Down', HeartDisease='1'),\n",
       " Row(Age='55', Sex='M', ChestPainType='ASY', RestingBP='158', Cholesterol='217', FastingBS='0', RestingECG='Normal', MaxHR='110', ExerciseAngina='Y', Oldpeak='2.5', ST_Slope='Flat', HeartDisease='1'),\n",
       " Row(Age='56', Sex='M', ChestPainType='ASY', RestingBP='128', Cholesterol='223', FastingBS='0', RestingECG='ST', MaxHR='119', ExerciseAngina='Y', Oldpeak='2', ST_Slope='Down', HeartDisease='1'),\n",
       " Row(Age='69', Sex='M', ChestPainType='ASY', RestingBP='140', Cholesterol='110', FastingBS='1', RestingECG='Normal', MaxHR='109', ExerciseAngina='Y', Oldpeak='1.5', ST_Slope='Flat', HeartDisease='1'),\n",
       " Row(Age='64', Sex='M', ChestPainType='ASY', RestingBP='150', Cholesterol='193', FastingBS='0', RestingECG='ST', MaxHR='135', ExerciseAngina='Y', Oldpeak='0.5', ST_Slope='Flat', HeartDisease='1'),\n",
       " Row(Age='72', Sex='M', ChestPainType='ASY', RestingBP='160', Cholesterol='123', FastingBS='1', RestingECG='LVH', MaxHR='130', ExerciseAngina='N', Oldpeak='1.5', ST_Slope='Flat', HeartDisease='1'),\n",
       " Row(Age='69', Sex='M', ChestPainType='ASY', RestingBP='142', Cholesterol='210', FastingBS='1', RestingECG='ST', MaxHR='112', ExerciseAngina='Y', Oldpeak='1.5', ST_Slope='Flat', HeartDisease='1'),\n",
       " Row(Age='56', Sex='M', ChestPainType='ASY', RestingBP='137', Cholesterol='282', FastingBS='1', RestingECG='Normal', MaxHR='126', ExerciseAngina='Y', Oldpeak='1.2', ST_Slope='Flat', HeartDisease='1'),\n",
       " Row(Age='62', Sex='M', ChestPainType='ASY', RestingBP='139', Cholesterol='170', FastingBS='0', RestingECG='ST', MaxHR='120', ExerciseAngina='Y', Oldpeak='3', ST_Slope='Flat', HeartDisease='1'),\n",
       " Row(Age='67', Sex='M', ChestPainType='ASY', RestingBP='146', Cholesterol='369', FastingBS='0', RestingECG='Normal', MaxHR='110', ExerciseAngina='Y', Oldpeak='1.9', ST_Slope='Flat', HeartDisease='1'),\n",
       " Row(Age='57', Sex='M', ChestPainType='ASY', RestingBP='156', Cholesterol='173', FastingBS='0', RestingECG='LVH', MaxHR='119', ExerciseAngina='Y', Oldpeak='3', ST_Slope='Down', HeartDisease='1'),\n",
       " Row(Age='69', Sex='M', ChestPainType='ASY', RestingBP='145', Cholesterol='289', FastingBS='1', RestingECG='ST', MaxHR='110', ExerciseAngina='Y', Oldpeak='1.8', ST_Slope='Flat', HeartDisease='1'),\n",
       " Row(Age='51', Sex='M', ChestPainType='ASY', RestingBP='131', Cholesterol='152', FastingBS='1', RestingECG='LVH', MaxHR='130', ExerciseAngina='Y', Oldpeak='1', ST_Slope='Flat', HeartDisease='1'),\n",
       " Row(Age='48', Sex='M', ChestPainType='ASY', RestingBP='140', Cholesterol='208', FastingBS='0', RestingECG='Normal', MaxHR='159', ExerciseAngina='Y', Oldpeak='1.5', ST_Slope='Up', HeartDisease='1'),\n",
       " Row(Age='69', Sex='M', ChestPainType='ASY', RestingBP='122', Cholesterol='216', FastingBS='1', RestingECG='LVH', MaxHR='84', ExerciseAngina='Y', Oldpeak='0', ST_Slope='Flat', HeartDisease='1'),\n",
       " Row(Age='69', Sex='M', ChestPainType='NAP', RestingBP='142', Cholesterol='271', FastingBS='0', RestingECG='LVH', MaxHR='126', ExerciseAngina='N', Oldpeak='0.3', ST_Slope='Up', HeartDisease='0'),\n",
       " Row(Age='64', Sex='M', ChestPainType='ASY', RestingBP='141', Cholesterol='244', FastingBS='1', RestingECG='ST', MaxHR='116', ExerciseAngina='Y', Oldpeak='1.5', ST_Slope='Flat', HeartDisease='1'),\n",
       " Row(Age='57', Sex='M', ChestPainType='ATA', RestingBP='180', Cholesterol='285', FastingBS='1', RestingECG='ST', MaxHR='120', ExerciseAngina='N', Oldpeak='0.8', ST_Slope='Flat', HeartDisease='1'),\n",
       " Row(Age='53', Sex='M', ChestPainType='ASY', RestingBP='124', Cholesterol='243', FastingBS='0', RestingECG='Normal', MaxHR='122', ExerciseAngina='Y', Oldpeak='2', ST_Slope='Flat', HeartDisease='1'),\n",
       " Row(Age='37', Sex='M', ChestPainType='NAP', RestingBP='118', Cholesterol='240', FastingBS='0', RestingECG='LVH', MaxHR='165', ExerciseAngina='N', Oldpeak='1', ST_Slope='Flat', HeartDisease='0'),\n",
       " Row(Age='67', Sex='M', ChestPainType='ASY', RestingBP='140', Cholesterol='219', FastingBS='0', RestingECG='ST', MaxHR='122', ExerciseAngina='Y', Oldpeak='2', ST_Slope='Flat', HeartDisease='1'),\n",
       " Row(Age='74', Sex='M', ChestPainType='NAP', RestingBP='140', Cholesterol='237', FastingBS='1', RestingECG='Normal', MaxHR='94', ExerciseAngina='N', Oldpeak='0', ST_Slope='Flat', HeartDisease='1'),\n",
       " Row(Age='63', Sex='M', ChestPainType='ATA', RestingBP='136', Cholesterol='165', FastingBS='0', RestingECG='ST', MaxHR='133', ExerciseAngina='N', Oldpeak='0.2', ST_Slope='Up', HeartDisease='0'),\n",
       " Row(Age='58', Sex='M', ChestPainType='ASY', RestingBP='100', Cholesterol='213', FastingBS='0', RestingECG='ST', MaxHR='110', ExerciseAngina='N', Oldpeak='0', ST_Slope='Up', HeartDisease='0'),\n",
       " Row(Age='61', Sex='M', ChestPainType='ASY', RestingBP='190', Cholesterol='287', FastingBS='1', RestingECG='LVH', MaxHR='150', ExerciseAngina='Y', Oldpeak='2', ST_Slope='Down', HeartDisease='1'),\n",
       " Row(Age='64', Sex='M', ChestPainType='ASY', RestingBP='130', Cholesterol='258', FastingBS='1', RestingECG='LVH', MaxHR='130', ExerciseAngina='N', Oldpeak='0', ST_Slope='Flat', HeartDisease='1'),\n",
       " Row(Age='58', Sex='M', ChestPainType='ASY', RestingBP='160', Cholesterol='256', FastingBS='1', RestingECG='LVH', MaxHR='113', ExerciseAngina='Y', Oldpeak='1', ST_Slope='Up', HeartDisease='1'),\n",
       " Row(Age='60', Sex='M', ChestPainType='ASY', RestingBP='130', Cholesterol='186', FastingBS='1', RestingECG='LVH', MaxHR='140', ExerciseAngina='Y', Oldpeak='0.5', ST_Slope='Flat', HeartDisease='1'),\n",
       " Row(Age='57', Sex='M', ChestPainType='ASY', RestingBP='122', Cholesterol='264', FastingBS='0', RestingECG='LVH', MaxHR='100', ExerciseAngina='N', Oldpeak='0', ST_Slope='Flat', HeartDisease='1'),\n",
       " Row(Age='55', Sex='M', ChestPainType='NAP', RestingBP='133', Cholesterol='185', FastingBS='0', RestingECG='ST', MaxHR='136', ExerciseAngina='N', Oldpeak='0.2', ST_Slope='Up', HeartDisease='0'),\n",
       " Row(Age='55', Sex='M', ChestPainType='ASY', RestingBP='120', Cholesterol='226', FastingBS='0', RestingECG='LVH', MaxHR='127', ExerciseAngina='Y', Oldpeak='1.7', ST_Slope='Down', HeartDisease='1'),\n",
       " Row(Age='56', Sex='M', ChestPainType='ASY', RestingBP='130', Cholesterol='203', FastingBS='1', RestingECG='Normal', MaxHR='98', ExerciseAngina='N', Oldpeak='1.5', ST_Slope='Flat', HeartDisease='1'),\n",
       " Row(Age='57', Sex='M', ChestPainType='ASY', RestingBP='130', Cholesterol='207', FastingBS='0', RestingECG='ST', MaxHR='96', ExerciseAngina='Y', Oldpeak='1', ST_Slope='Flat', HeartDisease='0'),\n",
       " Row(Age='61', Sex='M', ChestPainType='NAP', RestingBP='140', Cholesterol='284', FastingBS='0', RestingECG='Normal', MaxHR='123', ExerciseAngina='Y', Oldpeak='1.3', ST_Slope='Flat', HeartDisease='1'),\n",
       " Row(Age='61', Sex='M', ChestPainType='NAP', RestingBP='120', Cholesterol='337', FastingBS='0', RestingECG='Normal', MaxHR='98', ExerciseAngina='Y', Oldpeak='0', ST_Slope='Flat', HeartDisease='1'),\n",
       " Row(Age='74', Sex='M', ChestPainType='ASY', RestingBP='155', Cholesterol='310', FastingBS='0', RestingECG='Normal', MaxHR='112', ExerciseAngina='Y', Oldpeak='1.5', ST_Slope='Down', HeartDisease='1'),\n",
       " Row(Age='68', Sex='M', ChestPainType='NAP', RestingBP='134', Cholesterol='254', FastingBS='1', RestingECG='Normal', MaxHR='151', ExerciseAngina='Y', Oldpeak='0', ST_Slope='Up', HeartDisease='0'),\n",
       " Row(Age='51', Sex='F', ChestPainType='ASY', RestingBP='114', Cholesterol='258', FastingBS='1', RestingECG='LVH', MaxHR='96', ExerciseAngina='N', Oldpeak='1', ST_Slope='Up', HeartDisease='0'),\n",
       " Row(Age='62', Sex='M', ChestPainType='ASY', RestingBP='160', Cholesterol='254', FastingBS='1', RestingECG='ST', MaxHR='108', ExerciseAngina='Y', Oldpeak='3', ST_Slope='Flat', HeartDisease='1'),\n",
       " Row(Age='53', Sex='M', ChestPainType='ASY', RestingBP='144', Cholesterol='300', FastingBS='1', RestingECG='ST', MaxHR='128', ExerciseAngina='Y', Oldpeak='1.5', ST_Slope='Flat', HeartDisease='1'),\n",
       " Row(Age='62', Sex='M', ChestPainType='ASY', RestingBP='158', Cholesterol='170', FastingBS='0', RestingECG='ST', MaxHR='138', ExerciseAngina='Y', Oldpeak='0', ST_Slope='Flat', HeartDisease='1'),\n",
       " Row(Age='46', Sex='M', ChestPainType='ASY', RestingBP='134', Cholesterol='310', FastingBS='0', RestingECG='Normal', MaxHR='126', ExerciseAngina='N', Oldpeak='0', ST_Slope='Flat', HeartDisease='1'),\n",
       " Row(Age='54', Sex='F', ChestPainType='ASY', RestingBP='127', Cholesterol='333', FastingBS='1', RestingECG='ST', MaxHR='154', ExerciseAngina='N', Oldpeak='0', ST_Slope='Flat', HeartDisease='1'),\n",
       " Row(Age='62', Sex='M', ChestPainType='TA', RestingBP='135', Cholesterol='139', FastingBS='0', RestingECG='ST', MaxHR='137', ExerciseAngina='N', Oldpeak='0.2', ST_Slope='Up', HeartDisease='0'),\n",
       " Row(Age='55', Sex='M', ChestPainType='ASY', RestingBP='122', Cholesterol='223', FastingBS='1', RestingECG='ST', MaxHR='100', ExerciseAngina='N', Oldpeak='0', ST_Slope='Flat', HeartDisease='1'),\n",
       " Row(Age='58', Sex='M', ChestPainType='ASY', RestingBP='140', Cholesterol='385', FastingBS='1', RestingECG='LVH', MaxHR='135', ExerciseAngina='N', Oldpeak='0.3', ST_Slope='Up', HeartDisease='0'),\n",
       " Row(Age='62', Sex='M', ChestPainType='ATA', RestingBP='120', Cholesterol='254', FastingBS='0', RestingECG='LVH', MaxHR='93', ExerciseAngina='Y', Oldpeak='0', ST_Slope='Flat', HeartDisease='1'),\n",
       " Row(Age='70', Sex='M', ChestPainType='ASY', RestingBP='130', Cholesterol='322', FastingBS='0', RestingECG='LVH', MaxHR='109', ExerciseAngina='N', Oldpeak='2.4', ST_Slope='Flat', HeartDisease='1'),\n",
       " Row(Age='67', Sex='F', ChestPainType='NAP', RestingBP='115', Cholesterol='564', FastingBS='0', RestingECG='LVH', MaxHR='160', ExerciseAngina='N', Oldpeak='1.6', ST_Slope='Flat', HeartDisease='0'),\n",
       " Row(Age='57', Sex='M', ChestPainType='ATA', RestingBP='124', Cholesterol='261', FastingBS='0', RestingECG='Normal', MaxHR='141', ExerciseAngina='N', Oldpeak='0.3', ST_Slope='Up', HeartDisease='1'),\n",
       " Row(Age='64', Sex='M', ChestPainType='ASY', RestingBP='128', Cholesterol='263', FastingBS='0', RestingECG='Normal', MaxHR='105', ExerciseAngina='Y', Oldpeak='0.2', ST_Slope='Flat', HeartDisease='0'),\n",
       " Row(Age='74', Sex='F', ChestPainType='ATA', RestingBP='120', Cholesterol='269', FastingBS='0', RestingECG='LVH', MaxHR='121', ExerciseAngina='Y', Oldpeak='0.2', ST_Slope='Up', HeartDisease='0'),\n",
       " Row(Age='65', Sex='M', ChestPainType='ASY', RestingBP='120', Cholesterol='177', FastingBS='0', RestingECG='Normal', MaxHR='140', ExerciseAngina='N', Oldpeak='0.4', ST_Slope='Up', HeartDisease='0'),\n",
       " Row(Age='56', Sex='M', ChestPainType='NAP', RestingBP='130', Cholesterol='256', FastingBS='1', RestingECG='LVH', MaxHR='142', ExerciseAngina='Y', Oldpeak='0.6', ST_Slope='Flat', HeartDisease='1'),\n",
       " Row(Age='59', Sex='M', ChestPainType='ASY', RestingBP='110', Cholesterol='239', FastingBS='0', RestingECG='LVH', MaxHR='142', ExerciseAngina='Y', Oldpeak='1.2', ST_Slope='Flat', HeartDisease='1'),\n",
       " Row(Age='60', Sex='M', ChestPainType='ASY', RestingBP='140', Cholesterol='293', FastingBS='0', RestingECG='LVH', MaxHR='170', ExerciseAngina='N', Oldpeak='1.2', ST_Slope='Flat', HeartDisease='1'),\n",
       " Row(Age='63', Sex='F', ChestPainType='ASY', RestingBP='150', Cholesterol='407', FastingBS='0', RestingECG='LVH', MaxHR='154', ExerciseAngina='N', Oldpeak='4', ST_Slope='Flat', HeartDisease='1'),\n",
       " Row(Age='59', Sex='M', ChestPainType='ASY', RestingBP='135', Cholesterol='234', FastingBS='0', RestingECG='Normal', MaxHR='161', ExerciseAngina='N', Oldpeak='0.5', ST_Slope='Flat', HeartDisease='0'),\n",
       " Row(Age='53', Sex='M', ChestPainType='ASY', RestingBP='142', Cholesterol='226', FastingBS='0', RestingECG='LVH', MaxHR='111', ExerciseAngina='Y', Oldpeak='0', ST_Slope='Up', HeartDisease='0'),\n",
       " Row(Age='44', Sex='M', ChestPainType='NAP', RestingBP='140', Cholesterol='235', FastingBS='0', RestingECG='LVH', MaxHR='180', ExerciseAngina='N', Oldpeak='0', ST_Slope='Up', HeartDisease='0'),\n",
       " Row(Age='61', Sex='M', ChestPainType='TA', RestingBP='134', Cholesterol='234', FastingBS='0', RestingECG='Normal', MaxHR='145', ExerciseAngina='N', Oldpeak='2.6', ST_Slope='Flat', HeartDisease='1'),\n",
       " Row(Age='57', Sex='F', ChestPainType='ASY', RestingBP='128', Cholesterol='303', FastingBS='0', RestingECG='LVH', MaxHR='159', ExerciseAngina='N', Oldpeak='0', ST_Slope='Up', HeartDisease='0'),\n",
       " Row(Age='71', Sex='F', ChestPainType='ASY', RestingBP='112', Cholesterol='149', FastingBS='0', RestingECG='Normal', MaxHR='125', ExerciseAngina='N', Oldpeak='1.6', ST_Slope='Flat', HeartDisease='0'),\n",
       " Row(Age='46', Sex='M', ChestPainType='ASY', RestingBP='140', Cholesterol='311', FastingBS='0', RestingECG='Normal', MaxHR='120', ExerciseAngina='Y', Oldpeak='1.8', ST_Slope='Flat', HeartDisease='1'),\n",
       " Row(Age='53', Sex='M', ChestPainType='ASY', RestingBP='140', Cholesterol='203', FastingBS='1', RestingECG='LVH', MaxHR='155', ExerciseAngina='Y', Oldpeak='3.1', ST_Slope='Down', HeartDisease='1'),\n",
       " Row(Age='64', Sex='M', ChestPainType='TA', RestingBP='110', Cholesterol='211', FastingBS='0', RestingECG='LVH', MaxHR='144', ExerciseAngina='Y', Oldpeak='1.8', ST_Slope='Flat', HeartDisease='0'),\n",
       " Row(Age='40', Sex='M', ChestPainType='TA', RestingBP='140', Cholesterol='199', FastingBS='0', RestingECG='Normal', MaxHR='178', ExerciseAngina='Y', Oldpeak='1.4', ST_Slope='Up', HeartDisease='0'),\n",
       " Row(Age='67', Sex='M', ChestPainType='ASY', RestingBP='120', Cholesterol='229', FastingBS='0', RestingECG='LVH', MaxHR='129', ExerciseAngina='Y', Oldpeak='2.6', ST_Slope='Flat', HeartDisease='1'),\n",
       " Row(Age='48', Sex='M', ChestPainType='ATA', RestingBP='130', Cholesterol='245', FastingBS='0', RestingECG='LVH', MaxHR='180', ExerciseAngina='N', Oldpeak='0.2', ST_Slope='Flat', HeartDisease='0'),\n",
       " Row(Age='43', Sex='M', ChestPainType='ASY', RestingBP='115', Cholesterol='303', FastingBS='0', RestingECG='Normal', MaxHR='181', ExerciseAngina='N', Oldpeak='1.2', ST_Slope='Flat', HeartDisease='0'),\n",
       " Row(Age='47', Sex='M', ChestPainType='ASY', RestingBP='112', Cholesterol='204', FastingBS='0', RestingECG='Normal', MaxHR='143', ExerciseAngina='N', Oldpeak='0.1', ST_Slope='Up', HeartDisease='0'),\n",
       " Row(Age='54', Sex='F', ChestPainType='ATA', RestingBP='132', Cholesterol='288', FastingBS='1', RestingECG='LVH', MaxHR='159', ExerciseAngina='Y', Oldpeak='0', ST_Slope='Up', HeartDisease='0'),\n",
       " Row(Age='48', Sex='F', ChestPainType='NAP', RestingBP='130', Cholesterol='275', FastingBS='0', RestingECG='Normal', MaxHR='139', ExerciseAngina='N', Oldpeak='0.2', ST_Slope='Up', HeartDisease='0'),\n",
       " Row(Age='46', Sex='F', ChestPainType='ASY', RestingBP='138', Cholesterol='243', FastingBS='0', RestingECG='LVH', MaxHR='152', ExerciseAngina='Y', Oldpeak='0', ST_Slope='Flat', HeartDisease='0'),\n",
       " Row(Age='51', Sex='F', ChestPainType='NAP', RestingBP='120', Cholesterol='295', FastingBS='0', RestingECG='LVH', MaxHR='157', ExerciseAngina='N', Oldpeak='0.6', ST_Slope='Up', HeartDisease='0'),\n",
       " Row(Age='58', Sex='M', ChestPainType='NAP', RestingBP='112', Cholesterol='230', FastingBS='0', RestingECG='LVH', MaxHR='165', ExerciseAngina='N', Oldpeak='2.5', ST_Slope='Flat', HeartDisease='1'),\n",
       " Row(Age='71', Sex='F', ChestPainType='NAP', RestingBP='110', Cholesterol='265', FastingBS='1', RestingECG='LVH', MaxHR='130', ExerciseAngina='N', Oldpeak='0', ST_Slope='Up', HeartDisease='0'),\n",
       " Row(Age='57', Sex='M', ChestPainType='NAP', RestingBP='128', Cholesterol='229', FastingBS='0', RestingECG='LVH', MaxHR='150', ExerciseAngina='N', Oldpeak='0.4', ST_Slope='Flat', HeartDisease='1'),\n",
       " Row(Age='66', Sex='M', ChestPainType='ASY', RestingBP='160', Cholesterol='228', FastingBS='0', RestingECG='LVH', MaxHR='138', ExerciseAngina='N', Oldpeak='2.3', ST_Slope='Up', HeartDisease='0'),\n",
       " Row(Age='37', Sex='F', ChestPainType='NAP', RestingBP='120', Cholesterol='215', FastingBS='0', RestingECG='Normal', MaxHR='170', ExerciseAngina='N', Oldpeak='0', ST_Slope='Up', HeartDisease='0'),\n",
       " Row(Age='59', Sex='M', ChestPainType='ASY', RestingBP='170', Cholesterol='326', FastingBS='0', RestingECG='LVH', MaxHR='140', ExerciseAngina='Y', Oldpeak='3.4', ST_Slope='Down', HeartDisease='1'),\n",
       " Row(Age='50', Sex='M', ChestPainType='ASY', RestingBP='144', Cholesterol='200', FastingBS='0', RestingECG='LVH', MaxHR='126', ExerciseAngina='Y', Oldpeak='0.9', ST_Slope='Flat', HeartDisease='1'),\n",
       " Row(Age='48', Sex='M', ChestPainType='ASY', RestingBP='130', Cholesterol='256', FastingBS='1', RestingECG='LVH', MaxHR='150', ExerciseAngina='Y', Oldpeak='0', ST_Slope='Up', HeartDisease='1'),\n",
       " Row(Age='61', Sex='M', ChestPainType='ASY', RestingBP='140', Cholesterol='207', FastingBS='0', RestingECG='LVH', MaxHR='138', ExerciseAngina='Y', Oldpeak='1.9', ST_Slope='Up', HeartDisease='1'),\n",
       " Row(Age='59', Sex='M', ChestPainType='TA', RestingBP='160', Cholesterol='273', FastingBS='0', RestingECG='LVH', MaxHR='125', ExerciseAngina='N', Oldpeak='0', ST_Slope='Up', HeartDisease='1'),\n",
       " Row(Age='42', Sex='M', ChestPainType='NAP', RestingBP='130', Cholesterol='180', FastingBS='0', RestingECG='Normal', MaxHR='150', ExerciseAngina='N', Oldpeak='0', ST_Slope='Up', HeartDisease='0'),\n",
       " Row(Age='48', Sex='M', ChestPainType='ASY', RestingBP='122', Cholesterol='222', FastingBS='0', RestingECG='LVH', MaxHR='186', ExerciseAngina='N', Oldpeak='0', ST_Slope='Up', HeartDisease='0'),\n",
       " Row(Age='40', Sex='M', ChestPainType='ASY', RestingBP='152', Cholesterol='223', FastingBS='0', RestingECG='Normal', MaxHR='181', ExerciseAngina='N', Oldpeak='0', ST_Slope='Up', HeartDisease='1'),\n",
       " Row(Age='62', Sex='F', ChestPainType='ASY', RestingBP='124', Cholesterol='209', FastingBS='0', RestingECG='Normal', MaxHR='163', ExerciseAngina='N', Oldpeak='0', ST_Slope='Up', HeartDisease='0'),\n",
       " Row(Age='44', Sex='M', ChestPainType='NAP', RestingBP='130', Cholesterol='233', FastingBS='0', RestingECG='Normal', MaxHR='179', ExerciseAngina='Y', Oldpeak='0.4', ST_Slope='Up', HeartDisease='0'),\n",
       " Row(Age='46', Sex='M', ChestPainType='ATA', RestingBP='101', Cholesterol='197', FastingBS='1', RestingECG='Normal', MaxHR='156', ExerciseAngina='N', Oldpeak='0', ST_Slope='Up', HeartDisease='0'),\n",
       " Row(Age='59', Sex='M', ChestPainType='NAP', RestingBP='126', Cholesterol='218', FastingBS='1', RestingECG='Normal', MaxHR='134', ExerciseAngina='N', Oldpeak='2.2', ST_Slope='Flat', HeartDisease='1'),\n",
       " Row(Age='58', Sex='M', ChestPainType='NAP', RestingBP='140', Cholesterol='211', FastingBS='1', RestingECG='LVH', MaxHR='165', ExerciseAngina='N', Oldpeak='0', ST_Slope='Up', HeartDisease='0'),\n",
       " Row(Age='49', Sex='M', ChestPainType='NAP', RestingBP='118', Cholesterol='149', FastingBS='0', RestingECG='LVH', MaxHR='126', ExerciseAngina='N', Oldpeak='0.8', ST_Slope='Up', HeartDisease='1'),\n",
       " Row(Age='44', Sex='M', ChestPainType='ASY', RestingBP='110', Cholesterol='197', FastingBS='0', RestingECG='LVH', MaxHR='177', ExerciseAngina='N', Oldpeak='0', ST_Slope='Up', HeartDisease='1'),\n",
       " Row(Age='66', Sex='M', ChestPainType='ATA', RestingBP='160', Cholesterol='246', FastingBS='0', RestingECG='Normal', MaxHR='120', ExerciseAngina='Y', Oldpeak='0', ST_Slope='Flat', HeartDisease='1'),\n",
       " Row(Age='65', Sex='F', ChestPainType='ASY', RestingBP='150', Cholesterol='225', FastingBS='0', RestingECG='LVH', MaxHR='114', ExerciseAngina='N', Oldpeak='1', ST_Slope='Flat', HeartDisease='1'),\n",
       " Row(Age='42', Sex='M', ChestPainType='ASY', RestingBP='136', Cholesterol='315', FastingBS='0', RestingECG='Normal', MaxHR='125', ExerciseAngina='Y', Oldpeak='1.8', ST_Slope='Flat', HeartDisease='1'),\n",
       " Row(Age='52', Sex='M', ChestPainType='ATA', RestingBP='128', Cholesterol='205', FastingBS='1', RestingECG='Normal', MaxHR='184', ExerciseAngina='N', Oldpeak='0', ST_Slope='Up', HeartDisease='0'),\n",
       " Row(Age='65', Sex='F', ChestPainType='NAP', RestingBP='140', Cholesterol='417', FastingBS='1', RestingECG='LVH', MaxHR='157', ExerciseAngina='N', Oldpeak='0.8', ST_Slope='Up', HeartDisease='0'),\n",
       " Row(Age='63', Sex='F', ChestPainType='ATA', RestingBP='140', Cholesterol='195', FastingBS='0', RestingECG='Normal', MaxHR='179', ExerciseAngina='N', Oldpeak='0', ST_Slope='Up', HeartDisease='0'),\n",
       " Row(Age='45', Sex='F', ChestPainType='ATA', RestingBP='130', Cholesterol='234', FastingBS='0', RestingECG='LVH', MaxHR='175', ExerciseAngina='N', Oldpeak='0.6', ST_Slope='Flat', HeartDisease='0'),\n",
       " Row(Age='41', Sex='F', ChestPainType='ATA', RestingBP='105', Cholesterol='198', FastingBS='0', RestingECG='Normal', MaxHR='168', ExerciseAngina='N', Oldpeak='0', ST_Slope='Up', HeartDisease='0'),\n",
       " Row(Age='61', Sex='M', ChestPainType='ASY', RestingBP='138', Cholesterol='166', FastingBS='0', RestingECG='LVH', MaxHR='125', ExerciseAngina='Y', Oldpeak='3.6', ST_Slope='Flat', HeartDisease='1'),\n",
       " Row(Age='60', Sex='F', ChestPainType='NAP', RestingBP='120', Cholesterol='178', FastingBS='1', RestingECG='Normal', MaxHR='96', ExerciseAngina='N', Oldpeak='0', ST_Slope='Up', HeartDisease='0'),\n",
       " Row(Age='59', Sex='F', ChestPainType='ASY', RestingBP='174', Cholesterol='249', FastingBS='0', RestingECG='Normal', MaxHR='143', ExerciseAngina='Y', Oldpeak='0', ST_Slope='Flat', HeartDisease='1'),\n",
       " Row(Age='62', Sex='M', ChestPainType='ATA', RestingBP='120', Cholesterol='281', FastingBS='0', RestingECG='LVH', MaxHR='103', ExerciseAngina='N', Oldpeak='1.4', ST_Slope='Flat', HeartDisease='1'),\n",
       " Row(Age='57', Sex='M', ChestPainType='NAP', RestingBP='150', Cholesterol='126', FastingBS='1', RestingECG='Normal', MaxHR='173', ExerciseAngina='N', Oldpeak='0.2', ST_Slope='Up', HeartDisease='0'),\n",
       " Row(Age='51', Sex='F', ChestPainType='ASY', RestingBP='130', Cholesterol='305', FastingBS='0', RestingECG='Normal', MaxHR='142', ExerciseAngina='Y', Oldpeak='1.2', ST_Slope='Flat', HeartDisease='1'),\n",
       " Row(Age='44', Sex='M', ChestPainType='NAP', RestingBP='120', Cholesterol='226', FastingBS='0', RestingECG='Normal', MaxHR='169', ExerciseAngina='N', Oldpeak='0', ST_Slope='Up', HeartDisease='0'),\n",
       " Row(Age='60', Sex='F', ChestPainType='TA', RestingBP='150', Cholesterol='240', FastingBS='0', RestingECG='Normal', MaxHR='171', ExerciseAngina='N', Oldpeak='0.9', ST_Slope='Up', HeartDisease='0'),\n",
       " Row(Age='63', Sex='M', ChestPainType='TA', RestingBP='145', Cholesterol='233', FastingBS='1', RestingECG='LVH', MaxHR='150', ExerciseAngina='N', Oldpeak='2.3', ST_Slope='Down', HeartDisease='0'),\n",
       " Row(Age='57', Sex='M', ChestPainType='ASY', RestingBP='150', Cholesterol='276', FastingBS='0', RestingECG='LVH', MaxHR='112', ExerciseAngina='Y', Oldpeak='0.6', ST_Slope='Flat', HeartDisease='1'),\n",
       " Row(Age='51', Sex='M', ChestPainType='ASY', RestingBP='140', Cholesterol='261', FastingBS='0', RestingECG='LVH', MaxHR='186', ExerciseAngina='Y', Oldpeak='0', ST_Slope='Up', HeartDisease='0'),\n",
       " Row(Age='58', Sex='F', ChestPainType='ATA', RestingBP='136', Cholesterol='319', FastingBS='1', RestingECG='LVH', MaxHR='152', ExerciseAngina='N', Oldpeak='0', ST_Slope='Up', HeartDisease='1'),\n",
       " Row(Age='44', Sex='F', ChestPainType='NAP', RestingBP='118', Cholesterol='242', FastingBS='0', RestingECG='Normal', MaxHR='149', ExerciseAngina='N', Oldpeak='0.3', ST_Slope='Flat', HeartDisease='0'),\n",
       " Row(Age='47', Sex='M', ChestPainType='NAP', RestingBP='108', Cholesterol='243', FastingBS='0', RestingECG='Normal', MaxHR='152', ExerciseAngina='N', Oldpeak='0', ST_Slope='Up', HeartDisease='1'),\n",
       " Row(Age='61', Sex='M', ChestPainType='ASY', RestingBP='120', Cholesterol='260', FastingBS='0', RestingECG='Normal', MaxHR='140', ExerciseAngina='Y', Oldpeak='3.6', ST_Slope='Flat', HeartDisease='1'),\n",
       " Row(Age='57', Sex='F', ChestPainType='ASY', RestingBP='120', Cholesterol='354', FastingBS='0', RestingECG='Normal', MaxHR='163', ExerciseAngina='Y', Oldpeak='0.6', ST_Slope='Up', HeartDisease='0'),\n",
       " Row(Age='70', Sex='M', ChestPainType='ATA', RestingBP='156', Cholesterol='245', FastingBS='0', RestingECG='LVH', MaxHR='143', ExerciseAngina='N', Oldpeak='0', ST_Slope='Up', HeartDisease='0'),\n",
       " Row(Age='76', Sex='F', ChestPainType='NAP', RestingBP='140', Cholesterol='197', FastingBS='0', RestingECG='ST', MaxHR='116', ExerciseAngina='N', Oldpeak='1.1', ST_Slope='Flat', HeartDisease='0'),\n",
       " Row(Age='67', Sex='F', ChestPainType='ASY', RestingBP='106', Cholesterol='223', FastingBS='0', RestingECG='Normal', MaxHR='142', ExerciseAngina='N', Oldpeak='0.3', ST_Slope='Up', HeartDisease='0'),\n",
       " Row(Age='45', Sex='M', ChestPainType='ASY', RestingBP='142', Cholesterol='309', FastingBS='0', RestingECG='LVH', MaxHR='147', ExerciseAngina='Y', Oldpeak='0', ST_Slope='Flat', HeartDisease='1'),\n",
       " Row(Age='45', Sex='M', ChestPainType='ASY', RestingBP='104', Cholesterol='208', FastingBS='0', RestingECG='LVH', MaxHR='148', ExerciseAngina='Y', Oldpeak='3', ST_Slope='Flat', HeartDisease='0'),\n",
       " Row(Age='39', Sex='F', ChestPainType='NAP', RestingBP='94', Cholesterol='199', FastingBS='0', RestingECG='Normal', MaxHR='179', ExerciseAngina='N', Oldpeak='0', ST_Slope='Up', HeartDisease='0'),\n",
       " Row(Age='42', Sex='F', ChestPainType='NAP', RestingBP='120', Cholesterol='209', FastingBS='0', RestingECG='Normal', MaxHR='173', ExerciseAngina='N', Oldpeak='0', ST_Slope='Flat', HeartDisease='0'),\n",
       " Row(Age='56', Sex='M', ChestPainType='ATA', RestingBP='120', Cholesterol='236', FastingBS='0', RestingECG='Normal', MaxHR='178', ExerciseAngina='N', Oldpeak='0.8', ST_Slope='Up', HeartDisease='0'),\n",
       " Row(Age='58', Sex='M', ChestPainType='ASY', RestingBP='146', Cholesterol='218', FastingBS='0', RestingECG='Normal', MaxHR='105', ExerciseAngina='N', Oldpeak='2', ST_Slope='Flat', HeartDisease='1'),\n",
       " Row(Age='35', Sex='M', ChestPainType='ASY', RestingBP='120', Cholesterol='198', FastingBS='0', RestingECG='Normal', MaxHR='130', ExerciseAngina='Y', Oldpeak='1.6', ST_Slope='Flat', HeartDisease='1'),\n",
       " Row(Age='58', Sex='M', ChestPainType='ASY', RestingBP='150', Cholesterol='270', FastingBS='0', RestingECG='LVH', MaxHR='111', ExerciseAngina='Y', Oldpeak='0.8', ST_Slope='Up', HeartDisease='1'),\n",
       " Row(Age='41', Sex='M', ChestPainType='NAP', RestingBP='130', Cholesterol='214', FastingBS='0', RestingECG='LVH', MaxHR='168', ExerciseAngina='N', Oldpeak='2', ST_Slope='Flat', HeartDisease='0'),\n",
       " Row(Age='57', Sex='M', ChestPainType='ASY', RestingBP='110', Cholesterol='201', FastingBS='0', RestingECG='Normal', MaxHR='126', ExerciseAngina='Y', Oldpeak='1.5', ST_Slope='Flat', HeartDisease='0'),\n",
       " Row(Age='42', Sex='M', ChestPainType='TA', RestingBP='148', Cholesterol='244', FastingBS='0', RestingECG='LVH', MaxHR='178', ExerciseAngina='N', Oldpeak='0.8', ST_Slope='Up', HeartDisease='0'),\n",
       " Row(Age='62', Sex='M', ChestPainType='ATA', RestingBP='128', Cholesterol='208', FastingBS='1', RestingECG='LVH', MaxHR='140', ExerciseAngina='N', Oldpeak='0', ST_Slope='Up', HeartDisease='0'),\n",
       " Row(Age='59', Sex='M', ChestPainType='TA', RestingBP='178', Cholesterol='270', FastingBS='0', RestingECG='LVH', MaxHR='145', ExerciseAngina='N', Oldpeak='4.2', ST_Slope='Down', HeartDisease='0'),\n",
       " Row(Age='41', Sex='F', ChestPainType='ATA', RestingBP='126', Cholesterol='306', FastingBS='0', RestingECG='Normal', MaxHR='163', ExerciseAngina='N', Oldpeak='0', ST_Slope='Up', HeartDisease='0'),\n",
       " Row(Age='50', Sex='M', ChestPainType='ASY', RestingBP='150', Cholesterol='243', FastingBS='0', RestingECG='LVH', MaxHR='128', ExerciseAngina='N', Oldpeak='2.6', ST_Slope='Flat', HeartDisease='1'),\n",
       " Row(Age='59', Sex='M', ChestPainType='ATA', RestingBP='140', Cholesterol='221', FastingBS='0', RestingECG='Normal', MaxHR='164', ExerciseAngina='Y', Oldpeak='0', ST_Slope='Up', HeartDisease='0'),\n",
       " Row(Age='61', Sex='F', ChestPainType='ASY', RestingBP='130', Cholesterol='330', FastingBS='0', RestingECG='LVH', MaxHR='169', ExerciseAngina='N', Oldpeak='0', ST_Slope='Up', HeartDisease='1'),\n",
       " Row(Age='54', Sex='M', ChestPainType='ASY', RestingBP='124', Cholesterol='266', FastingBS='0', RestingECG='LVH', MaxHR='109', ExerciseAngina='Y', Oldpeak='2.2', ST_Slope='Flat', HeartDisease='1'),\n",
       " Row(Age='54', Sex='M', ChestPainType='ASY', RestingBP='110', Cholesterol='206', FastingBS='0', RestingECG='LVH', MaxHR='108', ExerciseAngina='Y', Oldpeak='0', ST_Slope='Flat', HeartDisease='1'),\n",
       " Row(Age='52', Sex='M', ChestPainType='ASY', RestingBP='125', Cholesterol='212', FastingBS='0', RestingECG='Normal', MaxHR='168', ExerciseAngina='N', Oldpeak='1', ST_Slope='Up', HeartDisease='1'),\n",
       " Row(Age='47', Sex='M', ChestPainType='ASY', RestingBP='110', Cholesterol='275', FastingBS='0', RestingECG='LVH', MaxHR='118', ExerciseAngina='Y', Oldpeak='1', ST_Slope='Flat', HeartDisease='1'),\n",
       " Row(Age='66', Sex='M', ChestPainType='ASY', RestingBP='120', Cholesterol='302', FastingBS='0', RestingECG='LVH', MaxHR='151', ExerciseAngina='N', Oldpeak='0.4', ST_Slope='Flat', HeartDisease='0'),\n",
       " Row(Age='58', Sex='M', ChestPainType='ASY', RestingBP='100', Cholesterol='234', FastingBS='0', RestingECG='Normal', MaxHR='156', ExerciseAngina='N', Oldpeak='0.1', ST_Slope='Up', HeartDisease='1'),\n",
       " Row(Age='64', Sex='F', ChestPainType='NAP', RestingBP='140', Cholesterol='313', FastingBS='0', RestingECG='Normal', MaxHR='133', ExerciseAngina='N', Oldpeak='0.2', ST_Slope='Up', HeartDisease='0'),\n",
       " Row(Age='50', Sex='F', ChestPainType='ATA', RestingBP='120', Cholesterol='244', FastingBS='0', RestingECG='Normal', MaxHR='162', ExerciseAngina='N', Oldpeak='1.1', ST_Slope='Up', HeartDisease='0'),\n",
       " Row(Age='44', Sex='F', ChestPainType='NAP', RestingBP='108', Cholesterol='141', FastingBS='0', RestingECG='Normal', MaxHR='175', ExerciseAngina='N', Oldpeak='0.6', ST_Slope='Flat', HeartDisease='0'),\n",
       " Row(Age='67', Sex='M', ChestPainType='ASY', RestingBP='120', Cholesterol='237', FastingBS='0', RestingECG='Normal', MaxHR='71', ExerciseAngina='N', Oldpeak='1', ST_Slope='Flat', HeartDisease='1'),\n",
       " Row(Age='49', Sex='F', ChestPainType='ASY', RestingBP='130', Cholesterol='269', FastingBS='0', RestingECG='Normal', MaxHR='163', ExerciseAngina='N', Oldpeak='0', ST_Slope='Up', HeartDisease='0'),\n",
       " Row(Age='57', Sex='M', ChestPainType='ASY', RestingBP='165', Cholesterol='289', FastingBS='1', RestingECG='LVH', MaxHR='124', ExerciseAngina='N', Oldpeak='1', ST_Slope='Flat', HeartDisease='1'),\n",
       " Row(Age='63', Sex='M', ChestPainType='ASY', RestingBP='130', Cholesterol='254', FastingBS='0', RestingECG='LVH', MaxHR='147', ExerciseAngina='N', Oldpeak='1.4', ST_Slope='Flat', HeartDisease='1'),\n",
       " Row(Age='48', Sex='M', ChestPainType='ASY', RestingBP='124', Cholesterol='274', FastingBS='0', RestingECG='LVH', MaxHR='166', ExerciseAngina='N', Oldpeak='0.5', ST_Slope='Flat', HeartDisease='1'),\n",
       " Row(Age='51', Sex='M', ChestPainType='NAP', RestingBP='100', Cholesterol='222', FastingBS='0', RestingECG='Normal', MaxHR='143', ExerciseAngina='Y', Oldpeak='1.2', ST_Slope='Flat', HeartDisease='0'),\n",
       " Row(Age='60', Sex='F', ChestPainType='ASY', RestingBP='150', Cholesterol='258', FastingBS='0', RestingECG='LVH', MaxHR='157', ExerciseAngina='N', Oldpeak='2.6', ST_Slope='Flat', HeartDisease='1'),\n",
       " Row(Age='59', Sex='M', ChestPainType='ASY', RestingBP='140', Cholesterol='177', FastingBS='0', RestingECG='Normal', MaxHR='162', ExerciseAngina='Y', Oldpeak='0', ST_Slope='Up', HeartDisease='1'),\n",
       " Row(Age='45', Sex='F', ChestPainType='ATA', RestingBP='112', Cholesterol='160', FastingBS='0', RestingECG='Normal', MaxHR='138', ExerciseAngina='N', Oldpeak='0', ST_Slope='Flat', HeartDisease='0'),\n",
       " Row(Age='55', Sex='F', ChestPainType='ASY', RestingBP='180', Cholesterol='327', FastingBS='0', RestingECG='ST', MaxHR='117', ExerciseAngina='Y', Oldpeak='3.4', ST_Slope='Flat', HeartDisease='1'),\n",
       " Row(Age='41', Sex='M', ChestPainType='ATA', RestingBP='110', Cholesterol='235', FastingBS='0', RestingECG='Normal', MaxHR='153', ExerciseAngina='N', Oldpeak='0', ST_Slope='Up', HeartDisease='0'),\n",
       " Row(Age='60', Sex='F', ChestPainType='ASY', RestingBP='158', Cholesterol='305', FastingBS='0', RestingECG='LVH', MaxHR='161', ExerciseAngina='N', Oldpeak='0', ST_Slope='Up', HeartDisease='1'),\n",
       " Row(Age='54', Sex='F', ChestPainType='NAP', RestingBP='135', Cholesterol='304', FastingBS='1', RestingECG='Normal', MaxHR='170', ExerciseAngina='N', Oldpeak='0', ST_Slope='Up', HeartDisease='0'),\n",
       " Row(Age='42', Sex='M', ChestPainType='ATA', RestingBP='120', Cholesterol='295', FastingBS='0', RestingECG='Normal', MaxHR='162', ExerciseAngina='N', Oldpeak='0', ST_Slope='Up', HeartDisease='0'),\n",
       " Row(Age='49', Sex='F', ChestPainType='ATA', RestingBP='134', Cholesterol='271', FastingBS='0', RestingECG='Normal', MaxHR='162', ExerciseAngina='N', Oldpeak='0', ST_Slope='Flat', HeartDisease='0'),\n",
       " Row(Age='46', Sex='M', ChestPainType='ASY', RestingBP='120', Cholesterol='249', FastingBS='0', RestingECG='LVH', MaxHR='144', ExerciseAngina='N', Oldpeak='0.8', ST_Slope='Up', HeartDisease='1'),\n",
       " Row(Age='56', Sex='F', ChestPainType='ASY', RestingBP='200', Cholesterol='288', FastingBS='1', RestingECG='LVH', MaxHR='133', ExerciseAngina='Y', Oldpeak='4', ST_Slope='Down', HeartDisease='1'),\n",
       " Row(Age='66', Sex='F', ChestPainType='TA', RestingBP='150', Cholesterol='226', FastingBS='0', RestingECG='Normal', MaxHR='114', ExerciseAngina='N', Oldpeak='2.6', ST_Slope='Down', HeartDisease='0'),\n",
       " Row(Age='56', Sex='M', ChestPainType='ASY', RestingBP='130', Cholesterol='283', FastingBS='1', RestingECG='LVH', MaxHR='103', ExerciseAngina='Y', Oldpeak='1.6', ST_Slope='Down', HeartDisease='1'),\n",
       " Row(Age='49', Sex='M', ChestPainType='NAP', RestingBP='120', Cholesterol='188', FastingBS='0', RestingECG='Normal', MaxHR='139', ExerciseAngina='N', Oldpeak='2', ST_Slope='Flat', HeartDisease='1'),\n",
       " Row(Age='54', Sex='M', ChestPainType='ASY', RestingBP='122', Cholesterol='286', FastingBS='0', RestingECG='LVH', MaxHR='116', ExerciseAngina='Y', Oldpeak='3.2', ST_Slope='Flat', HeartDisease='1'),\n",
       " Row(Age='57', Sex='M', ChestPainType='ASY', RestingBP='152', Cholesterol='274', FastingBS='0', RestingECG='Normal', MaxHR='88', ExerciseAngina='Y', Oldpeak='1.2', ST_Slope='Flat', HeartDisease='1'),\n",
       " Row(Age='65', Sex='F', ChestPainType='NAP', RestingBP='160', Cholesterol='360', FastingBS='0', RestingECG='LVH', MaxHR='151', ExerciseAngina='N', Oldpeak='0.8', ST_Slope='Up', HeartDisease='0'),\n",
       " Row(Age='54', Sex='M', ChestPainType='NAP', RestingBP='125', Cholesterol='273', FastingBS='0', RestingECG='LVH', MaxHR='152', ExerciseAngina='N', Oldpeak='0.5', ST_Slope='Down', HeartDisease='0'),\n",
       " Row(Age='54', Sex='F', ChestPainType='NAP', RestingBP='160', Cholesterol='201', FastingBS='0', RestingECG='Normal', MaxHR='163', ExerciseAngina='N', Oldpeak='0', ST_Slope='Up', HeartDisease='0'),\n",
       " Row(Age='62', Sex='M', ChestPainType='ASY', RestingBP='120', Cholesterol='267', FastingBS='0', RestingECG='Normal', MaxHR='99', ExerciseAngina='Y', Oldpeak='1.8', ST_Slope='Flat', HeartDisease='1'),\n",
       " Row(Age='52', Sex='F', ChestPainType='NAP', RestingBP='136', Cholesterol='196', FastingBS='0', RestingECG='LVH', MaxHR='169', ExerciseAngina='N', Oldpeak='0.1', ST_Slope='Flat', HeartDisease='0'),\n",
       " Row(Age='52', Sex='M', ChestPainType='ATA', RestingBP='134', Cholesterol='201', FastingBS='0', RestingECG='Normal', MaxHR='158', ExerciseAngina='N', Oldpeak='0.8', ST_Slope='Up', HeartDisease='0'),\n",
       " Row(Age='60', Sex='M', ChestPainType='ASY', RestingBP='117', Cholesterol='230', FastingBS='1', RestingECG='Normal', MaxHR='160', ExerciseAngina='Y', Oldpeak='1.4', ST_Slope='Up', HeartDisease='1'),\n",
       " Row(Age='63', Sex='F', ChestPainType='ASY', RestingBP='108', Cholesterol='269', FastingBS='0', RestingECG='Normal', MaxHR='169', ExerciseAngina='Y', Oldpeak='1.8', ST_Slope='Flat', HeartDisease='1'),\n",
       " Row(Age='66', Sex='M', ChestPainType='ASY', RestingBP='112', Cholesterol='212', FastingBS='0', RestingECG='LVH', MaxHR='132', ExerciseAngina='Y', Oldpeak='0.1', ST_Slope='Up', HeartDisease='1'),\n",
       " Row(Age='42', Sex='M', ChestPainType='ASY', RestingBP='140', Cholesterol='226', FastingBS='0', RestingECG='Normal', MaxHR='178', ExerciseAngina='N', Oldpeak='0', ST_Slope='Up', HeartDisease='0'),\n",
       " Row(Age='64', Sex='M', ChestPainType='ASY', RestingBP='120', Cholesterol='246', FastingBS='0', RestingECG='LVH', MaxHR='96', ExerciseAngina='Y', Oldpeak='2.2', ST_Slope='Down', HeartDisease='1'),\n",
       " Row(Age='54', Sex='M', ChestPainType='NAP', RestingBP='150', Cholesterol='232', FastingBS='0', RestingECG='LVH', MaxHR='165', ExerciseAngina='N', Oldpeak='1.6', ST_Slope='Up', HeartDisease='0'),\n",
       " Row(Age='46', Sex='F', ChestPainType='NAP', RestingBP='142', Cholesterol='177', FastingBS='0', RestingECG='LVH', MaxHR='160', ExerciseAngina='Y', Oldpeak='1.4', ST_Slope='Down', HeartDisease='0'),\n",
       " Row(Age='67', Sex='F', ChestPainType='NAP', RestingBP='152', Cholesterol='277', FastingBS='0', RestingECG='Normal', MaxHR='172', ExerciseAngina='N', Oldpeak='0', ST_Slope='Up', HeartDisease='0'),\n",
       " Row(Age='56', Sex='M', ChestPainType='ASY', RestingBP='125', Cholesterol='249', FastingBS='1', RestingECG='LVH', MaxHR='144', ExerciseAngina='Y', Oldpeak='1.2', ST_Slope='Flat', HeartDisease='1'),\n",
       " Row(Age='34', Sex='F', ChestPainType='ATA', RestingBP='118', Cholesterol='210', FastingBS='0', RestingECG='Normal', MaxHR='192', ExerciseAngina='N', Oldpeak='0.7', ST_Slope='Up', HeartDisease='0'),\n",
       " Row(Age='57', Sex='M', ChestPainType='ASY', RestingBP='132', Cholesterol='207', FastingBS='0', RestingECG='Normal', MaxHR='168', ExerciseAngina='Y', Oldpeak='0', ST_Slope='Up', HeartDisease='0'),\n",
       " Row(Age='64', Sex='M', ChestPainType='ASY', RestingBP='145', Cholesterol='212', FastingBS='0', RestingECG='LVH', MaxHR='132', ExerciseAngina='N', Oldpeak='2', ST_Slope='Flat', HeartDisease='1'),\n",
       " Row(Age='59', Sex='M', ChestPainType='ASY', RestingBP='138', Cholesterol='271', FastingBS='0', RestingECG='LVH', MaxHR='182', ExerciseAngina='N', Oldpeak='0', ST_Slope='Up', HeartDisease='0'),\n",
       " Row(Age='50', Sex='M', ChestPainType='NAP', RestingBP='140', Cholesterol='233', FastingBS='0', RestingECG='Normal', MaxHR='163', ExerciseAngina='N', Oldpeak='0.6', ST_Slope='Flat', HeartDisease='1'),\n",
       " Row(Age='51', Sex='M', ChestPainType='TA', RestingBP='125', Cholesterol='213', FastingBS='0', RestingECG='LVH', MaxHR='125', ExerciseAngina='Y', Oldpeak='1.4', ST_Slope='Up', HeartDisease='0'),\n",
       " Row(Age='54', Sex='M', ChestPainType='ATA', RestingBP='192', Cholesterol='283', FastingBS='0', RestingECG='LVH', MaxHR='195', ExerciseAngina='N', Oldpeak='0', ST_Slope='Up', HeartDisease='1'),\n",
       " Row(Age='53', Sex='M', ChestPainType='ASY', RestingBP='123', Cholesterol='282', FastingBS='0', RestingECG='Normal', MaxHR='95', ExerciseAngina='Y', Oldpeak='2', ST_Slope='Flat', HeartDisease='1'),\n",
       " Row(Age='52', Sex='M', ChestPainType='ASY', RestingBP='112', Cholesterol='230', FastingBS='0', RestingECG='Normal', MaxHR='160', ExerciseAngina='N', Oldpeak='0', ST_Slope='Up', HeartDisease='1'),\n",
       " Row(Age='40', Sex='M', ChestPainType='ASY', RestingBP='110', Cholesterol='167', FastingBS='0', RestingECG='LVH', MaxHR='114', ExerciseAngina='Y', Oldpeak='2', ST_Slope='Flat', HeartDisease='1'),\n",
       " Row(Age='58', Sex='M', ChestPainType='NAP', RestingBP='132', Cholesterol='224', FastingBS='0', RestingECG='LVH', MaxHR='173', ExerciseAngina='N', Oldpeak='3.2', ST_Slope='Up', HeartDisease='1'),\n",
       " Row(Age='41', Sex='F', ChestPainType='NAP', RestingBP='112', Cholesterol='268', FastingBS='0', RestingECG='LVH', MaxHR='172', ExerciseAngina='Y', Oldpeak='0', ST_Slope='Up', HeartDisease='0'),\n",
       " Row(Age='41', Sex='M', ChestPainType='NAP', RestingBP='112', Cholesterol='250', FastingBS='0', RestingECG='Normal', MaxHR='179', ExerciseAngina='N', Oldpeak='0', ST_Slope='Up', HeartDisease='0'),\n",
       " Row(Age='50', Sex='F', ChestPainType='NAP', RestingBP='120', Cholesterol='219', FastingBS='0', RestingECG='Normal', MaxHR='158', ExerciseAngina='N', Oldpeak='1.6', ST_Slope='Flat', HeartDisease='0'),\n",
       " Row(Age='54', Sex='F', ChestPainType='NAP', RestingBP='108', Cholesterol='267', FastingBS='0', RestingECG='LVH', MaxHR='167', ExerciseAngina='N', Oldpeak='0', ST_Slope='Up', HeartDisease='0'),\n",
       " Row(Age='64', Sex='F', ChestPainType='ASY', RestingBP='130', Cholesterol='303', FastingBS='0', RestingECG='Normal', MaxHR='122', ExerciseAngina='N', Oldpeak='2', ST_Slope='Flat', HeartDisease='0'),\n",
       " Row(Age='51', Sex='F', ChestPainType='NAP', RestingBP='130', Cholesterol='256', FastingBS='0', RestingECG='LVH', MaxHR='149', ExerciseAngina='N', Oldpeak='0.5', ST_Slope='Up', HeartDisease='0'),\n",
       " Row(Age='46', Sex='F', ChestPainType='ATA', RestingBP='105', Cholesterol='204', FastingBS='0', RestingECG='Normal', MaxHR='172', ExerciseAngina='N', Oldpeak='0', ST_Slope='Up', HeartDisease='0'),\n",
       " Row(Age='55', Sex='M', ChestPainType='ASY', RestingBP='140', Cholesterol='217', FastingBS='0', RestingECG='Normal', MaxHR='111', ExerciseAngina='Y', Oldpeak='5.6', ST_Slope='Down', HeartDisease='1'),\n",
       " Row(Age='45', Sex='M', ChestPainType='ATA', RestingBP='128', Cholesterol='308', FastingBS='0', RestingECG='LVH', MaxHR='170', ExerciseAngina='N', Oldpeak='0', ST_Slope='Up', HeartDisease='0'),\n",
       " Row(Age='56', Sex='M', ChestPainType='TA', RestingBP='120', Cholesterol='193', FastingBS='0', RestingECG='LVH', MaxHR='162', ExerciseAngina='N', Oldpeak='1.9', ST_Slope='Flat', HeartDisease='0'),\n",
       " Row(Age='66', Sex='F', ChestPainType='ASY', RestingBP='178', Cholesterol='228', FastingBS='1', RestingECG='Normal', MaxHR='165', ExerciseAngina='Y', Oldpeak='1', ST_Slope='Flat', HeartDisease='1'),\n",
       " Row(Age='38', Sex='M', ChestPainType='TA', RestingBP='120', Cholesterol='231', FastingBS='0', RestingECG='Normal', MaxHR='182', ExerciseAngina='Y', Oldpeak='3.8', ST_Slope='Flat', HeartDisease='1'),\n",
       " Row(Age='62', Sex='F', ChestPainType='ASY', RestingBP='150', Cholesterol='244', FastingBS='0', RestingECG='Normal', MaxHR='154', ExerciseAngina='Y', Oldpeak='1.4', ST_Slope='Flat', HeartDisease='1'),\n",
       " Row(Age='55', Sex='M', ChestPainType='ATA', RestingBP='130', Cholesterol='262', FastingBS='0', RestingECG='Normal', MaxHR='155', ExerciseAngina='N', Oldpeak='0', ST_Slope='Up', HeartDisease='0'),\n",
       " Row(Age='58', Sex='M', ChestPainType='ASY', RestingBP='128', Cholesterol='259', FastingBS='0', RestingECG='LVH', MaxHR='130', ExerciseAngina='Y', Oldpeak='3', ST_Slope='Flat', HeartDisease='1'),\n",
       " Row(Age='43', Sex='M', ChestPainType='ASY', RestingBP='110', Cholesterol='211', FastingBS='0', RestingECG='Normal', MaxHR='161', ExerciseAngina='N', Oldpeak='0', ST_Slope='Up', HeartDisease='0'),\n",
       " Row(Age='64', Sex='F', ChestPainType='ASY', RestingBP='180', Cholesterol='325', FastingBS='0', RestingECG='Normal', MaxHR='154', ExerciseAngina='Y', Oldpeak='0', ST_Slope='Up', HeartDisease='0'),\n",
       " Row(Age='50', Sex='F', ChestPainType='ASY', RestingBP='110', Cholesterol='254', FastingBS='0', RestingECG='LVH', MaxHR='159', ExerciseAngina='N', Oldpeak='0', ST_Slope='Up', HeartDisease='0'),\n",
       " Row(Age='53', Sex='M', ChestPainType='NAP', RestingBP='130', Cholesterol='197', FastingBS='1', RestingECG='LVH', MaxHR='152', ExerciseAngina='N', Oldpeak='1.2', ST_Slope='Down', HeartDisease='0'),\n",
       " Row(Age='45', Sex='F', ChestPainType='ASY', RestingBP='138', Cholesterol='236', FastingBS='0', RestingECG='LVH', MaxHR='152', ExerciseAngina='Y', Oldpeak='0.2', ST_Slope='Flat', HeartDisease='0'),\n",
       " Row(Age='65', Sex='M', ChestPainType='TA', RestingBP='138', Cholesterol='282', FastingBS='1', RestingECG='LVH', MaxHR='174', ExerciseAngina='N', Oldpeak='1.4', ST_Slope='Flat', HeartDisease='1'),\n",
       " Row(Age='69', Sex='M', ChestPainType='TA', RestingBP='160', Cholesterol='234', FastingBS='1', RestingECG='LVH', MaxHR='131', ExerciseAngina='N', Oldpeak='0.1', ST_Slope='Flat', HeartDisease='0'),\n",
       " Row(Age='69', Sex='M', ChestPainType='NAP', RestingBP='140', Cholesterol='254', FastingBS='0', RestingECG='LVH', MaxHR='146', ExerciseAngina='N', Oldpeak='2', ST_Slope='Flat', HeartDisease='1'),\n",
       " Row(Age='67', Sex='M', ChestPainType='ASY', RestingBP='100', Cholesterol='299', FastingBS='0', RestingECG='LVH', MaxHR='125', ExerciseAngina='Y', Oldpeak='0.9', ST_Slope='Flat', HeartDisease='1'),\n",
       " Row(Age='68', Sex='F', ChestPainType='NAP', RestingBP='120', Cholesterol='211', FastingBS='0', RestingECG='LVH', MaxHR='115', ExerciseAngina='N', Oldpeak='1.5', ST_Slope='Flat', HeartDisease='0'),\n",
       " Row(Age='34', Sex='M', ChestPainType='TA', RestingBP='118', Cholesterol='182', FastingBS='0', RestingECG='LVH', MaxHR='174', ExerciseAngina='N', Oldpeak='0', ST_Slope='Up', HeartDisease='0'),\n",
       " Row(Age='62', Sex='F', ChestPainType='ASY', RestingBP='138', Cholesterol='294', FastingBS='1', RestingECG='Normal', MaxHR='106', ExerciseAngina='N', Oldpeak='1.9', ST_Slope='Flat', HeartDisease='1'),\n",
       " Row(Age='51', Sex='M', ChestPainType='ASY', RestingBP='140', Cholesterol='298', FastingBS='0', RestingECG='Normal', MaxHR='122', ExerciseAngina='Y', Oldpeak='4.2', ST_Slope='Flat', HeartDisease='1'),\n",
       " Row(Age='46', Sex='M', ChestPainType='NAP', RestingBP='150', Cholesterol='231', FastingBS='0', RestingECG='Normal', MaxHR='147', ExerciseAngina='N', Oldpeak='3.6', ST_Slope='Flat', HeartDisease='1'),\n",
       " Row(Age='67', Sex='M', ChestPainType='ASY', RestingBP='125', Cholesterol='254', FastingBS='1', RestingECG='Normal', MaxHR='163', ExerciseAngina='N', Oldpeak='0.2', ST_Slope='Flat', HeartDisease='1'),\n",
       " Row(Age='50', Sex='M', ChestPainType='NAP', RestingBP='129', Cholesterol='196', FastingBS='0', RestingECG='Normal', MaxHR='163', ExerciseAngina='N', Oldpeak='0', ST_Slope='Up', HeartDisease='0'),\n",
       " Row(Age='42', Sex='M', ChestPainType='NAP', RestingBP='120', Cholesterol='240', FastingBS='1', RestingECG='Normal', MaxHR='194', ExerciseAngina='N', Oldpeak='0.8', ST_Slope='Down', HeartDisease='0'),\n",
       " Row(Age='56', Sex='F', ChestPainType='ASY', RestingBP='134', Cholesterol='409', FastingBS='0', RestingECG='LVH', MaxHR='150', ExerciseAngina='Y', Oldpeak='1.9', ST_Slope='Flat', HeartDisease='1'),\n",
       " Row(Age='41', Sex='M', ChestPainType='ASY', RestingBP='110', Cholesterol='172', FastingBS='0', RestingECG='LVH', MaxHR='158', ExerciseAngina='N', Oldpeak='0', ST_Slope='Up', HeartDisease='1'),\n",
       " Row(Age='42', Sex='F', ChestPainType='ASY', RestingBP='102', Cholesterol='265', FastingBS='0', RestingECG='LVH', MaxHR='122', ExerciseAngina='N', Oldpeak='0.6', ST_Slope='Flat', HeartDisease='0'),\n",
       " Row(Age='53', Sex='M', ChestPainType='NAP', RestingBP='130', Cholesterol='246', FastingBS='1', RestingECG='LVH', MaxHR='173', ExerciseAngina='N', Oldpeak='0', ST_Slope='Up', HeartDisease='0'),\n",
       " Row(Age='43', Sex='M', ChestPainType='NAP', RestingBP='130', Cholesterol='315', FastingBS='0', RestingECG='Normal', MaxHR='162', ExerciseAngina='N', Oldpeak='1.9', ST_Slope='Up', HeartDisease='0'),\n",
       " Row(Age='56', Sex='M', ChestPainType='ASY', RestingBP='132', Cholesterol='184', FastingBS='0', RestingECG='LVH', MaxHR='105', ExerciseAngina='Y', Oldpeak='2.1', ST_Slope='Flat', HeartDisease='1'),\n",
       " Row(Age='52', Sex='M', ChestPainType='ASY', RestingBP='108', Cholesterol='233', FastingBS='1', RestingECG='Normal', MaxHR='147', ExerciseAngina='N', Oldpeak='0.1', ST_Slope='Up', HeartDisease='0'),\n",
       " Row(Age='62', Sex='F', ChestPainType='ASY', RestingBP='140', Cholesterol='394', FastingBS='0', RestingECG='LVH', MaxHR='157', ExerciseAngina='N', Oldpeak='1.2', ST_Slope='Flat', HeartDisease='0'),\n",
       " Row(Age='70', Sex='M', ChestPainType='NAP', RestingBP='160', Cholesterol='269', FastingBS='0', RestingECG='Normal', MaxHR='112', ExerciseAngina='Y', Oldpeak='2.9', ST_Slope='Flat', HeartDisease='1'),\n",
       " Row(Age='54', Sex='M', ChestPainType='ASY', RestingBP='140', Cholesterol='239', FastingBS='0', RestingECG='Normal', MaxHR='160', ExerciseAngina='N', Oldpeak='1.2', ST_Slope='Up', HeartDisease='0'),\n",
       " Row(Age='70', Sex='M', ChestPainType='ASY', RestingBP='145', Cholesterol='174', FastingBS='0', RestingECG='Normal', MaxHR='125', ExerciseAngina='Y', Oldpeak='2.6', ST_Slope='Down', HeartDisease='1'),\n",
       " Row(Age='54', Sex='M', ChestPainType='ATA', RestingBP='108', Cholesterol='309', FastingBS='0', RestingECG='Normal', MaxHR='156', ExerciseAngina='N', Oldpeak='0', ST_Slope='Up', HeartDisease='0'),\n",
       " Row(Age='35', Sex='M', ChestPainType='ASY', RestingBP='126', Cholesterol='282', FastingBS='0', RestingECG='LVH', MaxHR='156', ExerciseAngina='Y', Oldpeak='0', ST_Slope='Up', HeartDisease='1'),\n",
       " Row(Age='48', Sex='M', ChestPainType='NAP', RestingBP='124', Cholesterol='255', FastingBS='1', RestingECG='Normal', MaxHR='175', ExerciseAngina='N', Oldpeak='0', ST_Slope='Up', HeartDisease='0'),\n",
       " Row(Age='55', Sex='F', ChestPainType='ATA', RestingBP='135', Cholesterol='250', FastingBS='0', RestingECG='LVH', MaxHR='161', ExerciseAngina='N', Oldpeak='1.4', ST_Slope='Flat', HeartDisease='0'),\n",
       " Row(Age='58', Sex='F', ChestPainType='ASY', RestingBP='100', Cholesterol='248', FastingBS='0', RestingECG='LVH', MaxHR='122', ExerciseAngina='N', Oldpeak='1', ST_Slope='Flat', HeartDisease='0'),\n",
       " Row(Age='54', Sex='F', ChestPainType='NAP', RestingBP='110', Cholesterol='214', FastingBS='0', RestingECG='Normal', MaxHR='158', ExerciseAngina='N', Oldpeak='1.6', ST_Slope='Flat', HeartDisease='0'),\n",
       " Row(Age='69', Sex='F', ChestPainType='TA', RestingBP='140', Cholesterol='239', FastingBS='0', RestingECG='Normal', MaxHR='151', ExerciseAngina='N', Oldpeak='1.8', ST_Slope='Up', HeartDisease='0'),\n",
       " Row(Age='77', Sex='M', ChestPainType='ASY', RestingBP='125', Cholesterol='304', FastingBS='0', RestingECG='LVH', MaxHR='162', ExerciseAngina='Y', Oldpeak='0', ST_Slope='Up', HeartDisease='1'),\n",
       " Row(Age='68', Sex='M', ChestPainType='NAP', RestingBP='118', Cholesterol='277', FastingBS='0', RestingECG='Normal', MaxHR='151', ExerciseAngina='N', Oldpeak='1', ST_Slope='Up', HeartDisease='0'),\n",
       " Row(Age='58', Sex='M', ChestPainType='ASY', RestingBP='125', Cholesterol='300', FastingBS='0', RestingECG='LVH', MaxHR='171', ExerciseAngina='N', Oldpeak='0', ST_Slope='Up', HeartDisease='1'),\n",
       " Row(Age='60', Sex='M', ChestPainType='ASY', RestingBP='125', Cholesterol='258', FastingBS='0', RestingECG='LVH', MaxHR='141', ExerciseAngina='Y', Oldpeak='2.8', ST_Slope='Flat', HeartDisease='1'),\n",
       " Row(Age='51', Sex='M', ChestPainType='ASY', RestingBP='140', Cholesterol='299', FastingBS='0', RestingECG='Normal', MaxHR='173', ExerciseAngina='Y', Oldpeak='1.6', ST_Slope='Up', HeartDisease='1'),\n",
       " Row(Age='55', Sex='M', ChestPainType='ASY', RestingBP='160', Cholesterol='289', FastingBS='0', RestingECG='LVH', MaxHR='145', ExerciseAngina='Y', Oldpeak='0.8', ST_Slope='Flat', HeartDisease='1'),\n",
       " Row(Age='52', Sex='M', ChestPainType='TA', RestingBP='152', Cholesterol='298', FastingBS='1', RestingECG='Normal', MaxHR='178', ExerciseAngina='N', Oldpeak='1.2', ST_Slope='Flat', HeartDisease='0'),\n",
       " Row(Age='60', Sex='F', ChestPainType='NAP', RestingBP='102', Cholesterol='318', FastingBS='0', RestingECG='Normal', MaxHR='160', ExerciseAngina='N', Oldpeak='0', ST_Slope='Up', HeartDisease='0'),\n",
       " Row(Age='58', Sex='M', ChestPainType='NAP', RestingBP='105', Cholesterol='240', FastingBS='0', RestingECG='LVH', MaxHR='154', ExerciseAngina='Y', Oldpeak='0.6', ST_Slope='Flat', HeartDisease='0'),\n",
       " Row(Age='64', Sex='M', ChestPainType='NAP', RestingBP='125', Cholesterol='309', FastingBS='0', RestingECG='Normal', MaxHR='131', ExerciseAngina='Y', Oldpeak='1.8', ST_Slope='Flat', HeartDisease='1'),\n",
       " Row(Age='37', Sex='M', ChestPainType='NAP', RestingBP='130', Cholesterol='250', FastingBS='0', RestingECG='Normal', MaxHR='187', ExerciseAngina='N', Oldpeak='3.5', ST_Slope='Down', HeartDisease='0'),\n",
       " Row(Age='59', Sex='M', ChestPainType='TA', RestingBP='170', Cholesterol='288', FastingBS='0', RestingECG='LVH', MaxHR='159', ExerciseAngina='N', Oldpeak='0.2', ST_Slope='Flat', HeartDisease='1'),\n",
       " Row(Age='51', Sex='M', ChestPainType='NAP', RestingBP='125', Cholesterol='245', FastingBS='1', RestingECG='LVH', MaxHR='166', ExerciseAngina='N', Oldpeak='2.4', ST_Slope='Flat', HeartDisease='0'),\n",
       " Row(Age='43', Sex='F', ChestPainType='NAP', RestingBP='122', Cholesterol='213', FastingBS='0', RestingECG='Normal', MaxHR='165', ExerciseAngina='N', Oldpeak='0.2', ST_Slope='Flat', HeartDisease='0'),\n",
       " Row(Age='58', Sex='M', ChestPainType='ASY', RestingBP='128', Cholesterol='216', FastingBS='0', RestingECG='LVH', MaxHR='131', ExerciseAngina='Y', Oldpeak='2.2', ST_Slope='Flat', HeartDisease='1'),\n",
       " Row(Age='29', Sex='M', ChestPainType='ATA', RestingBP='130', Cholesterol='204', FastingBS='0', RestingECG='LVH', MaxHR='202', ExerciseAngina='N', Oldpeak='0', ST_Slope='Up', HeartDisease='0'),\n",
       " Row(Age='41', Sex='F', ChestPainType='ATA', RestingBP='130', Cholesterol='204', FastingBS='0', RestingECG='LVH', MaxHR='172', ExerciseAngina='N', Oldpeak='1.4', ST_Slope='Up', HeartDisease='0'),\n",
       " Row(Age='63', Sex='F', ChestPainType='NAP', RestingBP='135', Cholesterol='252', FastingBS='0', RestingECG='LVH', MaxHR='172', ExerciseAngina='N', Oldpeak='0', ST_Slope='Up', HeartDisease='0'),\n",
       " Row(Age='51', Sex='M', ChestPainType='NAP', RestingBP='94', Cholesterol='227', FastingBS='0', RestingECG='Normal', MaxHR='154', ExerciseAngina='Y', Oldpeak='0', ST_Slope='Up', HeartDisease='0'),\n",
       " Row(Age='54', Sex='M', ChestPainType='NAP', RestingBP='120', Cholesterol='258', FastingBS='0', RestingECG='LVH', MaxHR='147', ExerciseAngina='N', Oldpeak='0.4', ST_Slope='Flat', HeartDisease='0'),\n",
       " Row(Age='44', Sex='M', ChestPainType='ATA', RestingBP='120', Cholesterol='220', FastingBS='0', RestingECG='Normal', MaxHR='170', ExerciseAngina='N', Oldpeak='0', ST_Slope='Up', HeartDisease='0'),\n",
       " Row(Age='54', Sex='M', ChestPainType='ASY', RestingBP='110', Cholesterol='239', FastingBS='0', RestingECG='Normal', MaxHR='126', ExerciseAngina='Y', Oldpeak='2.8', ST_Slope='Flat', HeartDisease='1'),\n",
       " Row(Age='65', Sex='M', ChestPainType='ASY', RestingBP='135', Cholesterol='254', FastingBS='0', RestingECG='LVH', MaxHR='127', ExerciseAngina='N', Oldpeak='2.8', ST_Slope='Flat', HeartDisease='1'),\n",
       " Row(Age='57', Sex='M', ChestPainType='NAP', RestingBP='150', Cholesterol='168', FastingBS='0', RestingECG='Normal', MaxHR='174', ExerciseAngina='N', Oldpeak='1.6', ST_Slope='Up', HeartDisease='0'),\n",
       " Row(Age='63', Sex='M', ChestPainType='ASY', RestingBP='130', Cholesterol='330', FastingBS='1', RestingECG='LVH', MaxHR='132', ExerciseAngina='Y', Oldpeak='1.8', ST_Slope='Up', HeartDisease='1'),\n",
       " Row(Age='35', Sex='F', ChestPainType='ASY', RestingBP='138', Cholesterol='183', FastingBS='0', RestingECG='Normal', MaxHR='182', ExerciseAngina='N', Oldpeak='1.4', ST_Slope='Up', HeartDisease='0'),\n",
       " Row(Age='41', Sex='M', ChestPainType='ATA', RestingBP='135', Cholesterol='203', FastingBS='0', RestingECG='Normal', MaxHR='132', ExerciseAngina='N', Oldpeak='0', ST_Slope='Flat', HeartDisease='0'),\n",
       " Row(Age='62', Sex='F', ChestPainType='NAP', RestingBP='130', Cholesterol='263', FastingBS='0', RestingECG='Normal', MaxHR='97', ExerciseAngina='N', Oldpeak='1.2', ST_Slope='Flat', HeartDisease='1'),\n",
       " Row(Age='43', Sex='F', ChestPainType='ASY', RestingBP='132', Cholesterol='341', FastingBS='1', RestingECG='LVH', MaxHR='136', ExerciseAngina='Y', Oldpeak='3', ST_Slope='Flat', HeartDisease='1'),\n",
       " Row(Age='58', Sex='F', ChestPainType='TA', RestingBP='150', Cholesterol='283', FastingBS='1', RestingECG='LVH', MaxHR='162', ExerciseAngina='N', Oldpeak='1', ST_Slope='Up', HeartDisease='0'),\n",
       " Row(Age='52', Sex='M', ChestPainType='TA', RestingBP='118', Cholesterol='186', FastingBS='0', RestingECG='LVH', MaxHR='190', ExerciseAngina='N', Oldpeak='0', ST_Slope='Flat', HeartDisease='0'),\n",
       " Row(Age='61', Sex='F', ChestPainType='ASY', RestingBP='145', Cholesterol='307', FastingBS='0', RestingECG='LVH', MaxHR='146', ExerciseAngina='Y', Oldpeak='1', ST_Slope='Flat', HeartDisease='1'),\n",
       " Row(Age='39', Sex='M', ChestPainType='ASY', RestingBP='118', Cholesterol='219', FastingBS='0', RestingECG='Normal', MaxHR='140', ExerciseAngina='N', Oldpeak='1.2', ST_Slope='Flat', HeartDisease='1'),\n",
       " Row(Age='45', Sex='M', ChestPainType='ASY', RestingBP='115', Cholesterol='260', FastingBS='0', RestingECG='LVH', MaxHR='185', ExerciseAngina='N', Oldpeak='0', ST_Slope='Up', HeartDisease='0'),\n",
       " Row(Age='52', Sex='M', ChestPainType='ASY', RestingBP='128', Cholesterol='255', FastingBS='0', RestingECG='Normal', MaxHR='161', ExerciseAngina='Y', Oldpeak='0', ST_Slope='Up', HeartDisease='1'),\n",
       " Row(Age='62', Sex='M', ChestPainType='NAP', RestingBP='130', Cholesterol='231', FastingBS='0', RestingECG='Normal', MaxHR='146', ExerciseAngina='N', Oldpeak='1.8', ST_Slope='Flat', HeartDisease='0'),\n",
       " Row(Age='62', Sex='F', ChestPainType='ASY', RestingBP='160', Cholesterol='164', FastingBS='0', RestingECG='LVH', MaxHR='145', ExerciseAngina='N', Oldpeak='6.2', ST_Slope='Down', HeartDisease='1'),\n",
       " Row(Age='53', Sex='F', ChestPainType='ASY', RestingBP='138', Cholesterol='234', FastingBS='0', RestingECG='LVH', MaxHR='160', ExerciseAngina='N', Oldpeak='0', ST_Slope='Up', HeartDisease='0'),\n",
       " Row(Age='43', Sex='M', ChestPainType='ASY', RestingBP='120', Cholesterol='177', FastingBS='0', RestingECG='LVH', MaxHR='120', ExerciseAngina='Y', Oldpeak='2.5', ST_Slope='Flat', HeartDisease='1'),\n",
       " Row(Age='47', Sex='M', ChestPainType='NAP', RestingBP='138', Cholesterol='257', FastingBS='0', RestingECG='LVH', MaxHR='156', ExerciseAngina='N', Oldpeak='0', ST_Slope='Up', HeartDisease='0'),\n",
       " Row(Age='52', Sex='M', ChestPainType='ATA', RestingBP='120', Cholesterol='325', FastingBS='0', RestingECG='Normal', MaxHR='172', ExerciseAngina='N', Oldpeak='0.2', ST_Slope='Up', HeartDisease='0'),\n",
       " Row(Age='68', Sex='M', ChestPainType='NAP', RestingBP='180', Cholesterol='274', FastingBS='1', RestingECG='LVH', MaxHR='150', ExerciseAngina='Y', Oldpeak='1.6', ST_Slope='Flat', HeartDisease='1'),\n",
       " Row(Age='39', Sex='M', ChestPainType='NAP', RestingBP='140', Cholesterol='321', FastingBS='0', RestingECG='LVH', MaxHR='182', ExerciseAngina='N', Oldpeak='0', ST_Slope='Up', HeartDisease='0'),\n",
       " Row(Age='53', Sex='F', ChestPainType='ASY', RestingBP='130', Cholesterol='264', FastingBS='0', RestingECG='LVH', MaxHR='143', ExerciseAngina='N', Oldpeak='0.4', ST_Slope='Flat', HeartDisease='0'),\n",
       " Row(Age='62', Sex='F', ChestPainType='ASY', RestingBP='140', Cholesterol='268', FastingBS='0', RestingECG='LVH', MaxHR='160', ExerciseAngina='N', Oldpeak='3.6', ST_Slope='Down', HeartDisease='1'),\n",
       " Row(Age='51', Sex='F', ChestPainType='NAP', RestingBP='140', Cholesterol='308', FastingBS='0', RestingECG='LVH', MaxHR='142', ExerciseAngina='N', Oldpeak='1.5', ST_Slope='Up', HeartDisease='0'),\n",
       " Row(Age='60', Sex='M', ChestPainType='ASY', RestingBP='130', Cholesterol='253', FastingBS='0', RestingECG='Normal', MaxHR='144', ExerciseAngina='Y', Oldpeak='1.4', ST_Slope='Up', HeartDisease='1'),\n",
       " Row(Age='65', Sex='M', ChestPainType='ASY', RestingBP='110', Cholesterol='248', FastingBS='0', RestingECG='LVH', MaxHR='158', ExerciseAngina='N', Oldpeak='0.6', ST_Slope='Up', HeartDisease='1'),\n",
       " Row(Age='65', Sex='F', ChestPainType='NAP', RestingBP='155', Cholesterol='269', FastingBS='0', RestingECG='Normal', MaxHR='148', ExerciseAngina='N', Oldpeak='0.8', ST_Slope='Up', HeartDisease='0'),\n",
       " Row(Age='60', Sex='M', ChestPainType='NAP', RestingBP='140', Cholesterol='185', FastingBS='0', RestingECG='LVH', MaxHR='155', ExerciseAngina='N', Oldpeak='3', ST_Slope='Flat', HeartDisease='1'),\n",
       " Row(Age='60', Sex='M', ChestPainType='ASY', RestingBP='145', Cholesterol='282', FastingBS='0', RestingECG='LVH', MaxHR='142', ExerciseAngina='Y', Oldpeak='2.8', ST_Slope='Flat', HeartDisease='1'),\n",
       " Row(Age='54', Sex='M', ChestPainType='ASY', RestingBP='120', Cholesterol='188', FastingBS='0', RestingECG='Normal', MaxHR='113', ExerciseAngina='N', Oldpeak='1.4', ST_Slope='Flat', HeartDisease='1'),\n",
       " Row(Age='44', Sex='M', ChestPainType='ATA', RestingBP='130', Cholesterol='219', FastingBS='0', RestingECG='LVH', MaxHR='188', ExerciseAngina='N', Oldpeak='0', ST_Slope='Up', HeartDisease='0'),\n",
       " Row(Age='44', Sex='M', ChestPainType='ASY', RestingBP='112', Cholesterol='290', FastingBS='0', RestingECG='LVH', MaxHR='153', ExerciseAngina='N', Oldpeak='0', ST_Slope='Up', HeartDisease='1'),\n",
       " Row(Age='51', Sex='M', ChestPainType='NAP', RestingBP='110', Cholesterol='175', FastingBS='0', RestingECG='Normal', MaxHR='123', ExerciseAngina='N', Oldpeak='0.6', ST_Slope='Up', HeartDisease='0'),\n",
       " Row(Age='59', Sex='M', ChestPainType='NAP', RestingBP='150', Cholesterol='212', FastingBS='1', RestingECG='Normal', MaxHR='157', ExerciseAngina='N', Oldpeak='1.6', ST_Slope='Up', HeartDisease='0'),\n",
       " Row(Age='71', Sex='F', ChestPainType='ATA', RestingBP='160', Cholesterol='302', FastingBS='0', RestingECG='Normal', MaxHR='162', ExerciseAngina='N', Oldpeak='0.4', ST_Slope='Up', HeartDisease='0'),\n",
       " Row(Age='61', Sex='M', ChestPainType='NAP', RestingBP='150', Cholesterol='243', FastingBS='1', RestingECG='Normal', MaxHR='137', ExerciseAngina='Y', Oldpeak='1', ST_Slope='Flat', HeartDisease='0'),\n",
       " Row(Age='55', Sex='M', ChestPainType='ASY', RestingBP='132', Cholesterol='353', FastingBS='0', RestingECG='Normal', MaxHR='132', ExerciseAngina='Y', Oldpeak='1.2', ST_Slope='Flat', HeartDisease='1'),\n",
       " Row(Age='64', Sex='M', ChestPainType='NAP', RestingBP='140', Cholesterol='335', FastingBS='0', RestingECG='Normal', MaxHR='158', ExerciseAngina='N', Oldpeak='0', ST_Slope='Up', HeartDisease='1'),\n",
       " Row(Age='43', Sex='M', ChestPainType='ASY', RestingBP='150', Cholesterol='247', FastingBS='0', RestingECG='Normal', MaxHR='171', ExerciseAngina='N', Oldpeak='1.5', ST_Slope='Up', HeartDisease='0'),\n",
       " Row(Age='58', Sex='F', ChestPainType='NAP', RestingBP='120', Cholesterol='340', FastingBS='0', RestingECG='Normal', MaxHR='172', ExerciseAngina='N', Oldpeak='0', ST_Slope='Up', HeartDisease='0'),\n",
       " Row(Age='60', Sex='M', ChestPainType='ASY', RestingBP='130', Cholesterol='206', FastingBS='0', RestingECG='LVH', MaxHR='132', ExerciseAngina='Y', Oldpeak='2.4', ST_Slope='Flat', HeartDisease='1'),\n",
       " Row(Age='58', Sex='M', ChestPainType='ATA', RestingBP='120', Cholesterol='284', FastingBS='0', RestingECG='LVH', MaxHR='160', ExerciseAngina='N', Oldpeak='1.8', ST_Slope='Flat', HeartDisease='1'),\n",
       " Row(Age='49', Sex='M', ChestPainType='ATA', RestingBP='130', Cholesterol='266', FastingBS='0', RestingECG='Normal', MaxHR='171', ExerciseAngina='N', Oldpeak='0.6', ST_Slope='Up', HeartDisease='0'),\n",
       " Row(Age='48', Sex='M', ChestPainType='ATA', RestingBP='110', Cholesterol='229', FastingBS='0', RestingECG='Normal', MaxHR='168', ExerciseAngina='N', Oldpeak='1', ST_Slope='Down', HeartDisease='1'),\n",
       " Row(Age='52', Sex='M', ChestPainType='NAP', RestingBP='172', Cholesterol='199', FastingBS='1', RestingECG='Normal', MaxHR='162', ExerciseAngina='N', Oldpeak='0.5', ST_Slope='Up', HeartDisease='0'),\n",
       " Row(Age='44', Sex='M', ChestPainType='ATA', RestingBP='120', Cholesterol='263', FastingBS='0', RestingECG='Normal', MaxHR='173', ExerciseAngina='N', Oldpeak='0', ST_Slope='Up', HeartDisease='0'),\n",
       " Row(Age='56', Sex='F', ChestPainType='ATA', RestingBP='140', Cholesterol='294', FastingBS='0', RestingECG='LVH', MaxHR='153', ExerciseAngina='N', Oldpeak='1.3', ST_Slope='Flat', HeartDisease='0'),\n",
       " Row(Age='57', Sex='M', ChestPainType='ASY', RestingBP='140', Cholesterol='192', FastingBS='0', RestingECG='Normal', MaxHR='148', ExerciseAngina='N', Oldpeak='0.4', ST_Slope='Flat', HeartDisease='0'),\n",
       " Row(Age='67', Sex='M', ChestPainType='ASY', RestingBP='160', Cholesterol='286', FastingBS='0', RestingECG='LVH', MaxHR='108', ExerciseAngina='Y', Oldpeak='1.5', ST_Slope='Flat', HeartDisease='1'),\n",
       " Row(Age='53', Sex='F', ChestPainType='NAP', RestingBP='128', Cholesterol='216', FastingBS='0', RestingECG='LVH', MaxHR='115', ExerciseAngina='N', Oldpeak='0', ST_Slope='Up', HeartDisease='0'),\n",
       " Row(Age='52', Sex='M', ChestPainType='NAP', RestingBP='138', Cholesterol='223', FastingBS='0', RestingECG='Normal', MaxHR='169', ExerciseAngina='N', Oldpeak='0', ST_Slope='Up', HeartDisease='0'),\n",
       " Row(Age='43', Sex='M', ChestPainType='ASY', RestingBP='132', Cholesterol='247', FastingBS='1', RestingECG='LVH', MaxHR='143', ExerciseAngina='Y', Oldpeak='0.1', ST_Slope='Flat', HeartDisease='1'),\n",
       " Row(Age='52', Sex='M', ChestPainType='ASY', RestingBP='128', Cholesterol='204', FastingBS='1', RestingECG='Normal', MaxHR='156', ExerciseAngina='Y', Oldpeak='1', ST_Slope='Flat', HeartDisease='1'),\n",
       " Row(Age='59', Sex='M', ChestPainType='TA', RestingBP='134', Cholesterol='204', FastingBS='0', RestingECG='Normal', MaxHR='162', ExerciseAngina='N', Oldpeak='0.8', ST_Slope='Up', HeartDisease='1'),\n",
       " Row(Age='64', Sex='M', ChestPainType='TA', RestingBP='170', Cholesterol='227', FastingBS='0', RestingECG='LVH', MaxHR='155', ExerciseAngina='N', Oldpeak='0.6', ST_Slope='Flat', HeartDisease='0'),\n",
       " Row(Age='66', Sex='F', ChestPainType='NAP', RestingBP='146', Cholesterol='278', FastingBS='0', RestingECG='LVH', MaxHR='152', ExerciseAngina='N', Oldpeak='0', ST_Slope='Flat', HeartDisease='0'),\n",
       " Row(Age='39', Sex='F', ChestPainType='NAP', RestingBP='138', Cholesterol='220', FastingBS='0', RestingECG='Normal', MaxHR='152', ExerciseAngina='N', Oldpeak='0', ST_Slope='Flat', HeartDisease='0'),\n",
       " Row(Age='57', Sex='M', ChestPainType='ATA', RestingBP='154', Cholesterol='232', FastingBS='0', RestingECG='LVH', MaxHR='164', ExerciseAngina='N', Oldpeak='0', ST_Slope='Up', HeartDisease='1'),\n",
       " Row(Age='58', Sex='F', ChestPainType='ASY', RestingBP='130', Cholesterol='197', FastingBS='0', RestingECG='Normal', MaxHR='131', ExerciseAngina='N', Oldpeak='0.6', ST_Slope='Flat', HeartDisease='0'),\n",
       " Row(Age='57', Sex='M', ChestPainType='ASY', RestingBP='110', Cholesterol='335', FastingBS='0', RestingECG='Normal', MaxHR='143', ExerciseAngina='Y', Oldpeak='3', ST_Slope='Flat', HeartDisease='1'),\n",
       " Row(Age='47', Sex='M', ChestPainType='NAP', RestingBP='130', Cholesterol='253', FastingBS='0', RestingECG='Normal', MaxHR='179', ExerciseAngina='N', Oldpeak='0', ST_Slope='Up', HeartDisease='0'),\n",
       " Row(Age='55', Sex='F', ChestPainType='ASY', RestingBP='128', Cholesterol='205', FastingBS='0', RestingECG='ST', MaxHR='130', ExerciseAngina='Y', Oldpeak='2', ST_Slope='Flat', HeartDisease='1'),\n",
       " Row(Age='35', Sex='M', ChestPainType='ATA', RestingBP='122', Cholesterol='192', FastingBS='0', RestingECG='Normal', MaxHR='174', ExerciseAngina='N', Oldpeak='0', ST_Slope='Up', HeartDisease='0'),\n",
       " Row(Age='61', Sex='M', ChestPainType='ASY', RestingBP='148', Cholesterol='203', FastingBS='0', RestingECG='Normal', MaxHR='161', ExerciseAngina='N', Oldpeak='0', ST_Slope='Up', HeartDisease='1'),\n",
       " Row(Age='58', Sex='M', ChestPainType='ASY', RestingBP='114', Cholesterol='318', FastingBS='0', RestingECG='ST', MaxHR='140', ExerciseAngina='N', Oldpeak='4.4', ST_Slope='Down', HeartDisease='1'),\n",
       " Row(Age='58', Sex='F', ChestPainType='ASY', RestingBP='170', Cholesterol='225', FastingBS='1', RestingECG='LVH', MaxHR='146', ExerciseAngina='Y', Oldpeak='2.8', ST_Slope='Flat', HeartDisease='1'),\n",
       " Row(Age='58', Sex='M', ChestPainType='ATA', RestingBP='125', Cholesterol='220', FastingBS='0', RestingECG='Normal', MaxHR='144', ExerciseAngina='N', Oldpeak='0.4', ST_Slope='Flat', HeartDisease='0'),\n",
       " Row(Age='56', Sex='M', ChestPainType='ATA', RestingBP='130', Cholesterol='221', FastingBS='0', RestingECG='LVH', MaxHR='163', ExerciseAngina='N', Oldpeak='0', ST_Slope='Up', HeartDisease='0'),\n",
       " Row(Age='56', Sex='M', ChestPainType='ATA', RestingBP='120', Cholesterol='240', FastingBS='0', RestingECG='Normal', MaxHR='169', ExerciseAngina='N', Oldpeak='0', ST_Slope='Down', HeartDisease='0'),\n",
       " Row(Age='67', Sex='M', ChestPainType='NAP', RestingBP='152', Cholesterol='212', FastingBS='0', RestingECG='LVH', MaxHR='150', ExerciseAngina='N', Oldpeak='0.8', ST_Slope='Flat', HeartDisease='1'),\n",
       " Row(Age='55', Sex='F', ChestPainType='ATA', RestingBP='132', Cholesterol='342', FastingBS='0', RestingECG='Normal', MaxHR='166', ExerciseAngina='N', Oldpeak='1.2', ST_Slope='Up', HeartDisease='0'),\n",
       " Row(Age='44', Sex='M', ChestPainType='ASY', RestingBP='120', Cholesterol='169', FastingBS='0', RestingECG='Normal', MaxHR='144', ExerciseAngina='Y', Oldpeak='2.8', ST_Slope='Down', HeartDisease='1'),\n",
       " Row(Age='63', Sex='M', ChestPainType='ASY', RestingBP='140', Cholesterol='187', FastingBS='0', RestingECG='LVH', MaxHR='144', ExerciseAngina='Y', Oldpeak='4', ST_Slope='Up', HeartDisease='1'),\n",
       " Row(Age='63', Sex='F', ChestPainType='ASY', RestingBP='124', Cholesterol='197', FastingBS='0', RestingECG='Normal', MaxHR='136', ExerciseAngina='Y', Oldpeak='0', ST_Slope='Flat', HeartDisease='1'),\n",
       " Row(Age='41', Sex='M', ChestPainType='ATA', RestingBP='120', Cholesterol='157', FastingBS='0', RestingECG='Normal', MaxHR='182', ExerciseAngina='N', Oldpeak='0', ST_Slope='Up', HeartDisease='0'),\n",
       " Row(Age='59', Sex='M', ChestPainType='ASY', RestingBP='164', Cholesterol='176', FastingBS='1', RestingECG='LVH', MaxHR='90', ExerciseAngina='N', Oldpeak='1', ST_Slope='Flat', HeartDisease='1'),\n",
       " Row(Age='57', Sex='F', ChestPainType='ASY', RestingBP='140', Cholesterol='241', FastingBS='0', RestingECG='Normal', MaxHR='123', ExerciseAngina='Y', Oldpeak='0.2', ST_Slope='Flat', HeartDisease='1'),\n",
       " Row(Age='45', Sex='M', ChestPainType='TA', RestingBP='110', Cholesterol='264', FastingBS='0', RestingECG='Normal', MaxHR='132', ExerciseAngina='N', Oldpeak='1.2', ST_Slope='Flat', HeartDisease='1'),\n",
       " Row(Age='68', Sex='M', ChestPainType='ASY', RestingBP='144', Cholesterol='193', FastingBS='1', RestingECG='Normal', MaxHR='141', ExerciseAngina='N', Oldpeak='3.4', ST_Slope='Flat', HeartDisease='1'),\n",
       " Row(Age='57', Sex='M', ChestPainType='ASY', RestingBP='130', Cholesterol='131', FastingBS='0', RestingECG='Normal', MaxHR='115', ExerciseAngina='Y', Oldpeak='1.2', ST_Slope='Flat', HeartDisease='1'),\n",
       " Row(Age='57', Sex='F', ChestPainType='ATA', RestingBP='130', Cholesterol='236', FastingBS='0', RestingECG='LVH', MaxHR='174', ExerciseAngina='N', Oldpeak='0', ST_Slope='Flat', HeartDisease='1'),\n",
       " Row(Age='38', Sex='M', ChestPainType='NAP', RestingBP='138', Cholesterol='175', FastingBS='0', RestingECG='Normal', MaxHR='173', ExerciseAngina='N', Oldpeak='0', ST_Slope='Up', HeartDisease='0')]"
      ]
     },
     "execution_count": 9,
     "metadata": {},
     "output_type": "execute_result"
    }
   ],
   "source": [
    "df.cache()\n",
    "df.collect()"
   ]
  },
  {
   "cell_type": "code",
   "execution_count": 10,
   "metadata": {},
   "outputs": [],
   "source": [
    "# convert PySpark DataFrame to Pandas DataFrame\n",
    "pd_df = df.toPandas()\n",
    "# convert it back\n",
    "spark_df = spark.createDataFrame(pd_df)"
   ]
  },
  {
   "cell_type": "code",
   "execution_count": 11,
   "metadata": {},
   "outputs": [
    {
     "data": {
      "text/plain": [
       "[Row(Age='40', Sex='M', ChestPainType='ATA', RestingBP='140', Cholesterol='289', FastingBS='0', RestingECG='Normal', MaxHR='172', ExerciseAngina='N', Oldpeak='0', ST_Slope='Up', HeartDisease='0'),\n",
       " Row(Age='49', Sex='F', ChestPainType='NAP', RestingBP='160', Cholesterol='180', FastingBS='0', RestingECG='Normal', MaxHR='156', ExerciseAngina='N', Oldpeak='1', ST_Slope='Flat', HeartDisease='1'),\n",
       " Row(Age='37', Sex='M', ChestPainType='ATA', RestingBP='130', Cholesterol='283', FastingBS='0', RestingECG='ST', MaxHR='98', ExerciseAngina='N', Oldpeak='0', ST_Slope='Up', HeartDisease='0')]"
      ]
     },
     "execution_count": 11,
     "metadata": {},
     "output_type": "execute_result"
    }
   ],
   "source": [
    "# show first three rows as three row objects, which is how spark represents single rows from a table.\n",
    "# we will learn more about it later\n",
    "df.head(3)"
   ]
  },
  {
   "cell_type": "code",
   "execution_count": 12,
   "metadata": {},
   "outputs": [
    {
     "name": "stdout",
     "output_type": "stream",
     "text": [
      "root\n",
      " |-- Age: string (nullable = true)\n",
      " |-- Sex: string (nullable = true)\n",
      " |-- ChestPainType: string (nullable = true)\n",
      " |-- RestingBP: string (nullable = true)\n",
      " |-- Cholesterol: string (nullable = true)\n",
      " |-- FastingBS: string (nullable = true)\n",
      " |-- RestingECG: string (nullable = true)\n",
      " |-- MaxHR: string (nullable = true)\n",
      " |-- ExerciseAngina: string (nullable = true)\n",
      " |-- Oldpeak: string (nullable = true)\n",
      " |-- ST_Slope: string (nullable = true)\n",
      " |-- HeartDisease: string (nullable = true)\n",
      "\n"
     ]
    }
   ],
   "source": [
    "# type os columns\n",
    "df.printSchema()"
   ]
  },
  {
   "cell_type": "code",
   "execution_count": 13,
   "metadata": {},
   "outputs": [
    {
     "data": {
      "text/plain": [
       "[('Age', 'string'),\n",
       " ('Sex', 'string'),\n",
       " ('ChestPainType', 'string'),\n",
       " ('RestingBP', 'string'),\n",
       " ('Cholesterol', 'string'),\n",
       " ('FastingBS', 'string'),\n",
       " ('RestingECG', 'string'),\n",
       " ('MaxHR', 'string'),\n",
       " ('ExerciseAngina', 'string'),\n",
       " ('Oldpeak', 'string'),\n",
       " ('ST_Slope', 'string'),\n",
       " ('HeartDisease', 'string')]"
      ]
     },
     "execution_count": 13,
     "metadata": {},
     "output_type": "execute_result"
    }
   ],
   "source": [
    "# column dtypes as list of tuples\n",
    "df.dtypes"
   ]
  },
  {
   "cell_type": "code",
   "execution_count": 14,
   "metadata": {},
   "outputs": [],
   "source": [
    "# cast a column from one type to other\n",
    "from pyspark.sql.types import FloatType\n",
    "df = df.withColumn(\"Age\",df.Age.cast(FloatType()))\n",
    "df = df.withColumn(\"RestingBP\",df.Age.cast(FloatType()))"
   ]
  },
  {
   "cell_type": "code",
   "execution_count": 15,
   "metadata": {},
   "outputs": [
    {
     "name": "stdout",
     "output_type": "stream",
     "text": [
      "+-------+------------------+------------------+\n",
      "|summary|               Age|         RestingBP|\n",
      "+-------+------------------+------------------+\n",
      "|  count|               918|               918|\n",
      "|   mean|53.510893246187365|53.510893246187365|\n",
      "| stddev|  9.43261650673202|  9.43261650673202|\n",
      "|    min|              28.0|              28.0|\n",
      "|    max|              77.0|              77.0|\n",
      "+-------+------------------+------------------+\n",
      "\n"
     ]
    }
   ],
   "source": [
    "# compute summery statistics\n",
    "df.select(['Age','RestingBP']).describe().show()"
   ]
  },
  {
   "cell_type": "code",
   "execution_count": 16,
   "metadata": {},
   "outputs": [],
   "source": [
    "# add a new column or replace existing one\n",
    "AgeFixed = df['Age'] + 1  # select alwayes returns a DataFrame object, and we need a column object\n",
    "df = df.withColumn('AgeFixed', AgeFixed)"
   ]
  },
  {
   "cell_type": "code",
   "execution_count": 17,
   "metadata": {},
   "outputs": [
    {
     "name": "stdout",
     "output_type": "stream",
     "text": [
      "+-------+------------------+------------------+\n",
      "|summary|          AgeFixed|               Age|\n",
      "+-------+------------------+------------------+\n",
      "|  count|               918|               918|\n",
      "|   mean|54.510893246187365|53.510893246187365|\n",
      "| stddev|  9.43261650673202|  9.43261650673202|\n",
      "|    min|              29.0|              28.0|\n",
      "|    max|              78.0|              77.0|\n",
      "+-------+------------------+------------------+\n",
      "\n"
     ]
    }
   ],
   "source": [
    "df.select(['AgeFixed','Age']).describe().show()"
   ]
  },
  {
   "cell_type": "code",
   "execution_count": 18,
   "metadata": {},
   "outputs": [
    {
     "name": "stdout",
     "output_type": "stream",
     "text": [
      "+----+---+-------------+---------+-----------+---------+----------+-----+--------------+-------+--------+------------+\n",
      "| Age|Sex|ChestPainType|RestingBP|Cholesterol|FastingBS|RestingECG|MaxHR|ExerciseAngina|Oldpeak|ST_Slope|HeartDisease|\n",
      "+----+---+-------------+---------+-----------+---------+----------+-----+--------------+-------+--------+------------+\n",
      "|40.0|  M|          ATA|     40.0|        289|        0|    Normal|  172|             N|      0|      Up|           0|\n",
      "+----+---+-------------+---------+-----------+---------+----------+-----+--------------+-------+--------+------------+\n",
      "only showing top 1 row\n",
      "\n"
     ]
    }
   ],
   "source": [
    "# remove columns\n",
    "df.drop('AgeFixed').show(1) # add df = to get the new DataFrame into a variable"
   ]
  },
  {
   "cell_type": "code",
   "execution_count": 19,
   "metadata": {},
   "outputs": [
    {
     "name": "stdout",
     "output_type": "stream",
     "text": [
      "+----+\n",
      "| age|\n",
      "+----+\n",
      "|40.0|\n",
      "+----+\n",
      "only showing top 1 row\n",
      "\n"
     ]
    }
   ],
   "source": [
    "# rename a column\n",
    "df.withColumnRenamed('Age','age').select('age').show(1)\n",
    "# to rename more than a single column, i would suggest a loop.\n",
    "name_pairs = [('Age','age'),('Sex','sex')]\n",
    "for old_name, new_name in name_pairs:\n",
    "    df = df.withColumnRenamed(old_name,new_name)"
   ]
  },
  {
   "cell_type": "code",
   "execution_count": 20,
   "metadata": {},
   "outputs": [
    {
     "name": "stdout",
     "output_type": "stream",
     "text": [
      "+----+---+\n",
      "| age|sex|\n",
      "+----+---+\n",
      "|40.0|  M|\n",
      "+----+---+\n",
      "only showing top 1 row\n",
      "\n"
     ]
    }
   ],
   "source": [
    "df.select(['age','sex']).show(1)"
   ]
  },
  {
   "cell_type": "code",
   "execution_count": 21,
   "metadata": {},
   "outputs": [],
   "source": [
    "# drop all rows that contain any NA\n",
    "df = df.na.drop()\n",
    "df.count()\n",
    "# drop all rows where all values are NA\n",
    "df = df.na.drop(how='all')\n",
    "# drop all rows where more at least 2 values are NOT NA\n",
    "df = df.na.drop(thresh=2)\n",
    "# drop all rows where any value at specific columns are NAs.\n",
    "df = df.na.drop(how='any', subset=['age','sex']) # 'any' is the defult"
   ]
  },
  {
   "cell_type": "code",
   "execution_count": 22,
   "metadata": {},
   "outputs": [],
   "source": [
    "# fill missing values in a specific column with a '?'\n",
    "df = df.na.fill(value='?',subset=['sex'])\n",
    "# replace NAs with mean of column\n",
    "from pyspark.ml.feature import Imputer # In statistics, imputation is the process of\n",
    "                                       # replacing missing data with substituted values\n",
    "imptr = Imputer(inputCols=['age','RestingBP'],\n",
    "                outputCols=['age','RestingBP']).setStrategy('mean') # can also be 'median' and so on\n",
    "\n",
    "df = imptr.fit(df).transform(df)"
   ]
  },
  {
   "cell_type": "code",
   "execution_count": 23,
   "metadata": {},
   "outputs": [
    {
     "data": {
      "text/plain": [
       "DataFrame[age: float, sex: string, ChestPainType: string, RestingBP: float, Cholesterol: string, FastingBS: string, RestingECG: string, MaxHR: string, ExerciseAngina: string, Oldpeak: string, ST_Slope: string, HeartDisease: string, AgeFixed: float]"
      ]
     },
     "execution_count": 23,
     "metadata": {},
     "output_type": "execute_result"
    }
   ],
   "source": [
    "# filter to adults only and calculate mean\n",
    "df.filter('age > 18')\n",
    "df.where('age > 18')# 'where' is an alias to 'filter'\n",
    "df.where(df['age'] > 18) # third option\n",
    "# add another condition ('&' means and, '|' means or)\n",
    "df.where((df['age'] > 18) | (df['ChestPainType'] == 'ATA'))\n",
    "# take every record where the 'ChestPainType' is NOT 'ATA'\n",
    "df.filter(~(df['ChestPainType'] == 'ATA'))"
   ]
  },
  {
   "cell_type": "code",
   "execution_count": 24,
   "metadata": {},
   "outputs": [
    {
     "name": "stdout",
     "output_type": "stream",
     "text": [
      "+----+---+-------------+---------+-----------+---------+----------+-----+--------------+-------+--------+------------+--------+\n",
      "| age|sex|ChestPainType|RestingBP|Cholesterol|FastingBS|RestingECG|MaxHR|ExerciseAngina|Oldpeak|ST_Slope|HeartDisease|AgeFixed|\n",
      "+----+---+-------------+---------+-----------+---------+----------+-----+--------------+-------+--------+------------+--------+\n",
      "|40.0|  M|          ATA|     40.0|        289|        0|    Normal|  172|             N|      0|      Up|           0|    41.0|\n",
      "|49.0|  F|          NAP|     49.0|        180|        0|    Normal|  156|             N|      1|    Flat|           1|    50.0|\n",
      "|37.0|  M|          ATA|     37.0|        283|        0|        ST|   98|             N|      0|      Up|           0|    38.0|\n",
      "|48.0|  F|          ASY|     48.0|        214|        0|    Normal|  108|             Y|    1.5|    Flat|           1|    49.0|\n",
      "|54.0|  M|          NAP|     54.0|        195|        0|    Normal|  122|             N|      0|      Up|           0|    55.0|\n",
      "|39.0|  M|          NAP|     39.0|        339|        0|    Normal|  170|             N|      0|      Up|           0|    40.0|\n",
      "|45.0|  F|          ATA|     45.0|        237|        0|    Normal|  170|             N|      0|      Up|           0|    46.0|\n",
      "|54.0|  M|          ATA|     54.0|        208|        0|    Normal|  142|             N|      0|      Up|           0|    55.0|\n",
      "|37.0|  M|          ASY|     37.0|        207|        0|    Normal|  130|             Y|    1.5|    Flat|           1|    38.0|\n",
      "|48.0|  F|          ATA|     48.0|        284|        0|    Normal|  120|             N|      0|      Up|           0|    49.0|\n",
      "|37.0|  F|          NAP|     37.0|        211|        0|    Normal|  142|             N|      0|      Up|           0|    38.0|\n",
      "|58.0|  M|          ATA|     58.0|        164|        0|        ST|   99|             Y|      2|    Flat|           1|    59.0|\n",
      "|39.0|  M|          ATA|     39.0|        204|        0|    Normal|  145|             N|      0|      Up|           0|    40.0|\n",
      "|49.0|  M|          ASY|     49.0|        234|        0|    Normal|  140|             Y|      1|    Flat|           1|    50.0|\n",
      "|42.0|  F|          NAP|     42.0|        211|        0|        ST|  137|             N|      0|      Up|           0|    43.0|\n",
      "|54.0|  F|          ATA|     54.0|        273|        0|    Normal|  150|             N|    1.5|    Flat|           0|    55.0|\n",
      "|38.0|  M|          ASY|     38.0|        196|        0|    Normal|  166|             N|      0|    Flat|           1|    39.0|\n",
      "|43.0|  F|          ATA|     43.0|        201|        0|    Normal|  165|             N|      0|      Up|           0|    44.0|\n",
      "|60.0|  M|          ASY|     60.0|        248|        0|    Normal|  125|             N|      1|    Flat|           1|    61.0|\n",
      "|36.0|  M|          ATA|     36.0|        267|        0|    Normal|  160|             N|      3|    Flat|           1|    37.0|\n",
      "+----+---+-------------+---------+-----------+---------+----------+-----+--------------+-------+--------+------------+--------+\n",
      "only showing top 20 rows\n",
      "\n"
     ]
    }
   ],
   "source": [
    "df.filter('age > 18').show()"
   ]
  },
  {
   "cell_type": "code",
   "execution_count": 27,
   "metadata": {},
   "outputs": [
    {
     "name": "stdout",
     "output_type": "stream",
     "text": [
      "+-------+\n",
      "|new_col|\n",
      "+-------+\n",
      "|   48.2|\n",
      "|   59.0|\n",
      "|   44.6|\n",
      "+-------+\n",
      "only showing top 3 rows\n",
      "\n"
     ]
    }
   ],
   "source": [
    "# evaluate a string expression into command\n",
    "from pyspark.sql.functions import expr\n",
    "exp = 'age + 0.2 * AgeFixed'\n",
    "df.withColumn('new_col', expr(exp)).select('new_col').show(3)"
   ]
  },
  {
   "cell_type": "code",
   "execution_count": 28,
   "metadata": {},
   "outputs": [
    {
     "name": "stdout",
     "output_type": "stream",
     "text": [
      "+----+---+-------------+---------+-----------+---------+----------+-----+--------------+-------+--------+------------+--------+\n",
      "| age|sex|ChestPainType|RestingBP|Cholesterol|FastingBS|RestingECG|MaxHR|ExerciseAngina|Oldpeak|ST_Slope|HeartDisease|AgeFixed|\n",
      "+----+---+-------------+---------+-----------+---------+----------+-----+--------------+-------+--------+------------+--------+\n",
      "|40.0|  M|          ATA|     40.0|        289|        0|    Normal|  172|             N|      0|      Up|           0|    41.0|\n",
      "|49.0|  F|          NAP|     49.0|        180|        0|    Normal|  156|             N|      1|    Flat|           1|    50.0|\n",
      "|37.0|  M|          ATA|     37.0|        283|        0|        ST|   98|             N|      0|      Up|           0|    38.0|\n",
      "|48.0|  F|          ASY|     48.0|        214|        0|    Normal|  108|             Y|    1.5|    Flat|           1|    49.0|\n",
      "|54.0|  M|          NAP|     54.0|        195|        0|    Normal|  122|             N|      0|      Up|           0|    55.0|\n",
      "|39.0|  M|          NAP|     39.0|        339|        0|    Normal|  170|             N|      0|      Up|           0|    40.0|\n",
      "|45.0|  F|          ATA|     45.0|        237|        0|    Normal|  170|             N|      0|      Up|           0|    46.0|\n",
      "|54.0|  M|          ATA|     54.0|        208|        0|    Normal|  142|             N|      0|      Up|           0|    55.0|\n",
      "|37.0|  M|          ASY|     37.0|        207|        0|    Normal|  130|             Y|    1.5|    Flat|           1|    38.0|\n",
      "|48.0|  F|          ATA|     48.0|        284|        0|    Normal|  120|             N|      0|      Up|           0|    49.0|\n",
      "|37.0|  F|          NAP|     37.0|        211|        0|    Normal|  142|             N|      0|      Up|           0|    38.0|\n",
      "|58.0|  M|          ATA|     58.0|        164|        0|        ST|   99|             Y|      2|    Flat|           1|    59.0|\n",
      "|39.0|  M|          ATA|     39.0|        204|        0|    Normal|  145|             N|      0|      Up|           0|    40.0|\n",
      "|49.0|  M|          ASY|     49.0|        234|        0|    Normal|  140|             Y|      1|    Flat|           1|    50.0|\n",
      "|42.0|  F|          NAP|     42.0|        211|        0|        ST|  137|             N|      0|      Up|           0|    43.0|\n",
      "|54.0|  F|          ATA|     54.0|        273|        0|    Normal|  150|             N|    1.5|    Flat|           0|    55.0|\n",
      "|38.0|  M|          ASY|     38.0|        196|        0|    Normal|  166|             N|      0|    Flat|           1|    39.0|\n",
      "|43.0|  F|          ATA|     43.0|        201|        0|    Normal|  165|             N|      0|      Up|           0|    44.0|\n",
      "|60.0|  M|          ASY|     60.0|        248|        0|    Normal|  125|             N|      1|    Flat|           1|    61.0|\n",
      "|36.0|  M|          ATA|     36.0|        267|        0|    Normal|  160|             N|      3|    Flat|           1|    37.0|\n",
      "+----+---+-------------+---------+-----------+---------+----------+-----+--------------+-------+--------+------------+--------+\n",
      "only showing top 20 rows\n",
      "\n"
     ]
    }
   ],
   "source": [
    "df.show()"
   ]
  },
  {
   "cell_type": "code",
   "execution_count": 30,
   "metadata": {},
   "outputs": [
    {
     "name": "stdout",
     "output_type": "stream",
     "text": [
      "+----+\n",
      "| age|\n",
      "+----+\n",
      "|77.0|\n",
      "|76.0|\n",
      "|75.0|\n",
      "|74.0|\n",
      "|73.0|\n",
      "+----+\n",
      "only showing top 5 rows\n",
      "\n"
     ]
    }
   ],
   "source": [
    "# group by age\n",
    "disease_by_age = df.groupby('age').mean().select(['age'])\n",
    "# sort values in desnding order\n",
    "from pyspark.sql.functions import desc\n",
    "disease_by_age.orderBy(desc(\"age\")).show(5)"
   ]
  },
  {
   "cell_type": "code",
   "execution_count": 31,
   "metadata": {},
   "outputs": [
    {
     "name": "stdout",
     "output_type": "stream",
     "text": [
      "+----+\n",
      "| age|\n",
      "+----+\n",
      "|77.0|\n",
      "|76.0|\n",
      "|75.0|\n",
      "+----+\n",
      "only showing top 3 rows\n",
      "\n"
     ]
    }
   ],
   "source": [
    "from pyspark.sql.functions import asc\n",
    "disease_by_age = df.groupby('age').mean().select(['age'])\n",
    "disease_by_age.orderBy(desc(\"age\")).show(3)"
   ]
  },
  {
   "cell_type": "code",
   "execution_count": 32,
   "metadata": {},
   "outputs": [
    {
     "name": "stdout",
     "output_type": "stream",
     "text": [
      "+--------+--------+--------+\n",
      "|min(age)|max(age)|avg(sex)|\n",
      "+--------+--------+--------+\n",
      "|    28.0|    77.0|    NULL|\n",
      "+--------+--------+--------+\n",
      "\n"
     ]
    }
   ],
   "source": [
    "# aggregate to get several statistics for several columns\n",
    "# the available aggregate functions are avg, max, min, sum, count\n",
    "from pyspark.sql import functions as F\n",
    "df.agg(F.min(df['age']),F.max(df['age']),F.avg(df['sex'])).show()"
   ]
  },
  {
   "cell_type": "code",
   "execution_count": 33,
   "metadata": {},
   "outputs": [
    {
     "name": "stdout",
     "output_type": "stream",
     "text": [
      "+------------+--------+--------+\n",
      "|HeartDisease|min(age)|avg(sex)|\n",
      "+------------+--------+--------+\n",
      "|           0|    28.0|    NULL|\n",
      "|           1|    31.0|    NULL|\n",
      "+------------+--------+--------+\n",
      "\n"
     ]
    }
   ],
   "source": [
    "df.groupby('HeartDisease').agg(F.min(df['age']),F.avg(df['sex'])).show()"
   ]
  },
  {
   "cell_type": "code",
   "execution_count": 34,
   "metadata": {
    "scrolled": true
   },
   "outputs": [
    {
     "name": "stdout",
     "output_type": "stream",
     "text": [
      "+---+\n",
      "|sex|\n",
      "+---+\n",
      "|  M|\n",
      "|  F|\n",
      "+---+\n",
      "only showing top 2 rows\n",
      "\n",
      "+-----+----+\n",
      "|older| age|\n",
      "+-----+----+\n",
      "| true|40.0|\n",
      "| true|49.0|\n",
      "+-----+----+\n",
      "only showing top 2 rows\n",
      "\n"
     ]
    }
   ],
   "source": [
    "# run an SQL query on the data\n",
    "df.createOrReplaceTempView(\"df\") # tell PySpark how the table will be called in the SQL query\n",
    "spark.sql(\"\"\"SELECT sex from df\"\"\").show(2)\n",
    "\n",
    "# we also choose columns using SQL sytnx, with a command that combins '.select()' and '.sql()'\n",
    "df.selectExpr(\"age >= 40 as older\", \"age\").show(2)"
   ]
  },
  {
   "cell_type": "code",
   "execution_count": 35,
   "metadata": {},
   "outputs": [
    {
     "name": "stdout",
     "output_type": "stream",
     "text": [
      "+----+---+---+\n",
      "| age|  M|  F|\n",
      "+----+---+---+\n",
      "|64.0| 16|  6|\n",
      "|47.0| 15|  4|\n",
      "|58.0| 35|  7|\n",
      "+----+---+---+\n",
      "only showing top 3 rows\n",
      "\n"
     ]
    }
   ],
   "source": [
    "df.groupby('age').pivot('sex', (\"M\", \"F\")).count().show(3)"
   ]
  },
  {
   "cell_type": "code",
   "execution_count": 36,
   "metadata": {},
   "outputs": [
    {
     "name": "stdout",
     "output_type": "stream",
     "text": [
      "+---+----+-----+\n",
      "|sex|true|false|\n",
      "+---+----+-----+\n",
      "|  F| 174|   19|\n",
      "|  M| 664|   61|\n",
      "+---+----+-----+\n",
      "\n"
     ]
    }
   ],
   "source": [
    "# pivot - expensive operation\n",
    "df.selectExpr(\"age >= 40 as older\", \"age\",'sex').groupBy(\"sex\")\\\n",
    "                    .pivot(\"older\", (\"true\", \"false\")).count().show()"
   ]
  },
  {
   "cell_type": "code",
   "execution_count": 37,
   "metadata": {},
   "outputs": [
    {
     "name": "stdout",
     "output_type": "stream",
     "text": [
      "+----+-----+-----------+\n",
      "| age|MaxHR|Cholesterol|\n",
      "+----+-----+-----------+\n",
      "|40.0|  172|        289|\n",
      "|49.0|  156|        180|\n",
      "|37.0|   98|        283|\n",
      "|48.0|  108|        214|\n",
      "+----+-----+-----------+\n",
      "only showing top 4 rows\n",
      "\n"
     ]
    }
   ],
   "source": [
    "df.select(['age','MaxHR','Cholesterol']).show(4)"
   ]
  },
  {
   "cell_type": "markdown",
   "metadata": {},
   "source": [
    "Aplicação Machine Learning"
   ]
  },
  {
   "cell_type": "code",
   "execution_count": 52,
   "metadata": {},
   "outputs": [],
   "source": [
    "df = spark.read.option('header','true').csv('heart.csv')"
   ]
  },
  {
   "cell_type": "code",
   "execution_count": 53,
   "metadata": {},
   "outputs": [
    {
     "name": "stdout",
     "output_type": "stream",
     "text": [
      "root\n",
      " |-- Age: string (nullable = true)\n",
      " |-- Sex: string (nullable = true)\n",
      " |-- ChestPainType: string (nullable = true)\n",
      " |-- RestingBP: string (nullable = true)\n",
      " |-- Cholesterol: string (nullable = true)\n",
      " |-- FastingBS: string (nullable = true)\n",
      " |-- RestingECG: string (nullable = true)\n",
      " |-- MaxHR: string (nullable = true)\n",
      " |-- ExerciseAngina: string (nullable = true)\n",
      " |-- Oldpeak: string (nullable = true)\n",
      " |-- ST_Slope: string (nullable = true)\n",
      " |-- HeartDisease: string (nullable = true)\n",
      "\n"
     ]
    }
   ],
   "source": [
    "df.printSchema()"
   ]
  },
  {
   "cell_type": "code",
   "execution_count": 54,
   "metadata": {},
   "outputs": [
    {
     "name": "stdout",
     "output_type": "stream",
     "text": [
      "+---+---+-------------+---------+-----------+---------+----------+-----+--------------+-------+--------+------------+\n",
      "|Age|Sex|ChestPainType|RestingBP|Cholesterol|FastingBS|RestingECG|MaxHR|ExerciseAngina|Oldpeak|ST_Slope|HeartDisease|\n",
      "+---+---+-------------+---------+-----------+---------+----------+-----+--------------+-------+--------+------------+\n",
      "| 40|  M|          ATA|      140|        289|        0|    Normal|  172|             N|      0|      Up|           0|\n",
      "| 49|  F|          NAP|      160|        180|        0|    Normal|  156|             N|      1|    Flat|           1|\n",
      "| 37|  M|          ATA|      130|        283|        0|        ST|   98|             N|      0|      Up|           0|\n",
      "| 48|  F|          ASY|      138|        214|        0|    Normal|  108|             Y|    1.5|    Flat|           1|\n",
      "| 54|  M|          NAP|      150|        195|        0|    Normal|  122|             N|      0|      Up|           0|\n",
      "| 39|  M|          NAP|      120|        339|        0|    Normal|  170|             N|      0|      Up|           0|\n",
      "| 45|  F|          ATA|      130|        237|        0|    Normal|  170|             N|      0|      Up|           0|\n",
      "| 54|  M|          ATA|      110|        208|        0|    Normal|  142|             N|      0|      Up|           0|\n",
      "| 37|  M|          ASY|      140|        207|        0|    Normal|  130|             Y|    1.5|    Flat|           1|\n",
      "| 48|  F|          ATA|      120|        284|        0|    Normal|  120|             N|      0|      Up|           0|\n",
      "| 37|  F|          NAP|      130|        211|        0|    Normal|  142|             N|      0|      Up|           0|\n",
      "| 58|  M|          ATA|      136|        164|        0|        ST|   99|             Y|      2|    Flat|           1|\n",
      "| 39|  M|          ATA|      120|        204|        0|    Normal|  145|             N|      0|      Up|           0|\n",
      "| 49|  M|          ASY|      140|        234|        0|    Normal|  140|             Y|      1|    Flat|           1|\n",
      "| 42|  F|          NAP|      115|        211|        0|        ST|  137|             N|      0|      Up|           0|\n",
      "| 54|  F|          ATA|      120|        273|        0|    Normal|  150|             N|    1.5|    Flat|           0|\n",
      "| 38|  M|          ASY|      110|        196|        0|    Normal|  166|             N|      0|    Flat|           1|\n",
      "| 43|  F|          ATA|      120|        201|        0|    Normal|  165|             N|      0|      Up|           0|\n",
      "| 60|  M|          ASY|      100|        248|        0|    Normal|  125|             N|      1|    Flat|           1|\n",
      "| 36|  M|          ATA|      120|        267|        0|    Normal|  160|             N|      3|    Flat|           1|\n",
      "+---+---+-------------+---------+-----------+---------+----------+-----+--------------+-------+--------+------------+\n",
      "only showing top 20 rows\n",
      "\n"
     ]
    }
   ],
   "source": [
    "df.show()"
   ]
  },
  {
   "cell_type": "code",
   "execution_count": 55,
   "metadata": {},
   "outputs": [],
   "source": [
    "from pyspark.sql.types import FloatType\n",
    "df = df.withColumn(\"Age\",df.Age.cast(FloatType()))\n",
    "df = df.withColumn('Cholesterol',df.Age.cast(FloatType()))\n",
    "df = df.withColumn('MaxHR',df.Age.cast(FloatType()))"
   ]
  },
  {
   "cell_type": "code",
   "execution_count": 56,
   "metadata": {},
   "outputs": [],
   "source": [
    "# devide dataset to training features and target\n",
    "X_column_names = ['Age','Cholesterol']\n",
    "target_colum_name = ['MaxHR']"
   ]
  },
  {
   "cell_type": "code",
   "execution_count": 57,
   "metadata": {},
   "outputs": [],
   "source": [
    "# convert feature columns into a columns where the vlues are feature vectors\n",
    "from pyspark.ml.feature import VectorAssembler\n",
    "v_asmblr = VectorAssembler(inputCols=X_column_names, outputCol='Fvec')"
   ]
  },
  {
   "cell_type": "code",
   "execution_count": 58,
   "metadata": {},
   "outputs": [],
   "source": [
    "df = v_asmblr.transform(df)"
   ]
  },
  {
   "cell_type": "code",
   "execution_count": 60,
   "metadata": {},
   "outputs": [
    {
     "name": "stdout",
     "output_type": "stream",
     "text": [
      "+----+---+-------------+---------+-----------+---------+----------+-----+--------------+-------+--------+------------+-----------+\n",
      "| Age|Sex|ChestPainType|RestingBP|Cholesterol|FastingBS|RestingECG|MaxHR|ExerciseAngina|Oldpeak|ST_Slope|HeartDisease|       Fvec|\n",
      "+----+---+-------------+---------+-----------+---------+----------+-----+--------------+-------+--------+------------+-----------+\n",
      "|40.0|  M|          ATA|      140|       40.0|        0|    Normal| 40.0|             N|      0|      Up|           0|[40.0,40.0]|\n",
      "|49.0|  F|          NAP|      160|       49.0|        0|    Normal| 49.0|             N|      1|    Flat|           1|[49.0,49.0]|\n",
      "|37.0|  M|          ATA|      130|       37.0|        0|        ST| 37.0|             N|      0|      Up|           0|[37.0,37.0]|\n",
      "|48.0|  F|          ASY|      138|       48.0|        0|    Normal| 48.0|             Y|    1.5|    Flat|           1|[48.0,48.0]|\n",
      "|54.0|  M|          NAP|      150|       54.0|        0|    Normal| 54.0|             N|      0|      Up|           0|[54.0,54.0]|\n",
      "|39.0|  M|          NAP|      120|       39.0|        0|    Normal| 39.0|             N|      0|      Up|           0|[39.0,39.0]|\n",
      "|45.0|  F|          ATA|      130|       45.0|        0|    Normal| 45.0|             N|      0|      Up|           0|[45.0,45.0]|\n",
      "|54.0|  M|          ATA|      110|       54.0|        0|    Normal| 54.0|             N|      0|      Up|           0|[54.0,54.0]|\n",
      "|37.0|  M|          ASY|      140|       37.0|        0|    Normal| 37.0|             Y|    1.5|    Flat|           1|[37.0,37.0]|\n",
      "|48.0|  F|          ATA|      120|       48.0|        0|    Normal| 48.0|             N|      0|      Up|           0|[48.0,48.0]|\n",
      "|37.0|  F|          NAP|      130|       37.0|        0|    Normal| 37.0|             N|      0|      Up|           0|[37.0,37.0]|\n",
      "|58.0|  M|          ATA|      136|       58.0|        0|        ST| 58.0|             Y|      2|    Flat|           1|[58.0,58.0]|\n",
      "|39.0|  M|          ATA|      120|       39.0|        0|    Normal| 39.0|             N|      0|      Up|           0|[39.0,39.0]|\n",
      "|49.0|  M|          ASY|      140|       49.0|        0|    Normal| 49.0|             Y|      1|    Flat|           1|[49.0,49.0]|\n",
      "|42.0|  F|          NAP|      115|       42.0|        0|        ST| 42.0|             N|      0|      Up|           0|[42.0,42.0]|\n",
      "|54.0|  F|          ATA|      120|       54.0|        0|    Normal| 54.0|             N|    1.5|    Flat|           0|[54.0,54.0]|\n",
      "|38.0|  M|          ASY|      110|       38.0|        0|    Normal| 38.0|             N|      0|    Flat|           1|[38.0,38.0]|\n",
      "|43.0|  F|          ATA|      120|       43.0|        0|    Normal| 43.0|             N|      0|      Up|           0|[43.0,43.0]|\n",
      "|60.0|  M|          ASY|      100|       60.0|        0|    Normal| 60.0|             N|      1|    Flat|           1|[60.0,60.0]|\n",
      "|36.0|  M|          ATA|      120|       36.0|        0|    Normal| 36.0|             N|      3|    Flat|           1|[36.0,36.0]|\n",
      "+----+---+-------------+---------+-----------+---------+----------+-----+--------------+-------+--------+------------+-----------+\n",
      "only showing top 20 rows\n",
      "\n"
     ]
    }
   ],
   "source": [
    "df.show()"
   ]
  },
  {
   "cell_type": "code",
   "execution_count": 61,
   "metadata": {},
   "outputs": [
    {
     "name": "stdout",
     "output_type": "stream",
     "text": [
      "+----+-----------+-----------+-----+\n",
      "| Age|Cholesterol|       Fvec|MaxHR|\n",
      "+----+-----------+-----------+-----+\n",
      "|40.0|       40.0|[40.0,40.0]| 40.0|\n",
      "|49.0|       49.0|[49.0,49.0]| 49.0|\n",
      "|37.0|       37.0|[37.0,37.0]| 37.0|\n",
      "+----+-----------+-----------+-----+\n",
      "only showing top 3 rows\n",
      "\n"
     ]
    }
   ],
   "source": [
    "X = df.select(['Age','Cholesterol','Fvec','MaxHR'])\n",
    "X.show(3)"
   ]
  },
  {
   "cell_type": "code",
   "execution_count": 62,
   "metadata": {},
   "outputs": [],
   "source": [
    "# devide dataset into training and testing sets\n",
    "trainset, testset = X.randomSplit([0.8,0.2])"
   ]
  },
  {
   "cell_type": "code",
   "execution_count": 63,
   "metadata": {},
   "outputs": [
    {
     "name": "stdout",
     "output_type": "stream",
     "text": [
      "[0.49999999999999845,0.49999999999999845]\n",
      "1.6597346967072897e-13\n"
     ]
    }
   ],
   "source": [
    "# predict 'RestingBP' using linear regression\n",
    "from pyspark.ml.regression import LinearRegression\n",
    "model = LinearRegression(featuresCol='Fvec', labelCol='MaxHR')\n",
    "model = model.fit(trainset)\n",
    "print(model.coefficients)\n",
    "print(model.intercept)"
   ]
  },
  {
   "cell_type": "code",
   "execution_count": 64,
   "metadata": {},
   "outputs": [
    {
     "name": "stdout",
     "output_type": "stream",
     "text": [
      "+----+-----------+-----------+-----+------------------+\n",
      "| Age|Cholesterol|       Fvec|MaxHR|        prediction|\n",
      "+----+-----------+-----------+-----+------------------+\n",
      "|28.0|       28.0|[28.0,28.0]| 28.0| 28.00000000000008|\n",
      "|32.0|       32.0|[32.0,32.0]| 32.0|32.000000000000064|\n",
      "|32.0|       32.0|[32.0,32.0]| 32.0|32.000000000000064|\n",
      "+----+-----------+-----------+-----+------------------+\n",
      "only showing top 3 rows\n",
      "\n"
     ]
    }
   ],
   "source": [
    "# evaluate model\n",
    "model.evaluate(testset).predictions.show(3)"
   ]
  },
  {
   "cell_type": "code",
   "execution_count": 65,
   "metadata": {},
   "outputs": [
    {
     "name": "stdout",
     "output_type": "stream",
     "text": [
      "+------------------+\n",
      "|ChestPainTypeInxed|\n",
      "+------------------+\n",
      "|               2.0|\n",
      "|               1.0|\n",
      "|               2.0|\n",
      "+------------------+\n",
      "only showing top 3 rows\n",
      "\n"
     ]
    }
   ],
   "source": [
    "# handel categorical features with ordinal indexing\n",
    "from pyspark.ml.feature import StringIndexer\n",
    "indxr = StringIndexer(inputCol='ChestPainType', outputCol='ChestPainTypeInxed')\n",
    "indxr.fit(df).transform(df).select('ChestPainTypeInxed').show(3)"
   ]
  }
 ],
 "metadata": {
  "kernelspec": {
   "display_name": "Python 3",
   "language": "python",
   "name": "python3"
  },
  "language_info": {
   "codemirror_mode": {
    "name": "ipython",
    "version": 3
   },
   "file_extension": ".py",
   "mimetype": "text/x-python",
   "name": "python",
   "nbconvert_exporter": "python",
   "pygments_lexer": "ipython3",
   "version": "3.10.7"
  }
 },
 "nbformat": 4,
 "nbformat_minor": 4
}
