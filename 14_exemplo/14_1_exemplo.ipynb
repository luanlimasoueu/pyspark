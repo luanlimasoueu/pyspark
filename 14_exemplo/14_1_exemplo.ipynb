{
 "cells": [
  {
   "cell_type": "code",
   "execution_count": 9,
   "metadata": {},
   "outputs": [
    {
     "name": "stdout",
     "output_type": "stream",
     "text": [
      "+---+-------+---+\n",
      "| id|   name|age|\n",
      "+---+-------+---+\n",
      "|  1|  Alice| 25|\n",
      "|  2|    Bob| 30|\n",
      "|  3|Charlie| 35|\n",
      "+---+-------+---+\n",
      "\n"
     ]
    }
   ],
   "source": [
    "from pyspark.sql import SparkSession\n",
    "from pyspark.sql.functions import col\n",
    "\n",
    "# Initialize a Spark session\n",
    "spark = SparkSession.builder.appName(\"withColumnExample\").getOrCreate()\n",
    "\n",
    "data = [(1, \"Alice\", 25), (2, \"Bob\", 30), (3, \"Charlie\", 35)]\n",
    "columns = [\"id\", \"name\", \"age\"]\n",
    "\n",
    "# Create a DataFrame\n",
    "df = spark.createDataFrame(data, columns)\n",
    "\n",
    "# Display the original DataFrame\n",
    "df.show()"
   ]
  },
  {
   "cell_type": "code",
   "execution_count": 10,
   "metadata": {},
   "outputs": [
    {
     "name": "stdout",
     "output_type": "stream",
     "text": [
      "+---+-------+-----+\n",
      "| id|   name|years|\n",
      "+---+-------+-----+\n",
      "|  1|  Alice|   25|\n",
      "|  2|    Bob|   30|\n",
      "|  3|Charlie|   35|\n",
      "+---+-------+-----+\n",
      "\n"
     ]
    }
   ],
   "source": [
    "# Rename the 'age' column to 'years'\n",
    "df = df.withColumn(\"years\", col(\"age\"))\n",
    "\n",
    "# Drop the original 'age' column\n",
    "df = df.drop(\"age\")\n",
    "\n",
    "# Display the updated DataFrame\n",
    "df.show()"
   ]
  },
  {
   "cell_type": "code",
   "execution_count": 11,
   "metadata": {},
   "outputs": [
    {
     "name": "stdout",
     "output_type": "stream",
     "text": [
      "+---+-------+-----+------+\n",
      "| id|   name|years|months|\n",
      "+---+-------+-----+------+\n",
      "|  1|  Alice|   25|   300|\n",
      "|  2|    Bob|   30|   360|\n",
      "|  3|Charlie|   35|   420|\n",
      "+---+-------+-----+------+\n",
      "\n"
     ]
    }
   ],
   "source": [
    "from pyspark.sql.functions import expr\n",
    "\n",
    "# Convert 'years' to 'months'\n",
    "df = df.withColumn(\"months\", expr(\"years * 12\"))\n",
    "\n",
    "# Display the updated DataFrame\n",
    "df.show()"
   ]
  },
  {
   "cell_type": "code",
   "execution_count": 12,
   "metadata": {},
   "outputs": [
    {
     "name": "stdout",
     "output_type": "stream",
     "text": [
      "+---+-------+-----+------+\n",
      "| id|   name|years|months|\n",
      "+---+-------+-----+------+\n",
      "|  1|  Alice|   25|   300|\n",
      "|  2|    Bob|   30|   360|\n",
      "|  3|Charlie|   35|   420|\n",
      "+---+-------+-----+------+\n",
      "\n"
     ]
    }
   ],
   "source": [
    "from pyspark.sql.types import StringType\n",
    "\n",
    "# Change the data type of the 'id' column to string\n",
    "df = df.withColumn(\"id\", col(\"id\").cast(StringType()))\n",
    "\n",
    "# Display the updated DataFrame\n",
    "df.show()"
   ]
  },
  {
   "cell_type": "code",
   "execution_count": 13,
   "metadata": {},
   "outputs": [
    {
     "name": "stdout",
     "output_type": "stream",
     "text": [
      "+---+-------+---+------+\n",
      "| id|   name|age|salary|\n",
      "+---+-------+---+------+\n",
      "|  1|  Alice| 25| 45000|\n",
      "|  2|    Bob| 30| 55000|\n",
      "|  3|Charlie| 35| 60000|\n",
      "+---+-------+---+------+\n",
      "\n",
      "+---+-------+---+------+------+\n",
      "| id|   name|age|salary|   tax|\n",
      "+---+-------+---+------+------+\n",
      "|  1|  Alice| 25| 45000|2250.0|\n",
      "|  2|    Bob| 30| 55000|5500.0|\n",
      "|  3|Charlie| 35| 60000|6000.0|\n",
      "+---+-------+---+------+------+\n",
      "\n"
     ]
    }
   ],
   "source": [
    "from pyspark.sql.functions import when\n",
    "\n",
    "data = [(1, \"Alice\", 25, 45000), (2, \"Bob\", 30, 55000), (3, \"Charlie\", 35, 60000)]\n",
    "columns = [\"id\", \"name\", \"age\", \"salary\"]\n",
    "\n",
    "# Create a new DataFrame\n",
    "df = spark.createDataFrame(data, columns)\n",
    "df.show()\n",
    "\n",
    "# Add a new 'tax' column based on the 'salary' column\n",
    "df = df.withColumn(\"tax\", when(col(\"salary\") >= 50000, col(\"salary\") * 0.1).otherwise(col(\"salary\") * 0.05))\n",
    "\n",
    "# Display the updated DataFrame\n",
    "df.show()"
   ]
  },
  {
   "cell_type": "code",
   "execution_count": 14,
   "metadata": {},
   "outputs": [],
   "source": [
    "from pyspark.sql.functions import udf\n",
    "from pyspark.sql.types import StringType\n",
    "\n",
    "def age_group(age):\n",
    "    if age < 30:\n",
    "        return \"Young\"\n",
    "    elif age < 45:\n",
    "        return \"Middle-aged\"\n",
    "    else:\n",
    "        return \"Old\"\n",
    "\n",
    "# Register the UDF\n",
    "age_group_udf = udf(age_group, StringType())"
   ]
  },
  {
   "cell_type": "code",
   "execution_count": 15,
   "metadata": {},
   "outputs": [
    {
     "name": "stdout",
     "output_type": "stream",
     "text": [
      "+---+-------+---+------+------+-----------+\n",
      "| id|   name|age|salary|   tax|  age_group|\n",
      "+---+-------+---+------+------+-----------+\n",
      "|  1|  Alice| 25| 45000|2250.0|      Young|\n",
      "|  2|    Bob| 30| 55000|5500.0|Middle-aged|\n",
      "|  3|Charlie| 35| 60000|6000.0|Middle-aged|\n",
      "+---+-------+---+------+------+-----------+\n",
      "\n"
     ]
    }
   ],
   "source": [
    "# Add a new 'age_group' column based on the 'age' column\n",
    "df = df.withColumn(\"age_group\", age_group_udf(col(\"age\")))\n",
    "\n",
    "# Display the updated DataFrame\n",
    "df.show()"
   ]
  },
  {
   "cell_type": "code",
   "execution_count": 16,
   "metadata": {},
   "outputs": [
    {
     "name": "stdout",
     "output_type": "stream",
     "text": [
      "+---+-------+---+------+------+-----------+----------+\n",
      "| id|   name|age|salary|   tax|  age_group|net_salary|\n",
      "+---+-------+---+------+------+-----------+----------+\n",
      "|  1|  Alice| 25| 45000|2250.0|      Young|   42750.0|\n",
      "|  2|    Bob| 30| 55000|5500.0|Middle-aged|   49500.0|\n",
      "|  3|Charlie| 35| 60000|6000.0|Middle-aged|   54000.0|\n",
      "+---+-------+---+------+------+-----------+----------+\n",
      "\n"
     ]
    }
   ],
   "source": [
    "from pyspark.sql.functions import round\n",
    "\n",
    "# Add a new 'net_salary' column by subtracting 'tax' from 'salary'\n",
    "df = df.withColumn(\"net_salary\", round(col(\"salary\") - col(\"tax\"), 2))\n",
    "\n",
    "# Display the updated DataFrame\n",
    "df.show()"
   ]
  },
  {
   "cell_type": "code",
   "execution_count": 17,
   "metadata": {},
   "outputs": [
    {
     "name": "stdout",
     "output_type": "stream",
     "text": [
      "+---+-------+---+------+------+-----------+----------+--------------------+\n",
      "| id|   name|age|salary|   tax|  age_group|net_salary|      name_age_group|\n",
      "+---+-------+---+------+------+-----------+----------+--------------------+\n",
      "|  1|  Alice| 25| 45000|2250.0|      Young|   42750.0|       Alice - Young|\n",
      "|  2|    Bob| 30| 55000|5500.0|Middle-aged|   49500.0|   Bob - Middle-aged|\n",
      "|  3|Charlie| 35| 60000|6000.0|Middle-aged|   54000.0|Charlie - Middle-...|\n",
      "+---+-------+---+------+------+-----------+----------+--------------------+\n",
      "\n"
     ]
    }
   ],
   "source": [
    "from pyspark.sql.functions import concat_ws\n",
    "\n",
    "# Combine 'name' and 'age_group' columns into a new 'name_age_group' column\n",
    "df = df.withColumn(\"name_age_group\", concat_ws(\" - \", col(\"name\"), col(\"age_group\")))\n",
    "\n",
    "# Display the updated DataFrame\n",
    "df.show()"
   ]
  }
 ],
 "metadata": {
  "kernelspec": {
   "display_name": "Python 3",
   "language": "python",
   "name": "python3"
  },
  "language_info": {
   "codemirror_mode": {
    "name": "ipython",
    "version": 3
   },
   "file_extension": ".py",
   "mimetype": "text/x-python",
   "name": "python",
   "nbconvert_exporter": "python",
   "pygments_lexer": "ipython3",
   "version": "3.10.7"
  }
 },
 "nbformat": 4,
 "nbformat_minor": 2
}
