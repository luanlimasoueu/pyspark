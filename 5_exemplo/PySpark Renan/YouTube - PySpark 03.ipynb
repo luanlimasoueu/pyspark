{
 "cells": [
  {
   "cell_type": "markdown",
   "id": "101e2fa0",
   "metadata": {},
   "source": [
    "# PySpark # 3"
   ]
  },
  {
   "cell_type": "markdown",
   "id": "7a2aa669",
   "metadata": {},
   "source": [
    "##### Índice:\n",
    "\n",
    "    # Importação bibliotecas / funções\n",
    "    # Criar Sessão PySpark\n",
    "    # Criar DF / ler arquivo\n",
    "    \n",
    "    # Collect()\n",
    "    # When() / Otherwise()\n",
    "    # Union (Concat)\n",
    "    # Joins\n",
    "    # Join - Simples\n",
    "    # Inner Join\n",
    "    # Left Join\n",
    "    # Right Join\n",
    "    # Full Join\n",
    "    # Semi Join\n",
    "    # Anti Join"
   ]
  },
  {
   "cell_type": "markdown",
   "id": "1fbb20e8",
   "metadata": {},
   "source": [
    "##### Importação bibliotecas / funções"
   ]
  },
  {
   "cell_type": "code",
   "execution_count": 1,
   "id": "ddcd4f40",
   "metadata": {},
   "outputs": [],
   "source": [
    "from pyspark.sql import SparkSession\n",
    "from pyspark.sql.functions import *\n",
    "from pyspark.sql.types import *\n",
    "from pyspark.sql.window import Window # Importando window function"
   ]
  },
  {
   "cell_type": "markdown",
   "id": "1a1a211a",
   "metadata": {},
   "source": [
    "##### Criar / Iniciar Sessão PySpark"
   ]
  },
  {
   "cell_type": "code",
   "execution_count": 2,
   "id": "fbaaff5a",
   "metadata": {},
   "outputs": [],
   "source": [
    "spark = (\n",
    "    SparkSession.builder\n",
    "    .master('local')\n",
    "    .appName('PySpark_03')\n",
    "    .getOrCreate()\n",
    ")"
   ]
  },
  {
   "cell_type": "markdown",
   "id": "e651c2d3",
   "metadata": {},
   "source": [
    "##### Criar DF / ler arquivo"
   ]
  },
  {
   "cell_type": "code",
   "execution_count": 3,
   "id": "673d6d20",
   "metadata": {},
   "outputs": [],
   "source": [
    "df = spark.read.csv('wc2018-players.csv', header=True, inferSchema=True)"
   ]
  },
  {
   "cell_type": "markdown",
   "id": "c9fd28d4",
   "metadata": {},
   "source": [
    "##### Alterações Aula PySpark 01"
   ]
  },
  {
   "cell_type": "code",
   "execution_count": 4,
   "id": "1cd92cc2",
   "metadata": {},
   "outputs": [],
   "source": [
    "df = df.withColumnRenamed('Team', 'Selecao').withColumnRenamed('#', 'Numero').withColumnRenamed('Pos.', 'Posicao')\\\n",
    ".withColumnRenamed('FIFA Popular Name', 'Nome_FIFA').withColumnRenamed('Birth Date', 'Nascimento')\\\n",
    ".withColumnRenamed('Shirt Name', 'Nome Camiseta').withColumnRenamed('Club', 'Time').withColumnRenamed('Height', 'Altura')\\\n",
    ".withColumnRenamed('Weight', 'Peso')\n",
    "\n",
    "dia = udf(lambda data: data.split('.')[0])\n",
    "mes = udf(lambda data: data.split('.')[1])\n",
    "ano = udf(lambda data: data.split('.')[2])\n",
    "\n",
    "df = df.withColumn('Dia', dia('Nascimento')).withColumn('Mes', mes('Nascimento')).withColumn('Ano', ano('nascimento'))\n",
    "df = df.withColumn('Data_Nascimento', concat_ws('-', 'Ano', 'Mes', 'Dia').cast(DateType()))"
   ]
  },
  {
   "cell_type": "markdown",
   "id": "0fdc60dc",
   "metadata": {},
   "source": [
    "##### Alterações Aula PySpark 02"
   ]
  },
  {
   "cell_type": "code",
   "execution_count": 5,
   "id": "2206dc96",
   "metadata": {
    "scrolled": true
   },
   "outputs": [],
   "source": [
    "df2 = df\n",
    "df = df.drop('Nascimento', 'Nome_FIFA')"
   ]
  },
  {
   "cell_type": "markdown",
   "id": "1af91ea7",
   "metadata": {},
   "source": [
    " "
   ]
  },
  {
   "cell_type": "markdown",
   "id": "3024c2bf",
   "metadata": {},
   "source": [
    "##### Distinct()"
   ]
  },
  {
   "cell_type": "code",
   "execution_count": 6,
   "id": "c05da43c",
   "metadata": {},
   "outputs": [
    {
     "name": "stdout",
     "output_type": "stream",
     "text": [
      "+--------------+\n",
      "|       Selecao|\n",
      "+--------------+\n",
      "|        Russia|\n",
      "|       Senegal|\n",
      "|        Sweden|\n",
      "|       IR Iran|\n",
      "|       Germany|\n",
      "|        France|\n",
      "|     Argentina|\n",
      "|       Belgium|\n",
      "|          Peru|\n",
      "|       Croatia|\n",
      "|       Nigeria|\n",
      "|Korea Republic|\n",
      "|         Spain|\n",
      "|       Denmark|\n",
      "|       Morocco|\n",
      "|        Panama|\n",
      "|       Iceland|\n",
      "|       Uruguay|\n",
      "|        Mexico|\n",
      "|       Tunisia|\n",
      "|  Saudi Arabia|\n",
      "|   Switzerland|\n",
      "|        Brazil|\n",
      "|         Japan|\n",
      "|       England|\n",
      "|        Poland|\n",
      "|      Portugal|\n",
      "|     Australia|\n",
      "|    Costa Rica|\n",
      "|         Egypt|\n",
      "|        Serbia|\n",
      "|      Colombia|\n",
      "+--------------+\n",
      "\n"
     ]
    }
   ],
   "source": [
    "df.select(col('Selecao')).distinct().show(50)"
   ]
  },
  {
   "cell_type": "markdown",
   "id": "0077030a",
   "metadata": {},
   "source": [
    "##### Collect()"
   ]
  },
  {
   "cell_type": "code",
   "execution_count": 7,
   "id": "6f26aa50",
   "metadata": {
    "scrolled": true
   },
   "outputs": [
    {
     "data": {
      "text/plain": [
       "[Row(Selecao='Russia'),\n",
       " Row(Selecao='Senegal'),\n",
       " Row(Selecao='Sweden'),\n",
       " Row(Selecao='IR Iran'),\n",
       " Row(Selecao='Germany'),\n",
       " Row(Selecao='France'),\n",
       " Row(Selecao='Argentina'),\n",
       " Row(Selecao='Belgium'),\n",
       " Row(Selecao='Peru'),\n",
       " Row(Selecao='Croatia'),\n",
       " Row(Selecao='Nigeria'),\n",
       " Row(Selecao='Korea Republic'),\n",
       " Row(Selecao='Spain'),\n",
       " Row(Selecao='Denmark'),\n",
       " Row(Selecao='Morocco'),\n",
       " Row(Selecao='Panama'),\n",
       " Row(Selecao='Iceland'),\n",
       " Row(Selecao='Uruguay'),\n",
       " Row(Selecao='Mexico'),\n",
       " Row(Selecao='Tunisia'),\n",
       " Row(Selecao='Saudi Arabia'),\n",
       " Row(Selecao='Switzerland'),\n",
       " Row(Selecao='Brazil'),\n",
       " Row(Selecao='Japan'),\n",
       " Row(Selecao='England'),\n",
       " Row(Selecao='Poland'),\n",
       " Row(Selecao='Portugal'),\n",
       " Row(Selecao='Australia'),\n",
       " Row(Selecao='Costa Rica'),\n",
       " Row(Selecao='Egypt'),\n",
       " Row(Selecao='Serbia'),\n",
       " Row(Selecao='Colombia')]"
      ]
     },
     "execution_count": 7,
     "metadata": {},
     "output_type": "execute_result"
    }
   ],
   "source": [
    "lista = df.select(col('Selecao')).distinct().collect()\n",
    "lista"
   ]
  },
  {
   "cell_type": "code",
   "execution_count": 8,
   "id": "b7f15bcf",
   "metadata": {},
   "outputs": [
    {
     "data": {
      "text/plain": [
       "str"
      ]
     },
     "execution_count": 8,
     "metadata": {},
     "output_type": "execute_result"
    }
   ],
   "source": [
    "type(lista[0][0])"
   ]
  },
  {
   "cell_type": "code",
   "execution_count": 9,
   "id": "7c0d5fbf",
   "metadata": {},
   "outputs": [
    {
     "data": {
      "text/plain": [
       "'Senegal'"
      ]
     },
     "execution_count": 9,
     "metadata": {},
     "output_type": "execute_result"
    }
   ],
   "source": [
    "lista[1][0]"
   ]
  },
  {
   "cell_type": "code",
   "execution_count": 10,
   "id": "98705b99",
   "metadata": {},
   "outputs": [
    {
     "data": {
      "text/plain": [
       "['Russia',\n",
       " 'Senegal',\n",
       " 'Sweden',\n",
       " 'IR Iran',\n",
       " 'Germany',\n",
       " 'France',\n",
       " 'Argentina',\n",
       " 'Belgium',\n",
       " 'Peru',\n",
       " 'Croatia',\n",
       " 'Nigeria',\n",
       " 'Korea Republic',\n",
       " 'Spain',\n",
       " 'Denmark',\n",
       " 'Morocco',\n",
       " 'Panama',\n",
       " 'Iceland',\n",
       " 'Uruguay',\n",
       " 'Mexico',\n",
       " 'Tunisia',\n",
       " 'Saudi Arabia',\n",
       " 'Switzerland',\n",
       " 'Brazil',\n",
       " 'Japan',\n",
       " 'England',\n",
       " 'Poland',\n",
       " 'Portugal',\n",
       " 'Australia',\n",
       " 'Costa Rica',\n",
       " 'Egypt',\n",
       " 'Serbia',\n",
       " 'Colombia']"
      ]
     },
     "execution_count": 10,
     "metadata": {},
     "output_type": "execute_result"
    }
   ],
   "source": [
    "paises =[]\n",
    "\n",
    "for pais in lista:\n",
    "    paises.append(pais[0])\n",
    "    \n",
    "paises"
   ]
  },
  {
   "cell_type": "markdown",
   "id": "244cc23a",
   "metadata": {},
   "source": [
    "##### When() / Otherwise()"
   ]
  },
  {
   "cell_type": "code",
   "execution_count": 26,
   "id": "3ada8b20",
   "metadata": {},
   "outputs": [
    {
     "name": "stdout",
     "output_type": "stream",
     "text": [
      "+---------+------+-------+-------------+--------------------+------+----+---+---+----+---------------+-------------+\n",
      "|  Selecao|Numero|Posicao|Nome Camiseta|                Time|Altura|Peso|Dia|Mes| Ano|Data_Nascimento|  Coluna_Nova|\n",
      "+---------+------+-------+-------------+--------------------+------+----+---+---+----+---------------+-------------+\n",
      "|Argentina|     3|     DF|   TAGLIAFICO|      AFC Ajax (NED)|   169|  65| 31| 08|1992|     1992-08-31|Argentinos :)|\n",
      "|Argentina|    22|     MF|        PAVÓN|CA Boca Juniors (...|   169|  65| 21| 01|1996|     1996-01-21|Argentinos :)|\n",
      "|Argentina|    15|     MF|      LANZINI|West Ham United F...|   167|  66| 15| 02|1993|     1993-02-15|Argentinos :)|\n",
      "|Argentina|    18|     DF|       SALVIO|    SL Benfica (POR)|   167|  69| 13| 07|1990|     1990-07-13|Argentinos :)|\n",
      "|Argentina|    10|     FW|        MESSI|  FC Barcelona (ESP)|   170|  72| 24| 06|1987|     1987-06-24|Argentinos :)|\n",
      "|Argentina|     4|     DF|      ANSALDI|     Torino FC (ITA)|   181|  73| 20| 09|1986|     1986-09-20|Argentinos :)|\n",
      "|Argentina|     5|     MF|       BIGLIA|      AC Milan (ITA)|   175|  73| 30| 01|1986|     1986-01-30|Argentinos :)|\n",
      "|Argentina|     7|     MF|       BANEGA|    Sevilla FC (ESP)|   175|  73| 29| 06|1988|     1988-06-29|Argentinos :)|\n",
      "|Argentina|    14|     DF|   MASCHERANO|Hebei China Fortu...|   174|  73| 08| 06|1984|     1984-06-08|Argentinos :)|\n",
      "|Argentina|    21|     FW|       DYBALA|   Juventus FC (ITA)|   177|  73| 15| 11|1993|     1993-11-15|Argentinos :)|\n",
      "|Argentina|    19|     FW|       AGÜERO|Manchester City F...|   172|  74| 02| 06|1988|     1988-06-02|Argentinos :)|\n",
      "|Argentina|     9|     FW|      HIGUAÍN|   Juventus FC (ITA)|   184|  75| 10| 12|1987|     1987-12-10|Argentinos :)|\n",
      "|Argentina|    11|     MF|     DI MARÍA|Paris Saint-Germa...|   178|  75| 14| 02|1988|     1988-02-14|Argentinos :)|\n",
      "|Argentina|    20|     MF|     LO CELSO|Paris Saint-Germa...|   177|  75| 09| 04|1996|     1996-04-09|Argentinos :)|\n",
      "|Argentina|    13|     MF|         MEZA|CA Independiente ...|   180|  76| 15| 12|1992|     1992-12-15|Argentinos :)|\n",
      "|Argentina|     8|     DF|        ACUÑA|   Sporting CP (POR)|   172|  77| 28| 10|1991|     1991-10-28|Argentinos :)|\n",
      "|Argentina|    23|     GK|    CABALLERO|    Chelsea FC (ENG)|   186|  80| 28| 09|1981|     1981-09-28|Argentinos :)|\n",
      "|Argentina|     2|     DF|      MERCADO|    Sevilla FC (ESP)|   181|  81| 18| 03|1987|     1987-03-18|Argentinos :)|\n",
      "|Argentina|    17|     DF|     OTAMENDI|Manchester City F...|   181|  81| 12| 02|1988|     1988-02-12|Argentinos :)|\n",
      "|Argentina|    16|     DF|         ROJO|Manchester United...|   189|  82| 20| 03|1990|     1990-03-20|Argentinos :)|\n",
      "|Argentina|     6|     DF|        FAZIO|       AS Roma (ITA)|   199|  85| 17| 03|1987|     1987-03-17|Argentinos :)|\n",
      "|Argentina|    12|     GK|       ARMANI|CA River Plate (ARG)|   189|  85| 16| 10|1986|     1986-10-16|Argentinos :)|\n",
      "|Argentina|     1|     GK|       GUZMÁN|   Tigres UANL (MEX)|   192|  90| 10| 02|1986|     1986-02-10|Argentinos :)|\n",
      "|Australia|    16|     DF|       BEHICH|     Bursaspor (TUR)|   170|  63| 16| 12|1990|     1990-12-16|NÃO ARGENTINO|\n",
      "|Australia|    10|     FW|        KRUSE|    VfL Bochum (GER)|   180|  66| 05| 10|1988|     1988-10-05|NÃO ARGENTINO|\n",
      "|Australia|    19|     DF|       RISDON|WS Wanderers FC (...|   169|  70| 27| 07|1992|     1992-07-27|NÃO ARGENTINO|\n",
      "|Australia|     3|     DF|     MEREDITH|   Millwall FC (ENG)|   179|  71| 05| 04|1988|     1988-04-05|NÃO ARGENTINO|\n",
      "|Australia|    13|     MF|         MOOY|Huddersfield Town...|   173|  72| 15| 09|1990|     1990-09-15|NÃO ARGENTINO|\n",
      "|Australia|    14|     FW|     MACLAREN|  Hibernian FC (SCO)|   178|  72| 29| 07|1993|     1993-07-29|NÃO ARGENTINO|\n",
      "|Australia|    21|     FW|     PETRATOS|Newcastle United ...|   176|  72| 10| 11|1992|     1992-11-10|NÃO ARGENTINO|\n",
      "|Australia|    17|     FW|       ARZANI|Melbourne City FC...|   171|  73| 04| 01|1999|     1999-01-04|NÃO ARGENTINO|\n",
      "|Australia|     4|     FW|       CAHILL|   Millwall FC (ENG)|   180|  76| 06| 12|1979|     1979-12-06|NÃO ARGENTINO|\n",
      "|Australia|     8|     MF|       LUONGO|Queens Park Range...|   176|  76| 25| 09|1992|     1992-09-25|NÃO ARGENTINO|\n",
      "|Australia|    20|     DF|    SAINSBURY|Grasshopper Club ...|   183|  76| 05| 01|1992|     1992-01-05|NÃO ARGENTINO|\n",
      "|Australia|    22|     MF|       IRVINE|  Hull City FC (ENG)|   180|  77| 07| 03|1993|     1993-03-07|NÃO ARGENTINO|\n",
      "|Australia|     5|     DF|     MILLIGAN|    Al Ahli SC (KSA)|   178|  78| 04| 08|1985|     1985-08-04|NÃO ARGENTINO|\n",
      "|Australia|    15|     MF|      JEDINAK|Aston Villa FC (ENG)|   188|  78| 03| 08|1984|     1984-08-03|NÃO ARGENTINO|\n",
      "|Australia|     9|     FW|        JURIC|     FC Luzern (SUI)|   190|  80| 22| 07|1991|     1991-07-22|NÃO ARGENTINO|\n",
      "|Australia|     1|     GK|         RYAN|Brighton & Hove A...|   184|  82| 08| 04|1992|     1992-04-08|NÃO ARGENTINO|\n",
      "|Australia|     6|     DF|       JURMAN|Suwon Samsung Blu...|   190|  83| 08| 12|1989|     1989-12-08|NÃO ARGENTINO|\n",
      "|Australia|     7|     FW|       LECKIE|    Hertha BSC (GER)|   181|  84| 04| 02|1991|     1991-02-04|NÃO ARGENTINO|\n",
      "|Australia|     2|     DF|      DEGENEK|Yokohama F-Marino...|   187|  85| 28| 04|1994|     1994-04-28|NÃO ARGENTINO|\n",
      "|Australia|    11|     FW|      NABBOUT|    Urawa Reds (JPN)|   178|  85| 17| 12|1992|     1992-12-17|NÃO ARGENTINO|\n",
      "|Australia|    12|     GK|        JONES|Feyenoord Rotterd...|   193|  87| 19| 03|1982|     1982-03-19|NÃO ARGENTINO|\n",
      "|Australia|    23|     MF|        ROGIC|     Celtic FC (SCO)|   189|  88| 16| 12|1992|     1992-12-16|NÃO ARGENTINO|\n",
      "|Australia|    18|     GK|      VUKOVIC|      KRC Genk (BEL)|   187|  94| 27| 03|1985|     1985-03-27|NÃO ARGENTINO|\n",
      "|  Belgium|    14|     FW|      MERTENS|    SSC Napoli (ITA)|   169|  61| 06| 05|1987|     1987-05-06|NÃO ARGENTINO|\n",
      "|  Belgium|    11|     MF|     CARRASCO|Dalian Yifang FC ...|   180|  67| 04| 09|1993|     1993-09-04|NÃO ARGENTINO|\n",
      "|  Belgium|     7|     MF|    DE BRUYNE|Manchester City F...|   181|  70| 28| 06|1991|     1991-06-28|NÃO ARGENTINO|\n",
      "|  Belgium|    16|     MF|    T. HAZARD|VfL Borussia Mönc...|   174|  70| 29| 03|1993|     1993-03-29|NÃO ARGENTINO|\n",
      "+---------+------+-------+-------------+--------------------+------+----+---+---+----+---------------+-------------+\n",
      "only showing top 50 rows\n",
      "\n"
     ]
    }
   ],
   "source": [
    "df.withColumn('Coluna_Nova', when(col('Selecao') == \"Argentina\", 'Argentinos :)').otherwise('NÃO ARGENTINO')).show(50)"
   ]
  },
  {
   "cell_type": "code",
   "execution_count": 11,
   "id": "29c1cf63",
   "metadata": {},
   "outputs": [],
   "source": [
    "europa = ['Sweden', 'Germany', 'France', 'Belgium', 'Croatia', 'Spain', 'Denmark', 'Iceland', 'Switzerland', 'England', 'Poland', 'Portugal', 'Serbia']\n",
    "asia = ['Russia', 'IR Iran', 'Nigeria', 'Korea Republic', 'Saudi Arabia', 'Japan', ]\n",
    "africa = ['Senegal', 'Morocco', 'Tunisia', 'Egypt']\n",
    "oceania = ['Australia']\n",
    "america_norte = ['Panama', 'Mexico', 'Costa Rica']\n",
    "america_sul = ['Argentina', 'Peru', 'Uruguay', 'Brazil', 'Colombia']"
   ]
  },
  {
   "cell_type": "code",
   "execution_count": 12,
   "id": "e22e4cfd",
   "metadata": {},
   "outputs": [
    {
     "name": "stdout",
     "output_type": "stream",
     "text": [
      "+---------+------+-------+-------------+--------------------+------+----+---+---+----+---------------+--------------+\n",
      "|  Selecao|Numero|Posicao|Nome Camiseta|                Time|Altura|Peso|Dia|Mes| Ano|Data_Nascimento|    Continente|\n",
      "+---------+------+-------+-------------+--------------------+------+----+---+---+----+---------------+--------------+\n",
      "|Argentina|     3|     DF|   TAGLIAFICO|      AFC Ajax (NED)|   169|  65| 31| 08|1992|     1992-08-31|América do Sul|\n",
      "|Argentina|    22|     MF|        PAVÓN|CA Boca Juniors (...|   169|  65| 21| 01|1996|     1996-01-21|América do Sul|\n",
      "|Argentina|    15|     MF|      LANZINI|West Ham United F...|   167|  66| 15| 02|1993|     1993-02-15|América do Sul|\n",
      "|Argentina|    18|     DF|       SALVIO|    SL Benfica (POR)|   167|  69| 13| 07|1990|     1990-07-13|América do Sul|\n",
      "|Argentina|    10|     FW|        MESSI|  FC Barcelona (ESP)|   170|  72| 24| 06|1987|     1987-06-24|América do Sul|\n",
      "+---------+------+-------+-------------+--------------------+------+----+---+---+----+---------------+--------------+\n",
      "only showing top 5 rows\n",
      "\n"
     ]
    }
   ],
   "source": [
    "df = df.withColumn('Continente', when(col('Selecao').isin(europa), 'Europa')\\\n",
    "             .when(col('Selecao').isin(asia), 'Ásia')\\\n",
    "             .when(col('Selecao').isin(africa), 'África')\\\n",
    "             .when(col('Selecao').isin(oceania), 'Oceania')\\\n",
    "             .when(col('Selecao').isin(america_norte), 'América do Norte')\\\n",
    "             .when(col('Selecao').isin(america_sul), 'América do Sul')\\\n",
    "             .otherwise('Verificar'))\n",
    "df.show(5)"
   ]
  },
  {
   "cell_type": "code",
   "execution_count": 13,
   "id": "79a79b0f",
   "metadata": {},
   "outputs": [
    {
     "name": "stdout",
     "output_type": "stream",
     "text": [
      "+-------+------+-------+-------------+----+------+----+---+---+---+---------------+----------+\n",
      "|Selecao|Numero|Posicao|Nome Camiseta|Time|Altura|Peso|Dia|Mes|Ano|Data_Nascimento|Continente|\n",
      "+-------+------+-------+-------------+----+------+----+---+---+---+---------------+----------+\n",
      "+-------+------+-------+-------------+----+------+----+---+---+---+---------------+----------+\n",
      "\n"
     ]
    }
   ],
   "source": [
    "df.filter('Continente = \"Verificar\"').show(50)"
   ]
  },
  {
   "cell_type": "code",
   "execution_count": null,
   "id": "414a6df6",
   "metadata": {},
   "outputs": [],
   "source": []
  },
  {
   "cell_type": "markdown",
   "id": "4456e3d1",
   "metadata": {},
   "source": [
    "##### Union (Concat)"
   ]
  },
  {
   "cell_type": "code",
   "execution_count": 14,
   "id": "10a3780b",
   "metadata": {},
   "outputs": [
    {
     "name": "stdout",
     "output_type": "stream",
     "text": [
      "+---------+\n",
      "|  Selecao|\n",
      "+---------+\n",
      "|Argentina|\n",
      "|     Peru|\n",
      "|  Uruguay|\n",
      "|   Brazil|\n",
      "| Colombia|\n",
      "+---------+\n",
      "\n"
     ]
    }
   ],
   "source": [
    "df_america_sul = df.filter('Continente = \"América do Sul\"')\n",
    "df_america_sul.select('Selecao').distinct().show()"
   ]
  },
  {
   "cell_type": "code",
   "execution_count": 15,
   "id": "cda51bcb",
   "metadata": {},
   "outputs": [
    {
     "name": "stdout",
     "output_type": "stream",
     "text": [
      "+----------+\n",
      "|   Selecao|\n",
      "+----------+\n",
      "|    Panama|\n",
      "|    Mexico|\n",
      "|Costa Rica|\n",
      "+----------+\n",
      "\n"
     ]
    }
   ],
   "source": [
    "df_america_norte = df.filter('Continente = \"América do Norte\"')\n",
    "df_america_norte.select('Selecao').distinct().show()"
   ]
  },
  {
   "cell_type": "code",
   "execution_count": 16,
   "id": "a2628250",
   "metadata": {},
   "outputs": [],
   "source": [
    "df_americas = df_america_sul.union(df_america_norte)"
   ]
  },
  {
   "cell_type": "code",
   "execution_count": 17,
   "id": "adba578c",
   "metadata": {},
   "outputs": [
    {
     "name": "stdout",
     "output_type": "stream",
     "text": [
      "+---------+------+-------+-------------+--------------------+------+----+---+---+----+---------------+--------------+\n",
      "|  Selecao|Numero|Posicao|Nome Camiseta|                Time|Altura|Peso|Dia|Mes| Ano|Data_Nascimento|    Continente|\n",
      "+---------+------+-------+-------------+--------------------+------+----+---+---+----+---------------+--------------+\n",
      "|Argentina|     3|     DF|   TAGLIAFICO|      AFC Ajax (NED)|   169|  65| 31| 08|1992|     1992-08-31|América do Sul|\n",
      "|Argentina|    22|     MF|        PAVÓN|CA Boca Juniors (...|   169|  65| 21| 01|1996|     1996-01-21|América do Sul|\n",
      "|Argentina|    15|     MF|      LANZINI|West Ham United F...|   167|  66| 15| 02|1993|     1993-02-15|América do Sul|\n",
      "|Argentina|    18|     DF|       SALVIO|    SL Benfica (POR)|   167|  69| 13| 07|1990|     1990-07-13|América do Sul|\n",
      "|Argentina|    10|     FW|        MESSI|  FC Barcelona (ESP)|   170|  72| 24| 06|1987|     1987-06-24|América do Sul|\n",
      "|Argentina|     4|     DF|      ANSALDI|     Torino FC (ITA)|   181|  73| 20| 09|1986|     1986-09-20|América do Sul|\n",
      "|Argentina|     5|     MF|       BIGLIA|      AC Milan (ITA)|   175|  73| 30| 01|1986|     1986-01-30|América do Sul|\n",
      "|Argentina|     7|     MF|       BANEGA|    Sevilla FC (ESP)|   175|  73| 29| 06|1988|     1988-06-29|América do Sul|\n",
      "|Argentina|    14|     DF|   MASCHERANO|Hebei China Fortu...|   174|  73| 08| 06|1984|     1984-06-08|América do Sul|\n",
      "|Argentina|    21|     FW|       DYBALA|   Juventus FC (ITA)|   177|  73| 15| 11|1993|     1993-11-15|América do Sul|\n",
      "|Argentina|    19|     FW|       AGÜERO|Manchester City F...|   172|  74| 02| 06|1988|     1988-06-02|América do Sul|\n",
      "|Argentina|     9|     FW|      HIGUAÍN|   Juventus FC (ITA)|   184|  75| 10| 12|1987|     1987-12-10|América do Sul|\n",
      "|Argentina|    11|     MF|     DI MARÍA|Paris Saint-Germa...|   178|  75| 14| 02|1988|     1988-02-14|América do Sul|\n",
      "|Argentina|    20|     MF|     LO CELSO|Paris Saint-Germa...|   177|  75| 09| 04|1996|     1996-04-09|América do Sul|\n",
      "|Argentina|    13|     MF|         MEZA|CA Independiente ...|   180|  76| 15| 12|1992|     1992-12-15|América do Sul|\n",
      "|Argentina|     8|     DF|        ACUÑA|   Sporting CP (POR)|   172|  77| 28| 10|1991|     1991-10-28|América do Sul|\n",
      "|Argentina|    23|     GK|    CABALLERO|    Chelsea FC (ENG)|   186|  80| 28| 09|1981|     1981-09-28|América do Sul|\n",
      "|Argentina|     2|     DF|      MERCADO|    Sevilla FC (ESP)|   181|  81| 18| 03|1987|     1987-03-18|América do Sul|\n",
      "|Argentina|    17|     DF|     OTAMENDI|Manchester City F...|   181|  81| 12| 02|1988|     1988-02-12|América do Sul|\n",
      "|Argentina|    16|     DF|         ROJO|Manchester United...|   189|  82| 20| 03|1990|     1990-03-20|América do Sul|\n",
      "|Argentina|     6|     DF|        FAZIO|       AS Roma (ITA)|   199|  85| 17| 03|1987|     1987-03-17|América do Sul|\n",
      "|Argentina|    12|     GK|       ARMANI|CA River Plate (ARG)|   189|  85| 16| 10|1986|     1986-10-16|América do Sul|\n",
      "|Argentina|     1|     GK|       GUZMÁN|   Tigres UANL (MEX)|   192|  90| 10| 02|1986|     1986-02-10|América do Sul|\n",
      "|   Brazil|    18|     MF|         FRED|FC Shakhtar Donet...|   169|  64| 05| 03|1993|     1993-03-05|América do Sul|\n",
      "|   Brazil|    21|     FW|       TAISON|FC Shakhtar Donet...|   172|  64| 13| 01|1988|     1988-01-13|América do Sul|\n",
      "|   Brazil|    17|     MF|  FERNANDINHO|Manchester City F...|   179|  67| 04| 05|1985|     1985-05-04|América do Sul|\n",
      "|   Brazil|    22|     DF|       FAGNER|SC Corinthians (BRA)|   168|  67| 11| 06|1989|     1989-06-11|América do Sul|\n",
      "|   Brazil|    10|     FW|    NEYMAR JR|Paris Saint-Germa...|   175|  68| 05| 02|1992|     1992-02-05|América do Sul|\n",
      "|   Brazil|    11|     MF|  P. COUTINHO|  FC Barcelona (ESP)|   172|  68| 12| 06|1992|     1992-06-12|América do Sul|\n",
      "|   Brazil|     7|     FW|     D. COSTA|   Juventus FC (ITA)|   182|  70| 14| 09|1990|     1990-09-14|América do Sul|\n",
      "|   Brazil|     6|     DF|  FILIPE LUIS|Atletico Madrid (...|   182|  73| 09| 08|1985|     1985-08-09|América do Sul|\n",
      "|   Brazil|     9|     FW|     G. JESUS|Manchester City F...|   175|  73| 03| 04|1997|     1997-04-03|América do Sul|\n",
      "|   Brazil|    13|     DF|   MARQUINHOS|Paris Saint-Germa...|   183|  75| 14| 05|1994|     1994-05-14|América do Sul|\n",
      "|   Brazil|    20|     FW|      FIRMINO|  Liverpool FC (ENG)|   181|  76| 02| 10|1991|     1991-10-02|América do Sul|\n",
      "|   Brazil|    19|     MF|      WILLIAN|    Chelsea FC (ENG)|   175|  77| 09| 08|1988|     1988-08-09|América do Sul|\n",
      "|   Brazil|     3|     DF|      MIRANDA|FC Internazionale...|   186|  78| 07| 09|1984|     1984-09-07|América do Sul|\n",
      "|   Brazil|    14|     DF|       DANILO|Manchester City F...|   184|  78| 15| 07|1991|     1991-07-15|América do Sul|\n",
      "|   Brazil|     2|     DF|     T. SILVA|Paris Saint-Germa...|   183|  79| 22| 09|1984|     1984-09-22|América do Sul|\n",
      "|   Brazil|    12|     DF|      MARCELO|Real Madrid CF (ESP)|   174|  80| 12| 05|1988|     1988-05-12|América do Sul|\n",
      "|   Brazil|    15|     MF|     PAULINHO|  FC Barcelona (ESP)|   181|  81| 25| 07|1988|     1988-07-25|América do Sul|\n",
      "|   Brazil|     4|     DF|      GEROMEL|   Grêmio FBPA (BRA)|   190|  84| 21| 09|1985|     1985-09-21|América do Sul|\n",
      "|   Brazil|     5|     MF|     CASEMIRO|Real Madrid CF (ESP)|   185|  84| 23| 02|1992|     1992-02-23|América do Sul|\n",
      "|   Brazil|     8|     MF|   R. AUGUSTO| Beijing Guoan (CHN)|   186|  86| 08| 02|1988|     1988-02-08|América do Sul|\n",
      "|   Brazil|    23|     GK|      EDERSON|Manchester City F...|   188|  86| 17| 08|1993|     1993-08-17|América do Sul|\n",
      "|   Brazil|     1|     GK|    A. BECKER|       AS Roma (ITA)|   193|  91| 02| 10|1992|     1992-10-02|América do Sul|\n",
      "|   Brazil|    16|     GK|       CASSIO|SC Corinthians (BRA)|   195|  92| 06| 06|1987|     1987-06-06|América do Sul|\n",
      "| Colombia|    20|     MF|  J. QUINTERO|CA River Plate (ARG)|   169|  64| 18| 01|1993|     1993-01-18|América do Sul|\n",
      "| Colombia|    17|     DF|    J. MOJICA|     Girona FC (ESP)|   185|  66| 21| 08|1992|     1992-08-21|América do Sul|\n",
      "| Colombia|    16|     MF|     J. LERMA|    Levante UD (ESP)|   179|  70| 25| 10|1994|     1994-10-25|América do Sul|\n",
      "| Colombia|     4|     DF|        ARIAS| PSV Eindhoven (NED)|   177|  71| 13| 01|1992|     1992-01-13|América do Sul|\n",
      "| Colombia|    15|     MF|     M. URIBE|  Club América (MEX)|   182|  71| 21| 03|1991|     1991-03-21|América do Sul|\n",
      "| Colombia|     9|     FW|       FALCAO|     AS Monaco (FRA)|   177|  72| 10| 02|1986|     1986-02-10|América do Sul|\n",
      "| Colombia|    11|     MF|     CUADRADO|   Juventus FC (ITA)|   179|  72| 26| 05|1988|     1988-05-26|América do Sul|\n",
      "| Colombia|    18|     DF|        FABRA|CA Boca Juniors (...|   172|  72| 22| 02|1991|     1991-02-22|América do Sul|\n",
      "| Colombia|    21|     FW|    IZQUIERDO|Brighton & Hove A...|   171|  73| 07| 07|1992|     1992-07-07|América do Sul|\n",
      "| Colombia|     5|     MF|      BARRIOS|CA Boca Juniors (...|   178|  74| 16| 10|1993|     1993-10-16|América do Sul|\n",
      "| Colombia|    19|     FW|     M. BORJA|  SE Palmeiras (BRA)|   183|  74| 26| 01|1993|     1993-01-26|América do Sul|\n",
      "| Colombia|    10|     MF|        JAMES|FC Bayern München...|   180|  75| 12| 07|1991|     1991-07-12|América do Sul|\n",
      "| Colombia|     7|     FW|        BACCA| Villarreal CF (ESP)|   181|  77| 08| 09|1986|     1986-09-08|América do Sul|\n",
      "| Colombia|    14|     FW|    L. MURIEL|    Sevilla FC (ESP)|   178|  79| 16| 04|1991|     1991-04-16|América do Sul|\n",
      "| Colombia|     1|     GK|       OSPINA|    Arsenal FC (ENG)|   183|  80| 31| 08|1988|     1988-08-31|América do Sul|\n",
      "| Colombia|     3|     DF|   O. MURILLO|    CF Pachuca (MEX)|   184|  80| 18| 04|1988|     1988-04-18|América do Sul|\n",
      "| Colombia|    12|     GK|    C. VARGAS|AC Deportivo Cali...|   185|  80| 09| 03|1989|     1989-03-09|América do Sul|\n",
      "| Colombia|    22|     GK|J.F. CUADRADO|CD Once Caldas (COL)|   180|  80| 01| 06|1985|     1985-06-01|América do Sul|\n",
      "| Colombia|    23|     DF|   D. SANCHEZ|Tottenham Hotspur...|   187|  81| 12| 06|1996|     1996-06-12|América do Sul|\n",
      "| Colombia|     2|     DF|    C. ZAPATA|      AC Milan (ITA)|   187|  82| 30| 09|1986|     1986-09-30|América do Sul|\n",
      "| Colombia|     6|     MF|   C. SANCHEZ|  RCD Espanyol (ESP)|   182|  82| 06| 02|1986|     1986-02-06|América do Sul|\n",
      "| Colombia|     8|     MF|   AGUILAR T.|AC Deportivo Cali...|   185|  82| 06| 01|1985|     1985-01-06|América do Sul|\n",
      "| Colombia|    13|     DF|      Y. MINA|  FC Barcelona (ESP)|   194|  95| 23| 09|1994|     1994-09-23|América do Sul|\n",
      "|     Peru|     7|     MF|      HURTADO|Vitoria Guimaraes...|   174|  66| 27| 07|1990|     1990-07-27|América do Sul|\n",
      "|     Peru|    11|     FW|      RUIDIAZ|CA Monarcas Morel...|   169|  67| 25| 07|1990|     1990-07-25|América do Sul|\n",
      "|     Peru|    22|     DF|       LOYOLA|    FBC Melgar (PER)|   179|  68| 26| 10|1994|     1994-10-26|América do Sul|\n",
      "|     Peru|     8|     MF|        CUEVA|  Sao Paulo FC (BRA)|   169|  69| 23| 11|1991|     1991-11-23|América do Sul|\n",
      "|     Peru|    19|     MF|        YOTUN|Orlando City SC (...|   172|  69| 07| 04|1990|     1990-04-07|América do Sul|\n",
      "|     Peru|    14|     MF|         POLO|Portland Timbers ...|   174|  71| 29| 09|1994|     1994-09-29|América do Sul|\n",
      "|     Peru|    23|     MF|       AQUINO|    Lobos BUAP (MEX)|   174|  71| 13| 04|1995|     1995-04-13|América do Sul|\n",
      "|     Peru|    15|     DF|        RAMOS|CD Tiburones Rojo...|   182|  72| 04| 11|1988|     1988-11-04|América do Sul|\n",
      "|     Peru|    20|     FW|       FLORES|    Aalborg BK (DEN)|   170|  72| 14| 05|1994|     1994-05-14|América do Sul|\n",
      "|     Peru|     6|     DF|       TRAUCO|   CR Flamengo (BRA)|   169|  74| 25| 08|1992|     1992-08-25|América do Sul|\n",
      "|     Peru|     3|     DF|        CORZO|Universitario Lim...|   172|  75| 20| 05|1989|     1989-05-20|América do Sul|\n",
      "|     Peru|    16|     MF|    CARTAGENA|CD Tiburones Rojo...|   179|  76| 23| 09|1994|     1994-09-23|América do Sul|\n",
      "|     Peru|     5|     DF|       ARAUJO|  Alianza Lima (PER)|   178|  77| 24| 10|1994|     1994-10-24|América do Sul|\n",
      "|     Peru|    18|     FW|     CARRILLO|    Watford FC (ENG)|   182|  77| 14| 06|1991|     1991-06-14|América do Sul|\n",
      "|     Peru|     2|     DF|    RODRIGUEZ|Atletico Junior (...|   179|  78| 31| 03|1984|     1984-03-31|América do Sul|\n",
      "|     Peru|    12|     GK|       CACEDA|Deportivo Municip...|   184|  78| 27| 09|1991|     1991-09-27|América do Sul|\n",
      "|     Peru|     1|     GK|      GALLESE|CD Tiburones Rojo...|   189|  79| 23| 02|1990|     1990-02-23|América do Sul|\n",
      "|     Peru|    17|     DF|    ADVINCULA|    Lobos BUAP (MEX)|   178|  80| 02| 03|1990|     1990-03-02|América do Sul|\n",
      "|     Peru|     4|     DF|   SANTAMARIA|     Puebla FC (MEX)|   183|  84| 10| 01|1992|     1992-01-10|América do Sul|\n",
      "|     Peru|    21|     GK|     CARVALLO|Universidad Técni...|   182|  84| 01| 03|1986|     1986-03-01|América do Sul|\n",
      "|     Peru|    10|     FW|       FARFAN|FC Lokomotiv Mosc...|   177|  85| 26| 10|1984|     1984-10-26|América do Sul|\n",
      "|     Peru|    13|     MF|        TAPIA|Feyenoord Rotterd...|   185|  85| 28| 07|1995|     1995-07-28|América do Sul|\n",
      "|     Peru|     9|     FW|     GUERRERO|   CR Flamengo (BRA)|   185|  88| 01| 01|1984|     1984-01-01|América do Sul|\n",
      "|  Uruguay|     8|     MF|       NANDEZ|CA Boca Juniors (...|   171|  61| 28| 12|1995|     1995-12-28|América do Sul|\n",
      "|  Uruguay|    14|     MF|     TORREIRA|  UC Sampdoria (ITA)|   168|  61| 11| 02|1996|     1996-02-11|América do Sul|\n",
      "|  Uruguay|    10|     FW|DE ARRASCAETA|   Cruzeiro EC (BRA)|   172|  64| 01| 06|1994|     1994-06-01|América do Sul|\n",
      "|  Uruguay|    17|     MF|       LAXALT|     Genoa CFC (ITA)|   178|  66| 07| 02|1993|     1993-02-07|América do Sul|\n",
      "|  Uruguay|    20|     FW|URRETAVISCAYA|  CF Monterrey (MEX)|   172|  66| 19| 03|1990|     1990-03-19|América do Sul|\n",
      "|  Uruguay|     4|     DF|       VARELA|    CA Penarol (URU)|   173|  70| 24| 03|1993|     1993-03-24|América do Sul|\n",
      "|  Uruguay|     3|     DF|        GODIN|Atletico Madrid (...|   185|  73| 16| 02|1986|     1986-02-16|América do Sul|\n",
      "|  Uruguay|     6|     MF|    BENTANCUR|   Juventus FC (ITA)|   187|  73| 25| 06|1997|     1997-06-25|América do Sul|\n",
      "+---------+------+-------+-------------+--------------------+------+----+---+---+----+---------------+--------------+\n",
      "only showing top 100 rows\n",
      "\n"
     ]
    }
   ],
   "source": [
    "df_americas.show(100)"
   ]
  },
  {
   "cell_type": "code",
   "execution_count": 18,
   "id": "ef3617f4",
   "metadata": {},
   "outputs": [
    {
     "name": "stdout",
     "output_type": "stream",
     "text": [
      "+----------+\n",
      "|   Selecao|\n",
      "+----------+\n",
      "| Argentina|\n",
      "|      Peru|\n",
      "|   Uruguay|\n",
      "|    Brazil|\n",
      "|  Colombia|\n",
      "|    Panama|\n",
      "|    Mexico|\n",
      "|Costa Rica|\n",
      "+----------+\n",
      "\n"
     ]
    }
   ],
   "source": [
    "df_americas.select('Selecao').distinct().show()"
   ]
  },
  {
   "cell_type": "code",
   "execution_count": 19,
   "id": "929ae70e",
   "metadata": {},
   "outputs": [],
   "source": [
    "# A QUANTIDADE DE COLUNAS DEVE SER A MESMA"
   ]
  },
  {
   "cell_type": "code",
   "execution_count": 20,
   "id": "7a2a9f3f",
   "metadata": {},
   "outputs": [],
   "source": [
    "df_america_sul = df_america_sul.drop('Continente')"
   ]
  },
  {
   "cell_type": "code",
   "execution_count": 31,
   "id": "69d3662c",
   "metadata": {},
   "outputs": [
    {
     "name": "stdout",
     "output_type": "stream",
     "text": [
      "+----------+------+-------+-------------+--------------------+------+----+---+---+----+---------------+----------+\n",
      "|   Selecao|Numero|Posicao|Nome Camiseta|                Time|Altura|Peso|Dia|Mes| Ano|Data_Nascimento|Continente|\n",
      "+----------+------+-------+-------------+--------------------+------+----+---+---+----+---------------+----------+\n",
      "|Costa Rica|     7|     MF|   C. BOLAÑOS|Deportivo Sapriss...|   178|  67| 17| 05|1984|     1984-05-17|       100|\n",
      "|Costa Rica|    16|     DF|    C. GAMBOA|     Celtic FC (SCO)|   175|  67| 24| 10|1989|     1989-10-24|       100|\n",
      "|Costa Rica|    17|     MF|    Y. TEJEDA|FC Lausanne-Sport...|   179|  67| 17| 03|1992|     1992-03-17|       100|\n",
      "|Costa Rica|     4|     DF|     I. SMITH|IFK Norrkoping FK...|   177|  68| 06| 03|1998|     1998-03-06|       100|\n",
      "+----------+------+-------+-------------+--------------------+------+----+---+---+----+---------------+----------+\n",
      "only showing top 4 rows\n",
      "\n"
     ]
    }
   ],
   "source": [
    "df_america_norte.show(4)"
   ]
  },
  {
   "cell_type": "code",
   "execution_count": 32,
   "id": "ee90f235",
   "metadata": {
    "collapsed": true
   },
   "outputs": [
    {
     "ename": "AnalysisException",
     "evalue": "[NUM_COLUMNS_MISMATCH] UNION can only be performed on inputs with the same number of columns, but the first input has 11 columns and the second input has 12 columns.;\n'Union false, false\n:- Project [Selecao#35, Numero#46, Posicao#56, Nome Camiseta#86, Time#96, Altura#106, Peso#116, Dia#127, Mes#139, Ano#152, Data_Nascimento#165]\n:  +- Filter (Continente#199 = América do Sul)\n:     +- Project [Selecao#35, Numero#46, Posicao#56, Nome Camiseta#86, Time#96, Altura#106, Peso#116, Dia#127, Mes#139, Ano#152, Data_Nascimento#165, CASE WHEN Selecao#35 IN (Sweden,Germany,France,Belgium,Croatia,Spain,Denmark,Iceland,Switzerland,England,Poland,Portugal,Serbia) THEN Europa WHEN Selecao#35 IN (Russia,IR Iran,Nigeria,Korea Republic,Saudi Arabia,Japan) THEN Ásia WHEN Selecao#35 IN (Senegal,Morocco,Tunisia,Egypt) THEN África WHEN Selecao#35 IN (Australia) THEN Oceania WHEN Selecao#35 IN (Panama,Mexico,Costa Rica) THEN América do Norte WHEN Selecao#35 IN (Argentina,Peru,Uruguay,Brazil,Colombia) THEN América do Sul ELSE Verificar END AS Continente#199]\n:        +- Project [Selecao#35, Numero#46, Posicao#56, Nome Camiseta#86, Time#96, Altura#106, Peso#116, Dia#127, Mes#139, Ano#152, Data_Nascimento#165]\n:           +- Project [Selecao#35, Numero#46, Posicao#56, Nome_FIFA#66, Nascimento#76, Nome Camiseta#86, Time#96, Altura#106, Peso#116, Dia#127, Mes#139, Ano#152, cast(concat_ws(-, Ano#152, Mes#139, Dia#127) as date) AS Data_Nascimento#165]\n:              +- Project [Selecao#35, Numero#46, Posicao#56, Nome_FIFA#66, Nascimento#76, Nome Camiseta#86, Time#96, Altura#106, Peso#116, Dia#127, Mes#139, <lambda>(nascimento#76)#151 AS Ano#152]\n:                 +- Project [Selecao#35, Numero#46, Posicao#56, Nome_FIFA#66, Nascimento#76, Nome Camiseta#86, Time#96, Altura#106, Peso#116, Dia#127, <lambda>(Nascimento#76)#138 AS Mes#139]\n:                    +- Project [Selecao#35, Numero#46, Posicao#56, Nome_FIFA#66, Nascimento#76, Nome Camiseta#86, Time#96, Altura#106, Peso#116, <lambda>(Nascimento#76)#126 AS Dia#127]\n:                       +- Project [Selecao#35, Numero#46, Posicao#56, Nome_FIFA#66, Nascimento#76, Nome Camiseta#86, Time#96, Altura#106, Weight#25 AS Peso#116]\n:                          +- Project [Selecao#35, Numero#46, Posicao#56, Nome_FIFA#66, Nascimento#76, Nome Camiseta#86, Time#96, Height#24 AS Altura#106, Weight#25]\n:                             +- Project [Selecao#35, Numero#46, Posicao#56, Nome_FIFA#66, Nascimento#76, Nome Camiseta#86, Club#23 AS Time#96, Height#24, Weight#25]\n:                                +- Project [Selecao#35, Numero#46, Posicao#56, Nome_FIFA#66, Nascimento#76, Shirt Name#22 AS Nome Camiseta#86, Club#23, Height#24, Weight#25]\n:                                   +- Project [Selecao#35, Numero#46, Posicao#56, Nome_FIFA#66, Birth Date#21 AS Nascimento#76, Shirt Name#22, Club#23, Height#24, Weight#25]\n:                                      +- Project [Selecao#35, Numero#46, Posicao#56, FIFA Popular Name#20 AS Nome_FIFA#66, Birth Date#21, Shirt Name#22, Club#23, Height#24, Weight#25]\n:                                         +- Project [Selecao#35, Numero#46, Pos.#19 AS Posicao#56, FIFA Popular Name#20, Birth Date#21, Shirt Name#22, Club#23, Height#24, Weight#25]\n:                                            +- Project [Selecao#35, ##18 AS Numero#46, Pos.#19, FIFA Popular Name#20, Birth Date#21, Shirt Name#22, Club#23, Height#24, Weight#25]\n:                                               +- Project [Team#17 AS Selecao#35, ##18, Pos.#19, FIFA Popular Name#20, Birth Date#21, Shirt Name#22, Club#23, Height#24, Weight#25]\n:                                                  +- Relation [Team#17,##18,Pos.#19,FIFA Popular Name#20,Birth Date#21,Shirt Name#22,Club#23,Height#24,Weight#25] csv\n+- Project [Selecao#35 AS Selecao#901, Numero#46 AS Numero#902, Posicao#56 AS Posicao#903, Nome Camiseta#86 AS Nome Camiseta#904, Time#96 AS Time#905, Altura#106 AS Altura#906, Peso#116 AS Peso#907, Dia#127 AS Dia#908, Mes#139 AS Mes#909, Ano#152 AS Ano#910, Data_Nascimento#165 AS Data_Nascimento#911, Continente#564 AS Continente#912]\n   +- Project [Selecao#35, Numero#46, Posicao#56, Nome Camiseta#86, Time#96, Altura#106, Peso#116, Dia#127, Mes#139, Ano#152, Data_Nascimento#165, 100 AS Continente#564]\n      +- Filter (Continente#199 = América do Norte)\n         +- Project [Selecao#35, Numero#46, Posicao#56, Nome Camiseta#86, Time#96, Altura#106, Peso#116, Dia#127, Mes#139, Ano#152, Data_Nascimento#165, CASE WHEN Selecao#35 IN (Sweden,Germany,France,Belgium,Croatia,Spain,Denmark,Iceland,Switzerland,England,Poland,Portugal,Serbia) THEN Europa WHEN Selecao#35 IN (Russia,IR Iran,Nigeria,Korea Republic,Saudi Arabia,Japan) THEN Ásia WHEN Selecao#35 IN (Senegal,Morocco,Tunisia,Egypt) THEN África WHEN Selecao#35 IN (Australia) THEN Oceania WHEN Selecao#35 IN (Panama,Mexico,Costa Rica) THEN América do Norte WHEN Selecao#35 IN (Argentina,Peru,Uruguay,Brazil,Colombia) THEN América do Sul ELSE Verificar END AS Continente#199]\n            +- Project [Selecao#35, Numero#46, Posicao#56, Nome Camiseta#86, Time#96, Altura#106, Peso#116, Dia#127, Mes#139, Ano#152, Data_Nascimento#165]\n               +- Project [Selecao#35, Numero#46, Posicao#56, Nome_FIFA#66, Nascimento#76, Nome Camiseta#86, Time#96, Altura#106, Peso#116, Dia#127, Mes#139, Ano#152, cast(concat_ws(-, Ano#152, Mes#139, Dia#127) as date) AS Data_Nascimento#165]\n                  +- Project [Selecao#35, Numero#46, Posicao#56, Nome_FIFA#66, Nascimento#76, Nome Camiseta#86, Time#96, Altura#106, Peso#116, Dia#127, Mes#139, <lambda>(nascimento#76)#151 AS Ano#152]\n                     +- Project [Selecao#35, Numero#46, Posicao#56, Nome_FIFA#66, Nascimento#76, Nome Camiseta#86, Time#96, Altura#106, Peso#116, Dia#127, <lambda>(Nascimento#76)#138 AS Mes#139]\n                        +- Project [Selecao#35, Numero#46, Posicao#56, Nome_FIFA#66, Nascimento#76, Nome Camiseta#86, Time#96, Altura#106, Peso#116, <lambda>(Nascimento#76)#126 AS Dia#127]\n                           +- Project [Selecao#35, Numero#46, Posicao#56, Nome_FIFA#66, Nascimento#76, Nome Camiseta#86, Time#96, Altura#106, Weight#900 AS Peso#116]\n                              +- Project [Selecao#35, Numero#46, Posicao#56, Nome_FIFA#66, Nascimento#76, Nome Camiseta#86, Time#96, Height#899 AS Altura#106, Weight#900]\n                                 +- Project [Selecao#35, Numero#46, Posicao#56, Nome_FIFA#66, Nascimento#76, Nome Camiseta#86, Club#898 AS Time#96, Height#899, Weight#900]\n                                    +- Project [Selecao#35, Numero#46, Posicao#56, Nome_FIFA#66, Nascimento#76, Shirt Name#897 AS Nome Camiseta#86, Club#898, Height#899, Weight#900]\n                                       +- Project [Selecao#35, Numero#46, Posicao#56, Nome_FIFA#66, Birth Date#896 AS Nascimento#76, Shirt Name#897, Club#898, Height#899, Weight#900]\n                                          +- Project [Selecao#35, Numero#46, Posicao#56, FIFA Popular Name#895 AS Nome_FIFA#66, Birth Date#896, Shirt Name#897, Club#898, Height#899, Weight#900]\n                                             +- Project [Selecao#35, Numero#46, Pos.#894 AS Posicao#56, FIFA Popular Name#895, Birth Date#896, Shirt Name#897, Club#898, Height#899, Weight#900]\n                                                +- Project [Selecao#35, ##893 AS Numero#46, Pos.#894, FIFA Popular Name#895, Birth Date#896, Shirt Name#897, Club#898, Height#899, Weight#900]\n                                                   +- Project [Team#892 AS Selecao#35, ##893, Pos.#894, FIFA Popular Name#895, Birth Date#896, Shirt Name#897, Club#898, Height#899, Weight#900]\n                                                      +- Relation [Team#892,##893,Pos.#894,FIFA Popular Name#895,Birth Date#896,Shirt Name#897,Club#898,Height#899,Weight#900] csv\n",
     "output_type": "error",
     "traceback": [
      "\u001b[1;31m---------------------------------------------------------------------------\u001b[0m",
      "\u001b[1;31mAnalysisException\u001b[0m                         Traceback (most recent call last)",
      "Cell \u001b[1;32mIn[32], line 1\u001b[0m\n\u001b[1;32m----> 1\u001b[0m df_americas \u001b[38;5;241m=\u001b[39m \u001b[43mdf_america_sul\u001b[49m\u001b[38;5;241;43m.\u001b[39;49m\u001b[43munion\u001b[49m\u001b[43m(\u001b[49m\u001b[43mdf_america_norte\u001b[49m\u001b[43m)\u001b[49m\n",
      "File \u001b[1;32mc:\\Users\\Luan Lima\\AppData\\Local\\Programs\\Python\\Python310\\lib\\site-packages\\pyspark\\sql\\dataframe.py:3923\u001b[0m, in \u001b[0;36mDataFrame.union\u001b[1;34m(self, other)\u001b[0m\n\u001b[0;32m   3827\u001b[0m \u001b[38;5;28;01mdef\u001b[39;00m \u001b[38;5;21munion\u001b[39m(\u001b[38;5;28mself\u001b[39m, other: \u001b[38;5;124m\"\u001b[39m\u001b[38;5;124mDataFrame\u001b[39m\u001b[38;5;124m\"\u001b[39m) \u001b[38;5;241m-\u001b[39m\u001b[38;5;241m>\u001b[39m \u001b[38;5;124m\"\u001b[39m\u001b[38;5;124mDataFrame\u001b[39m\u001b[38;5;124m\"\u001b[39m:\n\u001b[0;32m   3828\u001b[0m \u001b[38;5;250m    \u001b[39m\u001b[38;5;124;03m\"\"\"Return a new :class:`DataFrame` containing the union of rows in this and another\u001b[39;00m\n\u001b[0;32m   3829\u001b[0m \u001b[38;5;124;03m    :class:`DataFrame`.\u001b[39;00m\n\u001b[0;32m   3830\u001b[0m \n\u001b[1;32m   (...)\u001b[0m\n\u001b[0;32m   3921\u001b[0m \u001b[38;5;124;03m    +---+-----+\u001b[39;00m\n\u001b[0;32m   3922\u001b[0m \u001b[38;5;124;03m    \"\"\"\u001b[39;00m\n\u001b[1;32m-> 3923\u001b[0m     \u001b[38;5;28;01mreturn\u001b[39;00m DataFrame(\u001b[38;5;28;43mself\u001b[39;49m\u001b[38;5;241;43m.\u001b[39;49m\u001b[43m_jdf\u001b[49m\u001b[38;5;241;43m.\u001b[39;49m\u001b[43munion\u001b[49m\u001b[43m(\u001b[49m\u001b[43mother\u001b[49m\u001b[38;5;241;43m.\u001b[39;49m\u001b[43m_jdf\u001b[49m\u001b[43m)\u001b[49m, \u001b[38;5;28mself\u001b[39m\u001b[38;5;241m.\u001b[39msparkSession)\n",
      "File \u001b[1;32mc:\\Users\\Luan Lima\\AppData\\Local\\Programs\\Python\\Python310\\lib\\site-packages\\py4j\\java_gateway.py:1322\u001b[0m, in \u001b[0;36mJavaMember.__call__\u001b[1;34m(self, *args)\u001b[0m\n\u001b[0;32m   1316\u001b[0m command \u001b[38;5;241m=\u001b[39m proto\u001b[38;5;241m.\u001b[39mCALL_COMMAND_NAME \u001b[38;5;241m+\u001b[39m\\\n\u001b[0;32m   1317\u001b[0m     \u001b[38;5;28mself\u001b[39m\u001b[38;5;241m.\u001b[39mcommand_header \u001b[38;5;241m+\u001b[39m\\\n\u001b[0;32m   1318\u001b[0m     args_command \u001b[38;5;241m+\u001b[39m\\\n\u001b[0;32m   1319\u001b[0m     proto\u001b[38;5;241m.\u001b[39mEND_COMMAND_PART\n\u001b[0;32m   1321\u001b[0m answer \u001b[38;5;241m=\u001b[39m \u001b[38;5;28mself\u001b[39m\u001b[38;5;241m.\u001b[39mgateway_client\u001b[38;5;241m.\u001b[39msend_command(command)\n\u001b[1;32m-> 1322\u001b[0m return_value \u001b[38;5;241m=\u001b[39m \u001b[43mget_return_value\u001b[49m\u001b[43m(\u001b[49m\n\u001b[0;32m   1323\u001b[0m \u001b[43m    \u001b[49m\u001b[43manswer\u001b[49m\u001b[43m,\u001b[49m\u001b[43m \u001b[49m\u001b[38;5;28;43mself\u001b[39;49m\u001b[38;5;241;43m.\u001b[39;49m\u001b[43mgateway_client\u001b[49m\u001b[43m,\u001b[49m\u001b[43m \u001b[49m\u001b[38;5;28;43mself\u001b[39;49m\u001b[38;5;241;43m.\u001b[39;49m\u001b[43mtarget_id\u001b[49m\u001b[43m,\u001b[49m\u001b[43m \u001b[49m\u001b[38;5;28;43mself\u001b[39;49m\u001b[38;5;241;43m.\u001b[39;49m\u001b[43mname\u001b[49m\u001b[43m)\u001b[49m\n\u001b[0;32m   1325\u001b[0m \u001b[38;5;28;01mfor\u001b[39;00m temp_arg \u001b[38;5;129;01min\u001b[39;00m temp_args:\n\u001b[0;32m   1326\u001b[0m     \u001b[38;5;28;01mif\u001b[39;00m \u001b[38;5;28mhasattr\u001b[39m(temp_arg, \u001b[38;5;124m\"\u001b[39m\u001b[38;5;124m_detach\u001b[39m\u001b[38;5;124m\"\u001b[39m):\n",
      "File \u001b[1;32mc:\\Users\\Luan Lima\\AppData\\Local\\Programs\\Python\\Python310\\lib\\site-packages\\pyspark\\errors\\exceptions\\captured.py:185\u001b[0m, in \u001b[0;36mcapture_sql_exception.<locals>.deco\u001b[1;34m(*a, **kw)\u001b[0m\n\u001b[0;32m    181\u001b[0m converted \u001b[38;5;241m=\u001b[39m convert_exception(e\u001b[38;5;241m.\u001b[39mjava_exception)\n\u001b[0;32m    182\u001b[0m \u001b[38;5;28;01mif\u001b[39;00m \u001b[38;5;129;01mnot\u001b[39;00m \u001b[38;5;28misinstance\u001b[39m(converted, UnknownException):\n\u001b[0;32m    183\u001b[0m     \u001b[38;5;66;03m# Hide where the exception came from that shows a non-Pythonic\u001b[39;00m\n\u001b[0;32m    184\u001b[0m     \u001b[38;5;66;03m# JVM exception message.\u001b[39;00m\n\u001b[1;32m--> 185\u001b[0m     \u001b[38;5;28;01mraise\u001b[39;00m converted \u001b[38;5;28;01mfrom\u001b[39;00m \u001b[38;5;28;01mNone\u001b[39;00m\n\u001b[0;32m    186\u001b[0m \u001b[38;5;28;01melse\u001b[39;00m:\n\u001b[0;32m    187\u001b[0m     \u001b[38;5;28;01mraise\u001b[39;00m\n",
      "\u001b[1;31mAnalysisException\u001b[0m: [NUM_COLUMNS_MISMATCH] UNION can only be performed on inputs with the same number of columns, but the first input has 11 columns and the second input has 12 columns.;\n'Union false, false\n:- Project [Selecao#35, Numero#46, Posicao#56, Nome Camiseta#86, Time#96, Altura#106, Peso#116, Dia#127, Mes#139, Ano#152, Data_Nascimento#165]\n:  +- Filter (Continente#199 = América do Sul)\n:     +- Project [Selecao#35, Numero#46, Posicao#56, Nome Camiseta#86, Time#96, Altura#106, Peso#116, Dia#127, Mes#139, Ano#152, Data_Nascimento#165, CASE WHEN Selecao#35 IN (Sweden,Germany,France,Belgium,Croatia,Spain,Denmark,Iceland,Switzerland,England,Poland,Portugal,Serbia) THEN Europa WHEN Selecao#35 IN (Russia,IR Iran,Nigeria,Korea Republic,Saudi Arabia,Japan) THEN Ásia WHEN Selecao#35 IN (Senegal,Morocco,Tunisia,Egypt) THEN África WHEN Selecao#35 IN (Australia) THEN Oceania WHEN Selecao#35 IN (Panama,Mexico,Costa Rica) THEN América do Norte WHEN Selecao#35 IN (Argentina,Peru,Uruguay,Brazil,Colombia) THEN América do Sul ELSE Verificar END AS Continente#199]\n:        +- Project [Selecao#35, Numero#46, Posicao#56, Nome Camiseta#86, Time#96, Altura#106, Peso#116, Dia#127, Mes#139, Ano#152, Data_Nascimento#165]\n:           +- Project [Selecao#35, Numero#46, Posicao#56, Nome_FIFA#66, Nascimento#76, Nome Camiseta#86, Time#96, Altura#106, Peso#116, Dia#127, Mes#139, Ano#152, cast(concat_ws(-, Ano#152, Mes#139, Dia#127) as date) AS Data_Nascimento#165]\n:              +- Project [Selecao#35, Numero#46, Posicao#56, Nome_FIFA#66, Nascimento#76, Nome Camiseta#86, Time#96, Altura#106, Peso#116, Dia#127, Mes#139, <lambda>(nascimento#76)#151 AS Ano#152]\n:                 +- Project [Selecao#35, Numero#46, Posicao#56, Nome_FIFA#66, Nascimento#76, Nome Camiseta#86, Time#96, Altura#106, Peso#116, Dia#127, <lambda>(Nascimento#76)#138 AS Mes#139]\n:                    +- Project [Selecao#35, Numero#46, Posicao#56, Nome_FIFA#66, Nascimento#76, Nome Camiseta#86, Time#96, Altura#106, Peso#116, <lambda>(Nascimento#76)#126 AS Dia#127]\n:                       +- Project [Selecao#35, Numero#46, Posicao#56, Nome_FIFA#66, Nascimento#76, Nome Camiseta#86, Time#96, Altura#106, Weight#25 AS Peso#116]\n:                          +- Project [Selecao#35, Numero#46, Posicao#56, Nome_FIFA#66, Nascimento#76, Nome Camiseta#86, Time#96, Height#24 AS Altura#106, Weight#25]\n:                             +- Project [Selecao#35, Numero#46, Posicao#56, Nome_FIFA#66, Nascimento#76, Nome Camiseta#86, Club#23 AS Time#96, Height#24, Weight#25]\n:                                +- Project [Selecao#35, Numero#46, Posicao#56, Nome_FIFA#66, Nascimento#76, Shirt Name#22 AS Nome Camiseta#86, Club#23, Height#24, Weight#25]\n:                                   +- Project [Selecao#35, Numero#46, Posicao#56, Nome_FIFA#66, Birth Date#21 AS Nascimento#76, Shirt Name#22, Club#23, Height#24, Weight#25]\n:                                      +- Project [Selecao#35, Numero#46, Posicao#56, FIFA Popular Name#20 AS Nome_FIFA#66, Birth Date#21, Shirt Name#22, Club#23, Height#24, Weight#25]\n:                                         +- Project [Selecao#35, Numero#46, Pos.#19 AS Posicao#56, FIFA Popular Name#20, Birth Date#21, Shirt Name#22, Club#23, Height#24, Weight#25]\n:                                            +- Project [Selecao#35, ##18 AS Numero#46, Pos.#19, FIFA Popular Name#20, Birth Date#21, Shirt Name#22, Club#23, Height#24, Weight#25]\n:                                               +- Project [Team#17 AS Selecao#35, ##18, Pos.#19, FIFA Popular Name#20, Birth Date#21, Shirt Name#22, Club#23, Height#24, Weight#25]\n:                                                  +- Relation [Team#17,##18,Pos.#19,FIFA Popular Name#20,Birth Date#21,Shirt Name#22,Club#23,Height#24,Weight#25] csv\n+- Project [Selecao#35 AS Selecao#901, Numero#46 AS Numero#902, Posicao#56 AS Posicao#903, Nome Camiseta#86 AS Nome Camiseta#904, Time#96 AS Time#905, Altura#106 AS Altura#906, Peso#116 AS Peso#907, Dia#127 AS Dia#908, Mes#139 AS Mes#909, Ano#152 AS Ano#910, Data_Nascimento#165 AS Data_Nascimento#911, Continente#564 AS Continente#912]\n   +- Project [Selecao#35, Numero#46, Posicao#56, Nome Camiseta#86, Time#96, Altura#106, Peso#116, Dia#127, Mes#139, Ano#152, Data_Nascimento#165, 100 AS Continente#564]\n      +- Filter (Continente#199 = América do Norte)\n         +- Project [Selecao#35, Numero#46, Posicao#56, Nome Camiseta#86, Time#96, Altura#106, Peso#116, Dia#127, Mes#139, Ano#152, Data_Nascimento#165, CASE WHEN Selecao#35 IN (Sweden,Germany,France,Belgium,Croatia,Spain,Denmark,Iceland,Switzerland,England,Poland,Portugal,Serbia) THEN Europa WHEN Selecao#35 IN (Russia,IR Iran,Nigeria,Korea Republic,Saudi Arabia,Japan) THEN Ásia WHEN Selecao#35 IN (Senegal,Morocco,Tunisia,Egypt) THEN África WHEN Selecao#35 IN (Australia) THEN Oceania WHEN Selecao#35 IN (Panama,Mexico,Costa Rica) THEN América do Norte WHEN Selecao#35 IN (Argentina,Peru,Uruguay,Brazil,Colombia) THEN América do Sul ELSE Verificar END AS Continente#199]\n            +- Project [Selecao#35, Numero#46, Posicao#56, Nome Camiseta#86, Time#96, Altura#106, Peso#116, Dia#127, Mes#139, Ano#152, Data_Nascimento#165]\n               +- Project [Selecao#35, Numero#46, Posicao#56, Nome_FIFA#66, Nascimento#76, Nome Camiseta#86, Time#96, Altura#106, Peso#116, Dia#127, Mes#139, Ano#152, cast(concat_ws(-, Ano#152, Mes#139, Dia#127) as date) AS Data_Nascimento#165]\n                  +- Project [Selecao#35, Numero#46, Posicao#56, Nome_FIFA#66, Nascimento#76, Nome Camiseta#86, Time#96, Altura#106, Peso#116, Dia#127, Mes#139, <lambda>(nascimento#76)#151 AS Ano#152]\n                     +- Project [Selecao#35, Numero#46, Posicao#56, Nome_FIFA#66, Nascimento#76, Nome Camiseta#86, Time#96, Altura#106, Peso#116, Dia#127, <lambda>(Nascimento#76)#138 AS Mes#139]\n                        +- Project [Selecao#35, Numero#46, Posicao#56, Nome_FIFA#66, Nascimento#76, Nome Camiseta#86, Time#96, Altura#106, Peso#116, <lambda>(Nascimento#76)#126 AS Dia#127]\n                           +- Project [Selecao#35, Numero#46, Posicao#56, Nome_FIFA#66, Nascimento#76, Nome Camiseta#86, Time#96, Altura#106, Weight#900 AS Peso#116]\n                              +- Project [Selecao#35, Numero#46, Posicao#56, Nome_FIFA#66, Nascimento#76, Nome Camiseta#86, Time#96, Height#899 AS Altura#106, Weight#900]\n                                 +- Project [Selecao#35, Numero#46, Posicao#56, Nome_FIFA#66, Nascimento#76, Nome Camiseta#86, Club#898 AS Time#96, Height#899, Weight#900]\n                                    +- Project [Selecao#35, Numero#46, Posicao#56, Nome_FIFA#66, Nascimento#76, Shirt Name#897 AS Nome Camiseta#86, Club#898, Height#899, Weight#900]\n                                       +- Project [Selecao#35, Numero#46, Posicao#56, Nome_FIFA#66, Birth Date#896 AS Nascimento#76, Shirt Name#897, Club#898, Height#899, Weight#900]\n                                          +- Project [Selecao#35, Numero#46, Posicao#56, FIFA Popular Name#895 AS Nome_FIFA#66, Birth Date#896, Shirt Name#897, Club#898, Height#899, Weight#900]\n                                             +- Project [Selecao#35, Numero#46, Pos.#894 AS Posicao#56, FIFA Popular Name#895, Birth Date#896, Shirt Name#897, Club#898, Height#899, Weight#900]\n                                                +- Project [Selecao#35, ##893 AS Numero#46, Pos.#894, FIFA Popular Name#895, Birth Date#896, Shirt Name#897, Club#898, Height#899, Weight#900]\n                                                   +- Project [Team#892 AS Selecao#35, ##893, Pos.#894, FIFA Popular Name#895, Birth Date#896, Shirt Name#897, Club#898, Height#899, Weight#900]\n                                                      +- Relation [Team#892,##893,Pos.#894,FIFA Popular Name#895,Birth Date#896,Shirt Name#897,Club#898,Height#899,Weight#900] csv\n"
     ]
    }
   ],
   "source": [
    "df_americas = df_america_sul.union(df_america_norte)"
   ]
  },
  {
   "cell_type": "code",
   "execution_count": null,
   "id": "a2eaa06c",
   "metadata": {},
   "outputs": [],
   "source": [
    "# COLUNAS COM TIPOS OU NOMES DIFERENTES TAMBÉM CONCATENAM\n",
    "\n",
    "# OBS: Cuidado para não concatenar colunas em posições diferentes"
   ]
  },
  {
   "cell_type": "code",
   "execution_count": 33,
   "id": "4beefdba",
   "metadata": {},
   "outputs": [
    {
     "name": "stdout",
     "output_type": "stream",
     "text": [
      "root\n",
      " |-- Selecao: string (nullable = true)\n",
      " |-- Numero: integer (nullable = true)\n",
      " |-- Posicao: string (nullable = true)\n",
      " |-- Nome Camiseta: string (nullable = true)\n",
      " |-- Time: string (nullable = true)\n",
      " |-- Altura: integer (nullable = true)\n",
      " |-- Peso: integer (nullable = true)\n",
      " |-- Dia: string (nullable = true)\n",
      " |-- Mes: string (nullable = true)\n",
      " |-- Ano: string (nullable = true)\n",
      " |-- Data_Nascimento: date (nullable = true)\n",
      " |-- Continente: integer (nullable = false)\n",
      "\n"
     ]
    }
   ],
   "source": [
    "df_america_norte = df_america_norte.withColumn('Continente', lit(100))\n",
    "df_america_norte.printSchema()"
   ]
  },
  {
   "cell_type": "code",
   "execution_count": 34,
   "id": "7d7d7a0a",
   "metadata": {},
   "outputs": [
    {
     "name": "stdout",
     "output_type": "stream",
     "text": [
      "+----------+------+-------+-------------+--------------------+------+----+---+---+----+---------------+----------+\n",
      "|   Selecao|Numero|Posicao|Nome Camiseta|                Time|Altura|Peso|Dia|Mes| Ano|Data_Nascimento|Continente|\n",
      "+----------+------+-------+-------------+--------------------+------+----+---+---+----+---------------+----------+\n",
      "|Costa Rica|     7|     MF|   C. BOLAÑOS|Deportivo Sapriss...|   178|  67| 17| 05|1984|     1984-05-17|       100|\n",
      "|Costa Rica|    16|     DF|    C. GAMBOA|     Celtic FC (SCO)|   175|  67| 24| 10|1989|     1989-10-24|       100|\n",
      "|Costa Rica|    17|     MF|    Y. TEJEDA|FC Lausanne-Sport...|   179|  67| 17| 03|1992|     1992-03-17|       100|\n",
      "|Costa Rica|     4|     DF|     I. SMITH|IFK Norrkoping FK...|   177|  68| 06| 03|1998|     1998-03-06|       100|\n",
      "|Costa Rica|     8|     DF|    B. OVIEDO|Sunderland AFC (ENG)|   172|  70| 18| 02|1990|     1990-02-18|       100|\n",
      "|Costa Rica|    13|     MF|   R. WALLACE|New York City FC ...|   180|  70| 17| 06|1988|     1988-06-17|       100|\n",
      "+----------+------+-------+-------------+--------------------+------+----+---+---+----+---------------+----------+\n",
      "only showing top 6 rows\n",
      "\n"
     ]
    }
   ],
   "source": [
    "df_america_norte.show(6)"
   ]
  },
  {
   "cell_type": "code",
   "execution_count": 35,
   "id": "ec7cc9ec",
   "metadata": {},
   "outputs": [
    {
     "ename": "AnalysisException",
     "evalue": "[NUM_COLUMNS_MISMATCH] UNION can only be performed on inputs with the same number of columns, but the first input has 12 columns and the second input has 11 columns.;\n'Union false, false\n:- Project [Selecao#35, Numero#46, Posicao#56, Nome Camiseta#86, Time#96, Altura#106, Peso#116, Dia#127, Mes#139, Ano#152, Data_Nascimento#165, 100 AS Continente#914]\n:  +- Project [Selecao#35, Numero#46, Posicao#56, Nome Camiseta#86, Time#96, Altura#106, Peso#116, Dia#127, Mes#139, Ano#152, Data_Nascimento#165, 100 AS Continente#564]\n:     +- Filter (Continente#199 = América do Norte)\n:        +- Project [Selecao#35, Numero#46, Posicao#56, Nome Camiseta#86, Time#96, Altura#106, Peso#116, Dia#127, Mes#139, Ano#152, Data_Nascimento#165, CASE WHEN Selecao#35 IN (Sweden,Germany,France,Belgium,Croatia,Spain,Denmark,Iceland,Switzerland,England,Poland,Portugal,Serbia) THEN Europa WHEN Selecao#35 IN (Russia,IR Iran,Nigeria,Korea Republic,Saudi Arabia,Japan) THEN Ásia WHEN Selecao#35 IN (Senegal,Morocco,Tunisia,Egypt) THEN África WHEN Selecao#35 IN (Australia) THEN Oceania WHEN Selecao#35 IN (Panama,Mexico,Costa Rica) THEN América do Norte WHEN Selecao#35 IN (Argentina,Peru,Uruguay,Brazil,Colombia) THEN América do Sul ELSE Verificar END AS Continente#199]\n:           +- Project [Selecao#35, Numero#46, Posicao#56, Nome Camiseta#86, Time#96, Altura#106, Peso#116, Dia#127, Mes#139, Ano#152, Data_Nascimento#165]\n:              +- Project [Selecao#35, Numero#46, Posicao#56, Nome_FIFA#66, Nascimento#76, Nome Camiseta#86, Time#96, Altura#106, Peso#116, Dia#127, Mes#139, Ano#152, cast(concat_ws(-, Ano#152, Mes#139, Dia#127) as date) AS Data_Nascimento#165]\n:                 +- Project [Selecao#35, Numero#46, Posicao#56, Nome_FIFA#66, Nascimento#76, Nome Camiseta#86, Time#96, Altura#106, Peso#116, Dia#127, Mes#139, <lambda>(nascimento#76)#151 AS Ano#152]\n:                    +- Project [Selecao#35, Numero#46, Posicao#56, Nome_FIFA#66, Nascimento#76, Nome Camiseta#86, Time#96, Altura#106, Peso#116, Dia#127, <lambda>(Nascimento#76)#138 AS Mes#139]\n:                       +- Project [Selecao#35, Numero#46, Posicao#56, Nome_FIFA#66, Nascimento#76, Nome Camiseta#86, Time#96, Altura#106, Peso#116, <lambda>(Nascimento#76)#126 AS Dia#127]\n:                          +- Project [Selecao#35, Numero#46, Posicao#56, Nome_FIFA#66, Nascimento#76, Nome Camiseta#86, Time#96, Altura#106, Weight#25 AS Peso#116]\n:                             +- Project [Selecao#35, Numero#46, Posicao#56, Nome_FIFA#66, Nascimento#76, Nome Camiseta#86, Time#96, Height#24 AS Altura#106, Weight#25]\n:                                +- Project [Selecao#35, Numero#46, Posicao#56, Nome_FIFA#66, Nascimento#76, Nome Camiseta#86, Club#23 AS Time#96, Height#24, Weight#25]\n:                                   +- Project [Selecao#35, Numero#46, Posicao#56, Nome_FIFA#66, Nascimento#76, Shirt Name#22 AS Nome Camiseta#86, Club#23, Height#24, Weight#25]\n:                                      +- Project [Selecao#35, Numero#46, Posicao#56, Nome_FIFA#66, Birth Date#21 AS Nascimento#76, Shirt Name#22, Club#23, Height#24, Weight#25]\n:                                         +- Project [Selecao#35, Numero#46, Posicao#56, FIFA Popular Name#20 AS Nome_FIFA#66, Birth Date#21, Shirt Name#22, Club#23, Height#24, Weight#25]\n:                                            +- Project [Selecao#35, Numero#46, Pos.#19 AS Posicao#56, FIFA Popular Name#20, Birth Date#21, Shirt Name#22, Club#23, Height#24, Weight#25]\n:                                               +- Project [Selecao#35, ##18 AS Numero#46, Pos.#19, FIFA Popular Name#20, Birth Date#21, Shirt Name#22, Club#23, Height#24, Weight#25]\n:                                                  +- Project [Team#17 AS Selecao#35, ##18, Pos.#19, FIFA Popular Name#20, Birth Date#21, Shirt Name#22, Club#23, Height#24, Weight#25]\n:                                                     +- Relation [Team#17,##18,Pos.#19,FIFA Popular Name#20,Birth Date#21,Shirt Name#22,Club#23,Height#24,Weight#25] csv\n+- Project [Selecao#35 AS Selecao#996, Numero#46 AS Numero#997, Posicao#56 AS Posicao#998, Nome Camiseta#86 AS Nome Camiseta#999, Time#96 AS Time#1000, Altura#106 AS Altura#1001, Peso#116 AS Peso#1002, Dia#127 AS Dia#1003, Mes#139 AS Mes#1004, Ano#152 AS Ano#1005, Data_Nascimento#165 AS Data_Nascimento#1006]\n   +- Project [Selecao#35, Numero#46, Posicao#56, Nome Camiseta#86, Time#96, Altura#106, Peso#116, Dia#127, Mes#139, Ano#152, Data_Nascimento#165]\n      +- Filter (Continente#199 = América do Sul)\n         +- Project [Selecao#35, Numero#46, Posicao#56, Nome Camiseta#86, Time#96, Altura#106, Peso#116, Dia#127, Mes#139, Ano#152, Data_Nascimento#165, CASE WHEN Selecao#35 IN (Sweden,Germany,France,Belgium,Croatia,Spain,Denmark,Iceland,Switzerland,England,Poland,Portugal,Serbia) THEN Europa WHEN Selecao#35 IN (Russia,IR Iran,Nigeria,Korea Republic,Saudi Arabia,Japan) THEN Ásia WHEN Selecao#35 IN (Senegal,Morocco,Tunisia,Egypt) THEN África WHEN Selecao#35 IN (Australia) THEN Oceania WHEN Selecao#35 IN (Panama,Mexico,Costa Rica) THEN América do Norte WHEN Selecao#35 IN (Argentina,Peru,Uruguay,Brazil,Colombia) THEN América do Sul ELSE Verificar END AS Continente#199]\n            +- Project [Selecao#35, Numero#46, Posicao#56, Nome Camiseta#86, Time#96, Altura#106, Peso#116, Dia#127, Mes#139, Ano#152, Data_Nascimento#165]\n               +- Project [Selecao#35, Numero#46, Posicao#56, Nome_FIFA#66, Nascimento#76, Nome Camiseta#86, Time#96, Altura#106, Peso#116, Dia#127, Mes#139, Ano#152, cast(concat_ws(-, Ano#152, Mes#139, Dia#127) as date) AS Data_Nascimento#165]\n                  +- Project [Selecao#35, Numero#46, Posicao#56, Nome_FIFA#66, Nascimento#76, Nome Camiseta#86, Time#96, Altura#106, Peso#116, Dia#127, Mes#139, <lambda>(nascimento#76)#151 AS Ano#152]\n                     +- Project [Selecao#35, Numero#46, Posicao#56, Nome_FIFA#66, Nascimento#76, Nome Camiseta#86, Time#96, Altura#106, Peso#116, Dia#127, <lambda>(Nascimento#76)#138 AS Mes#139]\n                        +- Project [Selecao#35, Numero#46, Posicao#56, Nome_FIFA#66, Nascimento#76, Nome Camiseta#86, Time#96, Altura#106, Peso#116, <lambda>(Nascimento#76)#126 AS Dia#127]\n                           +- Project [Selecao#35, Numero#46, Posicao#56, Nome_FIFA#66, Nascimento#76, Nome Camiseta#86, Time#96, Altura#106, Weight#995 AS Peso#116]\n                              +- Project [Selecao#35, Numero#46, Posicao#56, Nome_FIFA#66, Nascimento#76, Nome Camiseta#86, Time#96, Height#994 AS Altura#106, Weight#995]\n                                 +- Project [Selecao#35, Numero#46, Posicao#56, Nome_FIFA#66, Nascimento#76, Nome Camiseta#86, Club#993 AS Time#96, Height#994, Weight#995]\n                                    +- Project [Selecao#35, Numero#46, Posicao#56, Nome_FIFA#66, Nascimento#76, Shirt Name#992 AS Nome Camiseta#86, Club#993, Height#994, Weight#995]\n                                       +- Project [Selecao#35, Numero#46, Posicao#56, Nome_FIFA#66, Birth Date#991 AS Nascimento#76, Shirt Name#992, Club#993, Height#994, Weight#995]\n                                          +- Project [Selecao#35, Numero#46, Posicao#56, FIFA Popular Name#990 AS Nome_FIFA#66, Birth Date#991, Shirt Name#992, Club#993, Height#994, Weight#995]\n                                             +- Project [Selecao#35, Numero#46, Pos.#989 AS Posicao#56, FIFA Popular Name#990, Birth Date#991, Shirt Name#992, Club#993, Height#994, Weight#995]\n                                                +- Project [Selecao#35, ##988 AS Numero#46, Pos.#989, FIFA Popular Name#990, Birth Date#991, Shirt Name#992, Club#993, Height#994, Weight#995]\n                                                   +- Project [Team#987 AS Selecao#35, ##988, Pos.#989, FIFA Popular Name#990, Birth Date#991, Shirt Name#992, Club#993, Height#994, Weight#995]\n                                                      +- Relation [Team#987,##988,Pos.#989,FIFA Popular Name#990,Birth Date#991,Shirt Name#992,Club#993,Height#994,Weight#995] csv\n",
     "output_type": "error",
     "traceback": [
      "\u001b[1;31m---------------------------------------------------------------------------\u001b[0m",
      "\u001b[1;31mAnalysisException\u001b[0m                         Traceback (most recent call last)",
      "Cell \u001b[1;32mIn[35], line 1\u001b[0m\n\u001b[1;32m----> 1\u001b[0m df_americas \u001b[38;5;241m=\u001b[39m \u001b[43mdf_america_norte\u001b[49m\u001b[38;5;241;43m.\u001b[39;49m\u001b[43munion\u001b[49m\u001b[43m(\u001b[49m\u001b[43mdf_america_sul\u001b[49m\u001b[43m)\u001b[49m\n\u001b[0;32m      2\u001b[0m df_americas\u001b[38;5;241m.\u001b[39mshow(\u001b[38;5;241m200\u001b[39m)\n",
      "File \u001b[1;32mc:\\Users\\Luan Lima\\AppData\\Local\\Programs\\Python\\Python310\\lib\\site-packages\\pyspark\\sql\\dataframe.py:3923\u001b[0m, in \u001b[0;36mDataFrame.union\u001b[1;34m(self, other)\u001b[0m\n\u001b[0;32m   3827\u001b[0m \u001b[38;5;28;01mdef\u001b[39;00m \u001b[38;5;21munion\u001b[39m(\u001b[38;5;28mself\u001b[39m, other: \u001b[38;5;124m\"\u001b[39m\u001b[38;5;124mDataFrame\u001b[39m\u001b[38;5;124m\"\u001b[39m) \u001b[38;5;241m-\u001b[39m\u001b[38;5;241m>\u001b[39m \u001b[38;5;124m\"\u001b[39m\u001b[38;5;124mDataFrame\u001b[39m\u001b[38;5;124m\"\u001b[39m:\n\u001b[0;32m   3828\u001b[0m \u001b[38;5;250m    \u001b[39m\u001b[38;5;124;03m\"\"\"Return a new :class:`DataFrame` containing the union of rows in this and another\u001b[39;00m\n\u001b[0;32m   3829\u001b[0m \u001b[38;5;124;03m    :class:`DataFrame`.\u001b[39;00m\n\u001b[0;32m   3830\u001b[0m \n\u001b[1;32m   (...)\u001b[0m\n\u001b[0;32m   3921\u001b[0m \u001b[38;5;124;03m    +---+-----+\u001b[39;00m\n\u001b[0;32m   3922\u001b[0m \u001b[38;5;124;03m    \"\"\"\u001b[39;00m\n\u001b[1;32m-> 3923\u001b[0m     \u001b[38;5;28;01mreturn\u001b[39;00m DataFrame(\u001b[38;5;28;43mself\u001b[39;49m\u001b[38;5;241;43m.\u001b[39;49m\u001b[43m_jdf\u001b[49m\u001b[38;5;241;43m.\u001b[39;49m\u001b[43munion\u001b[49m\u001b[43m(\u001b[49m\u001b[43mother\u001b[49m\u001b[38;5;241;43m.\u001b[39;49m\u001b[43m_jdf\u001b[49m\u001b[43m)\u001b[49m, \u001b[38;5;28mself\u001b[39m\u001b[38;5;241m.\u001b[39msparkSession)\n",
      "File \u001b[1;32mc:\\Users\\Luan Lima\\AppData\\Local\\Programs\\Python\\Python310\\lib\\site-packages\\py4j\\java_gateway.py:1322\u001b[0m, in \u001b[0;36mJavaMember.__call__\u001b[1;34m(self, *args)\u001b[0m\n\u001b[0;32m   1316\u001b[0m command \u001b[38;5;241m=\u001b[39m proto\u001b[38;5;241m.\u001b[39mCALL_COMMAND_NAME \u001b[38;5;241m+\u001b[39m\\\n\u001b[0;32m   1317\u001b[0m     \u001b[38;5;28mself\u001b[39m\u001b[38;5;241m.\u001b[39mcommand_header \u001b[38;5;241m+\u001b[39m\\\n\u001b[0;32m   1318\u001b[0m     args_command \u001b[38;5;241m+\u001b[39m\\\n\u001b[0;32m   1319\u001b[0m     proto\u001b[38;5;241m.\u001b[39mEND_COMMAND_PART\n\u001b[0;32m   1321\u001b[0m answer \u001b[38;5;241m=\u001b[39m \u001b[38;5;28mself\u001b[39m\u001b[38;5;241m.\u001b[39mgateway_client\u001b[38;5;241m.\u001b[39msend_command(command)\n\u001b[1;32m-> 1322\u001b[0m return_value \u001b[38;5;241m=\u001b[39m \u001b[43mget_return_value\u001b[49m\u001b[43m(\u001b[49m\n\u001b[0;32m   1323\u001b[0m \u001b[43m    \u001b[49m\u001b[43manswer\u001b[49m\u001b[43m,\u001b[49m\u001b[43m \u001b[49m\u001b[38;5;28;43mself\u001b[39;49m\u001b[38;5;241;43m.\u001b[39;49m\u001b[43mgateway_client\u001b[49m\u001b[43m,\u001b[49m\u001b[43m \u001b[49m\u001b[38;5;28;43mself\u001b[39;49m\u001b[38;5;241;43m.\u001b[39;49m\u001b[43mtarget_id\u001b[49m\u001b[43m,\u001b[49m\u001b[43m \u001b[49m\u001b[38;5;28;43mself\u001b[39;49m\u001b[38;5;241;43m.\u001b[39;49m\u001b[43mname\u001b[49m\u001b[43m)\u001b[49m\n\u001b[0;32m   1325\u001b[0m \u001b[38;5;28;01mfor\u001b[39;00m temp_arg \u001b[38;5;129;01min\u001b[39;00m temp_args:\n\u001b[0;32m   1326\u001b[0m     \u001b[38;5;28;01mif\u001b[39;00m \u001b[38;5;28mhasattr\u001b[39m(temp_arg, \u001b[38;5;124m\"\u001b[39m\u001b[38;5;124m_detach\u001b[39m\u001b[38;5;124m\"\u001b[39m):\n",
      "File \u001b[1;32mc:\\Users\\Luan Lima\\AppData\\Local\\Programs\\Python\\Python310\\lib\\site-packages\\pyspark\\errors\\exceptions\\captured.py:185\u001b[0m, in \u001b[0;36mcapture_sql_exception.<locals>.deco\u001b[1;34m(*a, **kw)\u001b[0m\n\u001b[0;32m    181\u001b[0m converted \u001b[38;5;241m=\u001b[39m convert_exception(e\u001b[38;5;241m.\u001b[39mjava_exception)\n\u001b[0;32m    182\u001b[0m \u001b[38;5;28;01mif\u001b[39;00m \u001b[38;5;129;01mnot\u001b[39;00m \u001b[38;5;28misinstance\u001b[39m(converted, UnknownException):\n\u001b[0;32m    183\u001b[0m     \u001b[38;5;66;03m# Hide where the exception came from that shows a non-Pythonic\u001b[39;00m\n\u001b[0;32m    184\u001b[0m     \u001b[38;5;66;03m# JVM exception message.\u001b[39;00m\n\u001b[1;32m--> 185\u001b[0m     \u001b[38;5;28;01mraise\u001b[39;00m converted \u001b[38;5;28;01mfrom\u001b[39;00m \u001b[38;5;28;01mNone\u001b[39;00m\n\u001b[0;32m    186\u001b[0m \u001b[38;5;28;01melse\u001b[39;00m:\n\u001b[0;32m    187\u001b[0m     \u001b[38;5;28;01mraise\u001b[39;00m\n",
      "\u001b[1;31mAnalysisException\u001b[0m: [NUM_COLUMNS_MISMATCH] UNION can only be performed on inputs with the same number of columns, but the first input has 12 columns and the second input has 11 columns.;\n'Union false, false\n:- Project [Selecao#35, Numero#46, Posicao#56, Nome Camiseta#86, Time#96, Altura#106, Peso#116, Dia#127, Mes#139, Ano#152, Data_Nascimento#165, 100 AS Continente#914]\n:  +- Project [Selecao#35, Numero#46, Posicao#56, Nome Camiseta#86, Time#96, Altura#106, Peso#116, Dia#127, Mes#139, Ano#152, Data_Nascimento#165, 100 AS Continente#564]\n:     +- Filter (Continente#199 = América do Norte)\n:        +- Project [Selecao#35, Numero#46, Posicao#56, Nome Camiseta#86, Time#96, Altura#106, Peso#116, Dia#127, Mes#139, Ano#152, Data_Nascimento#165, CASE WHEN Selecao#35 IN (Sweden,Germany,France,Belgium,Croatia,Spain,Denmark,Iceland,Switzerland,England,Poland,Portugal,Serbia) THEN Europa WHEN Selecao#35 IN (Russia,IR Iran,Nigeria,Korea Republic,Saudi Arabia,Japan) THEN Ásia WHEN Selecao#35 IN (Senegal,Morocco,Tunisia,Egypt) THEN África WHEN Selecao#35 IN (Australia) THEN Oceania WHEN Selecao#35 IN (Panama,Mexico,Costa Rica) THEN América do Norte WHEN Selecao#35 IN (Argentina,Peru,Uruguay,Brazil,Colombia) THEN América do Sul ELSE Verificar END AS Continente#199]\n:           +- Project [Selecao#35, Numero#46, Posicao#56, Nome Camiseta#86, Time#96, Altura#106, Peso#116, Dia#127, Mes#139, Ano#152, Data_Nascimento#165]\n:              +- Project [Selecao#35, Numero#46, Posicao#56, Nome_FIFA#66, Nascimento#76, Nome Camiseta#86, Time#96, Altura#106, Peso#116, Dia#127, Mes#139, Ano#152, cast(concat_ws(-, Ano#152, Mes#139, Dia#127) as date) AS Data_Nascimento#165]\n:                 +- Project [Selecao#35, Numero#46, Posicao#56, Nome_FIFA#66, Nascimento#76, Nome Camiseta#86, Time#96, Altura#106, Peso#116, Dia#127, Mes#139, <lambda>(nascimento#76)#151 AS Ano#152]\n:                    +- Project [Selecao#35, Numero#46, Posicao#56, Nome_FIFA#66, Nascimento#76, Nome Camiseta#86, Time#96, Altura#106, Peso#116, Dia#127, <lambda>(Nascimento#76)#138 AS Mes#139]\n:                       +- Project [Selecao#35, Numero#46, Posicao#56, Nome_FIFA#66, Nascimento#76, Nome Camiseta#86, Time#96, Altura#106, Peso#116, <lambda>(Nascimento#76)#126 AS Dia#127]\n:                          +- Project [Selecao#35, Numero#46, Posicao#56, Nome_FIFA#66, Nascimento#76, Nome Camiseta#86, Time#96, Altura#106, Weight#25 AS Peso#116]\n:                             +- Project [Selecao#35, Numero#46, Posicao#56, Nome_FIFA#66, Nascimento#76, Nome Camiseta#86, Time#96, Height#24 AS Altura#106, Weight#25]\n:                                +- Project [Selecao#35, Numero#46, Posicao#56, Nome_FIFA#66, Nascimento#76, Nome Camiseta#86, Club#23 AS Time#96, Height#24, Weight#25]\n:                                   +- Project [Selecao#35, Numero#46, Posicao#56, Nome_FIFA#66, Nascimento#76, Shirt Name#22 AS Nome Camiseta#86, Club#23, Height#24, Weight#25]\n:                                      +- Project [Selecao#35, Numero#46, Posicao#56, Nome_FIFA#66, Birth Date#21 AS Nascimento#76, Shirt Name#22, Club#23, Height#24, Weight#25]\n:                                         +- Project [Selecao#35, Numero#46, Posicao#56, FIFA Popular Name#20 AS Nome_FIFA#66, Birth Date#21, Shirt Name#22, Club#23, Height#24, Weight#25]\n:                                            +- Project [Selecao#35, Numero#46, Pos.#19 AS Posicao#56, FIFA Popular Name#20, Birth Date#21, Shirt Name#22, Club#23, Height#24, Weight#25]\n:                                               +- Project [Selecao#35, ##18 AS Numero#46, Pos.#19, FIFA Popular Name#20, Birth Date#21, Shirt Name#22, Club#23, Height#24, Weight#25]\n:                                                  +- Project [Team#17 AS Selecao#35, ##18, Pos.#19, FIFA Popular Name#20, Birth Date#21, Shirt Name#22, Club#23, Height#24, Weight#25]\n:                                                     +- Relation [Team#17,##18,Pos.#19,FIFA Popular Name#20,Birth Date#21,Shirt Name#22,Club#23,Height#24,Weight#25] csv\n+- Project [Selecao#35 AS Selecao#996, Numero#46 AS Numero#997, Posicao#56 AS Posicao#998, Nome Camiseta#86 AS Nome Camiseta#999, Time#96 AS Time#1000, Altura#106 AS Altura#1001, Peso#116 AS Peso#1002, Dia#127 AS Dia#1003, Mes#139 AS Mes#1004, Ano#152 AS Ano#1005, Data_Nascimento#165 AS Data_Nascimento#1006]\n   +- Project [Selecao#35, Numero#46, Posicao#56, Nome Camiseta#86, Time#96, Altura#106, Peso#116, Dia#127, Mes#139, Ano#152, Data_Nascimento#165]\n      +- Filter (Continente#199 = América do Sul)\n         +- Project [Selecao#35, Numero#46, Posicao#56, Nome Camiseta#86, Time#96, Altura#106, Peso#116, Dia#127, Mes#139, Ano#152, Data_Nascimento#165, CASE WHEN Selecao#35 IN (Sweden,Germany,France,Belgium,Croatia,Spain,Denmark,Iceland,Switzerland,England,Poland,Portugal,Serbia) THEN Europa WHEN Selecao#35 IN (Russia,IR Iran,Nigeria,Korea Republic,Saudi Arabia,Japan) THEN Ásia WHEN Selecao#35 IN (Senegal,Morocco,Tunisia,Egypt) THEN África WHEN Selecao#35 IN (Australia) THEN Oceania WHEN Selecao#35 IN (Panama,Mexico,Costa Rica) THEN América do Norte WHEN Selecao#35 IN (Argentina,Peru,Uruguay,Brazil,Colombia) THEN América do Sul ELSE Verificar END AS Continente#199]\n            +- Project [Selecao#35, Numero#46, Posicao#56, Nome Camiseta#86, Time#96, Altura#106, Peso#116, Dia#127, Mes#139, Ano#152, Data_Nascimento#165]\n               +- Project [Selecao#35, Numero#46, Posicao#56, Nome_FIFA#66, Nascimento#76, Nome Camiseta#86, Time#96, Altura#106, Peso#116, Dia#127, Mes#139, Ano#152, cast(concat_ws(-, Ano#152, Mes#139, Dia#127) as date) AS Data_Nascimento#165]\n                  +- Project [Selecao#35, Numero#46, Posicao#56, Nome_FIFA#66, Nascimento#76, Nome Camiseta#86, Time#96, Altura#106, Peso#116, Dia#127, Mes#139, <lambda>(nascimento#76)#151 AS Ano#152]\n                     +- Project [Selecao#35, Numero#46, Posicao#56, Nome_FIFA#66, Nascimento#76, Nome Camiseta#86, Time#96, Altura#106, Peso#116, Dia#127, <lambda>(Nascimento#76)#138 AS Mes#139]\n                        +- Project [Selecao#35, Numero#46, Posicao#56, Nome_FIFA#66, Nascimento#76, Nome Camiseta#86, Time#96, Altura#106, Peso#116, <lambda>(Nascimento#76)#126 AS Dia#127]\n                           +- Project [Selecao#35, Numero#46, Posicao#56, Nome_FIFA#66, Nascimento#76, Nome Camiseta#86, Time#96, Altura#106, Weight#995 AS Peso#116]\n                              +- Project [Selecao#35, Numero#46, Posicao#56, Nome_FIFA#66, Nascimento#76, Nome Camiseta#86, Time#96, Height#994 AS Altura#106, Weight#995]\n                                 +- Project [Selecao#35, Numero#46, Posicao#56, Nome_FIFA#66, Nascimento#76, Nome Camiseta#86, Club#993 AS Time#96, Height#994, Weight#995]\n                                    +- Project [Selecao#35, Numero#46, Posicao#56, Nome_FIFA#66, Nascimento#76, Shirt Name#992 AS Nome Camiseta#86, Club#993, Height#994, Weight#995]\n                                       +- Project [Selecao#35, Numero#46, Posicao#56, Nome_FIFA#66, Birth Date#991 AS Nascimento#76, Shirt Name#992, Club#993, Height#994, Weight#995]\n                                          +- Project [Selecao#35, Numero#46, Posicao#56, FIFA Popular Name#990 AS Nome_FIFA#66, Birth Date#991, Shirt Name#992, Club#993, Height#994, Weight#995]\n                                             +- Project [Selecao#35, Numero#46, Pos.#989 AS Posicao#56, FIFA Popular Name#990, Birth Date#991, Shirt Name#992, Club#993, Height#994, Weight#995]\n                                                +- Project [Selecao#35, ##988 AS Numero#46, Pos.#989, FIFA Popular Name#990, Birth Date#991, Shirt Name#992, Club#993, Height#994, Weight#995]\n                                                   +- Project [Team#987 AS Selecao#35, ##988, Pos.#989, FIFA Popular Name#990, Birth Date#991, Shirt Name#992, Club#993, Height#994, Weight#995]\n                                                      +- Relation [Team#987,##988,Pos.#989,FIFA Popular Name#990,Birth Date#991,Shirt Name#992,Club#993,Height#994,Weight#995] csv\n"
     ]
    }
   ],
   "source": [
    "df_americas = df_america_norte.union(df_america_sul)\n",
    "df_americas.show(200)"
   ]
  },
  {
   "cell_type": "code",
   "execution_count": 27,
   "id": "92662a73",
   "metadata": {},
   "outputs": [],
   "source": [
    "df_america_sul = df_america_sul.withColumnRenamed('Continente', 'NOVA COLUNA DOIDA')"
   ]
  },
  {
   "cell_type": "code",
   "execution_count": 28,
   "id": "87ffea63",
   "metadata": {},
   "outputs": [
    {
     "name": "stdout",
     "output_type": "stream",
     "text": [
      "+----------+------+-------+-------------+--------------------+------+----+---+---+----+---------------+----------+\n",
      "|   Selecao|Numero|Posicao|Nome Camiseta|                Time|Altura|Peso|Dia|Mes| Ano|Data_Nascimento|Continente|\n",
      "+----------+------+-------+-------------+--------------------+------+----+---+---+----+---------------+----------+\n",
      "|Costa Rica|     7|     MF|   C. BOLAÑOS|Deportivo Sapriss...|   178|  67| 17| 05|1984|     1984-05-17|       100|\n",
      "|Costa Rica|    16|     DF|    C. GAMBOA|     Celtic FC (SCO)|   175|  67| 24| 10|1989|     1989-10-24|       100|\n",
      "|Costa Rica|    17|     MF|    Y. TEJEDA|FC Lausanne-Sport...|   179|  67| 17| 03|1992|     1992-03-17|       100|\n",
      "|Costa Rica|     4|     DF|     I. SMITH|IFK Norrkoping FK...|   177|  68| 06| 03|1998|     1998-03-06|       100|\n",
      "|Costa Rica|     8|     DF|    B. OVIEDO|Sunderland AFC (ENG)|   172|  70| 18| 02|1990|     1990-02-18|       100|\n",
      "+----------+------+-------+-------------+--------------------+------+----+---+---+----+---------------+----------+\n",
      "only showing top 5 rows\n",
      "\n"
     ]
    }
   ],
   "source": [
    "df_america_norte.show(5)"
   ]
  },
  {
   "cell_type": "code",
   "execution_count": 29,
   "id": "0ac1cf72",
   "metadata": {},
   "outputs": [
    {
     "ename": "AnalysisException",
     "evalue": "[NUM_COLUMNS_MISMATCH] UNION can only be performed on inputs with the same number of columns, but the first input has 11 columns and the second input has 12 columns.;\n'Union false, false\n:- Project [Selecao#35, Numero#46, Posicao#56, Nome Camiseta#86, Time#96, Altura#106, Peso#116, Dia#127, Mes#139, Ano#152, Data_Nascimento#165]\n:  +- Filter (Continente#199 = América do Sul)\n:     +- Project [Selecao#35, Numero#46, Posicao#56, Nome Camiseta#86, Time#96, Altura#106, Peso#116, Dia#127, Mes#139, Ano#152, Data_Nascimento#165, CASE WHEN Selecao#35 IN (Sweden,Germany,France,Belgium,Croatia,Spain,Denmark,Iceland,Switzerland,England,Poland,Portugal,Serbia) THEN Europa WHEN Selecao#35 IN (Russia,IR Iran,Nigeria,Korea Republic,Saudi Arabia,Japan) THEN Ásia WHEN Selecao#35 IN (Senegal,Morocco,Tunisia,Egypt) THEN África WHEN Selecao#35 IN (Australia) THEN Oceania WHEN Selecao#35 IN (Panama,Mexico,Costa Rica) THEN América do Norte WHEN Selecao#35 IN (Argentina,Peru,Uruguay,Brazil,Colombia) THEN América do Sul ELSE Verificar END AS Continente#199]\n:        +- Project [Selecao#35, Numero#46, Posicao#56, Nome Camiseta#86, Time#96, Altura#106, Peso#116, Dia#127, Mes#139, Ano#152, Data_Nascimento#165]\n:           +- Project [Selecao#35, Numero#46, Posicao#56, Nome_FIFA#66, Nascimento#76, Nome Camiseta#86, Time#96, Altura#106, Peso#116, Dia#127, Mes#139, Ano#152, cast(concat_ws(-, Ano#152, Mes#139, Dia#127) as date) AS Data_Nascimento#165]\n:              +- Project [Selecao#35, Numero#46, Posicao#56, Nome_FIFA#66, Nascimento#76, Nome Camiseta#86, Time#96, Altura#106, Peso#116, Dia#127, Mes#139, <lambda>(nascimento#76)#151 AS Ano#152]\n:                 +- Project [Selecao#35, Numero#46, Posicao#56, Nome_FIFA#66, Nascimento#76, Nome Camiseta#86, Time#96, Altura#106, Peso#116, Dia#127, <lambda>(Nascimento#76)#138 AS Mes#139]\n:                    +- Project [Selecao#35, Numero#46, Posicao#56, Nome_FIFA#66, Nascimento#76, Nome Camiseta#86, Time#96, Altura#106, Peso#116, <lambda>(Nascimento#76)#126 AS Dia#127]\n:                       +- Project [Selecao#35, Numero#46, Posicao#56, Nome_FIFA#66, Nascimento#76, Nome Camiseta#86, Time#96, Altura#106, Weight#25 AS Peso#116]\n:                          +- Project [Selecao#35, Numero#46, Posicao#56, Nome_FIFA#66, Nascimento#76, Nome Camiseta#86, Time#96, Height#24 AS Altura#106, Weight#25]\n:                             +- Project [Selecao#35, Numero#46, Posicao#56, Nome_FIFA#66, Nascimento#76, Nome Camiseta#86, Club#23 AS Time#96, Height#24, Weight#25]\n:                                +- Project [Selecao#35, Numero#46, Posicao#56, Nome_FIFA#66, Nascimento#76, Shirt Name#22 AS Nome Camiseta#86, Club#23, Height#24, Weight#25]\n:                                   +- Project [Selecao#35, Numero#46, Posicao#56, Nome_FIFA#66, Birth Date#21 AS Nascimento#76, Shirt Name#22, Club#23, Height#24, Weight#25]\n:                                      +- Project [Selecao#35, Numero#46, Posicao#56, FIFA Popular Name#20 AS Nome_FIFA#66, Birth Date#21, Shirt Name#22, Club#23, Height#24, Weight#25]\n:                                         +- Project [Selecao#35, Numero#46, Pos.#19 AS Posicao#56, FIFA Popular Name#20, Birth Date#21, Shirt Name#22, Club#23, Height#24, Weight#25]\n:                                            +- Project [Selecao#35, ##18 AS Numero#46, Pos.#19, FIFA Popular Name#20, Birth Date#21, Shirt Name#22, Club#23, Height#24, Weight#25]\n:                                               +- Project [Team#17 AS Selecao#35, ##18, Pos.#19, FIFA Popular Name#20, Birth Date#21, Shirt Name#22, Club#23, Height#24, Weight#25]\n:                                                  +- Relation [Team#17,##18,Pos.#19,FIFA Popular Name#20,Birth Date#21,Shirt Name#22,Club#23,Height#24,Weight#25] csv\n+- Project [Selecao#35 AS Selecao#759, Numero#46 AS Numero#760, Posicao#56 AS Posicao#761, Nome Camiseta#86 AS Nome Camiseta#762, Time#96 AS Time#763, Altura#106 AS Altura#764, Peso#116 AS Peso#765, Dia#127 AS Dia#766, Mes#139 AS Mes#767, Ano#152 AS Ano#768, Data_Nascimento#165 AS Data_Nascimento#769, Continente#564 AS Continente#770]\n   +- Project [Selecao#35, Numero#46, Posicao#56, Nome Camiseta#86, Time#96, Altura#106, Peso#116, Dia#127, Mes#139, Ano#152, Data_Nascimento#165, 100 AS Continente#564]\n      +- Filter (Continente#199 = América do Norte)\n         +- Project [Selecao#35, Numero#46, Posicao#56, Nome Camiseta#86, Time#96, Altura#106, Peso#116, Dia#127, Mes#139, Ano#152, Data_Nascimento#165, CASE WHEN Selecao#35 IN (Sweden,Germany,France,Belgium,Croatia,Spain,Denmark,Iceland,Switzerland,England,Poland,Portugal,Serbia) THEN Europa WHEN Selecao#35 IN (Russia,IR Iran,Nigeria,Korea Republic,Saudi Arabia,Japan) THEN Ásia WHEN Selecao#35 IN (Senegal,Morocco,Tunisia,Egypt) THEN África WHEN Selecao#35 IN (Australia) THEN Oceania WHEN Selecao#35 IN (Panama,Mexico,Costa Rica) THEN América do Norte WHEN Selecao#35 IN (Argentina,Peru,Uruguay,Brazil,Colombia) THEN América do Sul ELSE Verificar END AS Continente#199]\n            +- Project [Selecao#35, Numero#46, Posicao#56, Nome Camiseta#86, Time#96, Altura#106, Peso#116, Dia#127, Mes#139, Ano#152, Data_Nascimento#165]\n               +- Project [Selecao#35, Numero#46, Posicao#56, Nome_FIFA#66, Nascimento#76, Nome Camiseta#86, Time#96, Altura#106, Peso#116, Dia#127, Mes#139, Ano#152, cast(concat_ws(-, Ano#152, Mes#139, Dia#127) as date) AS Data_Nascimento#165]\n                  +- Project [Selecao#35, Numero#46, Posicao#56, Nome_FIFA#66, Nascimento#76, Nome Camiseta#86, Time#96, Altura#106, Peso#116, Dia#127, Mes#139, <lambda>(nascimento#76)#151 AS Ano#152]\n                     +- Project [Selecao#35, Numero#46, Posicao#56, Nome_FIFA#66, Nascimento#76, Nome Camiseta#86, Time#96, Altura#106, Peso#116, Dia#127, <lambda>(Nascimento#76)#138 AS Mes#139]\n                        +- Project [Selecao#35, Numero#46, Posicao#56, Nome_FIFA#66, Nascimento#76, Nome Camiseta#86, Time#96, Altura#106, Peso#116, <lambda>(Nascimento#76)#126 AS Dia#127]\n                           +- Project [Selecao#35, Numero#46, Posicao#56, Nome_FIFA#66, Nascimento#76, Nome Camiseta#86, Time#96, Altura#106, Weight#758 AS Peso#116]\n                              +- Project [Selecao#35, Numero#46, Posicao#56, Nome_FIFA#66, Nascimento#76, Nome Camiseta#86, Time#96, Height#757 AS Altura#106, Weight#758]\n                                 +- Project [Selecao#35, Numero#46, Posicao#56, Nome_FIFA#66, Nascimento#76, Nome Camiseta#86, Club#756 AS Time#96, Height#757, Weight#758]\n                                    +- Project [Selecao#35, Numero#46, Posicao#56, Nome_FIFA#66, Nascimento#76, Shirt Name#755 AS Nome Camiseta#86, Club#756, Height#757, Weight#758]\n                                       +- Project [Selecao#35, Numero#46, Posicao#56, Nome_FIFA#66, Birth Date#754 AS Nascimento#76, Shirt Name#755, Club#756, Height#757, Weight#758]\n                                          +- Project [Selecao#35, Numero#46, Posicao#56, FIFA Popular Name#753 AS Nome_FIFA#66, Birth Date#754, Shirt Name#755, Club#756, Height#757, Weight#758]\n                                             +- Project [Selecao#35, Numero#46, Pos.#752 AS Posicao#56, FIFA Popular Name#753, Birth Date#754, Shirt Name#755, Club#756, Height#757, Weight#758]\n                                                +- Project [Selecao#35, ##751 AS Numero#46, Pos.#752, FIFA Popular Name#753, Birth Date#754, Shirt Name#755, Club#756, Height#757, Weight#758]\n                                                   +- Project [Team#750 AS Selecao#35, ##751, Pos.#752, FIFA Popular Name#753, Birth Date#754, Shirt Name#755, Club#756, Height#757, Weight#758]\n                                                      +- Relation [Team#750,##751,Pos.#752,FIFA Popular Name#753,Birth Date#754,Shirt Name#755,Club#756,Height#757,Weight#758] csv\n",
     "output_type": "error",
     "traceback": [
      "\u001b[1;31m---------------------------------------------------------------------------\u001b[0m",
      "\u001b[1;31mAnalysisException\u001b[0m                         Traceback (most recent call last)",
      "Cell \u001b[1;32mIn[29], line 1\u001b[0m\n\u001b[1;32m----> 1\u001b[0m df_americas \u001b[38;5;241m=\u001b[39m \u001b[43mdf_america_sul\u001b[49m\u001b[38;5;241;43m.\u001b[39;49m\u001b[43munion\u001b[49m\u001b[43m(\u001b[49m\u001b[43mdf_america_norte\u001b[49m\u001b[43m)\u001b[49m\n\u001b[0;32m      2\u001b[0m df_americas\u001b[38;5;241m.\u001b[39mshow(\u001b[38;5;241m200\u001b[39m)\n",
      "File \u001b[1;32mc:\\Users\\Luan Lima\\AppData\\Local\\Programs\\Python\\Python310\\lib\\site-packages\\pyspark\\sql\\dataframe.py:3923\u001b[0m, in \u001b[0;36mDataFrame.union\u001b[1;34m(self, other)\u001b[0m\n\u001b[0;32m   3827\u001b[0m \u001b[38;5;28;01mdef\u001b[39;00m \u001b[38;5;21munion\u001b[39m(\u001b[38;5;28mself\u001b[39m, other: \u001b[38;5;124m\"\u001b[39m\u001b[38;5;124mDataFrame\u001b[39m\u001b[38;5;124m\"\u001b[39m) \u001b[38;5;241m-\u001b[39m\u001b[38;5;241m>\u001b[39m \u001b[38;5;124m\"\u001b[39m\u001b[38;5;124mDataFrame\u001b[39m\u001b[38;5;124m\"\u001b[39m:\n\u001b[0;32m   3828\u001b[0m \u001b[38;5;250m    \u001b[39m\u001b[38;5;124;03m\"\"\"Return a new :class:`DataFrame` containing the union of rows in this and another\u001b[39;00m\n\u001b[0;32m   3829\u001b[0m \u001b[38;5;124;03m    :class:`DataFrame`.\u001b[39;00m\n\u001b[0;32m   3830\u001b[0m \n\u001b[1;32m   (...)\u001b[0m\n\u001b[0;32m   3921\u001b[0m \u001b[38;5;124;03m    +---+-----+\u001b[39;00m\n\u001b[0;32m   3922\u001b[0m \u001b[38;5;124;03m    \"\"\"\u001b[39;00m\n\u001b[1;32m-> 3923\u001b[0m     \u001b[38;5;28;01mreturn\u001b[39;00m DataFrame(\u001b[38;5;28;43mself\u001b[39;49m\u001b[38;5;241;43m.\u001b[39;49m\u001b[43m_jdf\u001b[49m\u001b[38;5;241;43m.\u001b[39;49m\u001b[43munion\u001b[49m\u001b[43m(\u001b[49m\u001b[43mother\u001b[49m\u001b[38;5;241;43m.\u001b[39;49m\u001b[43m_jdf\u001b[49m\u001b[43m)\u001b[49m, \u001b[38;5;28mself\u001b[39m\u001b[38;5;241m.\u001b[39msparkSession)\n",
      "File \u001b[1;32mc:\\Users\\Luan Lima\\AppData\\Local\\Programs\\Python\\Python310\\lib\\site-packages\\py4j\\java_gateway.py:1322\u001b[0m, in \u001b[0;36mJavaMember.__call__\u001b[1;34m(self, *args)\u001b[0m\n\u001b[0;32m   1316\u001b[0m command \u001b[38;5;241m=\u001b[39m proto\u001b[38;5;241m.\u001b[39mCALL_COMMAND_NAME \u001b[38;5;241m+\u001b[39m\\\n\u001b[0;32m   1317\u001b[0m     \u001b[38;5;28mself\u001b[39m\u001b[38;5;241m.\u001b[39mcommand_header \u001b[38;5;241m+\u001b[39m\\\n\u001b[0;32m   1318\u001b[0m     args_command \u001b[38;5;241m+\u001b[39m\\\n\u001b[0;32m   1319\u001b[0m     proto\u001b[38;5;241m.\u001b[39mEND_COMMAND_PART\n\u001b[0;32m   1321\u001b[0m answer \u001b[38;5;241m=\u001b[39m \u001b[38;5;28mself\u001b[39m\u001b[38;5;241m.\u001b[39mgateway_client\u001b[38;5;241m.\u001b[39msend_command(command)\n\u001b[1;32m-> 1322\u001b[0m return_value \u001b[38;5;241m=\u001b[39m \u001b[43mget_return_value\u001b[49m\u001b[43m(\u001b[49m\n\u001b[0;32m   1323\u001b[0m \u001b[43m    \u001b[49m\u001b[43manswer\u001b[49m\u001b[43m,\u001b[49m\u001b[43m \u001b[49m\u001b[38;5;28;43mself\u001b[39;49m\u001b[38;5;241;43m.\u001b[39;49m\u001b[43mgateway_client\u001b[49m\u001b[43m,\u001b[49m\u001b[43m \u001b[49m\u001b[38;5;28;43mself\u001b[39;49m\u001b[38;5;241;43m.\u001b[39;49m\u001b[43mtarget_id\u001b[49m\u001b[43m,\u001b[49m\u001b[43m \u001b[49m\u001b[38;5;28;43mself\u001b[39;49m\u001b[38;5;241;43m.\u001b[39;49m\u001b[43mname\u001b[49m\u001b[43m)\u001b[49m\n\u001b[0;32m   1325\u001b[0m \u001b[38;5;28;01mfor\u001b[39;00m temp_arg \u001b[38;5;129;01min\u001b[39;00m temp_args:\n\u001b[0;32m   1326\u001b[0m     \u001b[38;5;28;01mif\u001b[39;00m \u001b[38;5;28mhasattr\u001b[39m(temp_arg, \u001b[38;5;124m\"\u001b[39m\u001b[38;5;124m_detach\u001b[39m\u001b[38;5;124m\"\u001b[39m):\n",
      "File \u001b[1;32mc:\\Users\\Luan Lima\\AppData\\Local\\Programs\\Python\\Python310\\lib\\site-packages\\pyspark\\errors\\exceptions\\captured.py:185\u001b[0m, in \u001b[0;36mcapture_sql_exception.<locals>.deco\u001b[1;34m(*a, **kw)\u001b[0m\n\u001b[0;32m    181\u001b[0m converted \u001b[38;5;241m=\u001b[39m convert_exception(e\u001b[38;5;241m.\u001b[39mjava_exception)\n\u001b[0;32m    182\u001b[0m \u001b[38;5;28;01mif\u001b[39;00m \u001b[38;5;129;01mnot\u001b[39;00m \u001b[38;5;28misinstance\u001b[39m(converted, UnknownException):\n\u001b[0;32m    183\u001b[0m     \u001b[38;5;66;03m# Hide where the exception came from that shows a non-Pythonic\u001b[39;00m\n\u001b[0;32m    184\u001b[0m     \u001b[38;5;66;03m# JVM exception message.\u001b[39;00m\n\u001b[1;32m--> 185\u001b[0m     \u001b[38;5;28;01mraise\u001b[39;00m converted \u001b[38;5;28;01mfrom\u001b[39;00m \u001b[38;5;28;01mNone\u001b[39;00m\n\u001b[0;32m    186\u001b[0m \u001b[38;5;28;01melse\u001b[39;00m:\n\u001b[0;32m    187\u001b[0m     \u001b[38;5;28;01mraise\u001b[39;00m\n",
      "\u001b[1;31mAnalysisException\u001b[0m: [NUM_COLUMNS_MISMATCH] UNION can only be performed on inputs with the same number of columns, but the first input has 11 columns and the second input has 12 columns.;\n'Union false, false\n:- Project [Selecao#35, Numero#46, Posicao#56, Nome Camiseta#86, Time#96, Altura#106, Peso#116, Dia#127, Mes#139, Ano#152, Data_Nascimento#165]\n:  +- Filter (Continente#199 = América do Sul)\n:     +- Project [Selecao#35, Numero#46, Posicao#56, Nome Camiseta#86, Time#96, Altura#106, Peso#116, Dia#127, Mes#139, Ano#152, Data_Nascimento#165, CASE WHEN Selecao#35 IN (Sweden,Germany,France,Belgium,Croatia,Spain,Denmark,Iceland,Switzerland,England,Poland,Portugal,Serbia) THEN Europa WHEN Selecao#35 IN (Russia,IR Iran,Nigeria,Korea Republic,Saudi Arabia,Japan) THEN Ásia WHEN Selecao#35 IN (Senegal,Morocco,Tunisia,Egypt) THEN África WHEN Selecao#35 IN (Australia) THEN Oceania WHEN Selecao#35 IN (Panama,Mexico,Costa Rica) THEN América do Norte WHEN Selecao#35 IN (Argentina,Peru,Uruguay,Brazil,Colombia) THEN América do Sul ELSE Verificar END AS Continente#199]\n:        +- Project [Selecao#35, Numero#46, Posicao#56, Nome Camiseta#86, Time#96, Altura#106, Peso#116, Dia#127, Mes#139, Ano#152, Data_Nascimento#165]\n:           +- Project [Selecao#35, Numero#46, Posicao#56, Nome_FIFA#66, Nascimento#76, Nome Camiseta#86, Time#96, Altura#106, Peso#116, Dia#127, Mes#139, Ano#152, cast(concat_ws(-, Ano#152, Mes#139, Dia#127) as date) AS Data_Nascimento#165]\n:              +- Project [Selecao#35, Numero#46, Posicao#56, Nome_FIFA#66, Nascimento#76, Nome Camiseta#86, Time#96, Altura#106, Peso#116, Dia#127, Mes#139, <lambda>(nascimento#76)#151 AS Ano#152]\n:                 +- Project [Selecao#35, Numero#46, Posicao#56, Nome_FIFA#66, Nascimento#76, Nome Camiseta#86, Time#96, Altura#106, Peso#116, Dia#127, <lambda>(Nascimento#76)#138 AS Mes#139]\n:                    +- Project [Selecao#35, Numero#46, Posicao#56, Nome_FIFA#66, Nascimento#76, Nome Camiseta#86, Time#96, Altura#106, Peso#116, <lambda>(Nascimento#76)#126 AS Dia#127]\n:                       +- Project [Selecao#35, Numero#46, Posicao#56, Nome_FIFA#66, Nascimento#76, Nome Camiseta#86, Time#96, Altura#106, Weight#25 AS Peso#116]\n:                          +- Project [Selecao#35, Numero#46, Posicao#56, Nome_FIFA#66, Nascimento#76, Nome Camiseta#86, Time#96, Height#24 AS Altura#106, Weight#25]\n:                             +- Project [Selecao#35, Numero#46, Posicao#56, Nome_FIFA#66, Nascimento#76, Nome Camiseta#86, Club#23 AS Time#96, Height#24, Weight#25]\n:                                +- Project [Selecao#35, Numero#46, Posicao#56, Nome_FIFA#66, Nascimento#76, Shirt Name#22 AS Nome Camiseta#86, Club#23, Height#24, Weight#25]\n:                                   +- Project [Selecao#35, Numero#46, Posicao#56, Nome_FIFA#66, Birth Date#21 AS Nascimento#76, Shirt Name#22, Club#23, Height#24, Weight#25]\n:                                      +- Project [Selecao#35, Numero#46, Posicao#56, FIFA Popular Name#20 AS Nome_FIFA#66, Birth Date#21, Shirt Name#22, Club#23, Height#24, Weight#25]\n:                                         +- Project [Selecao#35, Numero#46, Pos.#19 AS Posicao#56, FIFA Popular Name#20, Birth Date#21, Shirt Name#22, Club#23, Height#24, Weight#25]\n:                                            +- Project [Selecao#35, ##18 AS Numero#46, Pos.#19, FIFA Popular Name#20, Birth Date#21, Shirt Name#22, Club#23, Height#24, Weight#25]\n:                                               +- Project [Team#17 AS Selecao#35, ##18, Pos.#19, FIFA Popular Name#20, Birth Date#21, Shirt Name#22, Club#23, Height#24, Weight#25]\n:                                                  +- Relation [Team#17,##18,Pos.#19,FIFA Popular Name#20,Birth Date#21,Shirt Name#22,Club#23,Height#24,Weight#25] csv\n+- Project [Selecao#35 AS Selecao#759, Numero#46 AS Numero#760, Posicao#56 AS Posicao#761, Nome Camiseta#86 AS Nome Camiseta#762, Time#96 AS Time#763, Altura#106 AS Altura#764, Peso#116 AS Peso#765, Dia#127 AS Dia#766, Mes#139 AS Mes#767, Ano#152 AS Ano#768, Data_Nascimento#165 AS Data_Nascimento#769, Continente#564 AS Continente#770]\n   +- Project [Selecao#35, Numero#46, Posicao#56, Nome Camiseta#86, Time#96, Altura#106, Peso#116, Dia#127, Mes#139, Ano#152, Data_Nascimento#165, 100 AS Continente#564]\n      +- Filter (Continente#199 = América do Norte)\n         +- Project [Selecao#35, Numero#46, Posicao#56, Nome Camiseta#86, Time#96, Altura#106, Peso#116, Dia#127, Mes#139, Ano#152, Data_Nascimento#165, CASE WHEN Selecao#35 IN (Sweden,Germany,France,Belgium,Croatia,Spain,Denmark,Iceland,Switzerland,England,Poland,Portugal,Serbia) THEN Europa WHEN Selecao#35 IN (Russia,IR Iran,Nigeria,Korea Republic,Saudi Arabia,Japan) THEN Ásia WHEN Selecao#35 IN (Senegal,Morocco,Tunisia,Egypt) THEN África WHEN Selecao#35 IN (Australia) THEN Oceania WHEN Selecao#35 IN (Panama,Mexico,Costa Rica) THEN América do Norte WHEN Selecao#35 IN (Argentina,Peru,Uruguay,Brazil,Colombia) THEN América do Sul ELSE Verificar END AS Continente#199]\n            +- Project [Selecao#35, Numero#46, Posicao#56, Nome Camiseta#86, Time#96, Altura#106, Peso#116, Dia#127, Mes#139, Ano#152, Data_Nascimento#165]\n               +- Project [Selecao#35, Numero#46, Posicao#56, Nome_FIFA#66, Nascimento#76, Nome Camiseta#86, Time#96, Altura#106, Peso#116, Dia#127, Mes#139, Ano#152, cast(concat_ws(-, Ano#152, Mes#139, Dia#127) as date) AS Data_Nascimento#165]\n                  +- Project [Selecao#35, Numero#46, Posicao#56, Nome_FIFA#66, Nascimento#76, Nome Camiseta#86, Time#96, Altura#106, Peso#116, Dia#127, Mes#139, <lambda>(nascimento#76)#151 AS Ano#152]\n                     +- Project [Selecao#35, Numero#46, Posicao#56, Nome_FIFA#66, Nascimento#76, Nome Camiseta#86, Time#96, Altura#106, Peso#116, Dia#127, <lambda>(Nascimento#76)#138 AS Mes#139]\n                        +- Project [Selecao#35, Numero#46, Posicao#56, Nome_FIFA#66, Nascimento#76, Nome Camiseta#86, Time#96, Altura#106, Peso#116, <lambda>(Nascimento#76)#126 AS Dia#127]\n                           +- Project [Selecao#35, Numero#46, Posicao#56, Nome_FIFA#66, Nascimento#76, Nome Camiseta#86, Time#96, Altura#106, Weight#758 AS Peso#116]\n                              +- Project [Selecao#35, Numero#46, Posicao#56, Nome_FIFA#66, Nascimento#76, Nome Camiseta#86, Time#96, Height#757 AS Altura#106, Weight#758]\n                                 +- Project [Selecao#35, Numero#46, Posicao#56, Nome_FIFA#66, Nascimento#76, Nome Camiseta#86, Club#756 AS Time#96, Height#757, Weight#758]\n                                    +- Project [Selecao#35, Numero#46, Posicao#56, Nome_FIFA#66, Nascimento#76, Shirt Name#755 AS Nome Camiseta#86, Club#756, Height#757, Weight#758]\n                                       +- Project [Selecao#35, Numero#46, Posicao#56, Nome_FIFA#66, Birth Date#754 AS Nascimento#76, Shirt Name#755, Club#756, Height#757, Weight#758]\n                                          +- Project [Selecao#35, Numero#46, Posicao#56, FIFA Popular Name#753 AS Nome_FIFA#66, Birth Date#754, Shirt Name#755, Club#756, Height#757, Weight#758]\n                                             +- Project [Selecao#35, Numero#46, Pos.#752 AS Posicao#56, FIFA Popular Name#753, Birth Date#754, Shirt Name#755, Club#756, Height#757, Weight#758]\n                                                +- Project [Selecao#35, ##751 AS Numero#46, Pos.#752, FIFA Popular Name#753, Birth Date#754, Shirt Name#755, Club#756, Height#757, Weight#758]\n                                                   +- Project [Team#750 AS Selecao#35, ##751, Pos.#752, FIFA Popular Name#753, Birth Date#754, Shirt Name#755, Club#756, Height#757, Weight#758]\n                                                      +- Relation [Team#750,##751,Pos.#752,FIFA Popular Name#753,Birth Date#754,Shirt Name#755,Club#756,Height#757,Weight#758] csv\n"
     ]
    }
   ],
   "source": [
    "df_americas = df_america_sul.union(df_america_norte)\n",
    "df_americas.show(200)"
   ]
  },
  {
   "cell_type": "markdown",
   "id": "abbc7e45",
   "metadata": {},
   "source": [
    "##### Joins"
   ]
  },
  {
   "cell_type": "code",
   "execution_count": 36,
   "id": "f3fada23",
   "metadata": {},
   "outputs": [
    {
     "name": "stdout",
     "output_type": "stream",
     "text": [
      "+---------+------+-------+-------------+--------------------+------+----+---+---+----+---------------+--------------+\n",
      "|  Selecao|Numero|Posicao|Nome Camiseta|                Time|Altura|Peso|Dia|Mes| Ano|Data_Nascimento|    Continente|\n",
      "+---------+------+-------+-------------+--------------------+------+----+---+---+----+---------------+--------------+\n",
      "|Argentina|     3|     DF|   TAGLIAFICO|      AFC Ajax (NED)|   169|  65| 31| 08|1992|     1992-08-31|América do Sul|\n",
      "|Argentina|    22|     MF|        PAVÓN|CA Boca Juniors (...|   169|  65| 21| 01|1996|     1996-01-21|América do Sul|\n",
      "|Argentina|    15|     MF|      LANZINI|West Ham United F...|   167|  66| 15| 02|1993|     1993-02-15|América do Sul|\n",
      "|Argentina|    18|     DF|       SALVIO|    SL Benfica (POR)|   167|  69| 13| 07|1990|     1990-07-13|América do Sul|\n",
      "|Argentina|    10|     FW|        MESSI|  FC Barcelona (ESP)|   170|  72| 24| 06|1987|     1987-06-24|América do Sul|\n",
      "+---------+------+-------+-------------+--------------------+------+----+---+---+----+---------------+--------------+\n",
      "only showing top 5 rows\n",
      "\n"
     ]
    }
   ],
   "source": [
    "df.show(5)"
   ]
  },
  {
   "cell_type": "code",
   "execution_count": 37,
   "id": "49d05eed",
   "metadata": {},
   "outputs": [],
   "source": [
    "arg = df.filter('Selecao = \"Argentina\"')\n",
    "bra = df.filter('Selecao = \"Brazil\"')"
   ]
  },
  {
   "cell_type": "code",
   "execution_count": 38,
   "id": "5902b465",
   "metadata": {},
   "outputs": [],
   "source": [
    "arg = arg.drop('Time', 'Dia', 'Mes', 'Ano', 'Continente', 'Peso', 'Data_Nascimento')\n",
    "bra = bra.drop('Time', 'Dia', 'Mes', 'Ano', 'Continente', 'Peso', 'Data_Nascimento')"
   ]
  },
  {
   "cell_type": "code",
   "execution_count": 39,
   "id": "2ec77fa5",
   "metadata": {},
   "outputs": [
    {
     "name": "stdout",
     "output_type": "stream",
     "text": [
      "+---------+------+-------+-------------+------+\n",
      "|  Selecao|Numero|Posicao|Nome Camiseta|Altura|\n",
      "+---------+------+-------+-------------+------+\n",
      "|Argentina|     3|     DF|   TAGLIAFICO|   169|\n",
      "|Argentina|    22|     MF|        PAVÓN|   169|\n",
      "|Argentina|    15|     MF|      LANZINI|   167|\n",
      "|Argentina|    18|     DF|       SALVIO|   167|\n",
      "|Argentina|    10|     FW|        MESSI|   170|\n",
      "+---------+------+-------+-------------+------+\n",
      "only showing top 5 rows\n",
      "\n"
     ]
    }
   ],
   "source": [
    "arg.show(5)"
   ]
  },
  {
   "cell_type": "code",
   "execution_count": 40,
   "id": "9ee2535b",
   "metadata": {},
   "outputs": [
    {
     "name": "stdout",
     "output_type": "stream",
     "text": [
      "+-------+------+-------+-------------+------+\n",
      "|Selecao|Numero|Posicao|Nome Camiseta|Altura|\n",
      "+-------+------+-------+-------------+------+\n",
      "| Brazil|    18|     MF|         FRED|   169|\n",
      "| Brazil|    21|     FW|       TAISON|   172|\n",
      "| Brazil|    17|     MF|  FERNANDINHO|   179|\n",
      "| Brazil|    22|     DF|       FAGNER|   168|\n",
      "| Brazil|    10|     FW|    NEYMAR JR|   175|\n",
      "| Brazil|    11|     MF|  P. COUTINHO|   172|\n",
      "| Brazil|     7|     FW|     D. COSTA|   182|\n",
      "| Brazil|     6|     DF|  FILIPE LUIS|   182|\n",
      "| Brazil|     9|     FW|     G. JESUS|   175|\n",
      "| Brazil|    13|     DF|   MARQUINHOS|   183|\n",
      "| Brazil|    20|     FW|      FIRMINO|   181|\n",
      "| Brazil|    19|     MF|      WILLIAN|   175|\n",
      "| Brazil|     3|     DF|      MIRANDA|   186|\n",
      "| Brazil|    14|     DF|       DANILO|   184|\n",
      "| Brazil|     2|     DF|     T. SILVA|   183|\n",
      "| Brazil|    12|     DF|      MARCELO|   174|\n",
      "| Brazil|    15|     MF|     PAULINHO|   181|\n",
      "| Brazil|     4|     DF|      GEROMEL|   190|\n",
      "| Brazil|     5|     MF|     CASEMIRO|   185|\n",
      "| Brazil|     8|     MF|   R. AUGUSTO|   186|\n",
      "| Brazil|    23|     GK|      EDERSON|   188|\n",
      "| Brazil|     1|     GK|    A. BECKER|   193|\n",
      "| Brazil|    16|     GK|       CASSIO|   195|\n",
      "+-------+------+-------+-------------+------+\n",
      "\n"
     ]
    }
   ],
   "source": [
    "bra.show(50)"
   ]
  },
  {
   "cell_type": "code",
   "execution_count": 41,
   "id": "b0f635aa",
   "metadata": {},
   "outputs": [
    {
     "data": {
      "text/plain": [
       "23"
      ]
     },
     "execution_count": 41,
     "metadata": {},
     "output_type": "execute_result"
    }
   ],
   "source": [
    "arg.count()"
   ]
  },
  {
   "cell_type": "markdown",
   "id": "d6bd39fd",
   "metadata": {},
   "source": [
    "##### Join - Simples"
   ]
  },
  {
   "cell_type": "code",
   "execution_count": null,
   "id": "2f2e47ba",
   "metadata": {},
   "outputs": [],
   "source": [
    "# Dados dos joins 100% correspondentes"
   ]
  },
  {
   "cell_type": "code",
   "execution_count": 42,
   "id": "78bba01b",
   "metadata": {},
   "outputs": [
    {
     "name": "stdout",
     "output_type": "stream",
     "text": [
      "+---------+------+-------+-------------+------+-------+------+-------+-------------+------+\n",
      "|  Selecao|Numero|Posicao|Nome Camiseta|Altura|Selecao|Numero|Posicao|Nome Camiseta|Altura|\n",
      "+---------+------+-------+-------------+------+-------+------+-------+-------------+------+\n",
      "|Argentina|     3|     DF|   TAGLIAFICO|   169| Brazil|     3|     DF|      MIRANDA|   186|\n",
      "|Argentina|    22|     MF|        PAVÓN|   169| Brazil|    22|     DF|       FAGNER|   168|\n",
      "|Argentina|    15|     MF|      LANZINI|   167| Brazil|    15|     MF|     PAULINHO|   181|\n",
      "|Argentina|    18|     DF|       SALVIO|   167| Brazil|    18|     MF|         FRED|   169|\n",
      "|Argentina|    10|     FW|        MESSI|   170| Brazil|    10|     FW|    NEYMAR JR|   175|\n",
      "|Argentina|     4|     DF|      ANSALDI|   181| Brazil|     4|     DF|      GEROMEL|   190|\n",
      "|Argentina|     5|     MF|       BIGLIA|   175| Brazil|     5|     MF|     CASEMIRO|   185|\n",
      "|Argentina|     7|     MF|       BANEGA|   175| Brazil|     7|     FW|     D. COSTA|   182|\n",
      "|Argentina|    14|     DF|   MASCHERANO|   174| Brazil|    14|     DF|       DANILO|   184|\n",
      "|Argentina|    21|     FW|       DYBALA|   177| Brazil|    21|     FW|       TAISON|   172|\n",
      "|Argentina|    19|     FW|       AGÜERO|   172| Brazil|    19|     MF|      WILLIAN|   175|\n",
      "|Argentina|     9|     FW|      HIGUAÍN|   184| Brazil|     9|     FW|     G. JESUS|   175|\n",
      "|Argentina|    11|     MF|     DI MARÍA|   178| Brazil|    11|     MF|  P. COUTINHO|   172|\n",
      "|Argentina|    20|     MF|     LO CELSO|   177| Brazil|    20|     FW|      FIRMINO|   181|\n",
      "|Argentina|    13|     MF|         MEZA|   180| Brazil|    13|     DF|   MARQUINHOS|   183|\n",
      "|Argentina|     8|     DF|        ACUÑA|   172| Brazil|     8|     MF|   R. AUGUSTO|   186|\n",
      "|Argentina|    23|     GK|    CABALLERO|   186| Brazil|    23|     GK|      EDERSON|   188|\n",
      "|Argentina|     2|     DF|      MERCADO|   181| Brazil|     2|     DF|     T. SILVA|   183|\n",
      "|Argentina|    17|     DF|     OTAMENDI|   181| Brazil|    17|     MF|  FERNANDINHO|   179|\n",
      "|Argentina|    16|     DF|         ROJO|   189| Brazil|    16|     GK|       CASSIO|   195|\n",
      "|Argentina|     6|     DF|        FAZIO|   199| Brazil|     6|     DF|  FILIPE LUIS|   182|\n",
      "|Argentina|    12|     GK|       ARMANI|   189| Brazil|    12|     DF|      MARCELO|   174|\n",
      "|Argentina|     1|     GK|       GUZMÁN|   192| Brazil|     1|     GK|    A. BECKER|   193|\n",
      "+---------+------+-------+-------------+------+-------+------+-------+-------------+------+\n",
      "\n"
     ]
    }
   ],
   "source": [
    "dfnovo = arg.join(bra, arg.Numero == bra.Numero)\n",
    "dfnovo.show(25)"
   ]
  },
  {
   "cell_type": "code",
   "execution_count": 43,
   "id": "d938bc42",
   "metadata": {},
   "outputs": [
    {
     "name": "stdout",
     "output_type": "stream",
     "text": [
      "+---------+------+-------+-------------+------+\n",
      "|  Selecao|Numero|Posicao|Nome Camiseta|Altura|\n",
      "+---------+------+-------+-------------+------+\n",
      "|Argentina|     4|     DF|   TAGLIAFICO|   169|\n",
      "|Argentina|    23|     MF|        PAVÓN|   169|\n",
      "|Argentina|    16|     MF|      LANZINI|   167|\n",
      "|Argentina|    19|     DF|       SALVIO|   167|\n",
      "|Argentina|    11|     FW|        MESSI|   170|\n",
      "|Argentina|     5|     DF|      ANSALDI|   181|\n",
      "|Argentina|     6|     MF|       BIGLIA|   175|\n",
      "|Argentina|     8|     MF|       BANEGA|   175|\n",
      "|Argentina|    15|     DF|   MASCHERANO|   174|\n",
      "|Argentina|    22|     FW|       DYBALA|   177|\n",
      "|Argentina|    20|     FW|       AGÜERO|   172|\n",
      "|Argentina|    10|     FW|      HIGUAÍN|   184|\n",
      "|Argentina|    12|     MF|     DI MARÍA|   178|\n",
      "|Argentina|    21|     MF|     LO CELSO|   177|\n",
      "|Argentina|    14|     MF|         MEZA|   180|\n",
      "|Argentina|     9|     DF|        ACUÑA|   172|\n",
      "|Argentina|    24|     GK|    CABALLERO|   186|\n",
      "|Argentina|     3|     DF|      MERCADO|   181|\n",
      "|Argentina|    18|     DF|     OTAMENDI|   181|\n",
      "|Argentina|    17|     DF|         ROJO|   189|\n",
      "|Argentina|     7|     DF|        FAZIO|   199|\n",
      "|Argentina|    13|     GK|       ARMANI|   189|\n",
      "|Argentina|     2|     GK|       GUZMÁN|   192|\n",
      "+---------+------+-------+-------------+------+\n",
      "\n"
     ]
    }
   ],
   "source": [
    "arg = arg.withColumn('Numero', col('Numero') + 1)\n",
    "arg.show(23)"
   ]
  },
  {
   "cell_type": "markdown",
   "id": "b0077907",
   "metadata": {},
   "source": [
    "##### Inner Join"
   ]
  },
  {
   "cell_type": "code",
   "execution_count": null,
   "id": "da08a141",
   "metadata": {},
   "outputs": [],
   "source": [
    "# Mostra apenas os dados que têm correspondências"
   ]
  },
  {
   "cell_type": "code",
   "execution_count": 44,
   "id": "d53af3e9",
   "metadata": {},
   "outputs": [
    {
     "name": "stdout",
     "output_type": "stream",
     "text": [
      "+---------+------+-------+-------------+------+-------+------+-------+-------------+------+\n",
      "|  Selecao|Numero|Posicao|Nome Camiseta|Altura|Selecao|Numero|Posicao|Nome Camiseta|Altura|\n",
      "+---------+------+-------+-------------+------+-------+------+-------+-------------+------+\n",
      "|Argentina|     4|     DF|   TAGLIAFICO|   169| Brazil|     4|     DF|      GEROMEL|   190|\n",
      "|Argentina|    23|     MF|        PAVÓN|   169| Brazil|    23|     GK|      EDERSON|   188|\n",
      "|Argentina|    16|     MF|      LANZINI|   167| Brazil|    16|     GK|       CASSIO|   195|\n",
      "|Argentina|    19|     DF|       SALVIO|   167| Brazil|    19|     MF|      WILLIAN|   175|\n",
      "|Argentina|    11|     FW|        MESSI|   170| Brazil|    11|     MF|  P. COUTINHO|   172|\n",
      "|Argentina|     5|     DF|      ANSALDI|   181| Brazil|     5|     MF|     CASEMIRO|   185|\n",
      "|Argentina|     6|     MF|       BIGLIA|   175| Brazil|     6|     DF|  FILIPE LUIS|   182|\n",
      "|Argentina|     8|     MF|       BANEGA|   175| Brazil|     8|     MF|   R. AUGUSTO|   186|\n",
      "|Argentina|    15|     DF|   MASCHERANO|   174| Brazil|    15|     MF|     PAULINHO|   181|\n",
      "|Argentina|    22|     FW|       DYBALA|   177| Brazil|    22|     DF|       FAGNER|   168|\n",
      "|Argentina|    20|     FW|       AGÜERO|   172| Brazil|    20|     FW|      FIRMINO|   181|\n",
      "|Argentina|    10|     FW|      HIGUAÍN|   184| Brazil|    10|     FW|    NEYMAR JR|   175|\n",
      "|Argentina|    12|     MF|     DI MARÍA|   178| Brazil|    12|     DF|      MARCELO|   174|\n",
      "|Argentina|    21|     MF|     LO CELSO|   177| Brazil|    21|     FW|       TAISON|   172|\n",
      "|Argentina|    14|     MF|         MEZA|   180| Brazil|    14|     DF|       DANILO|   184|\n",
      "|Argentina|     9|     DF|        ACUÑA|   172| Brazil|     9|     FW|     G. JESUS|   175|\n",
      "|Argentina|     3|     DF|      MERCADO|   181| Brazil|     3|     DF|      MIRANDA|   186|\n",
      "|Argentina|    18|     DF|     OTAMENDI|   181| Brazil|    18|     MF|         FRED|   169|\n",
      "|Argentina|    17|     DF|         ROJO|   189| Brazil|    17|     MF|  FERNANDINHO|   179|\n",
      "|Argentina|     7|     DF|        FAZIO|   199| Brazil|     7|     FW|     D. COSTA|   182|\n",
      "|Argentina|    13|     GK|       ARMANI|   189| Brazil|    13|     DF|   MARQUINHOS|   183|\n",
      "|Argentina|     2|     GK|       GUZMÁN|   192| Brazil|     2|     DF|     T. SILVA|   183|\n",
      "+---------+------+-------+-------------+------+-------+------+-------+-------------+------+\n",
      "\n"
     ]
    }
   ],
   "source": [
    "dfnovo = arg.join(bra, arg['Numero'] == bra['Numero'], 'inner')\n",
    "dfnovo.show(40)"
   ]
  },
  {
   "cell_type": "markdown",
   "id": "23f762e3",
   "metadata": {},
   "source": [
    "##### Left Join"
   ]
  },
  {
   "cell_type": "code",
   "execution_count": null,
   "id": "9f05a03b",
   "metadata": {},
   "outputs": [],
   "source": [
    "# Mostra todos os dados do DF do lado ESQUERDO\n",
    "# (valores do lado dir que não tiverem correspondências, serão mostrados como nulos)"
   ]
  },
  {
   "cell_type": "code",
   "execution_count": 45,
   "id": "a5ebfbeb",
   "metadata": {},
   "outputs": [
    {
     "name": "stdout",
     "output_type": "stream",
     "text": [
      "+---------+------+-------+-------------+------+-------+------+-------+-------------+------+\n",
      "|  Selecao|Numero|Posicao|Nome Camiseta|Altura|Selecao|Numero|Posicao|Nome Camiseta|Altura|\n",
      "+---------+------+-------+-------------+------+-------+------+-------+-------------+------+\n",
      "|Argentina|     4|     DF|   TAGLIAFICO|   169| Brazil|     4|     DF|      GEROMEL|   190|\n",
      "|Argentina|    23|     MF|        PAVÓN|   169| Brazil|    23|     GK|      EDERSON|   188|\n",
      "|Argentina|    16|     MF|      LANZINI|   167| Brazil|    16|     GK|       CASSIO|   195|\n",
      "|Argentina|    19|     DF|       SALVIO|   167| Brazil|    19|     MF|      WILLIAN|   175|\n",
      "|Argentina|    11|     FW|        MESSI|   170| Brazil|    11|     MF|  P. COUTINHO|   172|\n",
      "|Argentina|     5|     DF|      ANSALDI|   181| Brazil|     5|     MF|     CASEMIRO|   185|\n",
      "|Argentina|     6|     MF|       BIGLIA|   175| Brazil|     6|     DF|  FILIPE LUIS|   182|\n",
      "|Argentina|     8|     MF|       BANEGA|   175| Brazil|     8|     MF|   R. AUGUSTO|   186|\n",
      "|Argentina|    15|     DF|   MASCHERANO|   174| Brazil|    15|     MF|     PAULINHO|   181|\n",
      "|Argentina|    22|     FW|       DYBALA|   177| Brazil|    22|     DF|       FAGNER|   168|\n",
      "|Argentina|    20|     FW|       AGÜERO|   172| Brazil|    20|     FW|      FIRMINO|   181|\n",
      "|Argentina|    10|     FW|      HIGUAÍN|   184| Brazil|    10|     FW|    NEYMAR JR|   175|\n",
      "|Argentina|    12|     MF|     DI MARÍA|   178| Brazil|    12|     DF|      MARCELO|   174|\n",
      "|Argentina|    21|     MF|     LO CELSO|   177| Brazil|    21|     FW|       TAISON|   172|\n",
      "|Argentina|    14|     MF|         MEZA|   180| Brazil|    14|     DF|       DANILO|   184|\n",
      "|Argentina|     9|     DF|        ACUÑA|   172| Brazil|     9|     FW|     G. JESUS|   175|\n",
      "|Argentina|    24|     GK|    CABALLERO|   186|   NULL|  NULL|   NULL|         NULL|  NULL|\n",
      "|Argentina|     3|     DF|      MERCADO|   181| Brazil|     3|     DF|      MIRANDA|   186|\n",
      "|Argentina|    18|     DF|     OTAMENDI|   181| Brazil|    18|     MF|         FRED|   169|\n",
      "|Argentina|    17|     DF|         ROJO|   189| Brazil|    17|     MF|  FERNANDINHO|   179|\n",
      "|Argentina|     7|     DF|        FAZIO|   199| Brazil|     7|     FW|     D. COSTA|   182|\n",
      "|Argentina|    13|     GK|       ARMANI|   189| Brazil|    13|     DF|   MARQUINHOS|   183|\n",
      "|Argentina|     2|     GK|       GUZMÁN|   192| Brazil|     2|     DF|     T. SILVA|   183|\n",
      "+---------+------+-------+-------------+------+-------+------+-------+-------------+------+\n",
      "\n"
     ]
    }
   ],
   "source": [
    "dfnovo = arg.join(bra, arg['Numero'] == bra['Numero'], 'left')\n",
    "dfnovo.show(40)"
   ]
  },
  {
   "cell_type": "markdown",
   "id": "8010a9e2",
   "metadata": {},
   "source": [
    "##### Right Join"
   ]
  },
  {
   "cell_type": "code",
   "execution_count": null,
   "id": "29384698",
   "metadata": {},
   "outputs": [],
   "source": [
    "# Mostra todos os dados do DF do lado DIREITO\n",
    "# (valores do lado esquerdo que não tiverem correspondências, serão mostrados como nulos)"
   ]
  },
  {
   "cell_type": "code",
   "execution_count": 46,
   "id": "3c5bb1a4",
   "metadata": {},
   "outputs": [
    {
     "name": "stdout",
     "output_type": "stream",
     "text": [
      "+---------+------+-------+-------------+------+-------+------+-------+-------------+------+\n",
      "|  Selecao|Numero|Posicao|Nome Camiseta|Altura|Selecao|Numero|Posicao|Nome Camiseta|Altura|\n",
      "+---------+------+-------+-------------+------+-------+------+-------+-------------+------+\n",
      "|Argentina|    18|     DF|     OTAMENDI|   181| Brazil|    18|     MF|         FRED|   169|\n",
      "|Argentina|    21|     MF|     LO CELSO|   177| Brazil|    21|     FW|       TAISON|   172|\n",
      "|Argentina|    17|     DF|         ROJO|   189| Brazil|    17|     MF|  FERNANDINHO|   179|\n",
      "|Argentina|    22|     FW|       DYBALA|   177| Brazil|    22|     DF|       FAGNER|   168|\n",
      "|Argentina|    10|     FW|      HIGUAÍN|   184| Brazil|    10|     FW|    NEYMAR JR|   175|\n",
      "|Argentina|    11|     FW|        MESSI|   170| Brazil|    11|     MF|  P. COUTINHO|   172|\n",
      "|Argentina|     7|     DF|        FAZIO|   199| Brazil|     7|     FW|     D. COSTA|   182|\n",
      "|Argentina|     6|     MF|       BIGLIA|   175| Brazil|     6|     DF|  FILIPE LUIS|   182|\n",
      "|Argentina|     9|     DF|        ACUÑA|   172| Brazil|     9|     FW|     G. JESUS|   175|\n",
      "|Argentina|    13|     GK|       ARMANI|   189| Brazil|    13|     DF|   MARQUINHOS|   183|\n",
      "|Argentina|    20|     FW|       AGÜERO|   172| Brazil|    20|     FW|      FIRMINO|   181|\n",
      "|Argentina|    19|     DF|       SALVIO|   167| Brazil|    19|     MF|      WILLIAN|   175|\n",
      "|Argentina|     3|     DF|      MERCADO|   181| Brazil|     3|     DF|      MIRANDA|   186|\n",
      "|Argentina|    14|     MF|         MEZA|   180| Brazil|    14|     DF|       DANILO|   184|\n",
      "|Argentina|     2|     GK|       GUZMÁN|   192| Brazil|     2|     DF|     T. SILVA|   183|\n",
      "|Argentina|    12|     MF|     DI MARÍA|   178| Brazil|    12|     DF|      MARCELO|   174|\n",
      "|Argentina|    15|     DF|   MASCHERANO|   174| Brazil|    15|     MF|     PAULINHO|   181|\n",
      "|Argentina|     4|     DF|   TAGLIAFICO|   169| Brazil|     4|     DF|      GEROMEL|   190|\n",
      "|Argentina|     5|     DF|      ANSALDI|   181| Brazil|     5|     MF|     CASEMIRO|   185|\n",
      "|Argentina|     8|     MF|       BANEGA|   175| Brazil|     8|     MF|   R. AUGUSTO|   186|\n",
      "|Argentina|    23|     MF|        PAVÓN|   169| Brazil|    23|     GK|      EDERSON|   188|\n",
      "|     NULL|  NULL|   NULL|         NULL|  NULL| Brazil|     1|     GK|    A. BECKER|   193|\n",
      "|Argentina|    16|     MF|      LANZINI|   167| Brazil|    16|     GK|       CASSIO|   195|\n",
      "+---------+------+-------+-------------+------+-------+------+-------+-------------+------+\n",
      "\n"
     ]
    }
   ],
   "source": [
    "dfnovo = arg.join(bra, arg['Numero'] == bra['Numero'], 'right')\n",
    "dfnovo.show(40)"
   ]
  },
  {
   "cell_type": "markdown",
   "id": "ada7ee20",
   "metadata": {},
   "source": [
    "##### Full Join"
   ]
  },
  {
   "cell_type": "code",
   "execution_count": null,
   "id": "770c874b",
   "metadata": {},
   "outputs": [],
   "source": [
    "# Será mostrado todas as linhas\n",
    "# (valores que não corresponderem, serão mostrado como nulos em ambos os lados)"
   ]
  },
  {
   "cell_type": "code",
   "execution_count": 47,
   "id": "cee8a521",
   "metadata": {},
   "outputs": [
    {
     "name": "stdout",
     "output_type": "stream",
     "text": [
      "+---------+------+-------+-------------+------+-------+------+-------+-------------+------+\n",
      "|  Selecao|Numero|Posicao|Nome Camiseta|Altura|Selecao|Numero|Posicao|Nome Camiseta|Altura|\n",
      "+---------+------+-------+-------------+------+-------+------+-------+-------------+------+\n",
      "|     NULL|  NULL|   NULL|         NULL|  NULL| Brazil|     1|     GK|    A. BECKER|   193|\n",
      "|Argentina|     2|     GK|       GUZMÁN|   192| Brazil|     2|     DF|     T. SILVA|   183|\n",
      "|Argentina|     3|     DF|      MERCADO|   181| Brazil|     3|     DF|      MIRANDA|   186|\n",
      "|Argentina|     4|     DF|   TAGLIAFICO|   169| Brazil|     4|     DF|      GEROMEL|   190|\n",
      "|Argentina|     5|     DF|      ANSALDI|   181| Brazil|     5|     MF|     CASEMIRO|   185|\n",
      "|Argentina|     6|     MF|       BIGLIA|   175| Brazil|     6|     DF|  FILIPE LUIS|   182|\n",
      "|Argentina|     7|     DF|        FAZIO|   199| Brazil|     7|     FW|     D. COSTA|   182|\n",
      "|Argentina|     8|     MF|       BANEGA|   175| Brazil|     8|     MF|   R. AUGUSTO|   186|\n",
      "|Argentina|     9|     DF|        ACUÑA|   172| Brazil|     9|     FW|     G. JESUS|   175|\n",
      "|Argentina|    10|     FW|      HIGUAÍN|   184| Brazil|    10|     FW|    NEYMAR JR|   175|\n",
      "|Argentina|    11|     FW|        MESSI|   170| Brazil|    11|     MF|  P. COUTINHO|   172|\n",
      "|Argentina|    12|     MF|     DI MARÍA|   178| Brazil|    12|     DF|      MARCELO|   174|\n",
      "|Argentina|    13|     GK|       ARMANI|   189| Brazil|    13|     DF|   MARQUINHOS|   183|\n",
      "|Argentina|    14|     MF|         MEZA|   180| Brazil|    14|     DF|       DANILO|   184|\n",
      "|Argentina|    15|     DF|   MASCHERANO|   174| Brazil|    15|     MF|     PAULINHO|   181|\n",
      "|Argentina|    16|     MF|      LANZINI|   167| Brazil|    16|     GK|       CASSIO|   195|\n",
      "|Argentina|    17|     DF|         ROJO|   189| Brazil|    17|     MF|  FERNANDINHO|   179|\n",
      "|Argentina|    18|     DF|     OTAMENDI|   181| Brazil|    18|     MF|         FRED|   169|\n",
      "|Argentina|    19|     DF|       SALVIO|   167| Brazil|    19|     MF|      WILLIAN|   175|\n",
      "|Argentina|    20|     FW|       AGÜERO|   172| Brazil|    20|     FW|      FIRMINO|   181|\n",
      "|Argentina|    21|     MF|     LO CELSO|   177| Brazil|    21|     FW|       TAISON|   172|\n",
      "|Argentina|    22|     FW|       DYBALA|   177| Brazil|    22|     DF|       FAGNER|   168|\n",
      "|Argentina|    23|     MF|        PAVÓN|   169| Brazil|    23|     GK|      EDERSON|   188|\n",
      "|Argentina|    24|     GK|    CABALLERO|   186|   NULL|  NULL|   NULL|         NULL|  NULL|\n",
      "+---------+------+-------+-------------+------+-------+------+-------+-------------+------+\n",
      "\n"
     ]
    }
   ],
   "source": [
    "dfnovo = arg.join(bra, arg['Numero'] == bra['Numero'], 'full')\n",
    "dfnovo.show(40)"
   ]
  },
  {
   "cell_type": "markdown",
   "id": "56cc5cda",
   "metadata": {},
   "source": [
    "##### Semi Join"
   ]
  },
  {
   "cell_type": "code",
   "execution_count": null,
   "id": "2bd34408",
   "metadata": {},
   "outputs": [],
   "source": [
    "# Similar ao INNER JOIN, porém apenas os dados do DataFrame esquerdo é mostrado"
   ]
  },
  {
   "cell_type": "code",
   "execution_count": 48,
   "id": "03a70bd4",
   "metadata": {},
   "outputs": [
    {
     "name": "stdout",
     "output_type": "stream",
     "text": [
      "+-------+------+-------+-------------+------+\n",
      "|Selecao|Numero|Posicao|Nome Camiseta|Altura|\n",
      "+-------+------+-------+-------------+------+\n",
      "| Brazil|    18|     MF|         FRED|   169|\n",
      "| Brazil|    21|     FW|       TAISON|   172|\n",
      "| Brazil|    17|     MF|  FERNANDINHO|   179|\n",
      "| Brazil|    22|     DF|       FAGNER|   168|\n",
      "| Brazil|    10|     FW|    NEYMAR JR|   175|\n",
      "| Brazil|    11|     MF|  P. COUTINHO|   172|\n",
      "| Brazil|     7|     FW|     D. COSTA|   182|\n",
      "| Brazil|     6|     DF|  FILIPE LUIS|   182|\n",
      "| Brazil|     9|     FW|     G. JESUS|   175|\n",
      "| Brazil|    13|     DF|   MARQUINHOS|   183|\n",
      "| Brazil|    20|     FW|      FIRMINO|   181|\n",
      "| Brazil|    19|     MF|      WILLIAN|   175|\n",
      "| Brazil|     3|     DF|      MIRANDA|   186|\n",
      "| Brazil|    14|     DF|       DANILO|   184|\n",
      "| Brazil|     2|     DF|     T. SILVA|   183|\n",
      "| Brazil|    12|     DF|      MARCELO|   174|\n",
      "| Brazil|    15|     MF|     PAULINHO|   181|\n",
      "| Brazil|     4|     DF|      GEROMEL|   190|\n",
      "| Brazil|     5|     MF|     CASEMIRO|   185|\n",
      "| Brazil|     8|     MF|   R. AUGUSTO|   186|\n",
      "| Brazil|    23|     GK|      EDERSON|   188|\n",
      "| Brazil|    16|     GK|       CASSIO|   195|\n",
      "+-------+------+-------+-------------+------+\n",
      "\n"
     ]
    }
   ],
   "source": [
    "dfnovo = bra.join(arg, arg['Numero'] == bra['Numero'], 'semi')\n",
    "dfnovo.show(40)"
   ]
  },
  {
   "cell_type": "markdown",
   "id": "e981b379",
   "metadata": {},
   "source": [
    "##### Anti Join"
   ]
  },
  {
   "cell_type": "code",
   "execution_count": null,
   "id": "373cdfe2",
   "metadata": {},
   "outputs": [],
   "source": [
    "# Mostra os dados do DF do lado esquerdo que NÃO possuem correspondências"
   ]
  },
  {
   "cell_type": "code",
   "execution_count": 49,
   "id": "2acad84f",
   "metadata": {},
   "outputs": [
    {
     "name": "stdout",
     "output_type": "stream",
     "text": [
      "+---------+------+-------+-------------+------+\n",
      "|  Selecao|Numero|Posicao|Nome Camiseta|Altura|\n",
      "+---------+------+-------+-------------+------+\n",
      "|Argentina|    24|     GK|    CABALLERO|   186|\n",
      "+---------+------+-------+-------------+------+\n",
      "\n"
     ]
    },
    {
     "name": "stderr",
     "output_type": "stream",
     "text": [
      "----------------------------------------\n",
      "Exception occurred during processing of request from ('127.0.0.1', 51647)\n",
      "Traceback (most recent call last):\n",
      "  File \"c:\\Users\\Luan Lima\\AppData\\Local\\Programs\\Python\\Python310\\lib\\socketserver.py\", line 316, in _handle_request_noblock\n",
      "    self.process_request(request, client_address)\n",
      "  File \"c:\\Users\\Luan Lima\\AppData\\Local\\Programs\\Python\\Python310\\lib\\socketserver.py\", line 347, in process_request\n",
      "    self.finish_request(request, client_address)\n",
      "  File \"c:\\Users\\Luan Lima\\AppData\\Local\\Programs\\Python\\Python310\\lib\\socketserver.py\", line 360, in finish_request\n",
      "    self.RequestHandlerClass(request, client_address, self)\n",
      "  File \"c:\\Users\\Luan Lima\\AppData\\Local\\Programs\\Python\\Python310\\lib\\socketserver.py\", line 747, in __init__\n",
      "    self.handle()\n",
      "  File \"c:\\Users\\Luan Lima\\AppData\\Local\\Programs\\Python\\Python310\\lib\\site-packages\\pyspark\\accumulators.py\", line 295, in handle\n",
      "    poll(accum_updates)\n",
      "  File \"c:\\Users\\Luan Lima\\AppData\\Local\\Programs\\Python\\Python310\\lib\\site-packages\\pyspark\\accumulators.py\", line 267, in poll\n",
      "    if self.rfile in r and func():\n",
      "  File \"c:\\Users\\Luan Lima\\AppData\\Local\\Programs\\Python\\Python310\\lib\\site-packages\\pyspark\\accumulators.py\", line 271, in accum_updates\n",
      "    num_updates = read_int(self.rfile)\n",
      "  File \"c:\\Users\\Luan Lima\\AppData\\Local\\Programs\\Python\\Python310\\lib\\site-packages\\pyspark\\serializers.py\", line 594, in read_int\n",
      "    length = stream.read(4)\n",
      "  File \"c:\\Users\\Luan Lima\\AppData\\Local\\Programs\\Python\\Python310\\lib\\socket.py\", line 705, in readinto\n",
      "    return self._sock.recv_into(b)\n",
      "ConnectionResetError: [WinError 10054] Foi forçado o cancelamento de uma conexão existente pelo host remoto\n",
      "----------------------------------------\n"
     ]
    }
   ],
   "source": [
    "dfnovo = arg.join(bra, arg['Numero'] == bra['Numero'], 'anti')\n",
    "dfnovo.show(40)"
   ]
  }
 ],
 "metadata": {
  "kernelspec": {
   "display_name": "Python 3 (ipykernel)",
   "language": "python",
   "name": "python3"
  },
  "language_info": {
   "codemirror_mode": {
    "name": "ipython",
    "version": 3
   },
   "file_extension": ".py",
   "mimetype": "text/x-python",
   "name": "python",
   "nbconvert_exporter": "python",
   "pygments_lexer": "ipython3",
   "version": "3.10.7"
  }
 },
 "nbformat": 4,
 "nbformat_minor": 5
}
